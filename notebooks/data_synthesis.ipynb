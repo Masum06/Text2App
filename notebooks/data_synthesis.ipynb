{
  "nbformat": 4,
  "nbformat_minor": 0,
  "metadata": {
    "colab": {
      "name": "text2app_data_synthesis.ipynb",
      "provenance": [],
      "collapsed_sections": [],
      "include_colab_link": true
    },
    "kernelspec": {
      "name": "python3",
      "display_name": "Python 3"
    },
    "accelerator": "GPU",
    "widgets": {
      "application/vnd.jupyter.widget-state+json": {
        "13647c31cdb94e46a3714d7d39d19c80": {
          "model_module": "@jupyter-widgets/controls",
          "model_name": "HBoxModel",
          "state": {
            "_view_name": "HBoxView",
            "_dom_classes": [],
            "_model_name": "HBoxModel",
            "_view_module": "@jupyter-widgets/controls",
            "_model_module_version": "1.5.0",
            "_view_count": null,
            "_view_module_version": "1.5.0",
            "box_style": "",
            "layout": "IPY_MODEL_a471a2e384214a50a7e376fa01381e90",
            "_model_module": "@jupyter-widgets/controls",
            "children": [
              "IPY_MODEL_a9fc2da99d7c4a39ad8210db90f612eb",
              "IPY_MODEL_9373af1536d546cd9bfc3f216ee84cb1"
            ]
          }
        },
        "a471a2e384214a50a7e376fa01381e90": {
          "model_module": "@jupyter-widgets/base",
          "model_name": "LayoutModel",
          "state": {
            "_view_name": "LayoutView",
            "grid_template_rows": null,
            "right": null,
            "justify_content": null,
            "_view_module": "@jupyter-widgets/base",
            "overflow": null,
            "_model_module_version": "1.2.0",
            "_view_count": null,
            "flex_flow": null,
            "width": null,
            "min_width": null,
            "border": null,
            "align_items": null,
            "bottom": null,
            "_model_module": "@jupyter-widgets/base",
            "top": null,
            "grid_column": null,
            "overflow_y": null,
            "overflow_x": null,
            "grid_auto_flow": null,
            "grid_area": null,
            "grid_template_columns": null,
            "flex": null,
            "_model_name": "LayoutModel",
            "justify_items": null,
            "grid_row": null,
            "max_height": null,
            "align_content": null,
            "visibility": null,
            "align_self": null,
            "height": null,
            "min_height": null,
            "padding": null,
            "grid_auto_rows": null,
            "grid_gap": null,
            "max_width": null,
            "order": null,
            "_view_module_version": "1.2.0",
            "grid_template_areas": null,
            "object_position": null,
            "object_fit": null,
            "grid_auto_columns": null,
            "margin": null,
            "display": null,
            "left": null
          }
        },
        "a9fc2da99d7c4a39ad8210db90f612eb": {
          "model_module": "@jupyter-widgets/controls",
          "model_name": "FloatProgressModel",
          "state": {
            "_view_name": "ProgressView",
            "style": "IPY_MODEL_fcef3819bddb4dc3b07193959a89a645",
            "_dom_classes": [],
            "description": "Downloading: 100%",
            "_model_name": "FloatProgressModel",
            "bar_style": "success",
            "max": 411,
            "_view_module": "@jupyter-widgets/controls",
            "_model_module_version": "1.5.0",
            "value": 411,
            "_view_count": null,
            "_view_module_version": "1.5.0",
            "orientation": "horizontal",
            "min": 0,
            "description_tooltip": null,
            "_model_module": "@jupyter-widgets/controls",
            "layout": "IPY_MODEL_0b51257932da4e2795987678142be47a"
          }
        },
        "9373af1536d546cd9bfc3f216ee84cb1": {
          "model_module": "@jupyter-widgets/controls",
          "model_name": "HTMLModel",
          "state": {
            "_view_name": "HTMLView",
            "style": "IPY_MODEL_05ef5f68b56140e9b3afae75ad056262",
            "_dom_classes": [],
            "description": "",
            "_model_name": "HTMLModel",
            "placeholder": "​",
            "_view_module": "@jupyter-widgets/controls",
            "_model_module_version": "1.5.0",
            "value": " 411/411 [00:00&lt;00:00, 640B/s]",
            "_view_count": null,
            "_view_module_version": "1.5.0",
            "description_tooltip": null,
            "_model_module": "@jupyter-widgets/controls",
            "layout": "IPY_MODEL_6bea12f9e0444c33890336287b753f5d"
          }
        },
        "fcef3819bddb4dc3b07193959a89a645": {
          "model_module": "@jupyter-widgets/controls",
          "model_name": "ProgressStyleModel",
          "state": {
            "_view_name": "StyleView",
            "_model_name": "ProgressStyleModel",
            "description_width": "initial",
            "_view_module": "@jupyter-widgets/base",
            "_model_module_version": "1.5.0",
            "_view_count": null,
            "_view_module_version": "1.2.0",
            "bar_color": null,
            "_model_module": "@jupyter-widgets/controls"
          }
        },
        "0b51257932da4e2795987678142be47a": {
          "model_module": "@jupyter-widgets/base",
          "model_name": "LayoutModel",
          "state": {
            "_view_name": "LayoutView",
            "grid_template_rows": null,
            "right": null,
            "justify_content": null,
            "_view_module": "@jupyter-widgets/base",
            "overflow": null,
            "_model_module_version": "1.2.0",
            "_view_count": null,
            "flex_flow": null,
            "width": null,
            "min_width": null,
            "border": null,
            "align_items": null,
            "bottom": null,
            "_model_module": "@jupyter-widgets/base",
            "top": null,
            "grid_column": null,
            "overflow_y": null,
            "overflow_x": null,
            "grid_auto_flow": null,
            "grid_area": null,
            "grid_template_columns": null,
            "flex": null,
            "_model_name": "LayoutModel",
            "justify_items": null,
            "grid_row": null,
            "max_height": null,
            "align_content": null,
            "visibility": null,
            "align_self": null,
            "height": null,
            "min_height": null,
            "padding": null,
            "grid_auto_rows": null,
            "grid_gap": null,
            "max_width": null,
            "order": null,
            "_view_module_version": "1.2.0",
            "grid_template_areas": null,
            "object_position": null,
            "object_fit": null,
            "grid_auto_columns": null,
            "margin": null,
            "display": null,
            "left": null
          }
        },
        "05ef5f68b56140e9b3afae75ad056262": {
          "model_module": "@jupyter-widgets/controls",
          "model_name": "DescriptionStyleModel",
          "state": {
            "_view_name": "StyleView",
            "_model_name": "DescriptionStyleModel",
            "description_width": "",
            "_view_module": "@jupyter-widgets/base",
            "_model_module_version": "1.5.0",
            "_view_count": null,
            "_view_module_version": "1.2.0",
            "_model_module": "@jupyter-widgets/controls"
          }
        },
        "6bea12f9e0444c33890336287b753f5d": {
          "model_module": "@jupyter-widgets/base",
          "model_name": "LayoutModel",
          "state": {
            "_view_name": "LayoutView",
            "grid_template_rows": null,
            "right": null,
            "justify_content": null,
            "_view_module": "@jupyter-widgets/base",
            "overflow": null,
            "_model_module_version": "1.2.0",
            "_view_count": null,
            "flex_flow": null,
            "width": null,
            "min_width": null,
            "border": null,
            "align_items": null,
            "bottom": null,
            "_model_module": "@jupyter-widgets/base",
            "top": null,
            "grid_column": null,
            "overflow_y": null,
            "overflow_x": null,
            "grid_auto_flow": null,
            "grid_area": null,
            "grid_template_columns": null,
            "flex": null,
            "_model_name": "LayoutModel",
            "justify_items": null,
            "grid_row": null,
            "max_height": null,
            "align_content": null,
            "visibility": null,
            "align_self": null,
            "height": null,
            "min_height": null,
            "padding": null,
            "grid_auto_rows": null,
            "grid_gap": null,
            "max_width": null,
            "order": null,
            "_view_module_version": "1.2.0",
            "grid_template_areas": null,
            "object_position": null,
            "object_fit": null,
            "grid_auto_columns": null,
            "margin": null,
            "display": null,
            "left": null
          }
        },
        "c1acf736b11544fe91055ef7df1853e5": {
          "model_module": "@jupyter-widgets/controls",
          "model_name": "HBoxModel",
          "state": {
            "_view_name": "HBoxView",
            "_dom_classes": [],
            "_model_name": "HBoxModel",
            "_view_module": "@jupyter-widgets/controls",
            "_model_module_version": "1.5.0",
            "_view_count": null,
            "_view_module_version": "1.5.0",
            "box_style": "",
            "layout": "IPY_MODEL_47843fab2d58488f84a6f5062c893420",
            "_model_module": "@jupyter-widgets/controls",
            "children": [
              "IPY_MODEL_544c2442ed0b45a2ab7de216f5ebb510",
              "IPY_MODEL_fe6180cd84ed46febc9bd74ef55f5a0d"
            ]
          }
        },
        "47843fab2d58488f84a6f5062c893420": {
          "model_module": "@jupyter-widgets/base",
          "model_name": "LayoutModel",
          "state": {
            "_view_name": "LayoutView",
            "grid_template_rows": null,
            "right": null,
            "justify_content": null,
            "_view_module": "@jupyter-widgets/base",
            "overflow": null,
            "_model_module_version": "1.2.0",
            "_view_count": null,
            "flex_flow": null,
            "width": null,
            "min_width": null,
            "border": null,
            "align_items": null,
            "bottom": null,
            "_model_module": "@jupyter-widgets/base",
            "top": null,
            "grid_column": null,
            "overflow_y": null,
            "overflow_x": null,
            "grid_auto_flow": null,
            "grid_area": null,
            "grid_template_columns": null,
            "flex": null,
            "_model_name": "LayoutModel",
            "justify_items": null,
            "grid_row": null,
            "max_height": null,
            "align_content": null,
            "visibility": null,
            "align_self": null,
            "height": null,
            "min_height": null,
            "padding": null,
            "grid_auto_rows": null,
            "grid_gap": null,
            "max_width": null,
            "order": null,
            "_view_module_version": "1.2.0",
            "grid_template_areas": null,
            "object_position": null,
            "object_fit": null,
            "grid_auto_columns": null,
            "margin": null,
            "display": null,
            "left": null
          }
        },
        "544c2442ed0b45a2ab7de216f5ebb510": {
          "model_module": "@jupyter-widgets/controls",
          "model_name": "FloatProgressModel",
          "state": {
            "_view_name": "ProgressView",
            "style": "IPY_MODEL_5a427a0476124e1c803b30d99b41c521",
            "_dom_classes": [],
            "description": "Downloading: 100%",
            "_model_name": "FloatProgressModel",
            "bar_style": "success",
            "max": 213450,
            "_view_module": "@jupyter-widgets/controls",
            "_model_module_version": "1.5.0",
            "value": 213450,
            "_view_count": null,
            "_view_module_version": "1.5.0",
            "orientation": "horizontal",
            "min": 0,
            "description_tooltip": null,
            "_model_module": "@jupyter-widgets/controls",
            "layout": "IPY_MODEL_70478160a3674e2790d4934fb7070486"
          }
        },
        "fe6180cd84ed46febc9bd74ef55f5a0d": {
          "model_module": "@jupyter-widgets/controls",
          "model_name": "HTMLModel",
          "state": {
            "_view_name": "HTMLView",
            "style": "IPY_MODEL_23263c87ccd442c08ce1b7caf23df449",
            "_dom_classes": [],
            "description": "",
            "_model_name": "HTMLModel",
            "placeholder": "​",
            "_view_module": "@jupyter-widgets/controls",
            "_model_module_version": "1.5.0",
            "value": " 213k/213k [01:36&lt;00:00, 2.22kB/s]",
            "_view_count": null,
            "_view_module_version": "1.5.0",
            "description_tooltip": null,
            "_model_module": "@jupyter-widgets/controls",
            "layout": "IPY_MODEL_cee8ea9df90840468c030c15add5dce8"
          }
        },
        "5a427a0476124e1c803b30d99b41c521": {
          "model_module": "@jupyter-widgets/controls",
          "model_name": "ProgressStyleModel",
          "state": {
            "_view_name": "StyleView",
            "_model_name": "ProgressStyleModel",
            "description_width": "initial",
            "_view_module": "@jupyter-widgets/base",
            "_model_module_version": "1.5.0",
            "_view_count": null,
            "_view_module_version": "1.2.0",
            "bar_color": null,
            "_model_module": "@jupyter-widgets/controls"
          }
        },
        "70478160a3674e2790d4934fb7070486": {
          "model_module": "@jupyter-widgets/base",
          "model_name": "LayoutModel",
          "state": {
            "_view_name": "LayoutView",
            "grid_template_rows": null,
            "right": null,
            "justify_content": null,
            "_view_module": "@jupyter-widgets/base",
            "overflow": null,
            "_model_module_version": "1.2.0",
            "_view_count": null,
            "flex_flow": null,
            "width": null,
            "min_width": null,
            "border": null,
            "align_items": null,
            "bottom": null,
            "_model_module": "@jupyter-widgets/base",
            "top": null,
            "grid_column": null,
            "overflow_y": null,
            "overflow_x": null,
            "grid_auto_flow": null,
            "grid_area": null,
            "grid_template_columns": null,
            "flex": null,
            "_model_name": "LayoutModel",
            "justify_items": null,
            "grid_row": null,
            "max_height": null,
            "align_content": null,
            "visibility": null,
            "align_self": null,
            "height": null,
            "min_height": null,
            "padding": null,
            "grid_auto_rows": null,
            "grid_gap": null,
            "max_width": null,
            "order": null,
            "_view_module_version": "1.2.0",
            "grid_template_areas": null,
            "object_position": null,
            "object_fit": null,
            "grid_auto_columns": null,
            "margin": null,
            "display": null,
            "left": null
          }
        },
        "23263c87ccd442c08ce1b7caf23df449": {
          "model_module": "@jupyter-widgets/controls",
          "model_name": "DescriptionStyleModel",
          "state": {
            "_view_name": "StyleView",
            "_model_name": "DescriptionStyleModel",
            "description_width": "",
            "_view_module": "@jupyter-widgets/base",
            "_model_module_version": "1.5.0",
            "_view_count": null,
            "_view_module_version": "1.2.0",
            "_model_module": "@jupyter-widgets/controls"
          }
        },
        "cee8ea9df90840468c030c15add5dce8": {
          "model_module": "@jupyter-widgets/base",
          "model_name": "LayoutModel",
          "state": {
            "_view_name": "LayoutView",
            "grid_template_rows": null,
            "right": null,
            "justify_content": null,
            "_view_module": "@jupyter-widgets/base",
            "overflow": null,
            "_model_module_version": "1.2.0",
            "_view_count": null,
            "flex_flow": null,
            "width": null,
            "min_width": null,
            "border": null,
            "align_items": null,
            "bottom": null,
            "_model_module": "@jupyter-widgets/base",
            "top": null,
            "grid_column": null,
            "overflow_y": null,
            "overflow_x": null,
            "grid_auto_flow": null,
            "grid_area": null,
            "grid_template_columns": null,
            "flex": null,
            "_model_name": "LayoutModel",
            "justify_items": null,
            "grid_row": null,
            "max_height": null,
            "align_content": null,
            "visibility": null,
            "align_self": null,
            "height": null,
            "min_height": null,
            "padding": null,
            "grid_auto_rows": null,
            "grid_gap": null,
            "max_width": null,
            "order": null,
            "_view_module_version": "1.2.0",
            "grid_template_areas": null,
            "object_position": null,
            "object_fit": null,
            "grid_auto_columns": null,
            "margin": null,
            "display": null,
            "left": null
          }
        },
        "20902b2d50324cd7b65729cc4d2f19f1": {
          "model_module": "@jupyter-widgets/controls",
          "model_name": "HBoxModel",
          "state": {
            "_view_name": "HBoxView",
            "_dom_classes": [],
            "_model_name": "HBoxModel",
            "_view_module": "@jupyter-widgets/controls",
            "_model_module_version": "1.5.0",
            "_view_count": null,
            "_view_module_version": "1.5.0",
            "box_style": "",
            "layout": "IPY_MODEL_35ca900160664d2493dd7032df61a223",
            "_model_module": "@jupyter-widgets/controls",
            "children": [
              "IPY_MODEL_c55fe725caa645a5b24c8a49c61fb2b0",
              "IPY_MODEL_7197032606e747cfa7ecfc55828c6b16"
            ]
          }
        },
        "35ca900160664d2493dd7032df61a223": {
          "model_module": "@jupyter-widgets/base",
          "model_name": "LayoutModel",
          "state": {
            "_view_name": "LayoutView",
            "grid_template_rows": null,
            "right": null,
            "justify_content": null,
            "_view_module": "@jupyter-widgets/base",
            "overflow": null,
            "_model_module_version": "1.2.0",
            "_view_count": null,
            "flex_flow": null,
            "width": null,
            "min_width": null,
            "border": null,
            "align_items": null,
            "bottom": null,
            "_model_module": "@jupyter-widgets/base",
            "top": null,
            "grid_column": null,
            "overflow_y": null,
            "overflow_x": null,
            "grid_auto_flow": null,
            "grid_area": null,
            "grid_template_columns": null,
            "flex": null,
            "_model_name": "LayoutModel",
            "justify_items": null,
            "grid_row": null,
            "max_height": null,
            "align_content": null,
            "visibility": null,
            "align_self": null,
            "height": null,
            "min_height": null,
            "padding": null,
            "grid_auto_rows": null,
            "grid_gap": null,
            "max_width": null,
            "order": null,
            "_view_module_version": "1.2.0",
            "grid_template_areas": null,
            "object_position": null,
            "object_fit": null,
            "grid_auto_columns": null,
            "margin": null,
            "display": null,
            "left": null
          }
        },
        "c55fe725caa645a5b24c8a49c61fb2b0": {
          "model_module": "@jupyter-widgets/controls",
          "model_name": "FloatProgressModel",
          "state": {
            "_view_name": "ProgressView",
            "style": "IPY_MODEL_7406f4f10cc442698d8ce5744daaaf5b",
            "_dom_classes": [],
            "description": "Downloading: 100%",
            "_model_name": "FloatProgressModel",
            "bar_style": "success",
            "max": 435797,
            "_view_module": "@jupyter-widgets/controls",
            "_model_module_version": "1.5.0",
            "value": 435797,
            "_view_count": null,
            "_view_module_version": "1.5.0",
            "orientation": "horizontal",
            "min": 0,
            "description_tooltip": null,
            "_model_module": "@jupyter-widgets/controls",
            "layout": "IPY_MODEL_ac317c07d21a4f4ab5bc8ea81a23d1a5"
          }
        },
        "7197032606e747cfa7ecfc55828c6b16": {
          "model_module": "@jupyter-widgets/controls",
          "model_name": "HTMLModel",
          "state": {
            "_view_name": "HTMLView",
            "style": "IPY_MODEL_611483d40db342cc8893fa220a07e5f8",
            "_dom_classes": [],
            "description": "",
            "_model_name": "HTMLModel",
            "placeholder": "​",
            "_view_module": "@jupyter-widgets/controls",
            "_model_module_version": "1.5.0",
            "value": " 436k/436k [00:02&lt;00:00, 210kB/s]",
            "_view_count": null,
            "_view_module_version": "1.5.0",
            "description_tooltip": null,
            "_model_module": "@jupyter-widgets/controls",
            "layout": "IPY_MODEL_bec8c6530dc542179cdfdd0c50d60f23"
          }
        },
        "7406f4f10cc442698d8ce5744daaaf5b": {
          "model_module": "@jupyter-widgets/controls",
          "model_name": "ProgressStyleModel",
          "state": {
            "_view_name": "StyleView",
            "_model_name": "ProgressStyleModel",
            "description_width": "initial",
            "_view_module": "@jupyter-widgets/base",
            "_model_module_version": "1.5.0",
            "_view_count": null,
            "_view_module_version": "1.2.0",
            "bar_color": null,
            "_model_module": "@jupyter-widgets/controls"
          }
        },
        "ac317c07d21a4f4ab5bc8ea81a23d1a5": {
          "model_module": "@jupyter-widgets/base",
          "model_name": "LayoutModel",
          "state": {
            "_view_name": "LayoutView",
            "grid_template_rows": null,
            "right": null,
            "justify_content": null,
            "_view_module": "@jupyter-widgets/base",
            "overflow": null,
            "_model_module_version": "1.2.0",
            "_view_count": null,
            "flex_flow": null,
            "width": null,
            "min_width": null,
            "border": null,
            "align_items": null,
            "bottom": null,
            "_model_module": "@jupyter-widgets/base",
            "top": null,
            "grid_column": null,
            "overflow_y": null,
            "overflow_x": null,
            "grid_auto_flow": null,
            "grid_area": null,
            "grid_template_columns": null,
            "flex": null,
            "_model_name": "LayoutModel",
            "justify_items": null,
            "grid_row": null,
            "max_height": null,
            "align_content": null,
            "visibility": null,
            "align_self": null,
            "height": null,
            "min_height": null,
            "padding": null,
            "grid_auto_rows": null,
            "grid_gap": null,
            "max_width": null,
            "order": null,
            "_view_module_version": "1.2.0",
            "grid_template_areas": null,
            "object_position": null,
            "object_fit": null,
            "grid_auto_columns": null,
            "margin": null,
            "display": null,
            "left": null
          }
        },
        "611483d40db342cc8893fa220a07e5f8": {
          "model_module": "@jupyter-widgets/controls",
          "model_name": "DescriptionStyleModel",
          "state": {
            "_view_name": "StyleView",
            "_model_name": "DescriptionStyleModel",
            "description_width": "",
            "_view_module": "@jupyter-widgets/base",
            "_model_module_version": "1.5.0",
            "_view_count": null,
            "_view_module_version": "1.2.0",
            "_model_module": "@jupyter-widgets/controls"
          }
        },
        "bec8c6530dc542179cdfdd0c50d60f23": {
          "model_module": "@jupyter-widgets/base",
          "model_name": "LayoutModel",
          "state": {
            "_view_name": "LayoutView",
            "grid_template_rows": null,
            "right": null,
            "justify_content": null,
            "_view_module": "@jupyter-widgets/base",
            "overflow": null,
            "_model_module_version": "1.2.0",
            "_view_count": null,
            "flex_flow": null,
            "width": null,
            "min_width": null,
            "border": null,
            "align_items": null,
            "bottom": null,
            "_model_module": "@jupyter-widgets/base",
            "top": null,
            "grid_column": null,
            "overflow_y": null,
            "overflow_x": null,
            "grid_auto_flow": null,
            "grid_area": null,
            "grid_template_columns": null,
            "flex": null,
            "_model_name": "LayoutModel",
            "justify_items": null,
            "grid_row": null,
            "max_height": null,
            "align_content": null,
            "visibility": null,
            "align_self": null,
            "height": null,
            "min_height": null,
            "padding": null,
            "grid_auto_rows": null,
            "grid_gap": null,
            "max_width": null,
            "order": null,
            "_view_module_version": "1.2.0",
            "grid_template_areas": null,
            "object_position": null,
            "object_fit": null,
            "grid_auto_columns": null,
            "margin": null,
            "display": null,
            "left": null
          }
        },
        "f9121cbbca494b168dee2ca58bd614e5": {
          "model_module": "@jupyter-widgets/controls",
          "model_name": "HBoxModel",
          "state": {
            "_view_name": "HBoxView",
            "_dom_classes": [],
            "_model_name": "HBoxModel",
            "_view_module": "@jupyter-widgets/controls",
            "_model_module_version": "1.5.0",
            "_view_count": null,
            "_view_module_version": "1.5.0",
            "box_style": "",
            "layout": "IPY_MODEL_fec41eeeeb8c4e51a891d19784fd1093",
            "_model_module": "@jupyter-widgets/controls",
            "children": [
              "IPY_MODEL_56ea372993694d2085548adf38a71939",
              "IPY_MODEL_660f312214194331b38917316ce3de9b"
            ]
          }
        },
        "fec41eeeeb8c4e51a891d19784fd1093": {
          "model_module": "@jupyter-widgets/base",
          "model_name": "LayoutModel",
          "state": {
            "_view_name": "LayoutView",
            "grid_template_rows": null,
            "right": null,
            "justify_content": null,
            "_view_module": "@jupyter-widgets/base",
            "overflow": null,
            "_model_module_version": "1.2.0",
            "_view_count": null,
            "flex_flow": null,
            "width": null,
            "min_width": null,
            "border": null,
            "align_items": null,
            "bottom": null,
            "_model_module": "@jupyter-widgets/base",
            "top": null,
            "grid_column": null,
            "overflow_y": null,
            "overflow_x": null,
            "grid_auto_flow": null,
            "grid_area": null,
            "grid_template_columns": null,
            "flex": null,
            "_model_name": "LayoutModel",
            "justify_items": null,
            "grid_row": null,
            "max_height": null,
            "align_content": null,
            "visibility": null,
            "align_self": null,
            "height": null,
            "min_height": null,
            "padding": null,
            "grid_auto_rows": null,
            "grid_gap": null,
            "max_width": null,
            "order": null,
            "_view_module_version": "1.2.0",
            "grid_template_areas": null,
            "object_position": null,
            "object_fit": null,
            "grid_auto_columns": null,
            "margin": null,
            "display": null,
            "left": null
          }
        },
        "56ea372993694d2085548adf38a71939": {
          "model_module": "@jupyter-widgets/controls",
          "model_name": "FloatProgressModel",
          "state": {
            "_view_name": "ProgressView",
            "style": "IPY_MODEL_9eee5576a371414797a24b0373b8dc15",
            "_dom_classes": [],
            "description": "Downloading: 100%",
            "_model_name": "FloatProgressModel",
            "bar_style": "success",
            "max": 29,
            "_view_module": "@jupyter-widgets/controls",
            "_model_module_version": "1.5.0",
            "value": 29,
            "_view_count": null,
            "_view_module_version": "1.5.0",
            "orientation": "horizontal",
            "min": 0,
            "description_tooltip": null,
            "_model_module": "@jupyter-widgets/controls",
            "layout": "IPY_MODEL_eb7bbfbd4f4b4ba7a1d8bf6f24999d3d"
          }
        },
        "660f312214194331b38917316ce3de9b": {
          "model_module": "@jupyter-widgets/controls",
          "model_name": "HTMLModel",
          "state": {
            "_view_name": "HTMLView",
            "style": "IPY_MODEL_0a3bfd4c9d854d2ebeee2e42a2e3864a",
            "_dom_classes": [],
            "description": "",
            "_model_name": "HTMLModel",
            "placeholder": "​",
            "_view_module": "@jupyter-widgets/controls",
            "_model_module_version": "1.5.0",
            "value": " 29.0/29.0 [00:00&lt;00:00, 45.1B/s]",
            "_view_count": null,
            "_view_module_version": "1.5.0",
            "description_tooltip": null,
            "_model_module": "@jupyter-widgets/controls",
            "layout": "IPY_MODEL_56fde8c2701349c58780c88f14a05366"
          }
        },
        "9eee5576a371414797a24b0373b8dc15": {
          "model_module": "@jupyter-widgets/controls",
          "model_name": "ProgressStyleModel",
          "state": {
            "_view_name": "StyleView",
            "_model_name": "ProgressStyleModel",
            "description_width": "initial",
            "_view_module": "@jupyter-widgets/base",
            "_model_module_version": "1.5.0",
            "_view_count": null,
            "_view_module_version": "1.2.0",
            "bar_color": null,
            "_model_module": "@jupyter-widgets/controls"
          }
        },
        "eb7bbfbd4f4b4ba7a1d8bf6f24999d3d": {
          "model_module": "@jupyter-widgets/base",
          "model_name": "LayoutModel",
          "state": {
            "_view_name": "LayoutView",
            "grid_template_rows": null,
            "right": null,
            "justify_content": null,
            "_view_module": "@jupyter-widgets/base",
            "overflow": null,
            "_model_module_version": "1.2.0",
            "_view_count": null,
            "flex_flow": null,
            "width": null,
            "min_width": null,
            "border": null,
            "align_items": null,
            "bottom": null,
            "_model_module": "@jupyter-widgets/base",
            "top": null,
            "grid_column": null,
            "overflow_y": null,
            "overflow_x": null,
            "grid_auto_flow": null,
            "grid_area": null,
            "grid_template_columns": null,
            "flex": null,
            "_model_name": "LayoutModel",
            "justify_items": null,
            "grid_row": null,
            "max_height": null,
            "align_content": null,
            "visibility": null,
            "align_self": null,
            "height": null,
            "min_height": null,
            "padding": null,
            "grid_auto_rows": null,
            "grid_gap": null,
            "max_width": null,
            "order": null,
            "_view_module_version": "1.2.0",
            "grid_template_areas": null,
            "object_position": null,
            "object_fit": null,
            "grid_auto_columns": null,
            "margin": null,
            "display": null,
            "left": null
          }
        },
        "0a3bfd4c9d854d2ebeee2e42a2e3864a": {
          "model_module": "@jupyter-widgets/controls",
          "model_name": "DescriptionStyleModel",
          "state": {
            "_view_name": "StyleView",
            "_model_name": "DescriptionStyleModel",
            "description_width": "",
            "_view_module": "@jupyter-widgets/base",
            "_model_module_version": "1.5.0",
            "_view_count": null,
            "_view_module_version": "1.2.0",
            "_model_module": "@jupyter-widgets/controls"
          }
        },
        "56fde8c2701349c58780c88f14a05366": {
          "model_module": "@jupyter-widgets/base",
          "model_name": "LayoutModel",
          "state": {
            "_view_name": "LayoutView",
            "grid_template_rows": null,
            "right": null,
            "justify_content": null,
            "_view_module": "@jupyter-widgets/base",
            "overflow": null,
            "_model_module_version": "1.2.0",
            "_view_count": null,
            "flex_flow": null,
            "width": null,
            "min_width": null,
            "border": null,
            "align_items": null,
            "bottom": null,
            "_model_module": "@jupyter-widgets/base",
            "top": null,
            "grid_column": null,
            "overflow_y": null,
            "overflow_x": null,
            "grid_auto_flow": null,
            "grid_area": null,
            "grid_template_columns": null,
            "flex": null,
            "_model_name": "LayoutModel",
            "justify_items": null,
            "grid_row": null,
            "max_height": null,
            "align_content": null,
            "visibility": null,
            "align_self": null,
            "height": null,
            "min_height": null,
            "padding": null,
            "grid_auto_rows": null,
            "grid_gap": null,
            "max_width": null,
            "order": null,
            "_view_module_version": "1.2.0",
            "grid_template_areas": null,
            "object_position": null,
            "object_fit": null,
            "grid_auto_columns": null,
            "margin": null,
            "display": null,
            "left": null
          }
        },
        "7e17aecc0168447a8f40b68b7d727c1b": {
          "model_module": "@jupyter-widgets/controls",
          "model_name": "HBoxModel",
          "state": {
            "_view_name": "HBoxView",
            "_dom_classes": [],
            "_model_name": "HBoxModel",
            "_view_module": "@jupyter-widgets/controls",
            "_model_module_version": "1.5.0",
            "_view_count": null,
            "_view_module_version": "1.5.0",
            "box_style": "",
            "layout": "IPY_MODEL_3848cebbea894b04a5fff277d7ef8fde",
            "_model_module": "@jupyter-widgets/controls",
            "children": [
              "IPY_MODEL_40ac23b768394f6daa0d16286b815188",
              "IPY_MODEL_63ddbbd1a86941b091a213267e73c928"
            ]
          }
        },
        "3848cebbea894b04a5fff277d7ef8fde": {
          "model_module": "@jupyter-widgets/base",
          "model_name": "LayoutModel",
          "state": {
            "_view_name": "LayoutView",
            "grid_template_rows": null,
            "right": null,
            "justify_content": null,
            "_view_module": "@jupyter-widgets/base",
            "overflow": null,
            "_model_module_version": "1.2.0",
            "_view_count": null,
            "flex_flow": null,
            "width": null,
            "min_width": null,
            "border": null,
            "align_items": null,
            "bottom": null,
            "_model_module": "@jupyter-widgets/base",
            "top": null,
            "grid_column": null,
            "overflow_y": null,
            "overflow_x": null,
            "grid_auto_flow": null,
            "grid_area": null,
            "grid_template_columns": null,
            "flex": null,
            "_model_name": "LayoutModel",
            "justify_items": null,
            "grid_row": null,
            "max_height": null,
            "align_content": null,
            "visibility": null,
            "align_self": null,
            "height": null,
            "min_height": null,
            "padding": null,
            "grid_auto_rows": null,
            "grid_gap": null,
            "max_width": null,
            "order": null,
            "_view_module_version": "1.2.0",
            "grid_template_areas": null,
            "object_position": null,
            "object_fit": null,
            "grid_auto_columns": null,
            "margin": null,
            "display": null,
            "left": null
          }
        },
        "40ac23b768394f6daa0d16286b815188": {
          "model_module": "@jupyter-widgets/controls",
          "model_name": "FloatProgressModel",
          "state": {
            "_view_name": "ProgressView",
            "style": "IPY_MODEL_182a70f264de432ba4ca762a0fba440d",
            "_dom_classes": [],
            "description": "Downloading: 100%",
            "_model_name": "FloatProgressModel",
            "bar_style": "success",
            "max": 263273408,
            "_view_module": "@jupyter-widgets/controls",
            "_model_module_version": "1.5.0",
            "value": 263273408,
            "_view_count": null,
            "_view_module_version": "1.5.0",
            "orientation": "horizontal",
            "min": 0,
            "description_tooltip": null,
            "_model_module": "@jupyter-widgets/controls",
            "layout": "IPY_MODEL_2abfa80e2dbe4c2599d2d229ec58d518"
          }
        },
        "63ddbbd1a86941b091a213267e73c928": {
          "model_module": "@jupyter-widgets/controls",
          "model_name": "HTMLModel",
          "state": {
            "_view_name": "HTMLView",
            "style": "IPY_MODEL_b205b2eec468465a92df9b2fc1cb32ea",
            "_dom_classes": [],
            "description": "",
            "_model_name": "HTMLModel",
            "placeholder": "​",
            "_view_module": "@jupyter-widgets/controls",
            "_model_module_version": "1.5.0",
            "value": " 263M/263M [00:05&lt;00:00, 48.4MB/s]",
            "_view_count": null,
            "_view_module_version": "1.5.0",
            "description_tooltip": null,
            "_model_module": "@jupyter-widgets/controls",
            "layout": "IPY_MODEL_245de3fcd5b943fca55336f89868f63b"
          }
        },
        "182a70f264de432ba4ca762a0fba440d": {
          "model_module": "@jupyter-widgets/controls",
          "model_name": "ProgressStyleModel",
          "state": {
            "_view_name": "StyleView",
            "_model_name": "ProgressStyleModel",
            "description_width": "initial",
            "_view_module": "@jupyter-widgets/base",
            "_model_module_version": "1.5.0",
            "_view_count": null,
            "_view_module_version": "1.2.0",
            "bar_color": null,
            "_model_module": "@jupyter-widgets/controls"
          }
        },
        "2abfa80e2dbe4c2599d2d229ec58d518": {
          "model_module": "@jupyter-widgets/base",
          "model_name": "LayoutModel",
          "state": {
            "_view_name": "LayoutView",
            "grid_template_rows": null,
            "right": null,
            "justify_content": null,
            "_view_module": "@jupyter-widgets/base",
            "overflow": null,
            "_model_module_version": "1.2.0",
            "_view_count": null,
            "flex_flow": null,
            "width": null,
            "min_width": null,
            "border": null,
            "align_items": null,
            "bottom": null,
            "_model_module": "@jupyter-widgets/base",
            "top": null,
            "grid_column": null,
            "overflow_y": null,
            "overflow_x": null,
            "grid_auto_flow": null,
            "grid_area": null,
            "grid_template_columns": null,
            "flex": null,
            "_model_name": "LayoutModel",
            "justify_items": null,
            "grid_row": null,
            "max_height": null,
            "align_content": null,
            "visibility": null,
            "align_self": null,
            "height": null,
            "min_height": null,
            "padding": null,
            "grid_auto_rows": null,
            "grid_gap": null,
            "max_width": null,
            "order": null,
            "_view_module_version": "1.2.0",
            "grid_template_areas": null,
            "object_position": null,
            "object_fit": null,
            "grid_auto_columns": null,
            "margin": null,
            "display": null,
            "left": null
          }
        },
        "b205b2eec468465a92df9b2fc1cb32ea": {
          "model_module": "@jupyter-widgets/controls",
          "model_name": "DescriptionStyleModel",
          "state": {
            "_view_name": "StyleView",
            "_model_name": "DescriptionStyleModel",
            "description_width": "",
            "_view_module": "@jupyter-widgets/base",
            "_model_module_version": "1.5.0",
            "_view_count": null,
            "_view_module_version": "1.2.0",
            "_model_module": "@jupyter-widgets/controls"
          }
        },
        "245de3fcd5b943fca55336f89868f63b": {
          "model_module": "@jupyter-widgets/base",
          "model_name": "LayoutModel",
          "state": {
            "_view_name": "LayoutView",
            "grid_template_rows": null,
            "right": null,
            "justify_content": null,
            "_view_module": "@jupyter-widgets/base",
            "overflow": null,
            "_model_module_version": "1.2.0",
            "_view_count": null,
            "flex_flow": null,
            "width": null,
            "min_width": null,
            "border": null,
            "align_items": null,
            "bottom": null,
            "_model_module": "@jupyter-widgets/base",
            "top": null,
            "grid_column": null,
            "overflow_y": null,
            "overflow_x": null,
            "grid_auto_flow": null,
            "grid_area": null,
            "grid_template_columns": null,
            "flex": null,
            "_model_name": "LayoutModel",
            "justify_items": null,
            "grid_row": null,
            "max_height": null,
            "align_content": null,
            "visibility": null,
            "align_self": null,
            "height": null,
            "min_height": null,
            "padding": null,
            "grid_auto_rows": null,
            "grid_gap": null,
            "max_width": null,
            "order": null,
            "_view_module_version": "1.2.0",
            "grid_template_areas": null,
            "object_position": null,
            "object_fit": null,
            "grid_auto_columns": null,
            "margin": null,
            "display": null,
            "left": null
          }
        }
      }
    }
  },
  "cells": [
    {
      "cell_type": "markdown",
      "metadata": {
        "id": "view-in-github",
        "colab_type": "text"
      },
      "source": [
        "<a href=\"https://colab.research.google.com/github/Masum06/Text2App/blob/master/notebooks/data_synthesis.ipynb\" target=\"_parent\"><img src=\"https://colab.research.google.com/assets/colab-badge.svg\" alt=\"Open In Colab\"/></a>"
      ]
    },
    {
      "cell_type": "code",
      "metadata": {
        "colab": {
          "base_uri": "https://localhost:8080/"
        },
        "id": "62MDjMESzwk3",
        "outputId": "4532c724-af51-4e0f-8eb6-faf6cbea8518"
      },
      "source": [
        "!pip install transformers==4.5.0\n",
        "!pip install PyDictionary"
      ],
      "execution_count": 2,
      "outputs": [
        {
          "output_type": "stream",
          "text": [
            "Collecting transformers==4.5.0\n",
            "\u001b[?25l  Downloading https://files.pythonhosted.org/packages/81/91/61d69d58a1af1bd81d9ca9d62c90a6de3ab80d77f27c5df65d9a2c1f5626/transformers-4.5.0-py3-none-any.whl (2.1MB)\n",
            "\u001b[K     |████████████████████████████████| 2.2MB 8.0MB/s \n",
            "\u001b[?25hRequirement already satisfied: requests in /usr/local/lib/python3.7/dist-packages (from transformers==4.5.0) (2.23.0)\n",
            "Requirement already satisfied: tqdm>=4.27 in /usr/local/lib/python3.7/dist-packages (from transformers==4.5.0) (4.41.1)\n",
            "Requirement already satisfied: filelock in /usr/local/lib/python3.7/dist-packages (from transformers==4.5.0) (3.0.12)\n",
            "Requirement already satisfied: sacremoses in /usr/local/lib/python3.7/dist-packages (from transformers==4.5.0) (0.0.45)\n",
            "Requirement already satisfied: tokenizers<0.11,>=0.10.1 in /usr/local/lib/python3.7/dist-packages (from transformers==4.5.0) (0.10.3)\n",
            "Requirement already satisfied: importlib-metadata; python_version < \"3.8\" in /usr/local/lib/python3.7/dist-packages (from transformers==4.5.0) (4.5.0)\n",
            "Requirement already satisfied: regex!=2019.12.17 in /usr/local/lib/python3.7/dist-packages (from transformers==4.5.0) (2019.12.20)\n",
            "Requirement already satisfied: packaging in /usr/local/lib/python3.7/dist-packages (from transformers==4.5.0) (20.9)\n",
            "Requirement already satisfied: numpy>=1.17 in /usr/local/lib/python3.7/dist-packages (from transformers==4.5.0) (1.19.5)\n",
            "Requirement already satisfied: urllib3!=1.25.0,!=1.25.1,<1.26,>=1.21.1 in /usr/local/lib/python3.7/dist-packages (from requests->transformers==4.5.0) (1.24.3)\n",
            "Requirement already satisfied: certifi>=2017.4.17 in /usr/local/lib/python3.7/dist-packages (from requests->transformers==4.5.0) (2021.5.30)\n",
            "Requirement already satisfied: chardet<4,>=3.0.2 in /usr/local/lib/python3.7/dist-packages (from requests->transformers==4.5.0) (3.0.4)\n",
            "Requirement already satisfied: idna<3,>=2.5 in /usr/local/lib/python3.7/dist-packages (from requests->transformers==4.5.0) (2.10)\n",
            "Requirement already satisfied: six in /usr/local/lib/python3.7/dist-packages (from sacremoses->transformers==4.5.0) (1.15.0)\n",
            "Requirement already satisfied: joblib in /usr/local/lib/python3.7/dist-packages (from sacremoses->transformers==4.5.0) (1.0.1)\n",
            "Requirement already satisfied: click in /usr/local/lib/python3.7/dist-packages (from sacremoses->transformers==4.5.0) (7.1.2)\n",
            "Requirement already satisfied: typing-extensions>=3.6.4; python_version < \"3.8\" in /usr/local/lib/python3.7/dist-packages (from importlib-metadata; python_version < \"3.8\"->transformers==4.5.0) (3.7.4.3)\n",
            "Requirement already satisfied: zipp>=0.5 in /usr/local/lib/python3.7/dist-packages (from importlib-metadata; python_version < \"3.8\"->transformers==4.5.0) (3.4.1)\n",
            "Requirement already satisfied: pyparsing>=2.0.2 in /usr/local/lib/python3.7/dist-packages (from packaging->transformers==4.5.0) (2.4.7)\n",
            "Installing collected packages: transformers\n",
            "  Found existing installation: transformers 4.8.1\n",
            "    Uninstalling transformers-4.8.1:\n",
            "      Successfully uninstalled transformers-4.8.1\n",
            "Successfully installed transformers-4.5.0\n",
            "Requirement already satisfied: PyDictionary in /usr/local/lib/python3.7/dist-packages (2.0.1)\n",
            "Requirement already satisfied: goslate in /usr/local/lib/python3.7/dist-packages (from PyDictionary) (1.5.1)\n",
            "Requirement already satisfied: click in /usr/local/lib/python3.7/dist-packages (from PyDictionary) (7.1.2)\n",
            "Requirement already satisfied: bs4 in /usr/local/lib/python3.7/dist-packages (from PyDictionary) (0.0.1)\n",
            "Requirement already satisfied: requests in /usr/local/lib/python3.7/dist-packages (from PyDictionary) (2.23.0)\n",
            "Requirement already satisfied: futures in /usr/local/lib/python3.7/dist-packages (from goslate->PyDictionary) (3.1.1)\n",
            "Requirement already satisfied: beautifulsoup4 in /usr/local/lib/python3.7/dist-packages (from bs4->PyDictionary) (4.6.3)\n",
            "Requirement already satisfied: chardet<4,>=3.0.2 in /usr/local/lib/python3.7/dist-packages (from requests->PyDictionary) (3.0.4)\n",
            "Requirement already satisfied: certifi>=2017.4.17 in /usr/local/lib/python3.7/dist-packages (from requests->PyDictionary) (2021.5.30)\n",
            "Requirement already satisfied: urllib3!=1.25.0,!=1.25.1,<1.26,>=1.21.1 in /usr/local/lib/python3.7/dist-packages (from requests->PyDictionary) (1.24.3)\n",
            "Requirement already satisfied: idna<3,>=2.5 in /usr/local/lib/python3.7/dist-packages (from requests->PyDictionary) (2.10)\n"
          ],
          "name": "stdout"
        }
      ]
    },
    {
      "cell_type": "code",
      "metadata": {
        "colab": {
          "base_uri": "https://localhost:8080/"
        },
        "id": "ennv2fTgFgn5",
        "outputId": "b141b11f-82bc-475a-c532-b0498a9e2e66"
      },
      "source": [
        "!git clone https://github.com/Masum06/Text2App.git"
      ],
      "execution_count": 3,
      "outputs": [
        {
          "output_type": "stream",
          "text": [
            "Cloning into 'Text2App'...\n",
            "remote: Enumerating objects: 505, done.\u001b[K\n",
            "remote: Counting objects: 100% (108/108), done.\u001b[K\n",
            "remote: Compressing objects: 100% (83/83), done.\u001b[K\n",
            "remote: Total 505 (delta 64), reused 48 (delta 24), pack-reused 397\u001b[K\n",
            "Receiving objects: 100% (505/505), 233.18 MiB | 34.19 MiB/s, done.\n",
            "Resolving deltas: 100% (146/146), done.\n"
          ],
          "name": "stdout"
        }
      ]
    },
    {
      "cell_type": "code",
      "metadata": {
        "colab": {
          "base_uri": "https://localhost:8080/"
        },
        "id": "k_C6yKgxFiXC",
        "outputId": "041cc57a-ac1f-4fc6-91e6-219a3fc82b53"
      },
      "source": [
        "cd Text2App"
      ],
      "execution_count": 4,
      "outputs": [
        {
          "output_type": "stream",
          "text": [
            "/content/Text2App\n"
          ],
          "name": "stdout"
        }
      ]
    },
    {
      "cell_type": "markdown",
      "metadata": {
        "id": "J1wETIWYVvO6"
      },
      "source": [
        "# Helper functions"
      ]
    },
    {
      "cell_type": "code",
      "metadata": {
        "id": "wAkfYLTeQPdj",
        "colab": {
          "base_uri": "https://localhost:8080/"
        },
        "outputId": "b4ad23ae-c808-41f4-cdaf-30d7703742a3"
      },
      "source": [
        "import random\n",
        "import string\n",
        "from PyDictionary import PyDictionary\n",
        "from datetime import datetime\n",
        "\n",
        "random.seed(datetime.now())\n",
        "dictionary=PyDictionary()\n",
        "\n",
        "all_vis_components = ['button', 'switch', 'accelerometer', 'ball', 'text2speech', 'player',\n",
        "                      'video_player', 'textbox', 'passwordtextbox', 'timepicker', 'datepicker',\n",
        "                      'camera']\n",
        "colors = [\"red\", \"green\", \"black\", \"cyan\", \"pink\", \n",
        "          \"magenta\", \"blue\", \"light_gray\", \"orange\", \n",
        "          \"yellow\", \"dark_gray\", \"gray\"]\n",
        "\n",
        "print(all_vis_components)"
      ],
      "execution_count": 5,
      "outputs": [
        {
          "output_type": "stream",
          "text": [
            "['button', 'switch', 'accelerometer', 'ball', 'text2speech', 'player', 'video_player', 'textbox', 'passwordtextbox', 'timepicker', 'datepicker', 'camera']\n"
          ],
          "name": "stdout"
        }
      ]
    },
    {
      "cell_type": "code",
      "metadata": {
        "id": "9yGhxJMhVp3F"
      },
      "source": [
        "string_num = -1\n",
        "int_num = -1\n",
        "float_num = -1\n",
        "\n",
        "def getStr():\n",
        "  global string_num \n",
        "  string_num += 1\n",
        "  return \"string\"+str(string_num)\n",
        "\n",
        "def getNum():\n",
        "  global int_num \n",
        "  int_num += 1\n",
        "  return \"number\"+str(int_num)\n",
        "\n",
        "def getColor():\n",
        "  global colors\n",
        "  return random.choice(colors)\n",
        "\n",
        "def getSyn(word):\n",
        "  syns = dictionary.synonym(word)\n",
        "  if syns:\n",
        "    return random.choice([word] + syns)\n",
        "  else:\n",
        "    return word\n",
        "\n",
        "def getArticle(word):\n",
        "  if word[0] in 'aeiou':\n",
        "    return \"an\"\n",
        "  else:\n",
        "    return \"a\" "
      ],
      "execution_count": 6,
      "outputs": []
    },
    {
      "cell_type": "markdown",
      "metadata": {
        "id": "6H5Bifl28gKt"
      },
      "source": [
        "# Constants"
      ]
    },
    {
      "cell_type": "code",
      "metadata": {
        "id": "ktP95rabmPe-"
      },
      "source": [
        "ValueComponents = {\n",
        "    \"textbox\": {\"nl\": [\"the textbox text\", \"the text in the textbox\", \"the text in the box\", \"the textbox content\", \"the text\"], \"sar\": \"textboxtext\"},\n",
        "    \"passwordtextbox\": {\"nl\": [\"\"], \"sar\": \"passwordboxtext\"},\n",
        "    \"timepicker\": {\"nl\": [\"the time\", \"time\", \"what time it is\", \"what is the time\"], \"sar\": \"time\"}, \n",
        "    # \"datepicker\": {\"nl\": [\"the date and time\", \"date and time\", \"date\", \"the date\", \"what is the date\"], \"sar\": \"date\"}\n",
        "    }"
      ],
      "execution_count": 7,
      "outputs": []
    },
    {
      "cell_type": "code",
      "metadata": {
        "id": "9wYVc98Fk_qa"
      },
      "source": [
        "events = {\n",
        "    \"button\": {\"clicked\": [\"clicked\", \"pressed\", \"touched\"]},\n",
        "    \"switch\": {\"flipped\": [\"fliped\", \"clicked\", \"pressed\", \"touched\"]},\n",
        "    \"accelerometer\": {\"shaken\": [\"shaken\", \"vibrated\"]},\n",
        "    \"ball\": {\"flung\": [\"flung\", \"thrown\", \"hit\"], \"reach_edge\": [\"reaches edge\", \"touches edge\", \"cornered\"]}\n",
        "} "
      ],
      "execution_count": 8,
      "outputs": []
    },
    {
      "cell_type": "code",
      "metadata": {
        "id": "ydquRNWClYSH"
      },
      "source": [
        "actions = {\n",
        "    \"player\": {\n",
        "        \"start\": [\"play the music\", \"play the sound\", \"play\", \"start the player\", \"start the music\", \"initiate player\"], \n",
        "        \"stop\": [\"stop the music\", \"stop sound\", \"stop the sound\", \"stop\"]\n",
        "        },\n",
        "    \"video_player\": {\n",
        "        \"start\": [\"play the video\", \"play the clip\", \"play\", \"start the video player\", \"start the video\", \"initiate video\"], \n",
        "        \"stop\": [\"stop the video\", \"stop video\", \"stop the clip\", \"stop\"]\n",
        "        },\n",
        "    \"text2speech\": [\"speak\"],\n",
        "    \"ball\": [\"radius\", \"speed\", \"header\", \"motion\", \"bounce\"],\n",
        "    \"camera\": [\"take a picture\", \"take picture\", \"click\", \"capture\", \"take a photo\", \"click a photo\", \"capture a photo\"]\n",
        "}"
      ],
      "execution_count": 9,
      "outputs": []
    },
    {
      "cell_type": "code",
      "metadata": {
        "id": "OPhoDsPwygK8"
      },
      "source": [
        "arguments = [\"textbox\", \"passwordtext\", 'time'] #date"
      ],
      "execution_count": 10,
      "outputs": []
    },
    {
      "cell_type": "code",
      "metadata": {
        "id": "sW4xrrtV4EIC"
      },
      "source": [
        "numbers = [[\"\", \"first\", \"1st\", \"earlier\", \"initial\"] , [\"second\", \"2nd\", \"next\", \"later\", \"following\", \"the other\", \"the later\"], \n",
        "           [\"third\", \"3rd\"], [\"fourth\", \"4th\"]]"
      ],
      "execution_count": 11,
      "outputs": []
    },
    {
      "cell_type": "code",
      "metadata": {
        "id": "eNRMzfsfjBlR"
      },
      "source": [
        "vis_components = ['textbox', 'button', 'text2speech', 'ball', 'accelerometer', 'video_player', \n",
        "                  'switch', 'player', 'label', 'timepicker', 'passwordtextbox', 'camera'] #, 'datepicker', \n",
        "non_repeat_vis_components = ['accelerometer', 'ball', 'text2speech', 'camera']\n",
        "repeat_vis_components = list(set(vis_components) - set(non_repeat_vis_components))\n",
        "components_with_text = ['button', 'switch', 'label'] \n",
        "comp_with_src = ['video_player', 'player']\n",
        "invisible_components = ['text2speech', 'accelerometer', 'ball']\n",
        "end_with_es = ['text2speech', 'textbox']\n",
        "canvas_components = ['ball']\n",
        "\n",
        "event_components = [\"button\", \"switch\", \"accelerometer\", \"ball\"]\n",
        "action_components = [\"player\", \"video_player\", \"text2speech\", \"ball\", \"label\", \"camera\"]\n",
        "value_components = [\"textbox\", \"timepicker\"] # \"passwordtextbox\", \"datepicker\",\n",
        "rand_source = {\"video_player\": [\"video\", \"clip\"], \"player\": [\"audio\", \"music\", \"sound\"]}\n",
        "\n",
        "component_alias = {\"textbox\": [\"textbox\", \"text box\"], \"button\": [\"button\"], \"ball\": [\"ball\", \"circle\"], \n",
        "                   \"text2speech\": [\"text2speech\", \"text to speech\", \"speech\"], \n",
        "                   \"accelerometer\": [\"accelerometer\", \"motion sensor\", \"vibration sensor\", \"movement sensor\", \"shake sensor\"], \n",
        "                  #  \"datepicker\": [\"datepicker\", \"date picker\"], \n",
        "                   \"timepicker\": [\"timepicker\", \"time picker\", \"time selector\"], \n",
        "                   \"switch\": [\"switch\"], \"player\": [\"music player\", \"player\", \"audio player\", \"music\", \"audio\"], \n",
        "                   \"video_player\": [\"video player\", \"video\"], \"label\": [\"label\"],\n",
        "                   \"passwordtextbox\": [\"password box\", \"pasword text box\", \"password field\", \"passwordbox\", \"passwordtextbox\"],\n",
        "                   \"camera\": [\"camera\"]\n",
        "                   }\n",
        "\n",
        "MAX_NUMBER_OF_COMPONENT = 12\n",
        "SAME_COMPONENT_LIMIT = 5"
      ],
      "execution_count": 12,
      "outputs": []
    },
    {
      "cell_type": "markdown",
      "metadata": {
        "id": "yCTHvrvVL8i7"
      },
      "source": [
        "# Classes"
      ]
    },
    {
      "cell_type": "code",
      "metadata": {
        "id": "yzJ1oyT30S71"
      },
      "source": [
        "class EventComponent:\n",
        "  component = \"\"\n",
        "  event = \"\"\n",
        "  nl = []\n",
        "  number = 0\n",
        "  event_comp_count = 1\n",
        "\n",
        "  def __init__(self, component=\"\", number=1, event_comp_count=1):\n",
        "    self.component = component\n",
        "    self.event = random.choice(list(events[self.component].keys())) # random.choice(events[self.component][\"event\"]) \n",
        "    self.number = number\n",
        "    self.event_comp_count = event_comp_count\n",
        "\n",
        "  def getNL(self):\n",
        "    if self.component in non_repeat_vis_components or self.event_comp_count==1:\n",
        "      num = \"\"\n",
        "    else:\n",
        "      num = random.choice(numbers[self.number-1])+\" \"\n",
        "    \n",
        "    event_choice = random.choice(list(events[self.component].keys()))\n",
        "    comp_nl = random.choice(events[self.component][event_choice])\n",
        "    new_nl = random.choice([\"when\", \"if\"])+\" the \"+ num + random.choice(component_alias[self.component]) +\" is \"+ comp_nl + \", \"\n",
        "    return new_nl"
      ],
      "execution_count": 13,
      "outputs": []
    },
    {
      "cell_type": "code",
      "metadata": {
        "id": "s6SSkWQ0QoDk"
      },
      "source": [
        "class ActionComponent:\n",
        "  component = \"\"\n",
        "  number = 0\n",
        "  action_comp_count = 1\n",
        "  # arguments = []\n",
        "  val_comps = []\n",
        "  arg = \"\"\n",
        "  nl = \"\"\n",
        "\n",
        "  def __init__(self, component, number=1, val_comps=[], action_comp_count=1):\n",
        "    self.component = component\n",
        "    self.number = number\n",
        "    self.actions = actions\n",
        "    self.val_comps = val_comps\n",
        "    self.arg = self.getArg()\n",
        "    self.action_comp_count = action_comp_count\n",
        "\n",
        "  def getNL(self):\n",
        "    # new_nl = random.choice([\"set\", \"make\"]) + \" \" + random.choice(self.actions) + \" \"\n",
        "    return self.nl\n",
        "\n",
        "  def getPlayerArg(self):\n",
        "    arg = random.choice([\"start\", \"stop\"])\n",
        "    nl_arg = arg\n",
        "    alter = random.choice([0,1])\n",
        "    if alter:\n",
        "      if arg == \"start\":\n",
        "        nl_arg = \"play\"\n",
        "      else:\n",
        "        nl_arg = \"pause\"\n",
        "\n",
        "    self.nl = nl_arg + random.choice([\" the <num> player\", \" the music <num> player\", \" the music\", \" music\", \" player\", \" audio\"])\n",
        "    if self.action_comp_count > 1:\n",
        "      self.nl = self.nl.replace(\"<num>\", random.choice(numbers[self.number-1]))\n",
        "    else:\n",
        "      self.nl = self.nl.replace(\"<num> \", \"\")\n",
        "    return \"<\"+arg+\">\"\n",
        "  \n",
        "  def getVideoPlayerArg(self):\n",
        "    arg = random.choice([\"start\", \"stop\"])\n",
        "    nl_arg = arg\n",
        "    alter = random.choice([0,1])\n",
        "    if alter:\n",
        "      if arg == \"start\":\n",
        "        nl_arg = \"play\"\n",
        "      else:\n",
        "        nl_arg = \"pause\"\n",
        "\n",
        "    self.nl = nl_arg + random.choice([\" the <num> video player\", \" the <num> video\", \" the <num> clip\", \" <num> video\", \\\n",
        "                                      \" <num> video player\", \" video\", \" video player\"])\n",
        "    if self.action_comp_count > 1:\n",
        "      self.nl = self.nl.replace(\"<num>\", random.choice(numbers[self.number-1]))\n",
        "    else:\n",
        "      self.nl = self.nl.replace(\"<num> \", \"\")\n",
        "    return \"<\"+arg+\">\"\n",
        "\n",
        "  def getT2SArg(self):\n",
        "    use_val_comp = random.choice([0,1,1,1]) # 75% chance of choosing value component\n",
        "    if len(self.val_comps)>0 and use_val_comp:\n",
        "      val_name = random.choice(self.val_comps)\n",
        "      self.val_comps.remove(val_name)\n",
        "      val = val_name[:-1] # Number of value component cannot be more than 9 (a single digit)\n",
        "      self.nl = random.choice([\"say \", \"speak \", \"tell \", \"speak out \"]) + random.choice(ValueComponents[val][\"nl\"])\n",
        "      return \"<\"+ValueComponents[val]['sar']+val_name[-1]+\">\"\n",
        "    else:\n",
        "      val = getStr()\n",
        "      self.nl = random.choice([\"say \", \"speak \", \"tell \",  \"speak out \"]) + val\n",
        "      return val\n",
        "\n",
        "  def getLabelArg(self):\n",
        "    use_val_comp = random.choice([0,1,1,1]) # 75% chance of choosing value component\n",
        "    \n",
        "    self.nl = random.choice([\"set <num> label text to \", \"set the <num> label text to \", \"set <num> label to \", \"set <num> label \"])\n",
        "    if self.action_comp_count > 1:\n",
        "      self.nl = self.nl.replace(\"<num>\", random.choice(numbers[self.number-1]))\n",
        "    else:\n",
        "      self.nl = self.nl.replace(\" <num>\", \"\")\n",
        "\n",
        "    if len(self.val_comps)>0 and use_val_comp:\n",
        "      val_name = random.choice(self.val_comps)\n",
        "      self.val_comps.remove(val_name)\n",
        "      val = val_name[:-1] # Number of value component cannot be more than 9 (a single digit)\n",
        "      self.nl += random.choice(ValueComponents[val][\"nl\"])\n",
        "      val = \"<\"+ValueComponents[val]['sar']+val_name[-1]+\">\"\n",
        "    else:\n",
        "      val = getStr()\n",
        "      self.nl += val\n",
        "\n",
        "    return val\n",
        "  \n",
        "  def getBallArg(self):\n",
        "    arg = random.choice(['radius', 'color', 'speed', 'heading', 'bounce', 'motion'])\n",
        "    if arg in ['speed', 'radius']:\n",
        "      val = getNum() #random.choice(['increase', 'decrease'])\n",
        "      self.nl = \"set the \" + arg + \" to \" + val\n",
        "      return \"<\"+arg+\"> \"+val+\" </\"+arg+\">\"\n",
        "    elif arg == 'bounce':\n",
        "      self.nl = \"bounce the ball\" \n",
        "      return \"<bounce>\"\n",
        "    elif arg == 'color':\n",
        "      val = random.choice(colors)\n",
        "      self.nl = \"set ball color to \"+ val.replace(\"_\", \" \")\n",
        "      return \"<\"+arg+\"> <\"+val+\"> </\"+arg+\">\"\n",
        "    elif arg == 'motion':\n",
        "      self.nl = random.choice([\"set ball in motion \", \"move the ball \", \"swing the ball \"])\n",
        "      return \"<motion>\"\n",
        "    elif arg == 'heading':\n",
        "      val = getNum()\n",
        "      self.nl = \"set ball header to \"+ val\n",
        "      return \"<\"+arg+\"> \"+val+\" </\"+arg+\">\"\n",
        "\n",
        "  def getCameraArg(self):\n",
        "    self.nl = random.choice(actions['camera'])+' '\n",
        "    return '<capture_and_show>'\n",
        "\n",
        "  def getArg(self):\n",
        "    if self.component == \"player\":\n",
        "      return self.getPlayerArg()\n",
        "    elif self.component == \"video_player\":\n",
        "      return self.getVideoPlayerArg()\n",
        "    elif self.component == \"text2speech\":\n",
        "      return self.getT2SArg()\n",
        "    elif self.component == \"ball\":\n",
        "      return self.getBallArg()\n",
        "    elif self.component == \"label\":\n",
        "      return self.getLabelArg()\n",
        "    elif self.component == \"camera\":\n",
        "      return self.getCameraArg()\n",
        "    else:\n",
        "      return \"\"\n",
        "  \n",
        "  def getNLArg(self):\n",
        "    arg = self.arg\n",
        "    return (self.nl, arg)\n"
      ],
      "execution_count": 56,
      "outputs": []
    },
    {
      "cell_type": "markdown",
      "metadata": {
        "id": "QqiOHPZ2gdDi"
      },
      "source": [
        "# NL_SAR generation code"
      ]
    },
    {
      "cell_type": "code",
      "metadata": {
        "id": "C7E49U3DlskO"
      },
      "source": [
        "def generate_nl_sar():\n",
        "  # global vis_components, non_repeat_vis_components, repeat_vis_components\n",
        "  global string_num, int_num\n",
        "  string_num = -1\n",
        "  int_num = -1\n",
        "\n",
        "  total_vis_components = random.randint(1, MAX_NUMBER_OF_COMPONENT) # limited to fit in screen # CX: 11C7\n",
        "  selected_components = random.sample(vis_components*SAME_COMPONENT_LIMIT, total_vis_components) # \n",
        "\n",
        "  NL = random.choice([\"create <app> \", \"make <app> \", \"<app> \", \"<app> \", \"give me <app> \"])\n",
        "  app = random.choice([\"app\", \"mobile app\", \"application\", \"mobile application\", \"software\"])\n",
        "  initial = random.choice([getArticle(app)+\" \", \"\"])\n",
        "  NL = NL.replace(\"<app>\", initial+app)\n",
        "  NL += random.choice([\"with \", \"that has \", \"consisting \", \"containing \", \"having \", \"consisting of \"])\n",
        "  SAR = [\"<complist> \"] #Change to <comp>\n",
        "\n",
        "  comps_count = {}\n",
        "  # comps_used_count = {}\n",
        "  event_comp_used_count = {}\n",
        "  action_comp_used_count = {}\n",
        "  vis_comp_used_count = {}\n",
        "  for comp in vis_components:\n",
        "    comps_count[comp] = 0\n",
        "    # comps_used_count[comp] = 0\n",
        "    vis_comp_used_count[comp] = 0\n",
        "    action_comp_used_count[comp] = 0\n",
        "    event_comp_used_count[comp] = 0\n",
        "\n",
        "  event_comps = []\n",
        "  action_comps = []\n",
        "  value_comps = []\n",
        "\n",
        "  # total_vis_components = random.randint(1, MAX_NUMBER_OF_COMPONENT) # limited to fit in screen # CX: 12C5\n",
        "  # selected_components = random.sample(vis_components*SAME_COMPONENT_LIMIT, total_vis_components)\n",
        "\n",
        "  for component in selected_components:\n",
        "    if component in non_repeat_vis_components and comps_count[component]:\n",
        "      selected_components.remove(component)\n",
        "      total_vis_components-=1\n",
        "    else:\n",
        "      comps_count[component] += 1\n",
        "      if component in event_components:\n",
        "        event_comps.append(component)\n",
        "      if component in action_components:  # Same component can be both event and action, such as \"ball\"\n",
        "        action_comps.append(component)\n",
        "      if component in value_components:\n",
        "        # if comps_count[component] > 1:\n",
        "        value_comps.append(component+str(comps_count[component]))\n",
        "  \n",
        "  unique_components = list(set(selected_components))\n",
        "\n",
        "  for i in range(len(selected_components)):\n",
        "    vis_comp = selected_components[i]\n",
        "    vis_comp_number =  comps_count[vis_comp]\n",
        "    vis_comp_nl = random.choice(component_alias[vis_comp])\n",
        "    article = getArticle(vis_comp_nl)\n",
        "\n",
        "    vis_comp_used_count[vis_comp] += 1\n",
        "\n",
        "\n",
        "    # for j in range(vis_comp_number):\n",
        "      ## Generate NL\n",
        "    mid_text = \"\"\n",
        "    \n",
        "    if i == total_vis_components - 1 and len(selected_components) > 1: # j == vis_comp_number - 1 and \n",
        "      NL += \"and \"\n",
        "\n",
        "    give_text = random.choice([0,0,0,1]) # MH: 25% chance of giving a text\n",
        "\n",
        "    if vis_comp in comp_with_src:\n",
        "      if give_text: # with 25% possibility set the source to a random video or music\n",
        "        mid_text = \"random_\"+ vis_comp + \"_source\"\n",
        "        NL += article + \" \" + vis_comp_nl + \" with a random \" + random.choice(rand_source[vis_comp])\n",
        "      else:\n",
        "        mid_text = getStr()\n",
        "        NL += article + \" \" + vis_comp_nl + \" with source \" + mid_text\n",
        "    elif vis_comp in components_with_text:\n",
        "      if give_text:\n",
        "        mid_text = getStr()\n",
        "        NL += article + \" \"+ vis_comp_nl + random.choice([\" named \", \" with text \", \" called \"]) + mid_text\n",
        "      else:\n",
        "        mid_text = vis_comp + str(vis_comp_used_count[vis_comp]) # MH: DEFAULT TEXT ARGUMENT\n",
        "        NL += article + \" \" + vis_comp_nl \n",
        "    else:\n",
        "      NL += article + \" \" + vis_comp_nl \n",
        "\n",
        "\n",
        "    if i == total_vis_components - 1: # j == vis_comp_number - 1 \n",
        "      NL += \" . \"\n",
        "    else:\n",
        "      NL += \" , \"\n",
        "\n",
        "    ## Generate SAR\n",
        "    if vis_comp in components_with_text+comp_with_src:\n",
        "      sar_begin_token = \"<token> \"\n",
        "      sar_end_token = \"</token> \"\n",
        "      SAR.append(sar_begin_token.replace(\"token\", vis_comp))\n",
        "      SAR.append(mid_text + \" \")\n",
        "      SAR.append(sar_end_token.replace(\"token\", vis_comp))\n",
        "    else:\n",
        "      SAR.append(\"<\"+vis_comp+\"> \")\n",
        "\n",
        "\n",
        "  ## Handling plural form\n",
        "  # if vis_comp_number > 1:\n",
        "  #   if vis_comp in end_with_es: #add component to this list if it end in es\n",
        "  #     NL = NL.replace(vis_comp, (vis_comp + \"es\"))\n",
        "  #   else: \n",
        "  #     NL = NL.replace(vis_comp, vis_comp + \"s\")\n",
        "\n",
        "  #Generate SAR for canvas\n",
        "  # for number in range(vis_comp_number):\n",
        "  # if vis_comp in canvas_components:\n",
        "  #   if \"<canvas> \" in SAR:\n",
        "  #     idx = SAR.index(\"</canvas> \") - 1\n",
        "  #     SAR.insert(idx , \"<ball> \")\n",
        "  #   else:\n",
        "  #     SAR.append(\"<canvas> \")\n",
        "  #     SAR.append(\"<ball> \")\n",
        "  #     SAR.append(\"</canvas> \")\n",
        "  # else:\n",
        "  #   sar_token = \"<token> \"\n",
        "  #   SAR.append(sar_token.replace(\"token\", vis_comp))\n",
        "\n",
        "  SAR.append(\"</complist>\") #Change to </comp>\n",
        "  SAR_str = \"\"\n",
        "  for token in SAR:\n",
        "    SAR_str += token\n",
        "\n",
        "  sar = SAR_str\n",
        "\n",
        "\n",
        "  ## SAR for code components\n",
        "  # print(selected_components)\n",
        "  # print(event_comps)\n",
        "  # print(action_comps)\n",
        "  # print(value_comps)\n",
        "\n",
        "  if len(action_comps)>0 and len(event_comps)>0:\n",
        "    sar += \" <code> \"\n",
        "    for event_comp in event_comps:\n",
        "      if action_comps:\n",
        "        event_comp_used_count[event_comp] += 1\n",
        "        event_comp_num = event_comp_used_count[event_comp]\n",
        "        event_comp_count = comps_count[event_comp]\n",
        "        event_object = EventComponent(event_comp, event_comp_num, event_comp_count)\n",
        "        NL += event_object.getNL()\n",
        "        # event = event_object.event #random.choice(events[event_comp])\n",
        "        sar += \"<\"+ event_comp + str(event_comp_num) + event_object.event + \"> \"\n",
        "\n",
        "        action_comp_name = random.choice(action_comps)\n",
        "        action_comp_used_count[action_comp_name] += 1\n",
        "        action_comp_num = action_comp_used_count[action_comp_name]\n",
        "        action_comps.remove(action_comp_name)\n",
        "        action_comp_count = comps_count[action_comp_name]\n",
        "\n",
        "        # Decide whether to use value comp, or which one to use\n",
        "        # Send or not send that value comp\n",
        "        # Remove from the value comp list\n",
        "        action_object = ActionComponent(action_comp_name, action_comp_num, value_comps, action_comp_count)\n",
        "        value_comps = action_object.val_comps\n",
        "\n",
        "        (nl, arg) = action_object.getNLArg()\n",
        "        action_comp_num_str = str(action_comp_num) if action_comp_name in non_repeat_vis_components else \"\"\n",
        "        sar += \"<\"+action_comp_name + str(action_comp_num) + \"> \" + arg + \" </\"+action_comp_name + action_comp_num_str + \"> \"\n",
        "        sar += \"</\"+ event_comp + str(event_comp_num) + event_object.event + \"> \"\n",
        "        NL += nl + \" . \"\n",
        "\n",
        "    sar += \"</code>\"\n",
        "\n",
        "  NL = ' '.join(NL.split())\n",
        "  sar = ' '.join(sar.split())\n",
        "  return NL, sar\n"
      ],
      "execution_count": 57,
      "outputs": []
    },
    {
      "cell_type": "code",
      "metadata": {
        "id": "ZeOq01pVsK0N",
        "colab": {
          "base_uri": "https://localhost:8080/"
        },
        "outputId": "591f2354-a9d6-4ca5-974a-0376d089e294"
      },
      "source": [
        "NL, sar = generate_nl_sar()\n",
        "print(NL)\n",
        "\n",
        "print(sar)"
      ],
      "execution_count": 58,
      "outputs": [
        {
          "output_type": "stream",
          "text": [
            "give me an application with a label , an audio with source string0 , a video player with source string1 , a camera , and a text box .\n",
            "<complist> <label> label1 </label> <player> string0 </player> <video_player> string1 </video_player> <camera> <textbox> </complist>\n"
          ],
          "name": "stdout"
        }
      ]
    },
    {
      "cell_type": "markdown",
      "metadata": {
        "id": "2Re1T6ISXUW_"
      },
      "source": [
        "## BERT Mutation"
      ]
    },
    {
      "cell_type": "code",
      "metadata": {
        "colab": {
          "base_uri": "https://localhost:8080/",
          "height": 320,
          "referenced_widgets": [
            "13647c31cdb94e46a3714d7d39d19c80",
            "a471a2e384214a50a7e376fa01381e90",
            "a9fc2da99d7c4a39ad8210db90f612eb",
            "9373af1536d546cd9bfc3f216ee84cb1",
            "fcef3819bddb4dc3b07193959a89a645",
            "0b51257932da4e2795987678142be47a",
            "05ef5f68b56140e9b3afae75ad056262",
            "6bea12f9e0444c33890336287b753f5d",
            "c1acf736b11544fe91055ef7df1853e5",
            "47843fab2d58488f84a6f5062c893420",
            "544c2442ed0b45a2ab7de216f5ebb510",
            "fe6180cd84ed46febc9bd74ef55f5a0d",
            "5a427a0476124e1c803b30d99b41c521",
            "70478160a3674e2790d4934fb7070486",
            "23263c87ccd442c08ce1b7caf23df449",
            "cee8ea9df90840468c030c15add5dce8",
            "20902b2d50324cd7b65729cc4d2f19f1",
            "35ca900160664d2493dd7032df61a223",
            "c55fe725caa645a5b24c8a49c61fb2b0",
            "7197032606e747cfa7ecfc55828c6b16",
            "7406f4f10cc442698d8ce5744daaaf5b",
            "ac317c07d21a4f4ab5bc8ea81a23d1a5",
            "611483d40db342cc8893fa220a07e5f8",
            "bec8c6530dc542179cdfdd0c50d60f23",
            "f9121cbbca494b168dee2ca58bd614e5",
            "fec41eeeeb8c4e51a891d19784fd1093",
            "56ea372993694d2085548adf38a71939",
            "660f312214194331b38917316ce3de9b",
            "9eee5576a371414797a24b0373b8dc15",
            "eb7bbfbd4f4b4ba7a1d8bf6f24999d3d",
            "0a3bfd4c9d854d2ebeee2e42a2e3864a",
            "56fde8c2701349c58780c88f14a05366",
            "7e17aecc0168447a8f40b68b7d727c1b",
            "3848cebbea894b04a5fff277d7ef8fde",
            "40ac23b768394f6daa0d16286b815188",
            "63ddbbd1a86941b091a213267e73c928",
            "182a70f264de432ba4ca762a0fba440d",
            "2abfa80e2dbe4c2599d2d229ec58d518",
            "b205b2eec468465a92df9b2fc1cb32ea",
            "245de3fcd5b943fca55336f89868f63b"
          ]
        },
        "id": "w2Zxo0HDXWUl",
        "outputId": "b6604091-bc1f-47d7-d765-37d443f00b06"
      },
      "source": [
        "from transformers import AutoModelWithLMHead, AutoTokenizer\n",
        "import torch\n",
        "\n",
        "tokenizer = AutoTokenizer.from_pretrained(\"distilbert-base-cased\")\n",
        "model = AutoModelWithLMHead.from_pretrained(\"distilbert-base-cased\")"
      ],
      "execution_count": 17,
      "outputs": [
        {
          "output_type": "display_data",
          "data": {
            "application/vnd.jupyter.widget-view+json": {
              "model_id": "13647c31cdb94e46a3714d7d39d19c80",
              "version_minor": 0,
              "version_major": 2
            },
            "text/plain": [
              "HBox(children=(FloatProgress(value=0.0, description='Downloading', max=411.0, style=ProgressStyle(description_…"
            ]
          },
          "metadata": {
            "tags": []
          }
        },
        {
          "output_type": "stream",
          "text": [
            "\n"
          ],
          "name": "stdout"
        },
        {
          "output_type": "display_data",
          "data": {
            "application/vnd.jupyter.widget-view+json": {
              "model_id": "c1acf736b11544fe91055ef7df1853e5",
              "version_minor": 0,
              "version_major": 2
            },
            "text/plain": [
              "HBox(children=(FloatProgress(value=0.0, description='Downloading', max=213450.0, style=ProgressStyle(descripti…"
            ]
          },
          "metadata": {
            "tags": []
          }
        },
        {
          "output_type": "stream",
          "text": [
            "\n"
          ],
          "name": "stdout"
        },
        {
          "output_type": "display_data",
          "data": {
            "application/vnd.jupyter.widget-view+json": {
              "model_id": "20902b2d50324cd7b65729cc4d2f19f1",
              "version_minor": 0,
              "version_major": 2
            },
            "text/plain": [
              "HBox(children=(FloatProgress(value=0.0, description='Downloading', max=435797.0, style=ProgressStyle(descripti…"
            ]
          },
          "metadata": {
            "tags": []
          }
        },
        {
          "output_type": "stream",
          "text": [
            "\n"
          ],
          "name": "stdout"
        },
        {
          "output_type": "display_data",
          "data": {
            "application/vnd.jupyter.widget-view+json": {
              "model_id": "f9121cbbca494b168dee2ca58bd614e5",
              "version_minor": 0,
              "version_major": 2
            },
            "text/plain": [
              "HBox(children=(FloatProgress(value=0.0, description='Downloading', max=29.0, style=ProgressStyle(description_w…"
            ]
          },
          "metadata": {
            "tags": []
          }
        },
        {
          "output_type": "stream",
          "text": [
            "\n"
          ],
          "name": "stdout"
        },
        {
          "output_type": "stream",
          "text": [
            "/usr/local/lib/python3.7/dist-packages/transformers/models/auto/modeling_auto.py:762: FutureWarning: The class `AutoModelWithLMHead` is deprecated and will be removed in a future version. Please use `AutoModelForCausalLM` for causal language models, `AutoModelForMaskedLM` for masked language models and `AutoModelForSeq2SeqLM` for encoder-decoder models.\n",
            "  FutureWarning,\n"
          ],
          "name": "stderr"
        },
        {
          "output_type": "display_data",
          "data": {
            "application/vnd.jupyter.widget-view+json": {
              "model_id": "7e17aecc0168447a8f40b68b7d727c1b",
              "version_minor": 0,
              "version_major": 2
            },
            "text/plain": [
              "HBox(children=(FloatProgress(value=0.0, description='Downloading', max=263273408.0, style=ProgressStyle(descri…"
            ]
          },
          "metadata": {
            "tags": []
          }
        },
        {
          "output_type": "stream",
          "text": [
            "\n"
          ],
          "name": "stdout"
        }
      ]
    },
    {
      "cell_type": "code",
      "metadata": {
        "id": "cXYjefDbXXqc"
      },
      "source": [
        "def mutate(sentence, position):\n",
        "  tokens = sentence.split()\n",
        "  word = tokens[position]\n",
        "  mask = tokenizer.mask_token\n",
        "  tokens[position] = mask\n",
        "  masked_sentence = ' '.join(tokens)\n",
        "\n",
        "  input = tokenizer.encode(masked_sentence, return_tensors=\"pt\")\n",
        "  mask_token_index = torch.where(input == tokenizer.mask_token_id)[1]\n",
        "\n",
        "  token_logits = model(input)[0]\n",
        "  mask_token_logits = token_logits[0, mask_token_index, :]\n",
        "  top_tokens = torch.topk(mask_token_logits, 10, dim=1).indices[0].tolist()\n",
        "\n",
        "  predictions = []\n",
        "  for token in top_tokens:\n",
        "    predicted_word = tokenizer.decode([token]).lower()\n",
        "    if \"##\" not in predicted_word:\n",
        "      predictions.append(predicted_word)\n",
        "  \n",
        "  if len(predictions)> 0:\n",
        "    decreasing_weights = [i for i in range(len(predictions) ,0, -1)]\n",
        "    mutated_word = random.choices(predictions, weights=decreasing_weights, k=1)[0]\n",
        "  else:\n",
        "    mutated_word = word\n",
        "    # print(\"not mutated\")\n",
        "  tokens[position] = mutated_word\n",
        "  mutated_sentence = ' '.join(tokens)\n",
        "\n",
        "  return mutated_sentence"
      ],
      "execution_count": 18,
      "outputs": []
    },
    {
      "cell_type": "code",
      "metadata": {
        "id": "XzUurQC9XftP"
      },
      "source": [
        "def mutate_sentence(sentence, mutation_percent):\n",
        "  mutate_index = random.choices([i for i in range(len(sentence.split()))], k=int(len(sentence.split())*mutation_percent + 0.5))\n",
        "  for i in mutate_index:\n",
        "    sentence = mutate(sentence, i)\n",
        "  return sentence"
      ],
      "execution_count": 19,
      "outputs": []
    },
    {
      "cell_type": "markdown",
      "metadata": {
        "id": "niZq69TogmVz"
      },
      "source": [
        "# Generating dataset"
      ]
    },
    {
      "cell_type": "code",
      "metadata": {
        "id": "W9QvvUbTTt8e",
        "colab": {
          "base_uri": "https://localhost:8080/"
        },
        "outputId": "c1c4d0e0-923c-492b-c85c-a46ec2be5c57"
      },
      "source": [
        "nl_list = []\n",
        "nl_mod_list = []\n",
        "sar_list = []\n",
        "\n",
        "for i in range(500):\n",
        "  nl, sar = generate_nl_sar()\n",
        "  if \"<textboxtext4>\" in sar:\n",
        "    print(sar)\n",
        "  ## Mutate 10% words in 10% NL\n",
        "  nl = mutate_sentence(nl, 0.05)\n",
        "  nl_list.append(nl)\n",
        "  sar_list.append(sar)\n",
        "  if i%100==0:\n",
        "    print(i)"
      ],
      "execution_count": 59,
      "outputs": [
        {
          "output_type": "stream",
          "text": [
            "0\n",
            "100\n",
            "200\n",
            "300\n",
            "400\n"
          ],
          "name": "stdout"
        }
      ]
    },
    {
      "cell_type": "code",
      "metadata": {
        "id": "OeacBRpqzBbX"
      },
      "source": [
        "d = {}\n",
        "\n",
        "all_tokens = ' '.join(sar_list).split()\n",
        "for s in all_tokens:\n",
        "  if s not in d:\n",
        "    d[s] = 0\n",
        "  d[s] += 1"
      ],
      "execution_count": 60,
      "outputs": []
    },
    {
      "cell_type": "code",
      "metadata": {
        "colab": {
          "base_uri": "https://localhost:8080/"
        },
        "id": "ocy-dfxb0QiY",
        "outputId": "18b86a14-0481-489e-cf01-7f4d7cf2cbf8"
      },
      "source": [
        "sorted_d = sorted(d.items(), key=lambda item: item[1])\n",
        "sorted_d.reverse()\n",
        "sorted_d"
      ],
      "execution_count": 61,
      "outputs": [
        {
          "output_type": "execute_result",
          "data": {
            "text/plain": [
              "[('</complist>', 500),\n",
              " ('<complist>', 500),\n",
              " ('</video_player>', 417),\n",
              " ('</label>', 416),\n",
              " ('</player>', 399),\n",
              " ('</code>', 387),\n",
              " ('<code>', 387),\n",
              " ('string0', 385),\n",
              " ('</button>', 286),\n",
              " ('<button>', 286),\n",
              " ('<video_player>', 284),\n",
              " ('<label>', 283),\n",
              " ('</switch>', 282),\n",
              " ('<switch>', 282),\n",
              " ('<textbox>', 275),\n",
              " ('<player>', 270),\n",
              " ('<passwordtextbox>', 262),\n",
              " ('<timepicker>', 242),\n",
              " ('<camera>', 228),\n",
              " ('<text2speech>', 221),\n",
              " ('<accelerometer>', 220),\n",
              " ('<ball>', 219),\n",
              " ('string1', 219),\n",
              " ('</switch1flipped>', 186),\n",
              " ('<switch1flipped>', 186),\n",
              " ('label1', 180),\n",
              " ('</accelerometer1shaken>', 172),\n",
              " ('<accelerometer1shaken>', 172),\n",
              " ('</button1clicked>', 166),\n",
              " ('<button1clicked>', 166),\n",
              " ('button1', 159),\n",
              " ('switch1', 155),\n",
              " ('</ball1>', 148),\n",
              " ('<ball1>', 148),\n",
              " ('<start>', 136),\n",
              " ('<stop>', 126),\n",
              " ('<video_player1>', 120),\n",
              " ('</camera1>', 119),\n",
              " ('<capture_and_show>', 119),\n",
              " ('<camera1>', 119),\n",
              " ('<player1>', 117),\n",
              " ('<label1>', 116),\n",
              " ('</text2speech1>', 112),\n",
              " ('<text2speech1>', 112),\n",
              " ('string2', 109),\n",
              " ('</ball1flung>', 101),\n",
              " ('<ball1flung>', 101),\n",
              " ('</ball1reach_edge>', 83),\n",
              " ('<ball1reach_edge>', 83),\n",
              " ('random_video_player_source', 65),\n",
              " ('number0', 65),\n",
              " ('random_player_source', 61),\n",
              " ('<textboxtext1>', 49),\n",
              " ('<time1>', 48),\n",
              " ('button2', 45),\n",
              " ('string3', 41),\n",
              " ('label2', 39),\n",
              " ('switch2', 38),\n",
              " ('</button2clicked>', 32),\n",
              " ('<button2clicked>', 32),\n",
              " ('<bounce>', 29),\n",
              " ('<motion>', 28),\n",
              " ('</switch2flipped>', 27),\n",
              " ('<switch2flipped>', 27),\n",
              " ('</color>', 26),\n",
              " ('<color>', 26),\n",
              " ('</radius>', 24),\n",
              " ('<radius>', 24),\n",
              " ('</heading>', 24),\n",
              " ('<heading>', 24),\n",
              " ('</speed>', 17),\n",
              " ('<speed>', 17),\n",
              " ('<label2>', 16),\n",
              " ('string4', 13),\n",
              " ('<video_player2>', 12),\n",
              " ('<player2>', 12),\n",
              " ('<textboxtext2>', 9),\n",
              " ('button3', 8),\n",
              " ('switch3', 7),\n",
              " ('<gray>', 5),\n",
              " ('string5', 5),\n",
              " ('<time2>', 5),\n",
              " ('<red>', 4),\n",
              " ('label3', 4),\n",
              " ('</button3clicked>', 4),\n",
              " ('<button3clicked>', 4),\n",
              " ('</switch3flipped>', 3),\n",
              " ('<switch3flipped>', 3),\n",
              " ('<light_gray>', 3),\n",
              " ('<cyan>', 3),\n",
              " ('<black>', 3),\n",
              " ('<orange>', 2),\n",
              " ('<pink>', 2),\n",
              " ('string6', 2),\n",
              " ('button4', 2),\n",
              " ('switch4', 1),\n",
              " ('<dark_gray>', 1),\n",
              " ('<video_player3>', 1),\n",
              " ('<blue>', 1),\n",
              " ('<label3>', 1),\n",
              " ('<yellow>', 1),\n",
              " ('<textboxtext3>', 1),\n",
              " ('<magenta>', 1)]"
            ]
          },
          "metadata": {
            "tags": []
          },
          "execution_count": 61
        }
      ]
    },
    {
      "cell_type": "code",
      "metadata": {
        "id": "P_l7JWYvYb8d"
      },
      "source": [
        "import pandas as pd\n",
        "df = pd.DataFrame({'NL':nl_list, 'SAR': sar_list})"
      ],
      "execution_count": 62,
      "outputs": []
    },
    {
      "cell_type": "code",
      "metadata": {
        "id": "-amGJ_OhMxGk",
        "colab": {
          "base_uri": "https://localhost:8080/",
          "height": 417
        },
        "outputId": "feb59ff0-646c-45eb-a25f-826c06ca0e36"
      },
      "source": [
        "df"
      ],
      "execution_count": 63,
      "outputs": [
        {
          "output_type": "execute_result",
          "data": {
            "text/html": [
              "<div>\n",
              "<style scoped>\n",
              "    .dataframe tbody tr th:only-of-type {\n",
              "        vertical-align: middle;\n",
              "    }\n",
              "\n",
              "    .dataframe tbody tr th {\n",
              "        vertical-align: top;\n",
              "    }\n",
              "\n",
              "    .dataframe thead th {\n",
              "        text-align: right;\n",
              "    }\n",
              "</style>\n",
              "<table border=\"1\" class=\"dataframe\">\n",
              "  <thead>\n",
              "    <tr style=\"text-align: right;\">\n",
              "      <th></th>\n",
              "      <th>NL</th>\n",
              "      <th>SAR</th>\n",
              "    </tr>\n",
              "  </thead>\n",
              "  <tbody>\n",
              "    <tr>\n",
              "      <th>0</th>\n",
              "      <td>create a mobile app having a button , a passwo...</td>\n",
              "      <td>&lt;complist&gt; &lt;button&gt; button1 &lt;/button&gt; &lt;passwor...</td>\n",
              "    </tr>\n",
              "    <tr>\n",
              "      <th>1</th>\n",
              "      <td>a mobile application with a movement sensor , ...</td>\n",
              "      <td>&lt;complist&gt; &lt;accelerometer&gt; &lt;timepicker&gt; &lt;ball&gt;...</td>\n",
              "    </tr>\n",
              "    <tr>\n",
              "      <th>2</th>\n",
              "      <td>give me app on a switch named string0 , a swit...</td>\n",
              "      <td>&lt;complist&gt; &lt;switch&gt; string0 &lt;/switch&gt; &lt;switch&gt;...</td>\n",
              "    </tr>\n",
              "    <tr>\n",
              "      <th>3</th>\n",
              "      <td>make mobile app that has a music with source s...</td>\n",
              "      <td>&lt;complist&gt; &lt;player&gt; string0 &lt;/player&gt; &lt;ball&gt; &lt;...</td>\n",
              "    </tr>\n",
              "    <tr>\n",
              "      <th>4</th>\n",
              "      <td>give me application consisting of a movement s...</td>\n",
              "      <td>&lt;complist&gt; &lt;accelerometer&gt; &lt;label&gt; label1 &lt;/la...</td>\n",
              "    </tr>\n",
              "    <tr>\n",
              "      <th>...</th>\n",
              "      <td>...</td>\n",
              "      <td>...</td>\n",
              "    </tr>\n",
              "    <tr>\n",
              "      <th>495</th>\n",
              "      <td>give me a software with a button named string0...</td>\n",
              "      <td>&lt;complist&gt; &lt;button&gt; string0 &lt;/button&gt; &lt;button&gt;...</td>\n",
              "    </tr>\n",
              "    <tr>\n",
              "      <th>496</th>\n",
              "      <td>give me a mobile app consisting of a text2spee...</td>\n",
              "      <td>&lt;complist&gt; &lt;text2speech&gt; &lt;textbox&gt; &lt;switch&gt; sw...</td>\n",
              "    </tr>\n",
              "    <tr>\n",
              "      <th>497</th>\n",
              "      <td>give : an app consisting a button , a time pic...</td>\n",
              "      <td>&lt;complist&gt; &lt;button&gt; button1 &lt;/button&gt; &lt;timepic...</td>\n",
              "    </tr>\n",
              "    <tr>\n",
              "      <th>498</th>\n",
              "      <td>an application with a pasword text box , a pas...</td>\n",
              "      <td>&lt;complist&gt; &lt;passwordtextbox&gt; &lt;passwordtextbox&gt;...</td>\n",
              "    </tr>\n",
              "    <tr>\n",
              "      <th>499</th>\n",
              "      <td>mobile application having a password box conta...</td>\n",
              "      <td>&lt;complist&gt; &lt;passwordtextbox&gt; &lt;label&gt; label1 &lt;/...</td>\n",
              "    </tr>\n",
              "  </tbody>\n",
              "</table>\n",
              "<p>500 rows × 2 columns</p>\n",
              "</div>"
            ],
            "text/plain": [
              "                                                    NL                                                SAR\n",
              "0    create a mobile app having a button , a passwo...  <complist> <button> button1 </button> <passwor...\n",
              "1    a mobile application with a movement sensor , ...  <complist> <accelerometer> <timepicker> <ball>...\n",
              "2    give me app on a switch named string0 , a swit...  <complist> <switch> string0 </switch> <switch>...\n",
              "3    make mobile app that has a music with source s...  <complist> <player> string0 </player> <ball> <...\n",
              "4    give me application consisting of a movement s...  <complist> <accelerometer> <label> label1 </la...\n",
              "..                                                 ...                                                ...\n",
              "495  give me a software with a button named string0...  <complist> <button> string0 </button> <button>...\n",
              "496  give me a mobile app consisting of a text2spee...  <complist> <text2speech> <textbox> <switch> sw...\n",
              "497  give : an app consisting a button , a time pic...  <complist> <button> button1 </button> <timepic...\n",
              "498  an application with a pasword text box , a pas...  <complist> <passwordtextbox> <passwordtextbox>...\n",
              "499  mobile application having a password box conta...  <complist> <passwordtextbox> <label> label1 </...\n",
              "\n",
              "[500 rows x 2 columns]"
            ]
          },
          "metadata": {
            "tags": []
          },
          "execution_count": 63
        }
      ]
    },
    {
      "cell_type": "code",
      "metadata": {
        "colab": {
          "base_uri": "https://localhost:8080/",
          "height": 417
        },
        "id": "EmmbHdpJ8sSW",
        "outputId": "0509da08-2812-42e2-d66e-09aad0e38c08"
      },
      "source": [
        "df = df.drop_duplicates()\n",
        "df"
      ],
      "execution_count": 64,
      "outputs": [
        {
          "output_type": "execute_result",
          "data": {
            "text/html": [
              "<div>\n",
              "<style scoped>\n",
              "    .dataframe tbody tr th:only-of-type {\n",
              "        vertical-align: middle;\n",
              "    }\n",
              "\n",
              "    .dataframe tbody tr th {\n",
              "        vertical-align: top;\n",
              "    }\n",
              "\n",
              "    .dataframe thead th {\n",
              "        text-align: right;\n",
              "    }\n",
              "</style>\n",
              "<table border=\"1\" class=\"dataframe\">\n",
              "  <thead>\n",
              "    <tr style=\"text-align: right;\">\n",
              "      <th></th>\n",
              "      <th>NL</th>\n",
              "      <th>SAR</th>\n",
              "    </tr>\n",
              "  </thead>\n",
              "  <tbody>\n",
              "    <tr>\n",
              "      <th>0</th>\n",
              "      <td>create a mobile app having a button , a passwo...</td>\n",
              "      <td>&lt;complist&gt; &lt;button&gt; button1 &lt;/button&gt; &lt;passwor...</td>\n",
              "    </tr>\n",
              "    <tr>\n",
              "      <th>1</th>\n",
              "      <td>a mobile application with a movement sensor , ...</td>\n",
              "      <td>&lt;complist&gt; &lt;accelerometer&gt; &lt;timepicker&gt; &lt;ball&gt;...</td>\n",
              "    </tr>\n",
              "    <tr>\n",
              "      <th>2</th>\n",
              "      <td>give me app on a switch named string0 , a swit...</td>\n",
              "      <td>&lt;complist&gt; &lt;switch&gt; string0 &lt;/switch&gt; &lt;switch&gt;...</td>\n",
              "    </tr>\n",
              "    <tr>\n",
              "      <th>3</th>\n",
              "      <td>make mobile app that has a music with source s...</td>\n",
              "      <td>&lt;complist&gt; &lt;player&gt; string0 &lt;/player&gt; &lt;ball&gt; &lt;...</td>\n",
              "    </tr>\n",
              "    <tr>\n",
              "      <th>4</th>\n",
              "      <td>give me application consisting of a movement s...</td>\n",
              "      <td>&lt;complist&gt; &lt;accelerometer&gt; &lt;label&gt; label1 &lt;/la...</td>\n",
              "    </tr>\n",
              "    <tr>\n",
              "      <th>...</th>\n",
              "      <td>...</td>\n",
              "      <td>...</td>\n",
              "    </tr>\n",
              "    <tr>\n",
              "      <th>495</th>\n",
              "      <td>give me a software with a button named string0...</td>\n",
              "      <td>&lt;complist&gt; &lt;button&gt; string0 &lt;/button&gt; &lt;button&gt;...</td>\n",
              "    </tr>\n",
              "    <tr>\n",
              "      <th>496</th>\n",
              "      <td>give me a mobile app consisting of a text2spee...</td>\n",
              "      <td>&lt;complist&gt; &lt;text2speech&gt; &lt;textbox&gt; &lt;switch&gt; sw...</td>\n",
              "    </tr>\n",
              "    <tr>\n",
              "      <th>497</th>\n",
              "      <td>give : an app consisting a button , a time pic...</td>\n",
              "      <td>&lt;complist&gt; &lt;button&gt; button1 &lt;/button&gt; &lt;timepic...</td>\n",
              "    </tr>\n",
              "    <tr>\n",
              "      <th>498</th>\n",
              "      <td>an application with a pasword text box , a pas...</td>\n",
              "      <td>&lt;complist&gt; &lt;passwordtextbox&gt; &lt;passwordtextbox&gt;...</td>\n",
              "    </tr>\n",
              "    <tr>\n",
              "      <th>499</th>\n",
              "      <td>mobile application having a password box conta...</td>\n",
              "      <td>&lt;complist&gt; &lt;passwordtextbox&gt; &lt;label&gt; label1 &lt;/...</td>\n",
              "    </tr>\n",
              "  </tbody>\n",
              "</table>\n",
              "<p>500 rows × 2 columns</p>\n",
              "</div>"
            ],
            "text/plain": [
              "                                                    NL                                                SAR\n",
              "0    create a mobile app having a button , a passwo...  <complist> <button> button1 </button> <passwor...\n",
              "1    a mobile application with a movement sensor , ...  <complist> <accelerometer> <timepicker> <ball>...\n",
              "2    give me app on a switch named string0 , a swit...  <complist> <switch> string0 </switch> <switch>...\n",
              "3    make mobile app that has a music with source s...  <complist> <player> string0 </player> <ball> <...\n",
              "4    give me application consisting of a movement s...  <complist> <accelerometer> <label> label1 </la...\n",
              "..                                                 ...                                                ...\n",
              "495  give me a software with a button named string0...  <complist> <button> string0 </button> <button>...\n",
              "496  give me a mobile app consisting of a text2spee...  <complist> <text2speech> <textbox> <switch> sw...\n",
              "497  give : an app consisting a button , a time pic...  <complist> <button> button1 </button> <timepic...\n",
              "498  an application with a pasword text box , a pas...  <complist> <passwordtextbox> <passwordtextbox>...\n",
              "499  mobile application having a password box conta...  <complist> <passwordtextbox> <label> label1 </...\n",
              "\n",
              "[500 rows x 2 columns]"
            ]
          },
          "metadata": {
            "tags": []
          },
          "execution_count": 64
        }
      ]
    },
    {
      "cell_type": "code",
      "metadata": {
        "id": "3wAF444JmaM4"
      },
      "source": [
        "df = df[:1000]"
      ],
      "execution_count": null,
      "outputs": []
    },
    {
      "cell_type": "code",
      "metadata": {
        "id": "_HouWKj5w_u7"
      },
      "source": [
        "df.to_csv(\"nl_sar_camera_test.csv\", index=False)"
      ],
      "execution_count": 66,
      "outputs": []
    },
    {
      "cell_type": "code",
      "metadata": {
        "colab": {
          "base_uri": "https://localhost:8080/"
        },
        "id": "Xl702y62U5-M",
        "outputId": "42c4b077-8b00-4afc-d037-249ba7b7df60"
      },
      "source": [
        "train_frac = 0.8\n",
        "valid_frac = 0.1\n",
        "\n",
        "train = df[:int(len(df)*train_frac)]\n",
        "valid = df[int(len(df)*train_frac): int(len(df)*(train_frac+valid_frac))]\n",
        "test = df[int(len(df)*(train_frac+valid_frac)): ]\n",
        "\n",
        "train.to_csv(\"nl_sar_train.csv\", index=False)\n",
        "test.to_csv(\"nl_sar_test.csv\", index=False)\n",
        "valid.to_csv(\"nl_sar_valid.csv\", index=False)\n",
        "\n",
        "len(train), len(valid), len(test)"
      ],
      "execution_count": null,
      "outputs": [
        {
          "output_type": "execute_result",
          "data": {
            "text/plain": [
              "(40000, 5000, 5000)"
            ]
          },
          "metadata": {
            "tags": []
          },
          "execution_count": 25
        }
      ]
    },
    {
      "cell_type": "code",
      "metadata": {
        "id": "O4XIY4IvG04T"
      },
      "source": [
        "import os\n",
        "if not os.path.exists(\"./Synthesized_Data\"):\n",
        "  os.makedirs(\"./Synthesized_Data\")"
      ],
      "execution_count": null,
      "outputs": []
    },
    {
      "cell_type": "code",
      "metadata": {
        "id": "khzBHZVN0Rcl"
      },
      "source": [
        "!cp nl_sar_* ./Synthesized_Data/"
      ],
      "execution_count": null,
      "outputs": []
    },
    {
      "cell_type": "code",
      "metadata": {
        "colab": {
          "base_uri": "https://localhost:8080/",
          "height": 70
        },
        "id": "xV7JI3S9kvhp",
        "outputId": "91287593-77ff-40a5-c255-4acbdb0dd722"
      },
      "source": [
        "# For Colab\n",
        "from google.colab import files\n",
        "\n",
        "!zip -r Synthesized_Data Synthesized_Data/*\n",
        "\n",
        "files.download('Synthesized_Data.zip')"
      ],
      "execution_count": null,
      "outputs": [
        {
          "output_type": "stream",
          "text": [
            "  adding: Synthesized_Data/nl_sar_test.csv (deflated 91%)\n",
            "  adding: Synthesized_Data/nl_sar_train.csv (deflated 91%)\n",
            "  adding: Synthesized_Data/nl_sar_valid.csv (deflated 91%)\n"
          ],
          "name": "stdout"
        },
        {
          "output_type": "display_data",
          "data": {
            "application/javascript": [
              "\n",
              "    async function download(id, filename, size) {\n",
              "      if (!google.colab.kernel.accessAllowed) {\n",
              "        return;\n",
              "      }\n",
              "      const div = document.createElement('div');\n",
              "      const label = document.createElement('label');\n",
              "      label.textContent = `Downloading \"${filename}\": `;\n",
              "      div.appendChild(label);\n",
              "      const progress = document.createElement('progress');\n",
              "      progress.max = size;\n",
              "      div.appendChild(progress);\n",
              "      document.body.appendChild(div);\n",
              "\n",
              "      const buffers = [];\n",
              "      let downloaded = 0;\n",
              "\n",
              "      const channel = await google.colab.kernel.comms.open(id);\n",
              "      // Send a message to notify the kernel that we're ready.\n",
              "      channel.send({})\n",
              "\n",
              "      for await (const message of channel.messages) {\n",
              "        // Send a message to notify the kernel that we're ready.\n",
              "        channel.send({})\n",
              "        if (message.buffers) {\n",
              "          for (const buffer of message.buffers) {\n",
              "            buffers.push(buffer);\n",
              "            downloaded += buffer.byteLength;\n",
              "            progress.value = downloaded;\n",
              "          }\n",
              "        }\n",
              "      }\n",
              "      const blob = new Blob(buffers, {type: 'application/binary'});\n",
              "      const a = document.createElement('a');\n",
              "      a.href = window.URL.createObjectURL(blob);\n",
              "      a.download = filename;\n",
              "      div.appendChild(a);\n",
              "      a.click();\n",
              "      div.remove();\n",
              "    }\n",
              "  "
            ],
            "text/plain": [
              "<IPython.core.display.Javascript object>"
            ]
          },
          "metadata": {
            "tags": []
          }
        },
        {
          "output_type": "display_data",
          "data": {
            "application/javascript": [
              "download(\"download_45f8d584-ab0a-4882-aba8-8dc20f314b0b\", \"Synthesized_Data.zip\", 1647135)"
            ],
            "text/plain": [
              "<IPython.core.display.Javascript object>"
            ]
          },
          "metadata": {
            "tags": []
          }
        }
      ]
    },
    {
      "cell_type": "markdown",
      "metadata": {
        "id": "Ti24nzDVNROD"
      },
      "source": [
        "## Synthetic data anlaytics"
      ]
    },
    {
      "cell_type": "code",
      "metadata": {
        "id": "jfwMTU7udLQf"
      },
      "source": [
        "nl_len = []\n",
        "sar_len = []\n",
        "for nl in nl_list:\n",
        "  nl_len.append(len(nl.split()))\n",
        "\n",
        "for sar in sar_list:\n",
        "  sar_len.append(len(sar.split()))"
      ],
      "execution_count": null,
      "outputs": []
    },
    {
      "cell_type": "code",
      "metadata": {
        "colab": {
          "base_uri": "https://localhost:8080/"
        },
        "id": "ILak4TpiM2Wm",
        "outputId": "bb0af47d-572a-4f24-f2b8-2cbb57a88662"
      },
      "source": [
        "sum(nl_len)/len(nl_len)"
      ],
      "execution_count": null,
      "outputs": [
        {
          "output_type": "execute_result",
          "data": {
            "text/plain": [
              "30.701854545454545"
            ]
          },
          "metadata": {
            "tags": []
          },
          "execution_count": 39
        }
      ]
    },
    {
      "cell_type": "code",
      "metadata": {
        "colab": {
          "base_uri": "https://localhost:8080/"
        },
        "id": "_6EWgGIdM7jz",
        "outputId": "649f2e2a-408e-405b-a4e0-96c153d90db6"
      },
      "source": [
        "sum(sar_len)/len(sar_len)"
      ],
      "execution_count": null,
      "outputs": [
        {
          "output_type": "execute_result",
          "data": {
            "text/plain": [
              "16.060727272727274"
            ]
          },
          "metadata": {
            "tags": []
          },
          "execution_count": 40
        }
      ]
    },
    {
      "cell_type": "code",
      "metadata": {
        "colab": {
          "base_uri": "https://localhost:8080/"
        },
        "id": "L0UYaWIFNKF4",
        "outputId": "a9be8c40-ce56-41e0-e7ca-daa6ac889b77"
      },
      "source": [
        "max(nl_len), min(nl_len)"
      ],
      "execution_count": null,
      "outputs": [
        {
          "output_type": "execute_result",
          "data": {
            "text/plain": [
              "(82, 5)"
            ]
          },
          "metadata": {
            "tags": []
          },
          "execution_count": 41
        }
      ]
    },
    {
      "cell_type": "code",
      "metadata": {
        "colab": {
          "base_uri": "https://localhost:8080/"
        },
        "id": "rE-QDwWvNVYL",
        "outputId": "95b38dae-b41f-4991-e9a2-f08ad5d0477e"
      },
      "source": [
        "max(sar_len), min(sar_len)"
      ],
      "execution_count": null,
      "outputs": [
        {
          "output_type": "execute_result",
          "data": {
            "text/plain": [
              "(45, 3)"
            ]
          },
          "metadata": {
            "tags": []
          },
          "execution_count": 42
        }
      ]
    },
    {
      "cell_type": "code",
      "metadata": {
        "id": "HgTyBTt4NXA1"
      },
      "source": [
        ""
      ],
      "execution_count": null,
      "outputs": []
    }
  ]
}