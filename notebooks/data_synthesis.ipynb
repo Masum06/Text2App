{
  "nbformat": 4,
  "nbformat_minor": 0,
  "metadata": {
    "colab": {
      "name": "text2app_data_synthesis.ipynb",
      "provenance": [],
      "collapsed_sections": [],
      "include_colab_link": true
    },
    "kernelspec": {
      "name": "python3",
      "display_name": "Python 3"
    },
    "accelerator": "GPU"
  },
  "cells": [
    {
      "cell_type": "markdown",
      "metadata": {
        "id": "view-in-github",
        "colab_type": "text"
      },
      "source": [
        "<a href=\"https://colab.research.google.com/github/Masum06/Text2App/blob/master/notebooks/data_synthesis.ipynb\" target=\"_parent\"><img src=\"https://colab.research.google.com/assets/colab-badge.svg\" alt=\"Open In Colab\"/></a>"
      ]
    },
    {
      "cell_type": "code",
      "metadata": {
        "colab": {
          "base_uri": "https://localhost:8080/"
        },
        "id": "62MDjMESzwk3",
        "outputId": "2cb41205-c133-4df8-9a78-ecc1ac1f28df"
      },
      "source": [
        "!pip install transformers==4.5.0\n",
        "!pip install PyDictionary"
      ],
      "execution_count": 1,
      "outputs": [
        {
          "output_type": "stream",
          "text": [
            "Collecting transformers==4.5.0\n",
            "\u001b[?25l  Downloading https://files.pythonhosted.org/packages/81/91/61d69d58a1af1bd81d9ca9d62c90a6de3ab80d77f27c5df65d9a2c1f5626/transformers-4.5.0-py3-none-any.whl (2.1MB)\n",
            "\r\u001b[K     |▏                               | 10kB 17.2MB/s eta 0:00:01\r\u001b[K     |▎                               | 20kB 23.6MB/s eta 0:00:01\r\u001b[K     |▌                               | 30kB 28.0MB/s eta 0:00:01\r\u001b[K     |▋                               | 40kB 30.2MB/s eta 0:00:01\r\u001b[K     |▊                               | 51kB 33.0MB/s eta 0:00:01\r\u001b[K     |█                               | 61kB 35.5MB/s eta 0:00:01\r\u001b[K     |█                               | 71kB 25.2MB/s eta 0:00:01\r\u001b[K     |█▏                              | 81kB 26.4MB/s eta 0:00:01\r\u001b[K     |█▍                              | 92kB 24.1MB/s eta 0:00:01\r\u001b[K     |█▌                              | 102kB 24.1MB/s eta 0:00:01\r\u001b[K     |█▊                              | 112kB 24.1MB/s eta 0:00:01\r\u001b[K     |█▉                              | 122kB 24.1MB/s eta 0:00:01\r\u001b[K     |██                              | 133kB 24.1MB/s eta 0:00:01\r\u001b[K     |██▏                             | 143kB 24.1MB/s eta 0:00:01\r\u001b[K     |██▎                             | 153kB 24.1MB/s eta 0:00:01\r\u001b[K     |██▍                             | 163kB 24.1MB/s eta 0:00:01\r\u001b[K     |██▋                             | 174kB 24.1MB/s eta 0:00:01\r\u001b[K     |██▊                             | 184kB 24.1MB/s eta 0:00:01\r\u001b[K     |███                             | 194kB 24.1MB/s eta 0:00:01\r\u001b[K     |███                             | 204kB 24.1MB/s eta 0:00:01\r\u001b[K     |███▏                            | 215kB 24.1MB/s eta 0:00:01\r\u001b[K     |███▍                            | 225kB 24.1MB/s eta 0:00:01\r\u001b[K     |███▌                            | 235kB 24.1MB/s eta 0:00:01\r\u001b[K     |███▋                            | 245kB 24.1MB/s eta 0:00:01\r\u001b[K     |███▉                            | 256kB 24.1MB/s eta 0:00:01\r\u001b[K     |████                            | 266kB 24.1MB/s eta 0:00:01\r\u001b[K     |████▏                           | 276kB 24.1MB/s eta 0:00:01\r\u001b[K     |████▎                           | 286kB 24.1MB/s eta 0:00:01\r\u001b[K     |████▍                           | 296kB 24.1MB/s eta 0:00:01\r\u001b[K     |████▋                           | 307kB 24.1MB/s eta 0:00:01\r\u001b[K     |████▊                           | 317kB 24.1MB/s eta 0:00:01\r\u001b[K     |████▉                           | 327kB 24.1MB/s eta 0:00:01\r\u001b[K     |█████                           | 337kB 24.1MB/s eta 0:00:01\r\u001b[K     |█████▏                          | 348kB 24.1MB/s eta 0:00:01\r\u001b[K     |█████▍                          | 358kB 24.1MB/s eta 0:00:01\r\u001b[K     |█████▌                          | 368kB 24.1MB/s eta 0:00:01\r\u001b[K     |█████▋                          | 378kB 24.1MB/s eta 0:00:01\r\u001b[K     |█████▉                          | 389kB 24.1MB/s eta 0:00:01\r\u001b[K     |██████                          | 399kB 24.1MB/s eta 0:00:01\r\u001b[K     |██████                          | 409kB 24.1MB/s eta 0:00:01\r\u001b[K     |██████▎                         | 419kB 24.1MB/s eta 0:00:01\r\u001b[K     |██████▍                         | 430kB 24.1MB/s eta 0:00:01\r\u001b[K     |██████▋                         | 440kB 24.1MB/s eta 0:00:01\r\u001b[K     |██████▊                         | 450kB 24.1MB/s eta 0:00:01\r\u001b[K     |██████▉                         | 460kB 24.1MB/s eta 0:00:01\r\u001b[K     |███████                         | 471kB 24.1MB/s eta 0:00:01\r\u001b[K     |███████▏                        | 481kB 24.1MB/s eta 0:00:01\r\u001b[K     |███████▎                        | 491kB 24.1MB/s eta 0:00:01\r\u001b[K     |███████▌                        | 501kB 24.1MB/s eta 0:00:01\r\u001b[K     |███████▋                        | 512kB 24.1MB/s eta 0:00:01\r\u001b[K     |███████▉                        | 522kB 24.1MB/s eta 0:00:01\r\u001b[K     |████████                        | 532kB 24.1MB/s eta 0:00:01\r\u001b[K     |████████                        | 542kB 24.1MB/s eta 0:00:01\r\u001b[K     |████████▎                       | 552kB 24.1MB/s eta 0:00:01\r\u001b[K     |████████▍                       | 563kB 24.1MB/s eta 0:00:01\r\u001b[K     |████████▌                       | 573kB 24.1MB/s eta 0:00:01\r\u001b[K     |████████▊                       | 583kB 24.1MB/s eta 0:00:01\r\u001b[K     |████████▉                       | 593kB 24.1MB/s eta 0:00:01\r\u001b[K     |█████████                       | 604kB 24.1MB/s eta 0:00:01\r\u001b[K     |█████████▏                      | 614kB 24.1MB/s eta 0:00:01\r\u001b[K     |█████████▎                      | 624kB 24.1MB/s eta 0:00:01\r\u001b[K     |█████████▌                      | 634kB 24.1MB/s eta 0:00:01\r\u001b[K     |█████████▋                      | 645kB 24.1MB/s eta 0:00:01\r\u001b[K     |█████████▊                      | 655kB 24.1MB/s eta 0:00:01\r\u001b[K     |██████████                      | 665kB 24.1MB/s eta 0:00:01\r\u001b[K     |██████████                      | 675kB 24.1MB/s eta 0:00:01\r\u001b[K     |██████████▎                     | 686kB 24.1MB/s eta 0:00:01\r\u001b[K     |██████████▍                     | 696kB 24.1MB/s eta 0:00:01\r\u001b[K     |██████████▌                     | 706kB 24.1MB/s eta 0:00:01\r\u001b[K     |██████████▊                     | 716kB 24.1MB/s eta 0:00:01\r\u001b[K     |██████████▉                     | 727kB 24.1MB/s eta 0:00:01\r\u001b[K     |███████████                     | 737kB 24.1MB/s eta 0:00:01\r\u001b[K     |███████████▏                    | 747kB 24.1MB/s eta 0:00:01\r\u001b[K     |███████████▎                    | 757kB 24.1MB/s eta 0:00:01\r\u001b[K     |███████████▌                    | 768kB 24.1MB/s eta 0:00:01\r\u001b[K     |███████████▋                    | 778kB 24.1MB/s eta 0:00:01\r\u001b[K     |███████████▊                    | 788kB 24.1MB/s eta 0:00:01\r\u001b[K     |████████████                    | 798kB 24.1MB/s eta 0:00:01\r\u001b[K     |████████████                    | 808kB 24.1MB/s eta 0:00:01\r\u001b[K     |████████████▏                   | 819kB 24.1MB/s eta 0:00:01\r\u001b[K     |████████████▍                   | 829kB 24.1MB/s eta 0:00:01\r\u001b[K     |████████████▌                   | 839kB 24.1MB/s eta 0:00:01\r\u001b[K     |████████████▊                   | 849kB 24.1MB/s eta 0:00:01\r\u001b[K     |████████████▉                   | 860kB 24.1MB/s eta 0:00:01\r\u001b[K     |█████████████                   | 870kB 24.1MB/s eta 0:00:01\r\u001b[K     |█████████████▏                  | 880kB 24.1MB/s eta 0:00:01\r\u001b[K     |█████████████▎                  | 890kB 24.1MB/s eta 0:00:01\r\u001b[K     |█████████████▍                  | 901kB 24.1MB/s eta 0:00:01\r\u001b[K     |█████████████▋                  | 911kB 24.1MB/s eta 0:00:01\r\u001b[K     |█████████████▊                  | 921kB 24.1MB/s eta 0:00:01\r\u001b[K     |██████████████                  | 931kB 24.1MB/s eta 0:00:01\r\u001b[K     |██████████████                  | 942kB 24.1MB/s eta 0:00:01\r\u001b[K     |██████████████▏                 | 952kB 24.1MB/s eta 0:00:01\r\u001b[K     |██████████████▍                 | 962kB 24.1MB/s eta 0:00:01\r\u001b[K     |██████████████▌                 | 972kB 24.1MB/s eta 0:00:01\r\u001b[K     |██████████████▋                 | 983kB 24.1MB/s eta 0:00:01\r\u001b[K     |██████████████▉                 | 993kB 24.1MB/s eta 0:00:01\r\u001b[K     |███████████████                 | 1.0MB 24.1MB/s eta 0:00:01\r\u001b[K     |███████████████▏                | 1.0MB 24.1MB/s eta 0:00:01\r\u001b[K     |███████████████▎                | 1.0MB 24.1MB/s eta 0:00:01\r\u001b[K     |███████████████▍                | 1.0MB 24.1MB/s eta 0:00:01\r\u001b[K     |███████████████▋                | 1.0MB 24.1MB/s eta 0:00:01\r\u001b[K     |███████████████▊                | 1.1MB 24.1MB/s eta 0:00:01\r\u001b[K     |███████████████▉                | 1.1MB 24.1MB/s eta 0:00:01\r\u001b[K     |████████████████                | 1.1MB 24.1MB/s eta 0:00:01\r\u001b[K     |████████████████▏               | 1.1MB 24.1MB/s eta 0:00:01\r\u001b[K     |████████████████▍               | 1.1MB 24.1MB/s eta 0:00:01\r\u001b[K     |████████████████▌               | 1.1MB 24.1MB/s eta 0:00:01\r\u001b[K     |████████████████▋               | 1.1MB 24.1MB/s eta 0:00:01\r\u001b[K     |████████████████▉               | 1.1MB 24.1MB/s eta 0:00:01\r\u001b[K     |█████████████████               | 1.1MB 24.1MB/s eta 0:00:01\r\u001b[K     |█████████████████               | 1.1MB 24.1MB/s eta 0:00:01\r\u001b[K     |█████████████████▎              | 1.2MB 24.1MB/s eta 0:00:01\r\u001b[K     |█████████████████▍              | 1.2MB 24.1MB/s eta 0:00:01\r\u001b[K     |█████████████████▌              | 1.2MB 24.1MB/s eta 0:00:01\r\u001b[K     |█████████████████▊              | 1.2MB 24.1MB/s eta 0:00:01\r\u001b[K     |█████████████████▉              | 1.2MB 24.1MB/s eta 0:00:01\r\u001b[K     |██████████████████              | 1.2MB 24.1MB/s eta 0:00:01\r\u001b[K     |██████████████████▏             | 1.2MB 24.1MB/s eta 0:00:01\r\u001b[K     |██████████████████▎             | 1.2MB 24.1MB/s eta 0:00:01\r\u001b[K     |██████████████████▌             | 1.2MB 24.1MB/s eta 0:00:01\r\u001b[K     |██████████████████▋             | 1.2MB 24.1MB/s eta 0:00:01\r\u001b[K     |██████████████████▊             | 1.3MB 24.1MB/s eta 0:00:01\r\u001b[K     |███████████████████             | 1.3MB 24.1MB/s eta 0:00:01\r\u001b[K     |███████████████████             | 1.3MB 24.1MB/s eta 0:00:01\r\u001b[K     |███████████████████▎            | 1.3MB 24.1MB/s eta 0:00:01\r\u001b[K     |███████████████████▍            | 1.3MB 24.1MB/s eta 0:00:01\r\u001b[K     |███████████████████▌            | 1.3MB 24.1MB/s eta 0:00:01\r\u001b[K     |███████████████████▊            | 1.3MB 24.1MB/s eta 0:00:01\r\u001b[K     |███████████████████▉            | 1.3MB 24.1MB/s eta 0:00:01\r\u001b[K     |████████████████████            | 1.3MB 24.1MB/s eta 0:00:01\r\u001b[K     |████████████████████▏           | 1.4MB 24.1MB/s eta 0:00:01\r\u001b[K     |████████████████████▎           | 1.4MB 24.1MB/s eta 0:00:01\r\u001b[K     |████████████████████▌           | 1.4MB 24.1MB/s eta 0:00:01\r\u001b[K     |████████████████████▋           | 1.4MB 24.1MB/s eta 0:00:01\r\u001b[K     |████████████████████▊           | 1.4MB 24.1MB/s eta 0:00:01\r\u001b[K     |█████████████████████           | 1.4MB 24.1MB/s eta 0:00:01\r\u001b[K     |█████████████████████           | 1.4MB 24.1MB/s eta 0:00:01\r\u001b[K     |█████████████████████▏          | 1.4MB 24.1MB/s eta 0:00:01\r\u001b[K     |█████████████████████▍          | 1.4MB 24.1MB/s eta 0:00:01\r\u001b[K     |█████████████████████▌          | 1.4MB 24.1MB/s eta 0:00:01\r\u001b[K     |█████████████████████▊          | 1.5MB 24.1MB/s eta 0:00:01\r\u001b[K     |█████████████████████▉          | 1.5MB 24.1MB/s eta 0:00:01\r\u001b[K     |██████████████████████          | 1.5MB 24.1MB/s eta 0:00:01\r\u001b[K     |██████████████████████▏         | 1.5MB 24.1MB/s eta 0:00:01\r\u001b[K     |██████████████████████▎         | 1.5MB 24.1MB/s eta 0:00:01\r\u001b[K     |██████████████████████▍         | 1.5MB 24.1MB/s eta 0:00:01\r\u001b[K     |██████████████████████▋         | 1.5MB 24.1MB/s eta 0:00:01\r\u001b[K     |██████████████████████▊         | 1.5MB 24.1MB/s eta 0:00:01\r\u001b[K     |███████████████████████         | 1.5MB 24.1MB/s eta 0:00:01\r\u001b[K     |███████████████████████         | 1.5MB 24.1MB/s eta 0:00:01\r\u001b[K     |███████████████████████▏        | 1.6MB 24.1MB/s eta 0:00:01\r\u001b[K     |███████████████████████▍        | 1.6MB 24.1MB/s eta 0:00:01\r\u001b[K     |███████████████████████▌        | 1.6MB 24.1MB/s eta 0:00:01\r\u001b[K     |███████████████████████▋        | 1.6MB 24.1MB/s eta 0:00:01\r\u001b[K     |███████████████████████▉        | 1.6MB 24.1MB/s eta 0:00:01\r\u001b[K     |████████████████████████        | 1.6MB 24.1MB/s eta 0:00:01\r\u001b[K     |████████████████████████▏       | 1.6MB 24.1MB/s eta 0:00:01\r\u001b[K     |████████████████████████▎       | 1.6MB 24.1MB/s eta 0:00:01\r\u001b[K     |████████████████████████▍       | 1.6MB 24.1MB/s eta 0:00:01\r\u001b[K     |████████████████████████▋       | 1.6MB 24.1MB/s eta 0:00:01\r\u001b[K     |████████████████████████▊       | 1.7MB 24.1MB/s eta 0:00:01\r\u001b[K     |████████████████████████▉       | 1.7MB 24.1MB/s eta 0:00:01\r\u001b[K     |█████████████████████████       | 1.7MB 24.1MB/s eta 0:00:01\r\u001b[K     |█████████████████████████▏      | 1.7MB 24.1MB/s eta 0:00:01\r\u001b[K     |█████████████████████████▍      | 1.7MB 24.1MB/s eta 0:00:01\r\u001b[K     |█████████████████████████▌      | 1.7MB 24.1MB/s eta 0:00:01\r\u001b[K     |█████████████████████████▋      | 1.7MB 24.1MB/s eta 0:00:01\r\u001b[K     |█████████████████████████▉      | 1.7MB 24.1MB/s eta 0:00:01\r\u001b[K     |██████████████████████████      | 1.7MB 24.1MB/s eta 0:00:01\r\u001b[K     |██████████████████████████      | 1.8MB 24.1MB/s eta 0:00:01\r\u001b[K     |██████████████████████████▎     | 1.8MB 24.1MB/s eta 0:00:01\r\u001b[K     |██████████████████████████▍     | 1.8MB 24.1MB/s eta 0:00:01\r\u001b[K     |██████████████████████████▋     | 1.8MB 24.1MB/s eta 0:00:01\r\u001b[K     |██████████████████████████▊     | 1.8MB 24.1MB/s eta 0:00:01\r\u001b[K     |██████████████████████████▉     | 1.8MB 24.1MB/s eta 0:00:01\r\u001b[K     |███████████████████████████     | 1.8MB 24.1MB/s eta 0:00:01\r\u001b[K     |███████████████████████████▏    | 1.8MB 24.1MB/s eta 0:00:01\r\u001b[K     |███████████████████████████▎    | 1.8MB 24.1MB/s eta 0:00:01\r\u001b[K     |███████████████████████████▌    | 1.8MB 24.1MB/s eta 0:00:01\r\u001b[K     |███████████████████████████▋    | 1.9MB 24.1MB/s eta 0:00:01\r\u001b[K     |███████████████████████████▉    | 1.9MB 24.1MB/s eta 0:00:01\r\u001b[K     |████████████████████████████    | 1.9MB 24.1MB/s eta 0:00:01\r\u001b[K     |████████████████████████████    | 1.9MB 24.1MB/s eta 0:00:01\r\u001b[K     |████████████████████████████▎   | 1.9MB 24.1MB/s eta 0:00:01\r\u001b[K     |████████████████████████████▍   | 1.9MB 24.1MB/s eta 0:00:01\r\u001b[K     |████████████████████████████▌   | 1.9MB 24.1MB/s eta 0:00:01\r\u001b[K     |████████████████████████████▊   | 1.9MB 24.1MB/s eta 0:00:01\r\u001b[K     |████████████████████████████▉   | 1.9MB 24.1MB/s eta 0:00:01\r\u001b[K     |█████████████████████████████   | 1.9MB 24.1MB/s eta 0:00:01\r\u001b[K     |█████████████████████████████▏  | 2.0MB 24.1MB/s eta 0:00:01\r\u001b[K     |█████████████████████████████▎  | 2.0MB 24.1MB/s eta 0:00:01\r\u001b[K     |█████████████████████████████▌  | 2.0MB 24.1MB/s eta 0:00:01\r\u001b[K     |█████████████████████████████▋  | 2.0MB 24.1MB/s eta 0:00:01\r\u001b[K     |█████████████████████████████▊  | 2.0MB 24.1MB/s eta 0:00:01\r\u001b[K     |██████████████████████████████  | 2.0MB 24.1MB/s eta 0:00:01\r\u001b[K     |██████████████████████████████  | 2.0MB 24.1MB/s eta 0:00:01\r\u001b[K     |██████████████████████████████▎ | 2.0MB 24.1MB/s eta 0:00:01\r\u001b[K     |██████████████████████████████▍ | 2.0MB 24.1MB/s eta 0:00:01\r\u001b[K     |██████████████████████████████▌ | 2.0MB 24.1MB/s eta 0:00:01\r\u001b[K     |██████████████████████████████▊ | 2.1MB 24.1MB/s eta 0:00:01\r\u001b[K     |██████████████████████████████▉ | 2.1MB 24.1MB/s eta 0:00:01\r\u001b[K     |███████████████████████████████ | 2.1MB 24.1MB/s eta 0:00:01\r\u001b[K     |███████████████████████████████▏| 2.1MB 24.1MB/s eta 0:00:01\r\u001b[K     |███████████████████████████████▎| 2.1MB 24.1MB/s eta 0:00:01\r\u001b[K     |███████████████████████████████▌| 2.1MB 24.1MB/s eta 0:00:01\r\u001b[K     |███████████████████████████████▋| 2.1MB 24.1MB/s eta 0:00:01\r\u001b[K     |███████████████████████████████▊| 2.1MB 24.1MB/s eta 0:00:01\r\u001b[K     |████████████████████████████████| 2.1MB 24.1MB/s eta 0:00:01\r\u001b[K     |████████████████████████████████| 2.2MB 24.1MB/s \n",
            "\u001b[?25hRequirement already satisfied: numpy>=1.17 in /usr/local/lib/python3.7/dist-packages (from transformers==4.5.0) (1.19.5)\n",
            "Requirement already satisfied: filelock in /usr/local/lib/python3.7/dist-packages (from transformers==4.5.0) (3.0.12)\n",
            "Collecting tokenizers<0.11,>=0.10.1\n",
            "\u001b[?25l  Downloading https://files.pythonhosted.org/packages/d4/e2/df3543e8ffdab68f5acc73f613de9c2b155ac47f162e725dcac87c521c11/tokenizers-0.10.3-cp37-cp37m-manylinux_2_5_x86_64.manylinux1_x86_64.manylinux_2_12_x86_64.manylinux2010_x86_64.whl (3.3MB)\n",
            "\u001b[K     |████████████████████████████████| 3.3MB 47.2MB/s \n",
            "\u001b[?25hRequirement already satisfied: tqdm>=4.27 in /usr/local/lib/python3.7/dist-packages (from transformers==4.5.0) (4.41.1)\n",
            "Requirement already satisfied: regex!=2019.12.17 in /usr/local/lib/python3.7/dist-packages (from transformers==4.5.0) (2019.12.20)\n",
            "Requirement already satisfied: packaging in /usr/local/lib/python3.7/dist-packages (from transformers==4.5.0) (20.9)\n",
            "Requirement already satisfied: importlib-metadata; python_version < \"3.8\" in /usr/local/lib/python3.7/dist-packages (from transformers==4.5.0) (4.5.0)\n",
            "Requirement already satisfied: requests in /usr/local/lib/python3.7/dist-packages (from transformers==4.5.0) (2.23.0)\n",
            "Collecting sacremoses\n",
            "\u001b[?25l  Downloading https://files.pythonhosted.org/packages/75/ee/67241dc87f266093c533a2d4d3d69438e57d7a90abb216fa076e7d475d4a/sacremoses-0.0.45-py3-none-any.whl (895kB)\n",
            "\u001b[K     |████████████████████████████████| 901kB 41.0MB/s \n",
            "\u001b[?25hRequirement already satisfied: pyparsing>=2.0.2 in /usr/local/lib/python3.7/dist-packages (from packaging->transformers==4.5.0) (2.4.7)\n",
            "Requirement already satisfied: zipp>=0.5 in /usr/local/lib/python3.7/dist-packages (from importlib-metadata; python_version < \"3.8\"->transformers==4.5.0) (3.4.1)\n",
            "Requirement already satisfied: typing-extensions>=3.6.4; python_version < \"3.8\" in /usr/local/lib/python3.7/dist-packages (from importlib-metadata; python_version < \"3.8\"->transformers==4.5.0) (3.7.4.3)\n",
            "Requirement already satisfied: chardet<4,>=3.0.2 in /usr/local/lib/python3.7/dist-packages (from requests->transformers==4.5.0) (3.0.4)\n",
            "Requirement already satisfied: urllib3!=1.25.0,!=1.25.1,<1.26,>=1.21.1 in /usr/local/lib/python3.7/dist-packages (from requests->transformers==4.5.0) (1.24.3)\n",
            "Requirement already satisfied: idna<3,>=2.5 in /usr/local/lib/python3.7/dist-packages (from requests->transformers==4.5.0) (2.10)\n",
            "Requirement already satisfied: certifi>=2017.4.17 in /usr/local/lib/python3.7/dist-packages (from requests->transformers==4.5.0) (2021.5.30)\n",
            "Requirement already satisfied: click in /usr/local/lib/python3.7/dist-packages (from sacremoses->transformers==4.5.0) (7.1.2)\n",
            "Requirement already satisfied: six in /usr/local/lib/python3.7/dist-packages (from sacremoses->transformers==4.5.0) (1.15.0)\n",
            "Requirement already satisfied: joblib in /usr/local/lib/python3.7/dist-packages (from sacremoses->transformers==4.5.0) (1.0.1)\n",
            "Installing collected packages: tokenizers, sacremoses, transformers\n",
            "Successfully installed sacremoses-0.0.45 tokenizers-0.10.3 transformers-4.5.0\n",
            "Collecting PyDictionary\n",
            "  Downloading https://files.pythonhosted.org/packages/d5/0b/575893d32fd0484f3d05a0d754fd35226fee7257b433576484cd7455e429/PyDictionary-2.0.1-py3-none-any.whl\n",
            "Collecting goslate\n",
            "  Downloading https://files.pythonhosted.org/packages/39/0b/50af938a1c3d4f4c595b6a22d37af11ebe666246b05a1a97573e8c8944e5/goslate-1.5.1.tar.gz\n",
            "Requirement already satisfied: bs4 in /usr/local/lib/python3.7/dist-packages (from PyDictionary) (0.0.1)\n",
            "Requirement already satisfied: requests in /usr/local/lib/python3.7/dist-packages (from PyDictionary) (2.23.0)\n",
            "Requirement already satisfied: click in /usr/local/lib/python3.7/dist-packages (from PyDictionary) (7.1.2)\n",
            "Collecting futures\n",
            "  Downloading https://files.pythonhosted.org/packages/05/80/f41cca0ea1ff69bce7e7a7d76182b47bb4e1a494380a532af3e8ee70b9ec/futures-3.1.1-py3-none-any.whl\n",
            "Requirement already satisfied: beautifulsoup4 in /usr/local/lib/python3.7/dist-packages (from bs4->PyDictionary) (4.6.3)\n",
            "Requirement already satisfied: idna<3,>=2.5 in /usr/local/lib/python3.7/dist-packages (from requests->PyDictionary) (2.10)\n",
            "Requirement already satisfied: urllib3!=1.25.0,!=1.25.1,<1.26,>=1.21.1 in /usr/local/lib/python3.7/dist-packages (from requests->PyDictionary) (1.24.3)\n",
            "Requirement already satisfied: chardet<4,>=3.0.2 in /usr/local/lib/python3.7/dist-packages (from requests->PyDictionary) (3.0.4)\n",
            "Requirement already satisfied: certifi>=2017.4.17 in /usr/local/lib/python3.7/dist-packages (from requests->PyDictionary) (2021.5.30)\n",
            "Building wheels for collected packages: goslate\n",
            "  Building wheel for goslate (setup.py) ... \u001b[?25l\u001b[?25hdone\n",
            "  Created wheel for goslate: filename=goslate-1.5.1-cp37-none-any.whl size=11412 sha256=2352a20b907e51743ba2d729e399e78904e4ffebcc29345cb7e0890fb43f794f\n",
            "  Stored in directory: /root/.cache/pip/wheels/4f/7f/28/6f52271012a7649b54b1a7adaae329b4246bbbf9d1e4f6e51a\n",
            "Successfully built goslate\n",
            "Installing collected packages: futures, goslate, PyDictionary\n",
            "Successfully installed PyDictionary-2.0.1 futures-3.1.1 goslate-1.5.1\n"
          ],
          "name": "stdout"
        }
      ]
    },
    {
      "cell_type": "code",
      "metadata": {
        "colab": {
          "base_uri": "https://localhost:8080/"
        },
        "id": "ennv2fTgFgn5",
        "outputId": "8513586e-9296-4eef-c9ed-1047f68d662e"
      },
      "source": [
        "!git clone https://github.com/Masum06/Text2App.git"
      ],
      "execution_count": 2,
      "outputs": [
        {
          "output_type": "stream",
          "text": [
            "Cloning into 'Text2App'...\n",
            "remote: Enumerating objects: 517, done.\u001b[K\n",
            "remote: Counting objects: 100% (120/120), done.\u001b[K\n",
            "remote: Compressing objects: 100% (95/95), done.\u001b[K\n",
            "remote: Total 517 (delta 73), reused 48 (delta 24), pack-reused 397\u001b[K\n",
            "Receiving objects: 100% (517/517), 233.20 MiB | 41.62 MiB/s, done.\n",
            "Resolving deltas: 100% (155/155), done.\n"
          ],
          "name": "stdout"
        }
      ]
    },
    {
      "cell_type": "code",
      "metadata": {
        "colab": {
          "base_uri": "https://localhost:8080/"
        },
        "id": "k_C6yKgxFiXC",
        "outputId": "da610da1-e7f3-4bf7-8062-5832e82d9e6f"
      },
      "source": [
        "cd Text2App"
      ],
      "execution_count": 3,
      "outputs": [
        {
          "output_type": "stream",
          "text": [
            "/content/Text2App\n"
          ],
          "name": "stdout"
        }
      ]
    },
    {
      "cell_type": "markdown",
      "metadata": {
        "id": "J1wETIWYVvO6"
      },
      "source": [
        "# Helper functions"
      ]
    },
    {
      "cell_type": "code",
      "metadata": {
        "id": "wAkfYLTeQPdj",
        "colab": {
          "base_uri": "https://localhost:8080/"
        },
        "outputId": "32f0ff4a-0e63-439e-a60b-f7c06b0f8858"
      },
      "source": [
        "import random\n",
        "import string\n",
        "from PyDictionary import PyDictionary\n",
        "from datetime import datetime\n",
        "\n",
        "random.seed(datetime.now())\n",
        "dictionary=PyDictionary()\n",
        "\n",
        "all_vis_components = ['button', 'switch', 'accelerometer', 'ball', 'text2speech', 'player',\n",
        "                      'video_player', 'textbox', 'passwordtextbox', 'timepicker', 'datepicker',\n",
        "                      'camera']\n",
        "colors = [\"red\", \"green\", \"black\", \"cyan\", \"pink\", \n",
        "          \"magenta\", \"blue\", \"light_gray\", \"orange\", \n",
        "          \"yellow\", \"dark_gray\", \"gray\"]\n",
        "\n",
        "print(all_vis_components)"
      ],
      "execution_count": 4,
      "outputs": [
        {
          "output_type": "stream",
          "text": [
            "['button', 'switch', 'accelerometer', 'ball', 'text2speech', 'player', 'video_player', 'textbox', 'passwordtextbox', 'timepicker', 'datepicker', 'camera']\n"
          ],
          "name": "stdout"
        }
      ]
    },
    {
      "cell_type": "code",
      "metadata": {
        "id": "9yGhxJMhVp3F"
      },
      "source": [
        "string_num = -1\n",
        "int_num = -1\n",
        "float_num = -1\n",
        "\n",
        "def getStr():\n",
        "  global string_num \n",
        "  string_num += 1\n",
        "  return \"string\"+str(string_num)\n",
        "\n",
        "def getNum():\n",
        "  global int_num \n",
        "  int_num += 1\n",
        "  return \"number\"+str(int_num)\n",
        "\n",
        "def getColor():\n",
        "  global colors\n",
        "  return random.choice(colors)\n",
        "\n",
        "def getSyn(word):\n",
        "  syns = dictionary.synonym(word)\n",
        "  if syns:\n",
        "    return random.choice([word] + syns)\n",
        "  else:\n",
        "    return word\n",
        "\n",
        "def getArticle(word):\n",
        "  if word[0] in 'aeiou':\n",
        "    return \"an\"\n",
        "  else:\n",
        "    return \"a\" "
      ],
      "execution_count": 5,
      "outputs": []
    },
    {
      "cell_type": "markdown",
      "metadata": {
        "id": "6H5Bifl28gKt"
      },
      "source": [
        "# Constants"
      ]
    },
    {
      "cell_type": "code",
      "metadata": {
        "id": "ktP95rabmPe-"
      },
      "source": [
        "ValueComponents = {\n",
        "    \"textbox\": {\"nl\": [\"the textbox text\", \"the text in the textbox\", \"the text in the box\", \"the textbox content\", \"the text\"], \"sar\": \"textboxtext\"},\n",
        "    \"passwordtextbox\": {\"nl\": [\"\"], \"sar\": \"passwordboxtext\"},\n",
        "    \"timepicker\": {\"nl\": [\"the time\", \"time\", \"what time it is\", \"what is the time\"], \"sar\": \"time\"}, \n",
        "    # \"datepicker\": {\"nl\": [\"the date and time\", \"date and time\", \"date\", \"the date\", \"what is the date\"], \"sar\": \"date\"}\n",
        "    }"
      ],
      "execution_count": 6,
      "outputs": []
    },
    {
      "cell_type": "code",
      "metadata": {
        "id": "9wYVc98Fk_qa"
      },
      "source": [
        "events = {\n",
        "    \"button\": {\"clicked\": [\"clicked\", \"pressed\", \"touched\"]},\n",
        "    \"switch\": {\"flipped\": [\"fliped\", \"clicked\", \"pressed\", \"touched\"]},\n",
        "    \"accelerometer\": {\"shaken\": [\"shaken\", \"vibrated\"]},\n",
        "    \"ball\": {\"flung\": [\"flung\", \"thrown\", \"hit\"], \"reach_edge\": [\"reaches edge\", \"touches edge\", \"cornered\"]}\n",
        "} "
      ],
      "execution_count": 7,
      "outputs": []
    },
    {
      "cell_type": "code",
      "metadata": {
        "id": "ydquRNWClYSH"
      },
      "source": [
        "actions = {\n",
        "    \"player\": {\n",
        "        \"start\": [\"play the music\", \"play the sound\", \"play\", \"start the player\", \"start the music\", \"initiate player\"], \n",
        "        \"stop\": [\"stop the music\", \"stop sound\", \"stop the sound\", \"stop\"]\n",
        "        },\n",
        "    \"video_player\": {\n",
        "        \"start\": [\"play the video\", \"play the clip\", \"play\", \"start the video player\", \"start the video\", \"initiate video\"], \n",
        "        \"stop\": [\"stop the video\", \"stop video\", \"stop the clip\", \"stop\"]\n",
        "        },\n",
        "    \"text2speech\": [\"speak\"],\n",
        "    \"ball\": [\"radius\", \"speed\", \"header\", \"motion\", \"bounce\"],\n",
        "    \"camera\": [\"take a picture\", \"take picture\", \"click\", \"capture\", \"take a photo\", \"click a photo\", \"capture a photo\",\n",
        "               \"open camera\", \"initiate camera\", \"open the camera\", \"open camera and take a picture\", \"open camera and take a photo\"\n",
        "               \"open the camera and click\"]\n",
        "}"
      ],
      "execution_count": 8,
      "outputs": []
    },
    {
      "cell_type": "code",
      "metadata": {
        "id": "OPhoDsPwygK8"
      },
      "source": [
        "arguments = [\"textbox\", \"passwordtext\", 'time'] #date"
      ],
      "execution_count": 9,
      "outputs": []
    },
    {
      "cell_type": "code",
      "metadata": {
        "id": "sW4xrrtV4EIC"
      },
      "source": [
        "numbers = [[\"\", \"first\", \"1st\", \"earlier\", \"initial\"] , [\"second\", \"2nd\", \"next\", \"later\", \"following\", \"the other\", \"the later\"], \n",
        "           [\"third\", \"3rd\"], [\"fourth\", \"4th\"], [\"fifth\", \"5th\"], [\"sixth\", \"6th\"]]"
      ],
      "execution_count": 11,
      "outputs": []
    },
    {
      "cell_type": "code",
      "metadata": {
        "id": "eNRMzfsfjBlR"
      },
      "source": [
        "vis_components = ['textbox', 'button', 'text2speech', 'ball', 'accelerometer', 'video_player', \n",
        "                  'switch', 'player', 'label', 'timepicker', 'passwordtextbox', 'camera'] #, 'datepicker', \n",
        "non_repeat_vis_components = ['accelerometer', 'ball', 'text2speech', 'camera']\n",
        "repeat_vis_components = list(set(vis_components) - set(non_repeat_vis_components))\n",
        "components_with_text = ['button', 'switch', 'label'] \n",
        "comp_with_src = ['video_player', 'player']\n",
        "invisible_components = ['text2speech', 'accelerometer', 'ball']\n",
        "end_with_es = ['text2speech', 'textbox']\n",
        "canvas_components = ['ball']\n",
        "\n",
        "event_components = [\"button\", \"switch\", \"accelerometer\", \"ball\"]\n",
        "action_components = [\"player\", \"video_player\", \"text2speech\", \"ball\", \"label\", \"camera\"]\n",
        "value_components = [\"textbox\", \"timepicker\"] # \"passwordtextbox\", \"datepicker\",\n",
        "rand_source = {\"video_player\": [\"video\", \"clip\"], \"player\": [\"audio\", \"music\", \"sound\"]}\n",
        "\n",
        "component_alias = {\"textbox\": [\"textbox\", \"text box\"], \"button\": [\"button\"], \"ball\": [\"ball\", \"circle\"], \n",
        "                   \"text2speech\": [\"text2speech\", \"text to speech\", \"speech\"], \n",
        "                   \"accelerometer\": [\"accelerometer\", \"motion sensor\", \"vibration sensor\", \"movement sensor\", \"shake sensor\"], \n",
        "                  #  \"datepicker\": [\"datepicker\", \"date picker\"], \n",
        "                   \"timepicker\": [\"timepicker\", \"time picker\", \"time selector\"], \n",
        "                   \"switch\": [\"switch\"], \"player\": [\"music player\", \"player\", \"audio player\", \"music\", \"audio\"], \n",
        "                   \"video_player\": [\"video player\", \"video\"], \"label\": [\"label\"],\n",
        "                   \"passwordtextbox\": [\"password box\", \"pasword text box\", \"password field\", \"passwordbox\", \"passwordtextbox\"],\n",
        "                   \"camera\": [\"camera\"]\n",
        "                   }\n",
        "\n",
        "MAX_NUMBER_OF_COMPONENT = 12\n",
        "SAME_COMPONENT_LIMIT = 5"
      ],
      "execution_count": 12,
      "outputs": []
    },
    {
      "cell_type": "markdown",
      "metadata": {
        "id": "yCTHvrvVL8i7"
      },
      "source": [
        "# Classes"
      ]
    },
    {
      "cell_type": "code",
      "metadata": {
        "id": "yzJ1oyT30S71"
      },
      "source": [
        "class EventComponent:\n",
        "  component = \"\"\n",
        "  event = \"\"\n",
        "  nl = []\n",
        "  number = 0\n",
        "  event_comp_count = 1\n",
        "\n",
        "  def __init__(self, component=\"\", number=1, event_comp_count=1):\n",
        "    self.component = component\n",
        "    self.event = random.choice(list(events[self.component].keys())) # random.choice(events[self.component][\"event\"]) \n",
        "    self.number = number\n",
        "    self.event_comp_count = event_comp_count\n",
        "\n",
        "  def getNL(self):\n",
        "    if self.component in non_repeat_vis_components or self.event_comp_count==1:\n",
        "      num = \"\"\n",
        "    else:\n",
        "      num = random.choice(numbers[self.number-1])+\" \"\n",
        "    \n",
        "    event_choice = random.choice(list(events[self.component].keys()))\n",
        "    comp_nl = random.choice(events[self.component][event_choice])\n",
        "    new_nl = random.choice([\"when\", \"if\"])+\" the \"+ num + random.choice(component_alias[self.component]) +\" is \"+ comp_nl + \", \"\n",
        "    return new_nl"
      ],
      "execution_count": 13,
      "outputs": []
    },
    {
      "cell_type": "code",
      "metadata": {
        "id": "s6SSkWQ0QoDk"
      },
      "source": [
        "class ActionComponent:\n",
        "  component = \"\"\n",
        "  number = 0\n",
        "  action_comp_count = 1\n",
        "  # arguments = []\n",
        "  val_comps = []\n",
        "  arg = \"\"\n",
        "  nl = \"\"\n",
        "\n",
        "  def __init__(self, component, number=1, val_comps=[], action_comp_count=1):\n",
        "    self.component = component\n",
        "    self.number = number\n",
        "    self.actions = actions\n",
        "    self.val_comps = val_comps\n",
        "    self.arg = self.getArg()\n",
        "    self.action_comp_count = action_comp_count\n",
        "\n",
        "  def getNL(self):\n",
        "    # new_nl = random.choice([\"set\", \"make\"]) + \" \" + random.choice(self.actions) + \" \"\n",
        "    return self.nl\n",
        "\n",
        "  def getPlayerArg(self):\n",
        "    arg = random.choice([\"start\", \"stop\"])\n",
        "    nl_arg = arg\n",
        "    alter = random.choice([0,1])\n",
        "    if alter:\n",
        "      if arg == \"start\":\n",
        "        nl_arg = \"play\"\n",
        "      else:\n",
        "        nl_arg = \"pause\"\n",
        "\n",
        "    self.nl = nl_arg + random.choice([\" the <num> player\", \" the music <num> player\", \" the music\", \" music\", \" player\", \" audio\"])\n",
        "    if self.action_comp_count > 1:\n",
        "      self.nl = self.nl.replace(\"<num>\", random.choice(numbers[self.number-1]))\n",
        "    else:\n",
        "      self.nl = self.nl.replace(\"<num> \", \"\")\n",
        "    return \"<\"+arg+\">\"\n",
        "  \n",
        "  def getVideoPlayerArg(self):\n",
        "    arg = random.choice([\"start\", \"stop\"])\n",
        "    nl_arg = arg\n",
        "    alter = random.choice([0,1])\n",
        "    if alter:\n",
        "      if arg == \"start\":\n",
        "        nl_arg = \"play\"\n",
        "      else:\n",
        "        nl_arg = \"pause\"\n",
        "\n",
        "    self.nl = nl_arg + random.choice([\" the <num> video player\", \" the <num> video\", \" the <num> clip\", \" <num> video\", \\\n",
        "                                      \" <num> video player\", \" video\", \" video player\"])\n",
        "    if self.action_comp_count > 1:\n",
        "      self.nl = self.nl.replace(\"<num>\", random.choice(numbers[self.number-1]))\n",
        "    else:\n",
        "      self.nl = self.nl.replace(\"<num> \", \"\")\n",
        "    return \"<\"+arg+\">\"\n",
        "\n",
        "  def getT2SArg(self):\n",
        "    use_val_comp = random.choice([0,1,1,1]) # 75% chance of choosing value component\n",
        "    if len(self.val_comps)>0 and use_val_comp:\n",
        "      val_name = random.choice(self.val_comps)\n",
        "      self.val_comps.remove(val_name)\n",
        "      val = val_name[:-1] # Number of value component cannot be more than 9 (a single digit)\n",
        "      self.nl = random.choice([\"say \", \"speak \", \"tell \", \"speak out \"]) + random.choice(ValueComponents[val][\"nl\"])\n",
        "      return \"<\"+ValueComponents[val]['sar']+val_name[-1]+\">\"\n",
        "    else:\n",
        "      val = getStr()\n",
        "      self.nl = random.choice([\"say \", \"speak \", \"tell \",  \"speak out \"]) + val\n",
        "      return val\n",
        "\n",
        "  def getLabelArg(self):\n",
        "    use_val_comp = random.choice([0,1,1,1]) # 75% chance of choosing value component\n",
        "    \n",
        "    self.nl = random.choice([\"set <num> label text to \", \"set the <num> label text to \", \"set <num> label to \", \"set <num> label \"])\n",
        "    if self.action_comp_count > 1:\n",
        "      self.nl = self.nl.replace(\"<num>\", random.choice(numbers[self.number-1]))\n",
        "    else:\n",
        "      self.nl = self.nl.replace(\" <num>\", \"\")\n",
        "\n",
        "    if len(self.val_comps)>0 and use_val_comp:\n",
        "      val_name = random.choice(self.val_comps)\n",
        "      self.val_comps.remove(val_name)\n",
        "      val = val_name[:-1] # Number of value component cannot be more than 9 (a single digit)\n",
        "      self.nl += random.choice(ValueComponents[val][\"nl\"])\n",
        "      val = \"<\"+ValueComponents[val]['sar']+val_name[-1]+\">\"\n",
        "    else:\n",
        "      val = getStr()\n",
        "      self.nl += val\n",
        "\n",
        "    return val\n",
        "  \n",
        "  def getBallArg(self):\n",
        "    arg = random.choice(['radius', 'color', 'speed', 'heading', 'bounce', 'motion'])\n",
        "    if arg in ['speed', 'radius']:\n",
        "      val = getNum() #random.choice(['increase', 'decrease'])\n",
        "      self.nl = \"set the \" + arg + \" to \" + val\n",
        "      return \"<\"+arg+\"> \"+val+\" </\"+arg+\">\"\n",
        "    elif arg == 'bounce':\n",
        "      self.nl = \"bounce the ball\" \n",
        "      return \"<bounce>\"\n",
        "    elif arg == 'color':\n",
        "      val = random.choice(colors)\n",
        "      self.nl = \"set ball color to \"+ val.replace(\"_\", \" \")\n",
        "      return \"<\"+arg+\"> <\"+val+\"> </\"+arg+\">\"\n",
        "    elif arg == 'motion':\n",
        "      self.nl = random.choice([\"set ball in motion \", \"move the ball \", \"swing the ball \"])\n",
        "      return \"<motion>\"\n",
        "    elif arg == 'heading':\n",
        "      val = getNum()\n",
        "      self.nl = \"set ball header to \"+ val\n",
        "      return \"<\"+arg+\"> \"+val+\" </\"+arg+\">\"\n",
        "\n",
        "  def getCameraArg(self):\n",
        "    self.nl = random.choice(actions['camera'])+' '\n",
        "    return '<capture_and_show>'\n",
        "\n",
        "  def getArg(self):\n",
        "    if self.component == \"player\":\n",
        "      return self.getPlayerArg()\n",
        "    elif self.component == \"video_player\":\n",
        "      return self.getVideoPlayerArg()\n",
        "    elif self.component == \"text2speech\":\n",
        "      return self.getT2SArg()\n",
        "    elif self.component == \"ball\":\n",
        "      return self.getBallArg()\n",
        "    elif self.component == \"label\":\n",
        "      return self.getLabelArg()\n",
        "    elif self.component == \"camera\":\n",
        "      return self.getCameraArg()\n",
        "    else:\n",
        "      return \"\"\n",
        "  \n",
        "  def getNLArg(self):\n",
        "    arg = self.arg\n",
        "    return (self.nl, arg)\n"
      ],
      "execution_count": 14,
      "outputs": []
    },
    {
      "cell_type": "markdown",
      "metadata": {
        "id": "QqiOHPZ2gdDi"
      },
      "source": [
        "# NL_SAR generation code"
      ]
    },
    {
      "cell_type": "code",
      "metadata": {
        "id": "C7E49U3DlskO"
      },
      "source": [
        "def generate_nl_sar():\n",
        "  # global vis_components, non_repeat_vis_components, repeat_vis_components\n",
        "  global string_num, int_num\n",
        "  string_num = -1\n",
        "  int_num = -1\n",
        "\n",
        "  total_vis_components = random.randint(1, MAX_NUMBER_OF_COMPONENT) # limited to fit in screen # CX: 11C7\n",
        "  selected_components = random.sample(vis_components*SAME_COMPONENT_LIMIT, total_vis_components) # \n",
        "\n",
        "  NL = random.choice([\"create <app> \", \"make <app> \", \"<app> \", \"<app> \", \"give me <app> \"])\n",
        "  app = random.choice([\"app\", \"mobile app\", \"application\", \"mobile application\", \"software\"])\n",
        "  initial = random.choice([getArticle(app)+\" \", \"\"])\n",
        "  NL = NL.replace(\"<app>\", initial+app)\n",
        "  NL += random.choice([\"with \", \"that has \", \"consisting \", \"containing \", \"having \", \"consisting of \"])\n",
        "  SAR = [\"<complist> \"] #Change to <comp>\n",
        "\n",
        "  comps_count = {}\n",
        "  # comps_used_count = {}\n",
        "  event_comp_used_count = {}\n",
        "  action_comp_used_count = {}\n",
        "  vis_comp_used_count = {}\n",
        "  for comp in vis_components:\n",
        "    comps_count[comp] = 0\n",
        "    # comps_used_count[comp] = 0\n",
        "    vis_comp_used_count[comp] = 0\n",
        "    action_comp_used_count[comp] = 0\n",
        "    event_comp_used_count[comp] = 0\n",
        "\n",
        "  event_comps = []\n",
        "  action_comps = []\n",
        "  value_comps = []\n",
        "\n",
        "  # total_vis_components = random.randint(1, MAX_NUMBER_OF_COMPONENT) # limited to fit in screen # CX: 12C5\n",
        "  # selected_components = random.sample(vis_components*SAME_COMPONENT_LIMIT, total_vis_components)\n",
        "\n",
        "  for component in selected_components:\n",
        "    if component in non_repeat_vis_components and comps_count[component]:\n",
        "      selected_components.remove(component)\n",
        "      total_vis_components-=1\n",
        "    else:\n",
        "      comps_count[component] += 1\n",
        "      if component in event_components:\n",
        "        event_comps.append(component)\n",
        "      if component in action_components:  # Same component can be both event and action, such as \"ball\"\n",
        "        action_comps.append(component)\n",
        "      if component in value_components:\n",
        "        # if comps_count[component] > 1:\n",
        "        value_comps.append(component+str(comps_count[component]))\n",
        "  \n",
        "  unique_components = list(set(selected_components))\n",
        "\n",
        "  for i in range(len(selected_components)):\n",
        "    vis_comp = selected_components[i]\n",
        "    vis_comp_number =  comps_count[vis_comp]\n",
        "    vis_comp_nl = random.choice(component_alias[vis_comp])\n",
        "    article = getArticle(vis_comp_nl)\n",
        "\n",
        "    vis_comp_used_count[vis_comp] += 1\n",
        "\n",
        "\n",
        "    # for j in range(vis_comp_number):\n",
        "      ## Generate NL\n",
        "    mid_text = \"\"\n",
        "    \n",
        "    if i == total_vis_components - 1 and len(selected_components) > 1: # j == vis_comp_number - 1 and \n",
        "      NL += \"and \"\n",
        "\n",
        "    give_text = random.choice([0,0,0,1]) # MH: 25% chance of giving a text\n",
        "\n",
        "    if vis_comp in comp_with_src:\n",
        "      if give_text: # with 25% possibility set the source to a random video or music\n",
        "        mid_text = \"random_\"+ vis_comp + \"_source\"\n",
        "        NL += article + \" \" + vis_comp_nl + \" with a random \" + random.choice(rand_source[vis_comp])\n",
        "      else:\n",
        "        mid_text = getStr()\n",
        "        NL += article + \" \" + vis_comp_nl + \" with source \" + mid_text\n",
        "    elif vis_comp in components_with_text:\n",
        "      if give_text:\n",
        "        mid_text = getStr()\n",
        "        NL += article + \" \"+ vis_comp_nl + random.choice([\" named \", \" with text \", \" called \"]) + mid_text\n",
        "      else:\n",
        "        mid_text = vis_comp + str(vis_comp_used_count[vis_comp]) # MH: DEFAULT TEXT ARGUMENT\n",
        "        NL += article + \" \" + vis_comp_nl \n",
        "    else:\n",
        "      NL += article + \" \" + vis_comp_nl \n",
        "\n",
        "\n",
        "    if i == total_vis_components - 1: # j == vis_comp_number - 1 \n",
        "      NL += \" . \"\n",
        "    else:\n",
        "      NL += \" , \"\n",
        "\n",
        "    ## Generate SAR\n",
        "    if vis_comp in components_with_text+comp_with_src:\n",
        "      sar_begin_token = \"<token> \"\n",
        "      sar_end_token = \"</token> \"\n",
        "      SAR.append(sar_begin_token.replace(\"token\", vis_comp))\n",
        "      SAR.append(mid_text + \" \")\n",
        "      SAR.append(sar_end_token.replace(\"token\", vis_comp))\n",
        "    else:\n",
        "      SAR.append(\"<\"+vis_comp+\"> \")\n",
        "\n",
        "\n",
        "  ## Handling plural form\n",
        "  # if vis_comp_number > 1:\n",
        "  #   if vis_comp in end_with_es: #add component to this list if it end in es\n",
        "  #     NL = NL.replace(vis_comp, (vis_comp + \"es\"))\n",
        "  #   else: \n",
        "  #     NL = NL.replace(vis_comp, vis_comp + \"s\")\n",
        "\n",
        "  #Generate SAR for canvas\n",
        "  # for number in range(vis_comp_number):\n",
        "  # if vis_comp in canvas_components:\n",
        "  #   if \"<canvas> \" in SAR:\n",
        "  #     idx = SAR.index(\"</canvas> \") - 1\n",
        "  #     SAR.insert(idx , \"<ball> \")\n",
        "  #   else:\n",
        "  #     SAR.append(\"<canvas> \")\n",
        "  #     SAR.append(\"<ball> \")\n",
        "  #     SAR.append(\"</canvas> \")\n",
        "  # else:\n",
        "  #   sar_token = \"<token> \"\n",
        "  #   SAR.append(sar_token.replace(\"token\", vis_comp))\n",
        "\n",
        "  SAR.append(\"</complist>\") #Change to </comp>\n",
        "  SAR_str = \"\"\n",
        "  for token in SAR:\n",
        "    SAR_str += token\n",
        "\n",
        "  sar = SAR_str\n",
        "\n",
        "\n",
        "  ## SAR for code components\n",
        "  # print(selected_components)\n",
        "  # print(event_comps)\n",
        "  # print(action_comps)\n",
        "  # print(value_comps)\n",
        "\n",
        "  if len(action_comps)>0 and len(event_comps)>0:\n",
        "    sar += \" <code> \"\n",
        "    for event_comp in event_comps:\n",
        "      if action_comps:\n",
        "        event_comp_used_count[event_comp] += 1\n",
        "        event_comp_num = event_comp_used_count[event_comp]\n",
        "        event_comp_count = comps_count[event_comp]\n",
        "        event_object = EventComponent(event_comp, event_comp_num, event_comp_count)\n",
        "        NL += event_object.getNL()\n",
        "        # event = event_object.event #random.choice(events[event_comp])\n",
        "        sar += \"<\"+ event_comp + str(event_comp_num) + event_object.event + \"> \"\n",
        "\n",
        "        action_comp_name = random.choice(action_comps)\n",
        "        action_comp_used_count[action_comp_name] += 1\n",
        "        action_comp_num = action_comp_used_count[action_comp_name]\n",
        "        action_comps.remove(action_comp_name)\n",
        "        action_comp_count = comps_count[action_comp_name]\n",
        "\n",
        "        # Decide whether to use value comp, or which one to use\n",
        "        # Send or not send that value comp\n",
        "        # Remove from the value comp list\n",
        "        action_object = ActionComponent(action_comp_name, action_comp_num, value_comps, action_comp_count)\n",
        "        value_comps = action_object.val_comps\n",
        "\n",
        "        (nl, arg) = action_object.getNLArg()\n",
        "        action_comp_num_str = str(action_comp_num) if action_comp_name in non_repeat_vis_components else \"\"\n",
        "        sar += \"<\"+action_comp_name + str(action_comp_num) + \"> \" + arg + \" </\"+action_comp_name + action_comp_num_str + \"> \"\n",
        "        sar += \"</\"+ event_comp + str(event_comp_num) + event_object.event + \"> \"\n",
        "        NL += nl + \" . \"\n",
        "\n",
        "    sar += \"</code>\"\n",
        "\n",
        "  NL = ' '.join(NL.split())\n",
        "  sar = ' '.join(sar.split())\n",
        "  return NL, sar\n"
      ],
      "execution_count": 15,
      "outputs": []
    },
    {
      "cell_type": "code",
      "metadata": {
        "id": "ZeOq01pVsK0N",
        "colab": {
          "base_uri": "https://localhost:8080/"
        },
        "outputId": "c1e14a69-86aa-488c-d18b-2011964d622e"
      },
      "source": [
        "NL, sar = generate_nl_sar()\n",
        "print(NL)\n",
        "\n",
        "print(sar)"
      ],
      "execution_count": 16,
      "outputs": [
        {
          "output_type": "stream",
          "text": [
            "make mobile application having a time selector , a label , a speech , a textbox , a player with a random sound , a textbox , a switch , a password field , a switch , and an audio with source string0 . if the earlier switch is touched, set label to what is the time . when the second switch is fliped, tell the text .\n",
            "<complist> <timepicker> <label> label1 </label> <text2speech> <textbox> <player> random_player_source </player> <textbox> <switch> switch1 </switch> <passwordtextbox> <switch> switch2 </switch> <player> string0 </player> </complist> <code> <switch1flipped> <label1> <time1> </label> </switch1flipped> <switch2flipped> <text2speech1> <textboxtext2> </text2speech1> </switch2flipped> </code>\n"
          ],
          "name": "stdout"
        }
      ]
    },
    {
      "cell_type": "markdown",
      "metadata": {
        "id": "2Re1T6ISXUW_"
      },
      "source": [
        "## BERT Mutation"
      ]
    },
    {
      "cell_type": "code",
      "metadata": {
        "colab": {
          "base_uri": "https://localhost:8080/"
        },
        "id": "w2Zxo0HDXWUl",
        "outputId": "49aa75a9-76bf-4763-8519-3bc2d75763a0"
      },
      "source": [
        "from transformers import AutoModelWithLMHead, AutoTokenizer\n",
        "import torch\n",
        "\n",
        "tokenizer = AutoTokenizer.from_pretrained(\"distilbert-base-cased\")\n",
        "model = AutoModelWithLMHead.from_pretrained(\"distilbert-base-cased\").cuda()"
      ],
      "execution_count": 42,
      "outputs": [
        {
          "output_type": "stream",
          "text": [
            "/usr/local/lib/python3.7/dist-packages/transformers/models/auto/modeling_auto.py:762: FutureWarning: The class `AutoModelWithLMHead` is deprecated and will be removed in a future version. Please use `AutoModelForCausalLM` for causal language models, `AutoModelForMaskedLM` for masked language models and `AutoModelForSeq2SeqLM` for encoder-decoder models.\n",
            "  FutureWarning,\n"
          ],
          "name": "stderr"
        }
      ]
    },
    {
      "cell_type": "code",
      "metadata": {
        "id": "cXYjefDbXXqc"
      },
      "source": [
        "def mutate(sentence, position):\n",
        "  # sentence = \"hello world\"\n",
        "  # position = 0\n",
        "  \n",
        "  tokens = sentence.split()\n",
        "  word = tokens[position]\n",
        "  mask = tokenizer.mask_token\n",
        "  tokens[position] = mask\n",
        "  masked_sentence = ' '.join(tokens)\n",
        "\n",
        "  input = tokenizer.encode(masked_sentence, return_tensors=\"pt\").cuda()\n",
        "  mask_token_index = torch.where(input == tokenizer.mask_token_id)[1].cuda()\n",
        "\n",
        "  token_logits = model(input)[0].cuda()\n",
        "  mask_token_logits = token_logits[0, mask_token_index, :].cuda()\n",
        "  top_tokens = torch.topk(mask_token_logits, 10, dim=1).indices[0].tolist()\n",
        "\n",
        "  predictions = []\n",
        "  for token in top_tokens:\n",
        "    predicted_word = tokenizer.decode([token]).lower()\n",
        "    if \"##\" not in predicted_word:\n",
        "      predictions.append(predicted_word)\n",
        "\n",
        "  if len(predictions)> 0:\n",
        "    decreasing_weights = [i for i in range(len(predictions) ,0, -1)]\n",
        "    mutated_word = random.choices(predictions, weights=decreasing_weights, k=1)[0]\n",
        "    # print(mutated_word)\n",
        "  else:\n",
        "    mutated_word = word\n",
        "    # print(\"not mutated\")\n",
        "  tokens[position] = mutated_word\n",
        "  mutated_sentence = ' '.join(tokens)\n",
        "\n",
        "  return mutated_sentence"
      ],
      "execution_count": 53,
      "outputs": []
    },
    {
      "cell_type": "code",
      "metadata": {
        "id": "XzUurQC9XftP"
      },
      "source": [
        "def mutate_sentence(sentence, mutation_percent):\n",
        "  mutate_index = random.choices([i for i in range(len(sentence.split()))], k=int(len(sentence.split())*mutation_percent + 0.5))\n",
        "  for i in mutate_index:\n",
        "    sentence = mutate(sentence, i)\n",
        "  return sentence"
      ],
      "execution_count": 54,
      "outputs": []
    },
    {
      "cell_type": "markdown",
      "metadata": {
        "id": "niZq69TogmVz"
      },
      "source": [
        "# Generating dataset"
      ]
    },
    {
      "cell_type": "code",
      "metadata": {
        "id": "W9QvvUbTTt8e",
        "colab": {
          "base_uri": "https://localhost:8080/"
        },
        "outputId": "342c1105-ad86-45ae-d74d-fd0ba7892290"
      },
      "source": [
        "# nl_list = []\n",
        "# nl_mod_list = []\n",
        "# sar_list = []\n",
        "\n",
        "for i in range(100000):\n",
        "  nl, sar = generate_nl_sar()\n",
        "  if \"<textboxtext4>\" in sar:\n",
        "    print(sar)\n",
        "  ## Mutate 10% words in 10% NL\n",
        "  nl = mutate_sentence(nl, 0.1)\n",
        "  nl_list.append(nl)\n",
        "  sar_list.append(sar)\n",
        "  if i%100==0:\n",
        "    print(i)"
      ],
      "execution_count": null,
      "outputs": [
        {
          "output_type": "stream",
          "text": [
            "0\n",
            "100\n",
            "200\n",
            "300\n",
            "400\n",
            "500\n",
            "600\n",
            "700\n",
            "800\n",
            "900\n",
            "1000\n",
            "1100\n",
            "1200\n",
            "1300\n",
            "1400\n",
            "1500\n",
            "1600\n",
            "1700\n"
          ],
          "name": "stdout"
        }
      ]
    },
    {
      "cell_type": "code",
      "metadata": {
        "id": "OeacBRpqzBbX"
      },
      "source": [
        "d = {}\n",
        "\n",
        "all_tokens = ' '.join(sar_list).split()\n",
        "for s in all_tokens:\n",
        "  if s not in d:\n",
        "    d[s] = 0\n",
        "  d[s] += 1"
      ],
      "execution_count": 26,
      "outputs": []
    },
    {
      "cell_type": "code",
      "metadata": {
        "colab": {
          "base_uri": "https://localhost:8080/"
        },
        "id": "ocy-dfxb0QiY",
        "outputId": "c5c7c70f-0ace-4e37-fd6d-269bc9ae7166"
      },
      "source": [
        "sorted_d = sorted(d.items(), key=lambda item: item[1])\n",
        "sorted_d.reverse()\n",
        "sorted_d"
      ],
      "execution_count": 27,
      "outputs": [
        {
          "output_type": "execute_result",
          "data": {
            "text/plain": [
              "[('</complist>', 50),\n",
              " ('<complist>', 50),\n",
              " ('</label>', 45),\n",
              " ('</video_player>', 43),\n",
              " ('</code>', 41),\n",
              " ('<code>', 41),\n",
              " ('string0', 37),\n",
              " ('</player>', 34),\n",
              " ('<timepicker>', 34),\n",
              " ('</button>', 31),\n",
              " ('<button>', 31),\n",
              " ('<video_player>', 29),\n",
              " ('<label>', 28),\n",
              " ('<passwordtextbox>', 28),\n",
              " ('<ball>', 25),\n",
              " ('<player>', 23),\n",
              " ('string1', 21),\n",
              " ('<camera>', 21),\n",
              " ('</switch>', 20),\n",
              " ('<switch>', 20),\n",
              " ('<textbox>', 20),\n",
              " ('</accelerometer1shaken>', 19),\n",
              " ('<accelerometer1shaken>', 19),\n",
              " ('<accelerometer>', 19),\n",
              " ('</button1clicked>', 19),\n",
              " ('<button1clicked>', 19),\n",
              " ('<text2speech>', 17),\n",
              " ('</ball1>', 17),\n",
              " ('<ball1>', 17),\n",
              " ('button1', 17),\n",
              " ('<label1>', 16),\n",
              " ('<start>', 14),\n",
              " ('<video_player1>', 14),\n",
              " ('</switch1flipped>', 14),\n",
              " ('<switch1flipped>', 14),\n",
              " ('string2', 13),\n",
              " ('label1', 13),\n",
              " ('</ball1flung>', 12),\n",
              " ('<ball1flung>', 12),\n",
              " ('</text2speech1>', 12),\n",
              " ('<text2speech1>', 12),\n",
              " ('<stop>', 11),\n",
              " ('</ball1reach_edge>', 11),\n",
              " ('<ball1reach_edge>', 11),\n",
              " ('</camera1>', 11),\n",
              " ('<capture_and_show>', 11),\n",
              " ('<camera1>', 11),\n",
              " ('switch1', 11),\n",
              " ('<player1>', 10),\n",
              " ('number0', 8),\n",
              " ('random_video_player_source', 8),\n",
              " ('button2', 8),\n",
              " ('label2', 6),\n",
              " ('<time1>', 5),\n",
              " ('</radius>', 5),\n",
              " ('<radius>', 5),\n",
              " ('switch2', 5),\n",
              " ('random_player_source', 5),\n",
              " ('</button2clicked>', 5),\n",
              " ('<button2clicked>', 5),\n",
              " ('string3', 4),\n",
              " ('<textboxtext1>', 4),\n",
              " ('<bounce>', 4),\n",
              " ('<motion>', 3),\n",
              " ('</heading>', 2),\n",
              " ('<heading>', 2),\n",
              " ('</color>', 2),\n",
              " ('<color>', 2),\n",
              " ('</switch2flipped>', 2),\n",
              " ('<switch2flipped>', 2),\n",
              " ('<black>', 1),\n",
              " ('<label2>', 1),\n",
              " ('<player2>', 1),\n",
              " ('<dark_gray>', 1),\n",
              " ('string4', 1),\n",
              " ('<textboxtext2>', 1),\n",
              " ('</speed>', 1),\n",
              " ('<speed>', 1),\n",
              " ('<time2>', 1)]"
            ]
          },
          "metadata": {
            "tags": []
          },
          "execution_count": 27
        }
      ]
    },
    {
      "cell_type": "code",
      "metadata": {
        "id": "P_l7JWYvYb8d"
      },
      "source": [
        "import pandas as pd\n",
        "df = pd.DataFrame({'NL':nl_list, 'SAR': sar_list})"
      ],
      "execution_count": 28,
      "outputs": []
    },
    {
      "cell_type": "code",
      "metadata": {
        "id": "-amGJ_OhMxGk",
        "colab": {
          "base_uri": "https://localhost:8080/",
          "height": 1000
        },
        "outputId": "fe62d9a7-901a-4d69-f915-a6382ee264a7"
      },
      "source": [
        "df"
      ],
      "execution_count": 29,
      "outputs": [
        {
          "output_type": "execute_result",
          "data": {
            "text/html": [
              "<div>\n",
              "<style scoped>\n",
              "    .dataframe tbody tr th:only-of-type {\n",
              "        vertical-align: middle;\n",
              "    }\n",
              "\n",
              "    .dataframe tbody tr th {\n",
              "        vertical-align: top;\n",
              "    }\n",
              "\n",
              "    .dataframe thead th {\n",
              "        text-align: right;\n",
              "    }\n",
              "</style>\n",
              "<table border=\"1\" class=\"dataframe\">\n",
              "  <thead>\n",
              "    <tr style=\"text-align: right;\">\n",
              "      <th></th>\n",
              "      <th>NL</th>\n",
              "      <th>SAR</th>\n",
              "    </tr>\n",
              "  </thead>\n",
              "  <tbody>\n",
              "    <tr>\n",
              "      <th>0</th>\n",
              "      <td>an application having a time selector .</td>\n",
              "      <td>&lt;complist&gt; &lt;timepicker&gt; &lt;/complist&gt;</td>\n",
              "    </tr>\n",
              "    <tr>\n",
              "      <th>1</th>\n",
              "      <td>create an app with a button , a menu with sour...</td>\n",
              "      <td>&lt;complist&gt; &lt;button&gt; button1 &lt;/button&gt; &lt;video_p...</td>\n",
              "    </tr>\n",
              "    <tr>\n",
              "      <th>2</th>\n",
              "      <td>give me a mobile app consisting a laptop , an ...</td>\n",
              "      <td>&lt;complist&gt; &lt;switch&gt; switch1 &lt;/switch&gt; &lt;player&gt;...</td>\n",
              "    </tr>\n",
              "    <tr>\n",
              "      <th>3</th>\n",
              "      <td>mobile app with a shake sensor , a text2speech...</td>\n",
              "      <td>&lt;complist&gt; &lt;accelerometer&gt; &lt;text2speech&gt; &lt;text...</td>\n",
              "    </tr>\n",
              "    <tr>\n",
              "      <th>4</th>\n",
              "      <td>mobile application consisting a shake sensors ...</td>\n",
              "      <td>&lt;complist&gt; &lt;accelerometer&gt; &lt;switch&gt; switch1 &lt;/...</td>\n",
              "    </tr>\n",
              "    <tr>\n",
              "      <th>5</th>\n",
              "      <td>a mobile application containing a video player...</td>\n",
              "      <td>&lt;complist&gt; &lt;video_player&gt; string0 &lt;/video_play...</td>\n",
              "    </tr>\n",
              "    <tr>\n",
              "      <th>6</th>\n",
              "      <td>an application consisting of a time selector ,...</td>\n",
              "      <td>&lt;complist&gt; &lt;timepicker&gt; &lt;player&gt; string0 &lt;/pla...</td>\n",
              "    </tr>\n",
              "    <tr>\n",
              "      <th>7</th>\n",
              "      <td>make application consisting a circle , a ball ...</td>\n",
              "      <td>&lt;complist&gt; &lt;ball&gt; &lt;video_player&gt; string0 &lt;/vid...</td>\n",
              "    </tr>\n",
              "    <tr>\n",
              "      <th>8</th>\n",
              "      <td>make another application containing a music wi...</td>\n",
              "      <td>&lt;complist&gt; &lt;player&gt; string0 &lt;/player&gt; &lt;passwor...</td>\n",
              "    </tr>\n",
              "    <tr>\n",
              "      <th>9</th>\n",
              "      <td>create application that has integrated camera .</td>\n",
              "      <td>&lt;complist&gt; &lt;camera&gt; &lt;/complist&gt;</td>\n",
              "    </tr>\n",
              "    <tr>\n",
              "      <th>10</th>\n",
              "      <td>an app consisting of a label , audio switch na...</td>\n",
              "      <td>&lt;complist&gt; &lt;label&gt; label1 &lt;/label&gt; &lt;switch&gt; st...</td>\n",
              "    </tr>\n",
              "    <tr>\n",
              "      <th>11</th>\n",
              "      <td>an application with a music with a random soun...</td>\n",
              "      <td>&lt;complist&gt; &lt;player&gt; random_player_source &lt;/pla...</td>\n",
              "    </tr>\n",
              "    <tr>\n",
              "      <th>12</th>\n",
              "      <td>a software consisting includes timepicker , a ...</td>\n",
              "      <td>&lt;complist&gt; &lt;timepicker&gt; &lt;textbox&gt; &lt;camera&gt; &lt;ba...</td>\n",
              "    </tr>\n",
              "    <tr>\n",
              "      <th>13</th>\n",
              "      <td>an application with a shake sensor , a button ...</td>\n",
              "      <td>&lt;complist&gt; &lt;accelerometer&gt; &lt;button&gt; button1 &lt;/...</td>\n",
              "    </tr>\n",
              "    <tr>\n",
              "      <th>14</th>\n",
              "      <td>give me an address consisting a passwordbox .</td>\n",
              "      <td>&lt;complist&gt; &lt;passwordtextbox&gt; &lt;/complist&gt;</td>\n",
              "    </tr>\n",
              "    <tr>\n",
              "      <th>15</th>\n",
              "      <td>app consisting of a player with source string0...</td>\n",
              "      <td>&lt;complist&gt; &lt;player&gt; string0 &lt;/player&gt; &lt;timepic...</td>\n",
              "    </tr>\n",
              "    <tr>\n",
              "      <th>16</th>\n",
              "      <td>app containing a ball map and map text2speech ...</td>\n",
              "      <td>&lt;complist&gt; &lt;ball&gt; &lt;text2speech&gt; &lt;/complist&gt; &lt;c...</td>\n",
              "    </tr>\n",
              "    <tr>\n",
              "      <th>17</th>\n",
              "      <td>make application containing a label , or text2...</td>\n",
              "      <td>&lt;complist&gt; &lt;label&gt; label1 &lt;/label&gt; &lt;text2speec...</td>\n",
              "    </tr>\n",
              "    <tr>\n",
              "      <th>18</th>\n",
              "      <td>mobile application containing a time picker , ...</td>\n",
              "      <td>&lt;complist&gt; &lt;timepicker&gt; &lt;label&gt; string0 &lt;/labe...</td>\n",
              "    </tr>\n",
              "    <tr>\n",
              "      <th>19</th>\n",
              "      <td>mobile app with a passwordbox , a button , a v...</td>\n",
              "      <td>&lt;complist&gt; &lt;passwordtextbox&gt; &lt;button&gt; button1 ...</td>\n",
              "    </tr>\n",
              "    <tr>\n",
              "      <th>20</th>\n",
              "      <td>boxes consisting a switch , a circle , a textb...</td>\n",
              "      <td>&lt;complist&gt; &lt;switch&gt; switch1 &lt;/switch&gt; &lt;ball&gt; &lt;...</td>\n",
              "    </tr>\n",
              "    <tr>\n",
              "      <th>21</th>\n",
              "      <td>give me strings with a circle , a music player...</td>\n",
              "      <td>&lt;complist&gt; &lt;ball&gt; &lt;player&gt; string0 &lt;/player&gt; &lt;...</td>\n",
              "    </tr>\n",
              "    <tr>\n",
              "      <th>22</th>\n",
              "      <td>give me an application having embedded video w...</td>\n",
              "      <td>&lt;complist&gt; &lt;video_player&gt; string0 &lt;/video_play...</td>\n",
              "    </tr>\n",
              "    <tr>\n",
              "      <th>23</th>\n",
              "      <td>a software having a time picker , a label , a ...</td>\n",
              "      <td>&lt;complist&gt; &lt;timepicker&gt; &lt;label&gt; label1 &lt;/label...</td>\n",
              "    </tr>\n",
              "    <tr>\n",
              "      <th>24</th>\n",
              "      <td>create mobile application having a video with ...</td>\n",
              "      <td>&lt;complist&gt; &lt;video_player&gt; string0 &lt;/video_play...</td>\n",
              "    </tr>\n",
              "    <tr>\n",
              "      <th>25</th>\n",
              "      <td>make application with a label to speech , a la...</td>\n",
              "      <td>&lt;complist&gt; &lt;text2speech&gt; &lt;label&gt; label1 &lt;/labe...</td>\n",
              "    </tr>\n",
              "    <tr>\n",
              "      <th>26</th>\n",
              "      <td>create mobile app that has a password box , a ...</td>\n",
              "      <td>&lt;complist&gt; &lt;passwordtextbox&gt; &lt;ball&gt; &lt;passwordt...</td>\n",
              "    </tr>\n",
              "    <tr>\n",
              "      <th>27</th>\n",
              "      <td>make an application having a ball , a key sele...</td>\n",
              "      <td>&lt;complist&gt; &lt;ball&gt; &lt;timepicker&gt; &lt;accelerometer&gt;...</td>\n",
              "    </tr>\n",
              "    <tr>\n",
              "      <th>28</th>\n",
              "      <td>device containing a switch named string0 , a t...</td>\n",
              "      <td>&lt;complist&gt; &lt;switch&gt; string0 &lt;/switch&gt; &lt;timepic...</td>\n",
              "    </tr>\n",
              "    <tr>\n",
              "      <th>29</th>\n",
              "      <td>make mobile application consisting a switch co...</td>\n",
              "      <td>&lt;complist&gt; &lt;switch&gt; switch1 &lt;/switch&gt; &lt;textbox...</td>\n",
              "    </tr>\n",
              "    <tr>\n",
              "      <th>30</th>\n",
              "      <td>using its mobile app consisting a ball , and a...</td>\n",
              "      <td>&lt;complist&gt; &lt;ball&gt; &lt;button&gt; string0 &lt;/button&gt; &lt;...</td>\n",
              "    </tr>\n",
              "    <tr>\n",
              "      <th>31</th>\n",
              "      <td>requires an app that has a button named string...</td>\n",
              "      <td>&lt;complist&gt; &lt;button&gt; string0 &lt;/button&gt; &lt;ball&gt; &lt;...</td>\n",
              "    </tr>\n",
              "    <tr>\n",
              "      <th>32</th>\n",
              "      <td>give me mobile app with a pasword text box , a...</td>\n",
              "      <td>&lt;complist&gt; &lt;passwordtextbox&gt; &lt;video_player&gt; st...</td>\n",
              "    </tr>\n",
              "    <tr>\n",
              "      <th>33</th>\n",
              "      <td>create a mobile application with a button name...</td>\n",
              "      <td>&lt;complist&gt; &lt;button&gt; string0 &lt;/button&gt; &lt;video_p...</td>\n",
              "    </tr>\n",
              "    <tr>\n",
              "      <th>34</th>\n",
              "      <td>an app consisting of a timepicker , a label na...</td>\n",
              "      <td>&lt;complist&gt; &lt;timepicker&gt; &lt;label&gt; string0 &lt;/labe...</td>\n",
              "    </tr>\n",
              "    <tr>\n",
              "      <th>35</th>\n",
              "      <td>make mobile application that has a ball contai...</td>\n",
              "      <td>&lt;complist&gt; &lt;ball&gt; &lt;camera&gt; &lt;label&gt; label1 &lt;/la...</td>\n",
              "    </tr>\n",
              "    <tr>\n",
              "      <th>36</th>\n",
              "      <td>mobile application with an audio player with s...</td>\n",
              "      <td>&lt;complist&gt; &lt;player&gt; string0 &lt;/player&gt; &lt;acceler...</td>\n",
              "    </tr>\n",
              "    <tr>\n",
              "      <th>37</th>\n",
              "      <td>give me mobile app that has a menu box , a tim...</td>\n",
              "      <td>&lt;complist&gt; &lt;textbox&gt; &lt;timepicker&gt; &lt;textbox&gt; &lt;t...</td>\n",
              "    </tr>\n",
              "    <tr>\n",
              "      <th>38</th>\n",
              "      <td>create software having a time picker , a mouse...</td>\n",
              "      <td>&lt;complist&gt; &lt;timepicker&gt; &lt;ball&gt; &lt;video_player&gt; ...</td>\n",
              "    </tr>\n",
              "    <tr>\n",
              "      <th>39</th>\n",
              "      <td>an interface includes a shake sensor , a menu ...</td>\n",
              "      <td>&lt;complist&gt; &lt;accelerometer&gt; &lt;button&gt; button1 &lt;/...</td>\n",
              "    </tr>\n",
              "    <tr>\n",
              "      <th>40</th>\n",
              "      <td>application consisting a password box featurin...</td>\n",
              "      <td>&lt;complist&gt; &lt;passwordtextbox&gt; &lt;label&gt; string0 &lt;...</td>\n",
              "    </tr>\n",
              "    <tr>\n",
              "      <th>41</th>\n",
              "      <td>an application containing a label , a button ,...</td>\n",
              "      <td>&lt;complist&gt; &lt;label&gt; label1 &lt;/label&gt; &lt;button&gt; bu...</td>\n",
              "    </tr>\n",
              "    <tr>\n",
              "      <th>42</th>\n",
              "      <td>give me mobile app consisting a video with a r...</td>\n",
              "      <td>&lt;complist&gt; &lt;video_player&gt; random_video_player_...</td>\n",
              "    </tr>\n",
              "    <tr>\n",
              "      <th>43</th>\n",
              "      <td>make a mobile application consisting a music p...</td>\n",
              "      <td>&lt;complist&gt; &lt;player&gt; string0 &lt;/player&gt; &lt;acceler...</td>\n",
              "    </tr>\n",
              "    <tr>\n",
              "      <th>44</th>\n",
              "      <td>give me a app that has a time selector , one p...</td>\n",
              "      <td>&lt;complist&gt; &lt;timepicker&gt; &lt;passwordtextbox&gt; &lt;bal...</td>\n",
              "    </tr>\n",
              "    <tr>\n",
              "      <th>45</th>\n",
              "      <td>create a mobile application consisting a label...</td>\n",
              "      <td>&lt;complist&gt; &lt;label&gt; string0 &lt;/label&gt; &lt;camera&gt; &lt;...</td>\n",
              "    </tr>\n",
              "    <tr>\n",
              "      <th>46</th>\n",
              "      <td>a tablet app containing a button , and a speec...</td>\n",
              "      <td>&lt;complist&gt; &lt;button&gt; button1 &lt;/button&gt; &lt;text2sp...</td>\n",
              "    </tr>\n",
              "    <tr>\n",
              "      <th>47</th>\n",
              "      <td>create application consisting of a text box :</td>\n",
              "      <td>&lt;complist&gt; &lt;textbox&gt; &lt;/complist&gt;</td>\n",
              "    </tr>\n",
              "    <tr>\n",
              "      <th>48</th>\n",
              "      <td>create mobile application consisting of each b...</td>\n",
              "      <td>&lt;complist&gt; &lt;ball&gt; &lt;accelerometer&gt; &lt;passwordtex...</td>\n",
              "    </tr>\n",
              "    <tr>\n",
              "      <th>49</th>\n",
              "      <td>a mobile app consisting of a textbox , a video...</td>\n",
              "      <td>&lt;complist&gt; &lt;textbox&gt; &lt;video_player&gt; string0 &lt;/...</td>\n",
              "    </tr>\n",
              "  </tbody>\n",
              "</table>\n",
              "</div>"
            ],
            "text/plain": [
              "                                                   NL                                                SAR\n",
              "0             an application having a time selector .                <complist> <timepicker> </complist>\n",
              "1   create an app with a button , a menu with sour...  <complist> <button> button1 </button> <video_p...\n",
              "2   give me a mobile app consisting a laptop , an ...  <complist> <switch> switch1 </switch> <player>...\n",
              "3   mobile app with a shake sensor , a text2speech...  <complist> <accelerometer> <text2speech> <text...\n",
              "4   mobile application consisting a shake sensors ...  <complist> <accelerometer> <switch> switch1 </...\n",
              "5   a mobile application containing a video player...  <complist> <video_player> string0 </video_play...\n",
              "6   an application consisting of a time selector ,...  <complist> <timepicker> <player> string0 </pla...\n",
              "7   make application consisting a circle , a ball ...  <complist> <ball> <video_player> string0 </vid...\n",
              "8   make another application containing a music wi...  <complist> <player> string0 </player> <passwor...\n",
              "9     create application that has integrated camera .                    <complist> <camera> </complist>\n",
              "10  an app consisting of a label , audio switch na...  <complist> <label> label1 </label> <switch> st...\n",
              "11  an application with a music with a random soun...  <complist> <player> random_player_source </pla...\n",
              "12  a software consisting includes timepicker , a ...  <complist> <timepicker> <textbox> <camera> <ba...\n",
              "13  an application with a shake sensor , a button ...  <complist> <accelerometer> <button> button1 </...\n",
              "14      give me an address consisting a passwordbox .           <complist> <passwordtextbox> </complist>\n",
              "15  app consisting of a player with source string0...  <complist> <player> string0 </player> <timepic...\n",
              "16  app containing a ball map and map text2speech ...  <complist> <ball> <text2speech> </complist> <c...\n",
              "17  make application containing a label , or text2...  <complist> <label> label1 </label> <text2speec...\n",
              "18  mobile application containing a time picker , ...  <complist> <timepicker> <label> string0 </labe...\n",
              "19  mobile app with a passwordbox , a button , a v...  <complist> <passwordtextbox> <button> button1 ...\n",
              "20  boxes consisting a switch , a circle , a textb...  <complist> <switch> switch1 </switch> <ball> <...\n",
              "21  give me strings with a circle , a music player...  <complist> <ball> <player> string0 </player> <...\n",
              "22  give me an application having embedded video w...  <complist> <video_player> string0 </video_play...\n",
              "23  a software having a time picker , a label , a ...  <complist> <timepicker> <label> label1 </label...\n",
              "24  create mobile application having a video with ...  <complist> <video_player> string0 </video_play...\n",
              "25  make application with a label to speech , a la...  <complist> <text2speech> <label> label1 </labe...\n",
              "26  create mobile app that has a password box , a ...  <complist> <passwordtextbox> <ball> <passwordt...\n",
              "27  make an application having a ball , a key sele...  <complist> <ball> <timepicker> <accelerometer>...\n",
              "28  device containing a switch named string0 , a t...  <complist> <switch> string0 </switch> <timepic...\n",
              "29  make mobile application consisting a switch co...  <complist> <switch> switch1 </switch> <textbox...\n",
              "30  using its mobile app consisting a ball , and a...  <complist> <ball> <button> string0 </button> <...\n",
              "31  requires an app that has a button named string...  <complist> <button> string0 </button> <ball> <...\n",
              "32  give me mobile app with a pasword text box , a...  <complist> <passwordtextbox> <video_player> st...\n",
              "33  create a mobile application with a button name...  <complist> <button> string0 </button> <video_p...\n",
              "34  an app consisting of a timepicker , a label na...  <complist> <timepicker> <label> string0 </labe...\n",
              "35  make mobile application that has a ball contai...  <complist> <ball> <camera> <label> label1 </la...\n",
              "36  mobile application with an audio player with s...  <complist> <player> string0 </player> <acceler...\n",
              "37  give me mobile app that has a menu box , a tim...  <complist> <textbox> <timepicker> <textbox> <t...\n",
              "38  create software having a time picker , a mouse...  <complist> <timepicker> <ball> <video_player> ...\n",
              "39  an interface includes a shake sensor , a menu ...  <complist> <accelerometer> <button> button1 </...\n",
              "40  application consisting a password box featurin...  <complist> <passwordtextbox> <label> string0 <...\n",
              "41  an application containing a label , a button ,...  <complist> <label> label1 </label> <button> bu...\n",
              "42  give me mobile app consisting a video with a r...  <complist> <video_player> random_video_player_...\n",
              "43  make a mobile application consisting a music p...  <complist> <player> string0 </player> <acceler...\n",
              "44  give me a app that has a time selector , one p...  <complist> <timepicker> <passwordtextbox> <bal...\n",
              "45  create a mobile application consisting a label...  <complist> <label> string0 </label> <camera> <...\n",
              "46  a tablet app containing a button , and a speec...  <complist> <button> button1 </button> <text2sp...\n",
              "47      create application consisting of a text box :                   <complist> <textbox> </complist>\n",
              "48  create mobile application consisting of each b...  <complist> <ball> <accelerometer> <passwordtex...\n",
              "49  a mobile app consisting of a textbox , a video...  <complist> <textbox> <video_player> string0 </..."
            ]
          },
          "metadata": {
            "tags": []
          },
          "execution_count": 29
        }
      ]
    },
    {
      "cell_type": "code",
      "metadata": {
        "id": "6epf1CI0t0pr",
        "outputId": "2e7b6734-71d0-4ed8-e3d5-43876a17bfbf",
        "colab": {
          "base_uri": "https://localhost:8080/"
        }
      },
      "source": [
        "nl_list[:100]"
      ],
      "execution_count": 31,
      "outputs": [
        {
          "output_type": "execute_result",
          "data": {
            "text/plain": [
              "['an application having a time selector .',\n",
              " 'create an app with a button , a menu with source string0 , a camera , a textbox , a password field , a button , a label with a switch , a button called a time selector , and a time picker ... when the earlier button is pressed, open camera . whenever the second button is clicked, set label time . when the switch is pressed, bounce the ball . when the trigger is hit, start clicking .',\n",
              " 'give me a mobile app consisting a laptop , an audio box with a random music , a video , and a camera . if the switch is clicked, start the music player . when this button is pressed, initiate camera .',\n",
              " 'mobile app with a shake sensor , a text2speech , is a textbox . if the accelerometer is shaken, tell string0 .',\n",
              " 'mobile application consisting a shake sensors , a switch featuring a button named string0 , a switch without a button , a music player on source string1 , a time sensor , and a video with source string2 ; when the shake sensor is vibrated, stop audio . when the switch is fliped, start the video player .',\n",
              " 'a mobile application containing a video player with source string0 , a text server , a camera , and a time clock .',\n",
              " 'an application consisting of a time selector , a music player with source string0 , an audio controller without source string1 , and a text2speech .',\n",
              " 'make application consisting a circle , a ball with source string0 , an audio player with source string1 , a timepicker , and a compass . when the circle is cornered, swing the ball .',\n",
              " 'make another application containing a music with source string0 , a microphone , a button , a camera , a video player with source string1 , and a video with source code . if the button is touched, stop the clip .',\n",
              " 'create application that has integrated camera .',\n",
              " 'an app consisting of a label , audio switch named string0 , a label , an image player with source code , a time selector , and a textbox . when the switch is clicked, set label to string2 .',\n",
              " 'an application with a music with a random sound , a camera , a switch , music label ; a time monitor , timing switch , a time selector , and a video controller with source string0 . if the switch is fliped, play video . if the video later switch is fliped, play the music .',\n",
              " 'a software consisting includes timepicker , a textbox , a camera , a circle , a shake sensor , and a circle . when the ball is hit, swing the ball . when any shake sensor is vibrated, take a picture .',\n",
              " 'an application with a shake sensor , a button , text text box , a button , a label called string0 , string password with a passwordtextbox interface and string music with source string1 . when the movement sensor is vibrated, speak out the textbox text . when the button is touched, set label text to string2 . when the second button is touched, start the player .',\n",
              " 'give me an address consisting a passwordbox .',\n",
              " 'app consisting of a player with source string0 , a time picker , a movement sensor , a camera , a password field containing a button named string1 , a time picker , a time picker called a circle , a label called string2 , and a video with source string3 . if the accelerometer is vibrated, pause audio . after the button is touched, insert a finger . if the ball is cutting edge, pause video player .',\n",
              " 'app containing a ball map and map text2speech . if the circle is cornered, say string0 .',\n",
              " 'make application containing a label , or text2speech , a text box , a media player with a random clip , color switch , a textbox , punch ball , and a password box . when the switch is touched, speak out the text . if the circle is thrown, set the corresponding text to string0 .',\n",
              " 'mobile application containing a time picker , a label called string0 , a button , a video with source string1 , another keyboard , a mouse mouse and a camera . when the button is clicked, bounce the ball . if the ball is flung, set label to string2 .',\n",
              " 'mobile app with a passwordbox , a button , a video player with source string0 , mouse accelerometer , a circle , a ball , and a label with text string1 . if the button is touched, set the label text to string2 . if one motion button is shaken, set the speed to number0 . when the ball gets hit, start video .',\n",
              " 'boxes consisting a switch , a circle , a textbox , automatic press box , and a text to speech . if the switch is fliped, raise the radius to number0 . when the ball is cornered, speak out the text into the box .',\n",
              " 'give me strings with a circle , a music player with source string0 , plus a pasword text box . when the circle is touches edge, stop my music player .',\n",
              " 'give me an application having embedded video with source string0 , a frequency selector , a video from source string1 , and a time picker .',\n",
              " 'a software having a time picker , a label , a passwordtextbox , a passwordbox , a time selector , a video player having a hidden video , a printer with text string0 , and a camera .',\n",
              " 'create mobile application having a video with source string0 containing a time picker , a button named string1 , a password field , a textbox , a compass , a circle , a keyboard , a music with the string2 containing a text box , and a camera . if the other button is accidentally set off the textbox text . if the the other button is clicked, bounce the ball . if the ball is hit, open camera and take a picture .',\n",
              " 'make application with a label to speech , a label , a button , a pasword text box , and a vibration sensor . if the keyboard is touched, set label to string0 . when the vibration sensor starts to say string1 .',\n",
              " 'create mobile app that has a password box , a ball , a passwordtextbox with a video with a random video , a motion camera , a button , even a button . when the circle is cornered, set the radius to number0 . when the shake sensor is shaken, start the algorithm .',\n",
              " 'make an application having a ball , a key selector , a vibration sensor , a label , and text2speech , select music with source string0 , a passwordtextbox , another switch named string1 , a keyboard player with input string2 , and a switch . when the circle is thrown, set label text to string3 . if the movement sensor is shaken, knock the ball off if the first switch is fliped, pause the video player . if the second switch is pressed, tell string4 .',\n",
              " 'device containing a switch named string0 , a time selector , a label named string1 , a button , a button , and a camera . before the switch is fliped, take picture . once the button is touched, click label text to what time it stops .',\n",
              " 'make mobile application consisting a switch containing a text message , a time selector , a calendar , a video with a random clip , a circle , etc an audio with a random music . if the circle is cornered, capture the photo . if the switch is fliped, start video player .',\n",
              " 'using its mobile app consisting a ball , and a button named string0 . when the circle is thrown, set the radius digit number0 .',\n",
              " 'requires an app that has a button named string0 , a ball , and a time picker . if the button is clicked, set ball changes to dark gray .',\n",
              " 'give me mobile app with a pasword text box , a video with a string0 , a password field , a map , and a map indicated if the ball is thrown, set the radius to number0 . when the button is clicked, pause video player .',\n",
              " 'create a mobile application with a button named string0 , a button with a random video , a button , a button , a video player with source string1 , a keyboard , and a label . once the first button is pressed, set the label text to string2 . if the following button is pressed, say yes .',\n",
              " 'an app consisting of a timepicker , a label named text string0 , a button , and a switch named string1 . when the button is touched, set a label text to what time it is .',\n",
              " 'make mobile application that has a ball containing a camera , a label , a label , a video player with a random video , a text box , and a time slot . when the user is cornered, take a picture .',\n",
              " 'mobile application with an audio player with source string0 , a movement sensor , a camera , a switch , a video with source string1 , a password icon , a text field , a button , a button , a player with source string2 , and slide music . when the shake sensor is vibrated, play the music . if an idle switch is fliped, pause button . when the 1st button is touched, play the clip . if the later button is touched, open a camera .',\n",
              " 'give me mobile app that has a menu box , a time picker , a text box , and simple text to speech .',\n",
              " 'create software having a time picker , a mouse , a video with source string0 , a text to speech , an audio with a random sound , a vibration sensor , a timepicker , a camera , pressing a button . if the mouse becomes cornered, start the game player . when the motion sensor is vibrated, set ball header to number0 . if the button is not speak time .',\n",
              " 'an interface includes a shake sensor , a menu , a passwordtextbox , a time selector , an audio player with a random audio , and a time picker . when the movement controller is shaken, stop player .',\n",
              " 'application consisting a password box featuring a label with text string0 , a label , a video player with source string1 , a switch , an accelerometer , and a password box . if the switch is touched, set label 2 . if the motion sensor is shaken, set it again to string3 .',\n",
              " 'an application containing a label , a button , a video with source information , a vibration sensor , a camera , a label , and a password box . when the button is pressed, set the label text to string1 : if every movement sensor is shaken, stop your video player .',\n",
              " 'give me mobile app consisting a video with a random clip , a microphone , an audio noise source string0 , a movement sensor plus a label , a camera , a circle , a button , a text to navigate , and a motion selector . while the vibration sensor is vibrated, set the radius to number0 . when the ball is thrown, click label to what time it is . when the button is depressed stop the music .',\n",
              " 'make a mobile application consisting a music player with source string0 , a motion sensor containing an audio with source string1 , an audio with source string2 , tune label , a circle , a switch , a camera , to speech , a key to speech , and a mouse . when the accelerometer is triggered start music . if the circle is thrown, capture . when the switch is touched, set label to the time .',\n",
              " 'give me a app that has a time selector , one password box , a circle , a textbox , and a passwordtextbox . when the ball is cornered, set ball flashes into black .',\n",
              " 'create a mobile application consisting a label with text string0 , a camera , a keyboard with source string1 , a video player with a random video , a switch , a ball , a movement sensor , and a switch . when the initial ball is clicked, start again . if the ball is touches edge, set ball header to 0 . when the motion sensor is shaken, click .',\n",
              " 'a tablet app containing a button , and a speech . when the button is pressed, say string0 .',\n",
              " 'create application consisting of a text box :',\n",
              " 'create mobile application consisting of each ball containing a motion sensor containing a passwordtextbox , a password field , and a text to boot . when the ball is hit, move the ball . when the vibration sensor is shaken, say string0 .',\n",
              " 'a mobile app consisting of a textbox , a video with source content , a text to speech , and an accelerometer and if the shake screen is vibrated, speak out the textbox text .']"
            ]
          },
          "metadata": {
            "tags": []
          },
          "execution_count": 31
        }
      ]
    },
    {
      "cell_type": "code",
      "metadata": {
        "colab": {
          "base_uri": "https://localhost:8080/",
          "height": 1000
        },
        "id": "EmmbHdpJ8sSW",
        "outputId": "c1f7fec1-9d38-4e5f-f931-3266761d8079"
      },
      "source": [
        "df = df.drop_duplicates()\n",
        "df"
      ],
      "execution_count": 30,
      "outputs": [
        {
          "output_type": "execute_result",
          "data": {
            "text/html": [
              "<div>\n",
              "<style scoped>\n",
              "    .dataframe tbody tr th:only-of-type {\n",
              "        vertical-align: middle;\n",
              "    }\n",
              "\n",
              "    .dataframe tbody tr th {\n",
              "        vertical-align: top;\n",
              "    }\n",
              "\n",
              "    .dataframe thead th {\n",
              "        text-align: right;\n",
              "    }\n",
              "</style>\n",
              "<table border=\"1\" class=\"dataframe\">\n",
              "  <thead>\n",
              "    <tr style=\"text-align: right;\">\n",
              "      <th></th>\n",
              "      <th>NL</th>\n",
              "      <th>SAR</th>\n",
              "    </tr>\n",
              "  </thead>\n",
              "  <tbody>\n",
              "    <tr>\n",
              "      <th>0</th>\n",
              "      <td>an application having a time selector .</td>\n",
              "      <td>&lt;complist&gt; &lt;timepicker&gt; &lt;/complist&gt;</td>\n",
              "    </tr>\n",
              "    <tr>\n",
              "      <th>1</th>\n",
              "      <td>create an app with a button , a menu with sour...</td>\n",
              "      <td>&lt;complist&gt; &lt;button&gt; button1 &lt;/button&gt; &lt;video_p...</td>\n",
              "    </tr>\n",
              "    <tr>\n",
              "      <th>2</th>\n",
              "      <td>give me a mobile app consisting a laptop , an ...</td>\n",
              "      <td>&lt;complist&gt; &lt;switch&gt; switch1 &lt;/switch&gt; &lt;player&gt;...</td>\n",
              "    </tr>\n",
              "    <tr>\n",
              "      <th>3</th>\n",
              "      <td>mobile app with a shake sensor , a text2speech...</td>\n",
              "      <td>&lt;complist&gt; &lt;accelerometer&gt; &lt;text2speech&gt; &lt;text...</td>\n",
              "    </tr>\n",
              "    <tr>\n",
              "      <th>4</th>\n",
              "      <td>mobile application consisting a shake sensors ...</td>\n",
              "      <td>&lt;complist&gt; &lt;accelerometer&gt; &lt;switch&gt; switch1 &lt;/...</td>\n",
              "    </tr>\n",
              "    <tr>\n",
              "      <th>5</th>\n",
              "      <td>a mobile application containing a video player...</td>\n",
              "      <td>&lt;complist&gt; &lt;video_player&gt; string0 &lt;/video_play...</td>\n",
              "    </tr>\n",
              "    <tr>\n",
              "      <th>6</th>\n",
              "      <td>an application consisting of a time selector ,...</td>\n",
              "      <td>&lt;complist&gt; &lt;timepicker&gt; &lt;player&gt; string0 &lt;/pla...</td>\n",
              "    </tr>\n",
              "    <tr>\n",
              "      <th>7</th>\n",
              "      <td>make application consisting a circle , a ball ...</td>\n",
              "      <td>&lt;complist&gt; &lt;ball&gt; &lt;video_player&gt; string0 &lt;/vid...</td>\n",
              "    </tr>\n",
              "    <tr>\n",
              "      <th>8</th>\n",
              "      <td>make another application containing a music wi...</td>\n",
              "      <td>&lt;complist&gt; &lt;player&gt; string0 &lt;/player&gt; &lt;passwor...</td>\n",
              "    </tr>\n",
              "    <tr>\n",
              "      <th>9</th>\n",
              "      <td>create application that has integrated camera .</td>\n",
              "      <td>&lt;complist&gt; &lt;camera&gt; &lt;/complist&gt;</td>\n",
              "    </tr>\n",
              "    <tr>\n",
              "      <th>10</th>\n",
              "      <td>an app consisting of a label , audio switch na...</td>\n",
              "      <td>&lt;complist&gt; &lt;label&gt; label1 &lt;/label&gt; &lt;switch&gt; st...</td>\n",
              "    </tr>\n",
              "    <tr>\n",
              "      <th>11</th>\n",
              "      <td>an application with a music with a random soun...</td>\n",
              "      <td>&lt;complist&gt; &lt;player&gt; random_player_source &lt;/pla...</td>\n",
              "    </tr>\n",
              "    <tr>\n",
              "      <th>12</th>\n",
              "      <td>a software consisting includes timepicker , a ...</td>\n",
              "      <td>&lt;complist&gt; &lt;timepicker&gt; &lt;textbox&gt; &lt;camera&gt; &lt;ba...</td>\n",
              "    </tr>\n",
              "    <tr>\n",
              "      <th>13</th>\n",
              "      <td>an application with a shake sensor , a button ...</td>\n",
              "      <td>&lt;complist&gt; &lt;accelerometer&gt; &lt;button&gt; button1 &lt;/...</td>\n",
              "    </tr>\n",
              "    <tr>\n",
              "      <th>14</th>\n",
              "      <td>give me an address consisting a passwordbox .</td>\n",
              "      <td>&lt;complist&gt; &lt;passwordtextbox&gt; &lt;/complist&gt;</td>\n",
              "    </tr>\n",
              "    <tr>\n",
              "      <th>15</th>\n",
              "      <td>app consisting of a player with source string0...</td>\n",
              "      <td>&lt;complist&gt; &lt;player&gt; string0 &lt;/player&gt; &lt;timepic...</td>\n",
              "    </tr>\n",
              "    <tr>\n",
              "      <th>16</th>\n",
              "      <td>app containing a ball map and map text2speech ...</td>\n",
              "      <td>&lt;complist&gt; &lt;ball&gt; &lt;text2speech&gt; &lt;/complist&gt; &lt;c...</td>\n",
              "    </tr>\n",
              "    <tr>\n",
              "      <th>17</th>\n",
              "      <td>make application containing a label , or text2...</td>\n",
              "      <td>&lt;complist&gt; &lt;label&gt; label1 &lt;/label&gt; &lt;text2speec...</td>\n",
              "    </tr>\n",
              "    <tr>\n",
              "      <th>18</th>\n",
              "      <td>mobile application containing a time picker , ...</td>\n",
              "      <td>&lt;complist&gt; &lt;timepicker&gt; &lt;label&gt; string0 &lt;/labe...</td>\n",
              "    </tr>\n",
              "    <tr>\n",
              "      <th>19</th>\n",
              "      <td>mobile app with a passwordbox , a button , a v...</td>\n",
              "      <td>&lt;complist&gt; &lt;passwordtextbox&gt; &lt;button&gt; button1 ...</td>\n",
              "    </tr>\n",
              "    <tr>\n",
              "      <th>20</th>\n",
              "      <td>boxes consisting a switch , a circle , a textb...</td>\n",
              "      <td>&lt;complist&gt; &lt;switch&gt; switch1 &lt;/switch&gt; &lt;ball&gt; &lt;...</td>\n",
              "    </tr>\n",
              "    <tr>\n",
              "      <th>21</th>\n",
              "      <td>give me strings with a circle , a music player...</td>\n",
              "      <td>&lt;complist&gt; &lt;ball&gt; &lt;player&gt; string0 &lt;/player&gt; &lt;...</td>\n",
              "    </tr>\n",
              "    <tr>\n",
              "      <th>22</th>\n",
              "      <td>give me an application having embedded video w...</td>\n",
              "      <td>&lt;complist&gt; &lt;video_player&gt; string0 &lt;/video_play...</td>\n",
              "    </tr>\n",
              "    <tr>\n",
              "      <th>23</th>\n",
              "      <td>a software having a time picker , a label , a ...</td>\n",
              "      <td>&lt;complist&gt; &lt;timepicker&gt; &lt;label&gt; label1 &lt;/label...</td>\n",
              "    </tr>\n",
              "    <tr>\n",
              "      <th>24</th>\n",
              "      <td>create mobile application having a video with ...</td>\n",
              "      <td>&lt;complist&gt; &lt;video_player&gt; string0 &lt;/video_play...</td>\n",
              "    </tr>\n",
              "    <tr>\n",
              "      <th>25</th>\n",
              "      <td>make application with a label to speech , a la...</td>\n",
              "      <td>&lt;complist&gt; &lt;text2speech&gt; &lt;label&gt; label1 &lt;/labe...</td>\n",
              "    </tr>\n",
              "    <tr>\n",
              "      <th>26</th>\n",
              "      <td>create mobile app that has a password box , a ...</td>\n",
              "      <td>&lt;complist&gt; &lt;passwordtextbox&gt; &lt;ball&gt; &lt;passwordt...</td>\n",
              "    </tr>\n",
              "    <tr>\n",
              "      <th>27</th>\n",
              "      <td>make an application having a ball , a key sele...</td>\n",
              "      <td>&lt;complist&gt; &lt;ball&gt; &lt;timepicker&gt; &lt;accelerometer&gt;...</td>\n",
              "    </tr>\n",
              "    <tr>\n",
              "      <th>28</th>\n",
              "      <td>device containing a switch named string0 , a t...</td>\n",
              "      <td>&lt;complist&gt; &lt;switch&gt; string0 &lt;/switch&gt; &lt;timepic...</td>\n",
              "    </tr>\n",
              "    <tr>\n",
              "      <th>29</th>\n",
              "      <td>make mobile application consisting a switch co...</td>\n",
              "      <td>&lt;complist&gt; &lt;switch&gt; switch1 &lt;/switch&gt; &lt;textbox...</td>\n",
              "    </tr>\n",
              "    <tr>\n",
              "      <th>30</th>\n",
              "      <td>using its mobile app consisting a ball , and a...</td>\n",
              "      <td>&lt;complist&gt; &lt;ball&gt; &lt;button&gt; string0 &lt;/button&gt; &lt;...</td>\n",
              "    </tr>\n",
              "    <tr>\n",
              "      <th>31</th>\n",
              "      <td>requires an app that has a button named string...</td>\n",
              "      <td>&lt;complist&gt; &lt;button&gt; string0 &lt;/button&gt; &lt;ball&gt; &lt;...</td>\n",
              "    </tr>\n",
              "    <tr>\n",
              "      <th>32</th>\n",
              "      <td>give me mobile app with a pasword text box , a...</td>\n",
              "      <td>&lt;complist&gt; &lt;passwordtextbox&gt; &lt;video_player&gt; st...</td>\n",
              "    </tr>\n",
              "    <tr>\n",
              "      <th>33</th>\n",
              "      <td>create a mobile application with a button name...</td>\n",
              "      <td>&lt;complist&gt; &lt;button&gt; string0 &lt;/button&gt; &lt;video_p...</td>\n",
              "    </tr>\n",
              "    <tr>\n",
              "      <th>34</th>\n",
              "      <td>an app consisting of a timepicker , a label na...</td>\n",
              "      <td>&lt;complist&gt; &lt;timepicker&gt; &lt;label&gt; string0 &lt;/labe...</td>\n",
              "    </tr>\n",
              "    <tr>\n",
              "      <th>35</th>\n",
              "      <td>make mobile application that has a ball contai...</td>\n",
              "      <td>&lt;complist&gt; &lt;ball&gt; &lt;camera&gt; &lt;label&gt; label1 &lt;/la...</td>\n",
              "    </tr>\n",
              "    <tr>\n",
              "      <th>36</th>\n",
              "      <td>mobile application with an audio player with s...</td>\n",
              "      <td>&lt;complist&gt; &lt;player&gt; string0 &lt;/player&gt; &lt;acceler...</td>\n",
              "    </tr>\n",
              "    <tr>\n",
              "      <th>37</th>\n",
              "      <td>give me mobile app that has a menu box , a tim...</td>\n",
              "      <td>&lt;complist&gt; &lt;textbox&gt; &lt;timepicker&gt; &lt;textbox&gt; &lt;t...</td>\n",
              "    </tr>\n",
              "    <tr>\n",
              "      <th>38</th>\n",
              "      <td>create software having a time picker , a mouse...</td>\n",
              "      <td>&lt;complist&gt; &lt;timepicker&gt; &lt;ball&gt; &lt;video_player&gt; ...</td>\n",
              "    </tr>\n",
              "    <tr>\n",
              "      <th>39</th>\n",
              "      <td>an interface includes a shake sensor , a menu ...</td>\n",
              "      <td>&lt;complist&gt; &lt;accelerometer&gt; &lt;button&gt; button1 &lt;/...</td>\n",
              "    </tr>\n",
              "    <tr>\n",
              "      <th>40</th>\n",
              "      <td>application consisting a password box featurin...</td>\n",
              "      <td>&lt;complist&gt; &lt;passwordtextbox&gt; &lt;label&gt; string0 &lt;...</td>\n",
              "    </tr>\n",
              "    <tr>\n",
              "      <th>41</th>\n",
              "      <td>an application containing a label , a button ,...</td>\n",
              "      <td>&lt;complist&gt; &lt;label&gt; label1 &lt;/label&gt; &lt;button&gt; bu...</td>\n",
              "    </tr>\n",
              "    <tr>\n",
              "      <th>42</th>\n",
              "      <td>give me mobile app consisting a video with a r...</td>\n",
              "      <td>&lt;complist&gt; &lt;video_player&gt; random_video_player_...</td>\n",
              "    </tr>\n",
              "    <tr>\n",
              "      <th>43</th>\n",
              "      <td>make a mobile application consisting a music p...</td>\n",
              "      <td>&lt;complist&gt; &lt;player&gt; string0 &lt;/player&gt; &lt;acceler...</td>\n",
              "    </tr>\n",
              "    <tr>\n",
              "      <th>44</th>\n",
              "      <td>give me a app that has a time selector , one p...</td>\n",
              "      <td>&lt;complist&gt; &lt;timepicker&gt; &lt;passwordtextbox&gt; &lt;bal...</td>\n",
              "    </tr>\n",
              "    <tr>\n",
              "      <th>45</th>\n",
              "      <td>create a mobile application consisting a label...</td>\n",
              "      <td>&lt;complist&gt; &lt;label&gt; string0 &lt;/label&gt; &lt;camera&gt; &lt;...</td>\n",
              "    </tr>\n",
              "    <tr>\n",
              "      <th>46</th>\n",
              "      <td>a tablet app containing a button , and a speec...</td>\n",
              "      <td>&lt;complist&gt; &lt;button&gt; button1 &lt;/button&gt; &lt;text2sp...</td>\n",
              "    </tr>\n",
              "    <tr>\n",
              "      <th>47</th>\n",
              "      <td>create application consisting of a text box :</td>\n",
              "      <td>&lt;complist&gt; &lt;textbox&gt; &lt;/complist&gt;</td>\n",
              "    </tr>\n",
              "    <tr>\n",
              "      <th>48</th>\n",
              "      <td>create mobile application consisting of each b...</td>\n",
              "      <td>&lt;complist&gt; &lt;ball&gt; &lt;accelerometer&gt; &lt;passwordtex...</td>\n",
              "    </tr>\n",
              "    <tr>\n",
              "      <th>49</th>\n",
              "      <td>a mobile app consisting of a textbox , a video...</td>\n",
              "      <td>&lt;complist&gt; &lt;textbox&gt; &lt;video_player&gt; string0 &lt;/...</td>\n",
              "    </tr>\n",
              "  </tbody>\n",
              "</table>\n",
              "</div>"
            ],
            "text/plain": [
              "                                                   NL                                                SAR\n",
              "0             an application having a time selector .                <complist> <timepicker> </complist>\n",
              "1   create an app with a button , a menu with sour...  <complist> <button> button1 </button> <video_p...\n",
              "2   give me a mobile app consisting a laptop , an ...  <complist> <switch> switch1 </switch> <player>...\n",
              "3   mobile app with a shake sensor , a text2speech...  <complist> <accelerometer> <text2speech> <text...\n",
              "4   mobile application consisting a shake sensors ...  <complist> <accelerometer> <switch> switch1 </...\n",
              "5   a mobile application containing a video player...  <complist> <video_player> string0 </video_play...\n",
              "6   an application consisting of a time selector ,...  <complist> <timepicker> <player> string0 </pla...\n",
              "7   make application consisting a circle , a ball ...  <complist> <ball> <video_player> string0 </vid...\n",
              "8   make another application containing a music wi...  <complist> <player> string0 </player> <passwor...\n",
              "9     create application that has integrated camera .                    <complist> <camera> </complist>\n",
              "10  an app consisting of a label , audio switch na...  <complist> <label> label1 </label> <switch> st...\n",
              "11  an application with a music with a random soun...  <complist> <player> random_player_source </pla...\n",
              "12  a software consisting includes timepicker , a ...  <complist> <timepicker> <textbox> <camera> <ba...\n",
              "13  an application with a shake sensor , a button ...  <complist> <accelerometer> <button> button1 </...\n",
              "14      give me an address consisting a passwordbox .           <complist> <passwordtextbox> </complist>\n",
              "15  app consisting of a player with source string0...  <complist> <player> string0 </player> <timepic...\n",
              "16  app containing a ball map and map text2speech ...  <complist> <ball> <text2speech> </complist> <c...\n",
              "17  make application containing a label , or text2...  <complist> <label> label1 </label> <text2speec...\n",
              "18  mobile application containing a time picker , ...  <complist> <timepicker> <label> string0 </labe...\n",
              "19  mobile app with a passwordbox , a button , a v...  <complist> <passwordtextbox> <button> button1 ...\n",
              "20  boxes consisting a switch , a circle , a textb...  <complist> <switch> switch1 </switch> <ball> <...\n",
              "21  give me strings with a circle , a music player...  <complist> <ball> <player> string0 </player> <...\n",
              "22  give me an application having embedded video w...  <complist> <video_player> string0 </video_play...\n",
              "23  a software having a time picker , a label , a ...  <complist> <timepicker> <label> label1 </label...\n",
              "24  create mobile application having a video with ...  <complist> <video_player> string0 </video_play...\n",
              "25  make application with a label to speech , a la...  <complist> <text2speech> <label> label1 </labe...\n",
              "26  create mobile app that has a password box , a ...  <complist> <passwordtextbox> <ball> <passwordt...\n",
              "27  make an application having a ball , a key sele...  <complist> <ball> <timepicker> <accelerometer>...\n",
              "28  device containing a switch named string0 , a t...  <complist> <switch> string0 </switch> <timepic...\n",
              "29  make mobile application consisting a switch co...  <complist> <switch> switch1 </switch> <textbox...\n",
              "30  using its mobile app consisting a ball , and a...  <complist> <ball> <button> string0 </button> <...\n",
              "31  requires an app that has a button named string...  <complist> <button> string0 </button> <ball> <...\n",
              "32  give me mobile app with a pasword text box , a...  <complist> <passwordtextbox> <video_player> st...\n",
              "33  create a mobile application with a button name...  <complist> <button> string0 </button> <video_p...\n",
              "34  an app consisting of a timepicker , a label na...  <complist> <timepicker> <label> string0 </labe...\n",
              "35  make mobile application that has a ball contai...  <complist> <ball> <camera> <label> label1 </la...\n",
              "36  mobile application with an audio player with s...  <complist> <player> string0 </player> <acceler...\n",
              "37  give me mobile app that has a menu box , a tim...  <complist> <textbox> <timepicker> <textbox> <t...\n",
              "38  create software having a time picker , a mouse...  <complist> <timepicker> <ball> <video_player> ...\n",
              "39  an interface includes a shake sensor , a menu ...  <complist> <accelerometer> <button> button1 </...\n",
              "40  application consisting a password box featurin...  <complist> <passwordtextbox> <label> string0 <...\n",
              "41  an application containing a label , a button ,...  <complist> <label> label1 </label> <button> bu...\n",
              "42  give me mobile app consisting a video with a r...  <complist> <video_player> random_video_player_...\n",
              "43  make a mobile application consisting a music p...  <complist> <player> string0 </player> <acceler...\n",
              "44  give me a app that has a time selector , one p...  <complist> <timepicker> <passwordtextbox> <bal...\n",
              "45  create a mobile application consisting a label...  <complist> <label> string0 </label> <camera> <...\n",
              "46  a tablet app containing a button , and a speec...  <complist> <button> button1 </button> <text2sp...\n",
              "47      create application consisting of a text box :                   <complist> <textbox> </complist>\n",
              "48  create mobile application consisting of each b...  <complist> <ball> <accelerometer> <passwordtex...\n",
              "49  a mobile app consisting of a textbox , a video...  <complist> <textbox> <video_player> string0 </..."
            ]
          },
          "metadata": {
            "tags": []
          },
          "execution_count": 30
        }
      ]
    },
    {
      "cell_type": "code",
      "metadata": {
        "id": "3wAF444JmaM4"
      },
      "source": [
        "df = df[:1000]"
      ],
      "execution_count": null,
      "outputs": []
    },
    {
      "cell_type": "code",
      "metadata": {
        "id": "_HouWKj5w_u7"
      },
      "source": [
        "df.to_csv(\"nl_sar_camera_test.csv\", index=False)"
      ],
      "execution_count": null,
      "outputs": []
    },
    {
      "cell_type": "code",
      "metadata": {
        "colab": {
          "base_uri": "https://localhost:8080/"
        },
        "id": "Xl702y62U5-M",
        "outputId": "42c4b077-8b00-4afc-d037-249ba7b7df60"
      },
      "source": [
        "train_frac = 0.8\n",
        "valid_frac = 0.1\n",
        "\n",
        "train = df[:int(len(df)*train_frac)]\n",
        "valid = df[int(len(df)*train_frac): int(len(df)*(train_frac+valid_frac))]\n",
        "test = df[int(len(df)*(train_frac+valid_frac)): ]\n",
        "\n",
        "train.to_csv(\"nl_sar_train.csv\", index=False)\n",
        "test.to_csv(\"nl_sar_test.csv\", index=False)\n",
        "valid.to_csv(\"nl_sar_valid.csv\", index=False)\n",
        "\n",
        "len(train), len(valid), len(test)"
      ],
      "execution_count": null,
      "outputs": [
        {
          "output_type": "execute_result",
          "data": {
            "text/plain": [
              "(40000, 5000, 5000)"
            ]
          },
          "metadata": {
            "tags": []
          },
          "execution_count": 25
        }
      ]
    },
    {
      "cell_type": "code",
      "metadata": {
        "id": "O4XIY4IvG04T"
      },
      "source": [
        "import os\n",
        "if not os.path.exists(\"./Synthesized_Data\"):\n",
        "  os.makedirs(\"./Synthesized_Data\")"
      ],
      "execution_count": null,
      "outputs": []
    },
    {
      "cell_type": "code",
      "metadata": {
        "id": "khzBHZVN0Rcl"
      },
      "source": [
        "!cp nl_sar_* ./Synthesized_Data/"
      ],
      "execution_count": null,
      "outputs": []
    },
    {
      "cell_type": "code",
      "metadata": {
        "colab": {
          "base_uri": "https://localhost:8080/",
          "height": 70
        },
        "id": "xV7JI3S9kvhp",
        "outputId": "91287593-77ff-40a5-c255-4acbdb0dd722"
      },
      "source": [
        "# For Colab\n",
        "from google.colab import files\n",
        "\n",
        "!zip -r Synthesized_Data Synthesized_Data/*\n",
        "\n",
        "files.download('Synthesized_Data.zip')"
      ],
      "execution_count": null,
      "outputs": [
        {
          "output_type": "stream",
          "text": [
            "  adding: Synthesized_Data/nl_sar_test.csv (deflated 91%)\n",
            "  adding: Synthesized_Data/nl_sar_train.csv (deflated 91%)\n",
            "  adding: Synthesized_Data/nl_sar_valid.csv (deflated 91%)\n"
          ],
          "name": "stdout"
        },
        {
          "output_type": "display_data",
          "data": {
            "application/javascript": [
              "\n",
              "    async function download(id, filename, size) {\n",
              "      if (!google.colab.kernel.accessAllowed) {\n",
              "        return;\n",
              "      }\n",
              "      const div = document.createElement('div');\n",
              "      const label = document.createElement('label');\n",
              "      label.textContent = `Downloading \"${filename}\": `;\n",
              "      div.appendChild(label);\n",
              "      const progress = document.createElement('progress');\n",
              "      progress.max = size;\n",
              "      div.appendChild(progress);\n",
              "      document.body.appendChild(div);\n",
              "\n",
              "      const buffers = [];\n",
              "      let downloaded = 0;\n",
              "\n",
              "      const channel = await google.colab.kernel.comms.open(id);\n",
              "      // Send a message to notify the kernel that we're ready.\n",
              "      channel.send({})\n",
              "\n",
              "      for await (const message of channel.messages) {\n",
              "        // Send a message to notify the kernel that we're ready.\n",
              "        channel.send({})\n",
              "        if (message.buffers) {\n",
              "          for (const buffer of message.buffers) {\n",
              "            buffers.push(buffer);\n",
              "            downloaded += buffer.byteLength;\n",
              "            progress.value = downloaded;\n",
              "          }\n",
              "        }\n",
              "      }\n",
              "      const blob = new Blob(buffers, {type: 'application/binary'});\n",
              "      const a = document.createElement('a');\n",
              "      a.href = window.URL.createObjectURL(blob);\n",
              "      a.download = filename;\n",
              "      div.appendChild(a);\n",
              "      a.click();\n",
              "      div.remove();\n",
              "    }\n",
              "  "
            ],
            "text/plain": [
              "<IPython.core.display.Javascript object>"
            ]
          },
          "metadata": {
            "tags": []
          }
        },
        {
          "output_type": "display_data",
          "data": {
            "application/javascript": [
              "download(\"download_45f8d584-ab0a-4882-aba8-8dc20f314b0b\", \"Synthesized_Data.zip\", 1647135)"
            ],
            "text/plain": [
              "<IPython.core.display.Javascript object>"
            ]
          },
          "metadata": {
            "tags": []
          }
        }
      ]
    },
    {
      "cell_type": "markdown",
      "metadata": {
        "id": "Ti24nzDVNROD"
      },
      "source": [
        "## Synthetic data anlaytics"
      ]
    },
    {
      "cell_type": "code",
      "metadata": {
        "id": "jfwMTU7udLQf"
      },
      "source": [
        "nl_len = []\n",
        "sar_len = []\n",
        "for nl in nl_list:\n",
        "  nl_len.append(len(nl.split()))\n",
        "\n",
        "for sar in sar_list:\n",
        "  sar_len.append(len(sar.split()))"
      ],
      "execution_count": null,
      "outputs": []
    },
    {
      "cell_type": "code",
      "metadata": {
        "colab": {
          "base_uri": "https://localhost:8080/"
        },
        "id": "ILak4TpiM2Wm",
        "outputId": "bb0af47d-572a-4f24-f2b8-2cbb57a88662"
      },
      "source": [
        "sum(nl_len)/len(nl_len)"
      ],
      "execution_count": null,
      "outputs": [
        {
          "output_type": "execute_result",
          "data": {
            "text/plain": [
              "30.701854545454545"
            ]
          },
          "metadata": {
            "tags": []
          },
          "execution_count": 39
        }
      ]
    },
    {
      "cell_type": "code",
      "metadata": {
        "colab": {
          "base_uri": "https://localhost:8080/"
        },
        "id": "_6EWgGIdM7jz",
        "outputId": "649f2e2a-408e-405b-a4e0-96c153d90db6"
      },
      "source": [
        "sum(sar_len)/len(sar_len)"
      ],
      "execution_count": null,
      "outputs": [
        {
          "output_type": "execute_result",
          "data": {
            "text/plain": [
              "16.060727272727274"
            ]
          },
          "metadata": {
            "tags": []
          },
          "execution_count": 40
        }
      ]
    },
    {
      "cell_type": "code",
      "metadata": {
        "colab": {
          "base_uri": "https://localhost:8080/"
        },
        "id": "L0UYaWIFNKF4",
        "outputId": "a9be8c40-ce56-41e0-e7ca-daa6ac889b77"
      },
      "source": [
        "max(nl_len), min(nl_len)"
      ],
      "execution_count": null,
      "outputs": [
        {
          "output_type": "execute_result",
          "data": {
            "text/plain": [
              "(82, 5)"
            ]
          },
          "metadata": {
            "tags": []
          },
          "execution_count": 41
        }
      ]
    },
    {
      "cell_type": "code",
      "metadata": {
        "colab": {
          "base_uri": "https://localhost:8080/"
        },
        "id": "rE-QDwWvNVYL",
        "outputId": "95b38dae-b41f-4991-e9a2-f08ad5d0477e"
      },
      "source": [
        "max(sar_len), min(sar_len)"
      ],
      "execution_count": null,
      "outputs": [
        {
          "output_type": "execute_result",
          "data": {
            "text/plain": [
              "(45, 3)"
            ]
          },
          "metadata": {
            "tags": []
          },
          "execution_count": 42
        }
      ]
    },
    {
      "cell_type": "code",
      "metadata": {
        "id": "HgTyBTt4NXA1"
      },
      "source": [
        ""
      ],
      "execution_count": null,
      "outputs": []
    }
  ]
}