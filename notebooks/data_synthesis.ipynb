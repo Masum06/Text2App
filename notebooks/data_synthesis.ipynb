{
  "nbformat": 4,
  "nbformat_minor": 0,
  "metadata": {
    "colab": {
      "name": "text2app_data_synthesis.ipynb",
      "provenance": [],
      "collapsed_sections": [],
      "toc_visible": true,
      "include_colab_link": true
    },
    "kernelspec": {
      "name": "python3",
      "display_name": "Python 3"
    },
    "accelerator": "GPU",
    "widgets": {
      "application/vnd.jupyter.widget-state+json": {
        "5c49dd8830214cfea7501b1379e7a7b6": {
          "model_module": "@jupyter-widgets/controls",
          "model_name": "HBoxModel",
          "model_module_version": "1.5.0",
          "state": {
            "_dom_classes": [],
            "_model_module": "@jupyter-widgets/controls",
            "_model_module_version": "1.5.0",
            "_model_name": "HBoxModel",
            "_view_count": null,
            "_view_module": "@jupyter-widgets/controls",
            "_view_module_version": "1.5.0",
            "_view_name": "HBoxView",
            "box_style": "",
            "children": [
              "IPY_MODEL_92df7134e8534058a796c35b45412557",
              "IPY_MODEL_7536e4b38219456cb6bb045bce242690",
              "IPY_MODEL_ee6fa0434ccb4c0dae81f940b05c187f"
            ],
            "layout": "IPY_MODEL_58b94831bf83441da7f60b85d56a4fc6"
          }
        },
        "92df7134e8534058a796c35b45412557": {
          "model_module": "@jupyter-widgets/controls",
          "model_name": "HTMLModel",
          "model_module_version": "1.5.0",
          "state": {
            "_dom_classes": [],
            "_model_module": "@jupyter-widgets/controls",
            "_model_module_version": "1.5.0",
            "_model_name": "HTMLModel",
            "_view_count": null,
            "_view_module": "@jupyter-widgets/controls",
            "_view_module_version": "1.5.0",
            "_view_name": "HTMLView",
            "description": "",
            "description_tooltip": null,
            "layout": "IPY_MODEL_488a16eef5ce4b5db06c62326e48e3fc",
            "placeholder": "​",
            "style": "IPY_MODEL_2d757bf5bb8240a48a0e4e35f1ff95a7",
            "value": "Downloading: 100%"
          }
        },
        "7536e4b38219456cb6bb045bce242690": {
          "model_module": "@jupyter-widgets/controls",
          "model_name": "FloatProgressModel",
          "model_module_version": "1.5.0",
          "state": {
            "_dom_classes": [],
            "_model_module": "@jupyter-widgets/controls",
            "_model_module_version": "1.5.0",
            "_model_name": "FloatProgressModel",
            "_view_count": null,
            "_view_module": "@jupyter-widgets/controls",
            "_view_module_version": "1.5.0",
            "_view_name": "ProgressView",
            "bar_style": "success",
            "description": "",
            "description_tooltip": null,
            "layout": "IPY_MODEL_e92032ae440d45b48fea73b88ea19f7d",
            "max": 411,
            "min": 0,
            "orientation": "horizontal",
            "style": "IPY_MODEL_c822cf7fe31d4637afaa22a434dacce2",
            "value": 411
          }
        },
        "ee6fa0434ccb4c0dae81f940b05c187f": {
          "model_module": "@jupyter-widgets/controls",
          "model_name": "HTMLModel",
          "model_module_version": "1.5.0",
          "state": {
            "_dom_classes": [],
            "_model_module": "@jupyter-widgets/controls",
            "_model_module_version": "1.5.0",
            "_model_name": "HTMLModel",
            "_view_count": null,
            "_view_module": "@jupyter-widgets/controls",
            "_view_module_version": "1.5.0",
            "_view_name": "HTMLView",
            "description": "",
            "description_tooltip": null,
            "layout": "IPY_MODEL_cd53838004284da19913f2d807d58140",
            "placeholder": "​",
            "style": "IPY_MODEL_b4af220708fa4caeb0ea7cb9bf59a0da",
            "value": " 411/411 [00:00&lt;00:00, 7.00kB/s]"
          }
        },
        "58b94831bf83441da7f60b85d56a4fc6": {
          "model_module": "@jupyter-widgets/base",
          "model_name": "LayoutModel",
          "model_module_version": "1.2.0",
          "state": {
            "_model_module": "@jupyter-widgets/base",
            "_model_module_version": "1.2.0",
            "_model_name": "LayoutModel",
            "_view_count": null,
            "_view_module": "@jupyter-widgets/base",
            "_view_module_version": "1.2.0",
            "_view_name": "LayoutView",
            "align_content": null,
            "align_items": null,
            "align_self": null,
            "border": null,
            "bottom": null,
            "display": null,
            "flex": null,
            "flex_flow": null,
            "grid_area": null,
            "grid_auto_columns": null,
            "grid_auto_flow": null,
            "grid_auto_rows": null,
            "grid_column": null,
            "grid_gap": null,
            "grid_row": null,
            "grid_template_areas": null,
            "grid_template_columns": null,
            "grid_template_rows": null,
            "height": null,
            "justify_content": null,
            "justify_items": null,
            "left": null,
            "margin": null,
            "max_height": null,
            "max_width": null,
            "min_height": null,
            "min_width": null,
            "object_fit": null,
            "object_position": null,
            "order": null,
            "overflow": null,
            "overflow_x": null,
            "overflow_y": null,
            "padding": null,
            "right": null,
            "top": null,
            "visibility": null,
            "width": null
          }
        },
        "488a16eef5ce4b5db06c62326e48e3fc": {
          "model_module": "@jupyter-widgets/base",
          "model_name": "LayoutModel",
          "model_module_version": "1.2.0",
          "state": {
            "_model_module": "@jupyter-widgets/base",
            "_model_module_version": "1.2.0",
            "_model_name": "LayoutModel",
            "_view_count": null,
            "_view_module": "@jupyter-widgets/base",
            "_view_module_version": "1.2.0",
            "_view_name": "LayoutView",
            "align_content": null,
            "align_items": null,
            "align_self": null,
            "border": null,
            "bottom": null,
            "display": null,
            "flex": null,
            "flex_flow": null,
            "grid_area": null,
            "grid_auto_columns": null,
            "grid_auto_flow": null,
            "grid_auto_rows": null,
            "grid_column": null,
            "grid_gap": null,
            "grid_row": null,
            "grid_template_areas": null,
            "grid_template_columns": null,
            "grid_template_rows": null,
            "height": null,
            "justify_content": null,
            "justify_items": null,
            "left": null,
            "margin": null,
            "max_height": null,
            "max_width": null,
            "min_height": null,
            "min_width": null,
            "object_fit": null,
            "object_position": null,
            "order": null,
            "overflow": null,
            "overflow_x": null,
            "overflow_y": null,
            "padding": null,
            "right": null,
            "top": null,
            "visibility": null,
            "width": null
          }
        },
        "2d757bf5bb8240a48a0e4e35f1ff95a7": {
          "model_module": "@jupyter-widgets/controls",
          "model_name": "DescriptionStyleModel",
          "model_module_version": "1.5.0",
          "state": {
            "_model_module": "@jupyter-widgets/controls",
            "_model_module_version": "1.5.0",
            "_model_name": "DescriptionStyleModel",
            "_view_count": null,
            "_view_module": "@jupyter-widgets/base",
            "_view_module_version": "1.2.0",
            "_view_name": "StyleView",
            "description_width": ""
          }
        },
        "e92032ae440d45b48fea73b88ea19f7d": {
          "model_module": "@jupyter-widgets/base",
          "model_name": "LayoutModel",
          "model_module_version": "1.2.0",
          "state": {
            "_model_module": "@jupyter-widgets/base",
            "_model_module_version": "1.2.0",
            "_model_name": "LayoutModel",
            "_view_count": null,
            "_view_module": "@jupyter-widgets/base",
            "_view_module_version": "1.2.0",
            "_view_name": "LayoutView",
            "align_content": null,
            "align_items": null,
            "align_self": null,
            "border": null,
            "bottom": null,
            "display": null,
            "flex": null,
            "flex_flow": null,
            "grid_area": null,
            "grid_auto_columns": null,
            "grid_auto_flow": null,
            "grid_auto_rows": null,
            "grid_column": null,
            "grid_gap": null,
            "grid_row": null,
            "grid_template_areas": null,
            "grid_template_columns": null,
            "grid_template_rows": null,
            "height": null,
            "justify_content": null,
            "justify_items": null,
            "left": null,
            "margin": null,
            "max_height": null,
            "max_width": null,
            "min_height": null,
            "min_width": null,
            "object_fit": null,
            "object_position": null,
            "order": null,
            "overflow": null,
            "overflow_x": null,
            "overflow_y": null,
            "padding": null,
            "right": null,
            "top": null,
            "visibility": null,
            "width": null
          }
        },
        "c822cf7fe31d4637afaa22a434dacce2": {
          "model_module": "@jupyter-widgets/controls",
          "model_name": "ProgressStyleModel",
          "model_module_version": "1.5.0",
          "state": {
            "_model_module": "@jupyter-widgets/controls",
            "_model_module_version": "1.5.0",
            "_model_name": "ProgressStyleModel",
            "_view_count": null,
            "_view_module": "@jupyter-widgets/base",
            "_view_module_version": "1.2.0",
            "_view_name": "StyleView",
            "bar_color": null,
            "description_width": ""
          }
        },
        "cd53838004284da19913f2d807d58140": {
          "model_module": "@jupyter-widgets/base",
          "model_name": "LayoutModel",
          "model_module_version": "1.2.0",
          "state": {
            "_model_module": "@jupyter-widgets/base",
            "_model_module_version": "1.2.0",
            "_model_name": "LayoutModel",
            "_view_count": null,
            "_view_module": "@jupyter-widgets/base",
            "_view_module_version": "1.2.0",
            "_view_name": "LayoutView",
            "align_content": null,
            "align_items": null,
            "align_self": null,
            "border": null,
            "bottom": null,
            "display": null,
            "flex": null,
            "flex_flow": null,
            "grid_area": null,
            "grid_auto_columns": null,
            "grid_auto_flow": null,
            "grid_auto_rows": null,
            "grid_column": null,
            "grid_gap": null,
            "grid_row": null,
            "grid_template_areas": null,
            "grid_template_columns": null,
            "grid_template_rows": null,
            "height": null,
            "justify_content": null,
            "justify_items": null,
            "left": null,
            "margin": null,
            "max_height": null,
            "max_width": null,
            "min_height": null,
            "min_width": null,
            "object_fit": null,
            "object_position": null,
            "order": null,
            "overflow": null,
            "overflow_x": null,
            "overflow_y": null,
            "padding": null,
            "right": null,
            "top": null,
            "visibility": null,
            "width": null
          }
        },
        "b4af220708fa4caeb0ea7cb9bf59a0da": {
          "model_module": "@jupyter-widgets/controls",
          "model_name": "DescriptionStyleModel",
          "model_module_version": "1.5.0",
          "state": {
            "_model_module": "@jupyter-widgets/controls",
            "_model_module_version": "1.5.0",
            "_model_name": "DescriptionStyleModel",
            "_view_count": null,
            "_view_module": "@jupyter-widgets/base",
            "_view_module_version": "1.2.0",
            "_view_name": "StyleView",
            "description_width": ""
          }
        },
        "7716284542fd49f6867334769b8021f1": {
          "model_module": "@jupyter-widgets/controls",
          "model_name": "HBoxModel",
          "model_module_version": "1.5.0",
          "state": {
            "_dom_classes": [],
            "_model_module": "@jupyter-widgets/controls",
            "_model_module_version": "1.5.0",
            "_model_name": "HBoxModel",
            "_view_count": null,
            "_view_module": "@jupyter-widgets/controls",
            "_view_module_version": "1.5.0",
            "_view_name": "HBoxView",
            "box_style": "",
            "children": [
              "IPY_MODEL_8946e634d88c4bbe9b5e17b9ad1fe04a",
              "IPY_MODEL_d45edeec7fe04285ae28efd2a6671312",
              "IPY_MODEL_1128d84bfc304b12b52beb9b4e4567ee"
            ],
            "layout": "IPY_MODEL_8c36be11670346978f2dc7e5962cdb0f"
          }
        },
        "8946e634d88c4bbe9b5e17b9ad1fe04a": {
          "model_module": "@jupyter-widgets/controls",
          "model_name": "HTMLModel",
          "model_module_version": "1.5.0",
          "state": {
            "_dom_classes": [],
            "_model_module": "@jupyter-widgets/controls",
            "_model_module_version": "1.5.0",
            "_model_name": "HTMLModel",
            "_view_count": null,
            "_view_module": "@jupyter-widgets/controls",
            "_view_module_version": "1.5.0",
            "_view_name": "HTMLView",
            "description": "",
            "description_tooltip": null,
            "layout": "IPY_MODEL_f46e5a13448c4243b9782cfa00c068d4",
            "placeholder": "​",
            "style": "IPY_MODEL_ad4cee34ea024af2848bacd7f8a84fcf",
            "value": "Downloading: 100%"
          }
        },
        "d45edeec7fe04285ae28efd2a6671312": {
          "model_module": "@jupyter-widgets/controls",
          "model_name": "FloatProgressModel",
          "model_module_version": "1.5.0",
          "state": {
            "_dom_classes": [],
            "_model_module": "@jupyter-widgets/controls",
            "_model_module_version": "1.5.0",
            "_model_name": "FloatProgressModel",
            "_view_count": null,
            "_view_module": "@jupyter-widgets/controls",
            "_view_module_version": "1.5.0",
            "_view_name": "ProgressView",
            "bar_style": "success",
            "description": "",
            "description_tooltip": null,
            "layout": "IPY_MODEL_024383410c0148b1b1221b7c4339b0be",
            "max": 213450,
            "min": 0,
            "orientation": "horizontal",
            "style": "IPY_MODEL_94a5376e944c457f9f4459813d3aaaff",
            "value": 213450
          }
        },
        "1128d84bfc304b12b52beb9b4e4567ee": {
          "model_module": "@jupyter-widgets/controls",
          "model_name": "HTMLModel",
          "model_module_version": "1.5.0",
          "state": {
            "_dom_classes": [],
            "_model_module": "@jupyter-widgets/controls",
            "_model_module_version": "1.5.0",
            "_model_name": "HTMLModel",
            "_view_count": null,
            "_view_module": "@jupyter-widgets/controls",
            "_view_module_version": "1.5.0",
            "_view_name": "HTMLView",
            "description": "",
            "description_tooltip": null,
            "layout": "IPY_MODEL_2b218a74aed24270b21088195148901f",
            "placeholder": "​",
            "style": "IPY_MODEL_5b7d39c1e7ec40659edb85e1be7f8d80",
            "value": " 213k/213k [00:00&lt;00:00, 1.05MB/s]"
          }
        },
        "8c36be11670346978f2dc7e5962cdb0f": {
          "model_module": "@jupyter-widgets/base",
          "model_name": "LayoutModel",
          "model_module_version": "1.2.0",
          "state": {
            "_model_module": "@jupyter-widgets/base",
            "_model_module_version": "1.2.0",
            "_model_name": "LayoutModel",
            "_view_count": null,
            "_view_module": "@jupyter-widgets/base",
            "_view_module_version": "1.2.0",
            "_view_name": "LayoutView",
            "align_content": null,
            "align_items": null,
            "align_self": null,
            "border": null,
            "bottom": null,
            "display": null,
            "flex": null,
            "flex_flow": null,
            "grid_area": null,
            "grid_auto_columns": null,
            "grid_auto_flow": null,
            "grid_auto_rows": null,
            "grid_column": null,
            "grid_gap": null,
            "grid_row": null,
            "grid_template_areas": null,
            "grid_template_columns": null,
            "grid_template_rows": null,
            "height": null,
            "justify_content": null,
            "justify_items": null,
            "left": null,
            "margin": null,
            "max_height": null,
            "max_width": null,
            "min_height": null,
            "min_width": null,
            "object_fit": null,
            "object_position": null,
            "order": null,
            "overflow": null,
            "overflow_x": null,
            "overflow_y": null,
            "padding": null,
            "right": null,
            "top": null,
            "visibility": null,
            "width": null
          }
        },
        "f46e5a13448c4243b9782cfa00c068d4": {
          "model_module": "@jupyter-widgets/base",
          "model_name": "LayoutModel",
          "model_module_version": "1.2.0",
          "state": {
            "_model_module": "@jupyter-widgets/base",
            "_model_module_version": "1.2.0",
            "_model_name": "LayoutModel",
            "_view_count": null,
            "_view_module": "@jupyter-widgets/base",
            "_view_module_version": "1.2.0",
            "_view_name": "LayoutView",
            "align_content": null,
            "align_items": null,
            "align_self": null,
            "border": null,
            "bottom": null,
            "display": null,
            "flex": null,
            "flex_flow": null,
            "grid_area": null,
            "grid_auto_columns": null,
            "grid_auto_flow": null,
            "grid_auto_rows": null,
            "grid_column": null,
            "grid_gap": null,
            "grid_row": null,
            "grid_template_areas": null,
            "grid_template_columns": null,
            "grid_template_rows": null,
            "height": null,
            "justify_content": null,
            "justify_items": null,
            "left": null,
            "margin": null,
            "max_height": null,
            "max_width": null,
            "min_height": null,
            "min_width": null,
            "object_fit": null,
            "object_position": null,
            "order": null,
            "overflow": null,
            "overflow_x": null,
            "overflow_y": null,
            "padding": null,
            "right": null,
            "top": null,
            "visibility": null,
            "width": null
          }
        },
        "ad4cee34ea024af2848bacd7f8a84fcf": {
          "model_module": "@jupyter-widgets/controls",
          "model_name": "DescriptionStyleModel",
          "model_module_version": "1.5.0",
          "state": {
            "_model_module": "@jupyter-widgets/controls",
            "_model_module_version": "1.5.0",
            "_model_name": "DescriptionStyleModel",
            "_view_count": null,
            "_view_module": "@jupyter-widgets/base",
            "_view_module_version": "1.2.0",
            "_view_name": "StyleView",
            "description_width": ""
          }
        },
        "024383410c0148b1b1221b7c4339b0be": {
          "model_module": "@jupyter-widgets/base",
          "model_name": "LayoutModel",
          "model_module_version": "1.2.0",
          "state": {
            "_model_module": "@jupyter-widgets/base",
            "_model_module_version": "1.2.0",
            "_model_name": "LayoutModel",
            "_view_count": null,
            "_view_module": "@jupyter-widgets/base",
            "_view_module_version": "1.2.0",
            "_view_name": "LayoutView",
            "align_content": null,
            "align_items": null,
            "align_self": null,
            "border": null,
            "bottom": null,
            "display": null,
            "flex": null,
            "flex_flow": null,
            "grid_area": null,
            "grid_auto_columns": null,
            "grid_auto_flow": null,
            "grid_auto_rows": null,
            "grid_column": null,
            "grid_gap": null,
            "grid_row": null,
            "grid_template_areas": null,
            "grid_template_columns": null,
            "grid_template_rows": null,
            "height": null,
            "justify_content": null,
            "justify_items": null,
            "left": null,
            "margin": null,
            "max_height": null,
            "max_width": null,
            "min_height": null,
            "min_width": null,
            "object_fit": null,
            "object_position": null,
            "order": null,
            "overflow": null,
            "overflow_x": null,
            "overflow_y": null,
            "padding": null,
            "right": null,
            "top": null,
            "visibility": null,
            "width": null
          }
        },
        "94a5376e944c457f9f4459813d3aaaff": {
          "model_module": "@jupyter-widgets/controls",
          "model_name": "ProgressStyleModel",
          "model_module_version": "1.5.0",
          "state": {
            "_model_module": "@jupyter-widgets/controls",
            "_model_module_version": "1.5.0",
            "_model_name": "ProgressStyleModel",
            "_view_count": null,
            "_view_module": "@jupyter-widgets/base",
            "_view_module_version": "1.2.0",
            "_view_name": "StyleView",
            "bar_color": null,
            "description_width": ""
          }
        },
        "2b218a74aed24270b21088195148901f": {
          "model_module": "@jupyter-widgets/base",
          "model_name": "LayoutModel",
          "model_module_version": "1.2.0",
          "state": {
            "_model_module": "@jupyter-widgets/base",
            "_model_module_version": "1.2.0",
            "_model_name": "LayoutModel",
            "_view_count": null,
            "_view_module": "@jupyter-widgets/base",
            "_view_module_version": "1.2.0",
            "_view_name": "LayoutView",
            "align_content": null,
            "align_items": null,
            "align_self": null,
            "border": null,
            "bottom": null,
            "display": null,
            "flex": null,
            "flex_flow": null,
            "grid_area": null,
            "grid_auto_columns": null,
            "grid_auto_flow": null,
            "grid_auto_rows": null,
            "grid_column": null,
            "grid_gap": null,
            "grid_row": null,
            "grid_template_areas": null,
            "grid_template_columns": null,
            "grid_template_rows": null,
            "height": null,
            "justify_content": null,
            "justify_items": null,
            "left": null,
            "margin": null,
            "max_height": null,
            "max_width": null,
            "min_height": null,
            "min_width": null,
            "object_fit": null,
            "object_position": null,
            "order": null,
            "overflow": null,
            "overflow_x": null,
            "overflow_y": null,
            "padding": null,
            "right": null,
            "top": null,
            "visibility": null,
            "width": null
          }
        },
        "5b7d39c1e7ec40659edb85e1be7f8d80": {
          "model_module": "@jupyter-widgets/controls",
          "model_name": "DescriptionStyleModel",
          "model_module_version": "1.5.0",
          "state": {
            "_model_module": "@jupyter-widgets/controls",
            "_model_module_version": "1.5.0",
            "_model_name": "DescriptionStyleModel",
            "_view_count": null,
            "_view_module": "@jupyter-widgets/base",
            "_view_module_version": "1.2.0",
            "_view_name": "StyleView",
            "description_width": ""
          }
        },
        "71986559c7be40cf97388bd240611096": {
          "model_module": "@jupyter-widgets/controls",
          "model_name": "HBoxModel",
          "model_module_version": "1.5.0",
          "state": {
            "_dom_classes": [],
            "_model_module": "@jupyter-widgets/controls",
            "_model_module_version": "1.5.0",
            "_model_name": "HBoxModel",
            "_view_count": null,
            "_view_module": "@jupyter-widgets/controls",
            "_view_module_version": "1.5.0",
            "_view_name": "HBoxView",
            "box_style": "",
            "children": [
              "IPY_MODEL_48f3f884be2f49f492b09efcc9cf4197",
              "IPY_MODEL_35eff790c53f41789d2dbd0212897cec",
              "IPY_MODEL_f91a887dce2c4021bb630f58145cfc13"
            ],
            "layout": "IPY_MODEL_45cc48a4878d42f08b5b0af9f1a3275c"
          }
        },
        "48f3f884be2f49f492b09efcc9cf4197": {
          "model_module": "@jupyter-widgets/controls",
          "model_name": "HTMLModel",
          "model_module_version": "1.5.0",
          "state": {
            "_dom_classes": [],
            "_model_module": "@jupyter-widgets/controls",
            "_model_module_version": "1.5.0",
            "_model_name": "HTMLModel",
            "_view_count": null,
            "_view_module": "@jupyter-widgets/controls",
            "_view_module_version": "1.5.0",
            "_view_name": "HTMLView",
            "description": "",
            "description_tooltip": null,
            "layout": "IPY_MODEL_ce3128cbfa5848319ad56767c24dc7b4",
            "placeholder": "​",
            "style": "IPY_MODEL_0c1f87d8b50042f9908278ef16fae4b6",
            "value": "Downloading: 100%"
          }
        },
        "35eff790c53f41789d2dbd0212897cec": {
          "model_module": "@jupyter-widgets/controls",
          "model_name": "FloatProgressModel",
          "model_module_version": "1.5.0",
          "state": {
            "_dom_classes": [],
            "_model_module": "@jupyter-widgets/controls",
            "_model_module_version": "1.5.0",
            "_model_name": "FloatProgressModel",
            "_view_count": null,
            "_view_module": "@jupyter-widgets/controls",
            "_view_module_version": "1.5.0",
            "_view_name": "ProgressView",
            "bar_style": "success",
            "description": "",
            "description_tooltip": null,
            "layout": "IPY_MODEL_4c5be26ad61e4e0f9372f5be9da55f18",
            "max": 435797,
            "min": 0,
            "orientation": "horizontal",
            "style": "IPY_MODEL_1fc5e77573ab4d6eb5c11e096efeda66",
            "value": 435797
          }
        },
        "f91a887dce2c4021bb630f58145cfc13": {
          "model_module": "@jupyter-widgets/controls",
          "model_name": "HTMLModel",
          "model_module_version": "1.5.0",
          "state": {
            "_dom_classes": [],
            "_model_module": "@jupyter-widgets/controls",
            "_model_module_version": "1.5.0",
            "_model_name": "HTMLModel",
            "_view_count": null,
            "_view_module": "@jupyter-widgets/controls",
            "_view_module_version": "1.5.0",
            "_view_name": "HTMLView",
            "description": "",
            "description_tooltip": null,
            "layout": "IPY_MODEL_b7887334d7444b2b92718c3e92ec006d",
            "placeholder": "​",
            "style": "IPY_MODEL_328b57da5dcd41aab73ba37c6ef21fa5",
            "value": " 436k/436k [00:00&lt;00:00, 1.04MB/s]"
          }
        },
        "45cc48a4878d42f08b5b0af9f1a3275c": {
          "model_module": "@jupyter-widgets/base",
          "model_name": "LayoutModel",
          "model_module_version": "1.2.0",
          "state": {
            "_model_module": "@jupyter-widgets/base",
            "_model_module_version": "1.2.0",
            "_model_name": "LayoutModel",
            "_view_count": null,
            "_view_module": "@jupyter-widgets/base",
            "_view_module_version": "1.2.0",
            "_view_name": "LayoutView",
            "align_content": null,
            "align_items": null,
            "align_self": null,
            "border": null,
            "bottom": null,
            "display": null,
            "flex": null,
            "flex_flow": null,
            "grid_area": null,
            "grid_auto_columns": null,
            "grid_auto_flow": null,
            "grid_auto_rows": null,
            "grid_column": null,
            "grid_gap": null,
            "grid_row": null,
            "grid_template_areas": null,
            "grid_template_columns": null,
            "grid_template_rows": null,
            "height": null,
            "justify_content": null,
            "justify_items": null,
            "left": null,
            "margin": null,
            "max_height": null,
            "max_width": null,
            "min_height": null,
            "min_width": null,
            "object_fit": null,
            "object_position": null,
            "order": null,
            "overflow": null,
            "overflow_x": null,
            "overflow_y": null,
            "padding": null,
            "right": null,
            "top": null,
            "visibility": null,
            "width": null
          }
        },
        "ce3128cbfa5848319ad56767c24dc7b4": {
          "model_module": "@jupyter-widgets/base",
          "model_name": "LayoutModel",
          "model_module_version": "1.2.0",
          "state": {
            "_model_module": "@jupyter-widgets/base",
            "_model_module_version": "1.2.0",
            "_model_name": "LayoutModel",
            "_view_count": null,
            "_view_module": "@jupyter-widgets/base",
            "_view_module_version": "1.2.0",
            "_view_name": "LayoutView",
            "align_content": null,
            "align_items": null,
            "align_self": null,
            "border": null,
            "bottom": null,
            "display": null,
            "flex": null,
            "flex_flow": null,
            "grid_area": null,
            "grid_auto_columns": null,
            "grid_auto_flow": null,
            "grid_auto_rows": null,
            "grid_column": null,
            "grid_gap": null,
            "grid_row": null,
            "grid_template_areas": null,
            "grid_template_columns": null,
            "grid_template_rows": null,
            "height": null,
            "justify_content": null,
            "justify_items": null,
            "left": null,
            "margin": null,
            "max_height": null,
            "max_width": null,
            "min_height": null,
            "min_width": null,
            "object_fit": null,
            "object_position": null,
            "order": null,
            "overflow": null,
            "overflow_x": null,
            "overflow_y": null,
            "padding": null,
            "right": null,
            "top": null,
            "visibility": null,
            "width": null
          }
        },
        "0c1f87d8b50042f9908278ef16fae4b6": {
          "model_module": "@jupyter-widgets/controls",
          "model_name": "DescriptionStyleModel",
          "model_module_version": "1.5.0",
          "state": {
            "_model_module": "@jupyter-widgets/controls",
            "_model_module_version": "1.5.0",
            "_model_name": "DescriptionStyleModel",
            "_view_count": null,
            "_view_module": "@jupyter-widgets/base",
            "_view_module_version": "1.2.0",
            "_view_name": "StyleView",
            "description_width": ""
          }
        },
        "4c5be26ad61e4e0f9372f5be9da55f18": {
          "model_module": "@jupyter-widgets/base",
          "model_name": "LayoutModel",
          "model_module_version": "1.2.0",
          "state": {
            "_model_module": "@jupyter-widgets/base",
            "_model_module_version": "1.2.0",
            "_model_name": "LayoutModel",
            "_view_count": null,
            "_view_module": "@jupyter-widgets/base",
            "_view_module_version": "1.2.0",
            "_view_name": "LayoutView",
            "align_content": null,
            "align_items": null,
            "align_self": null,
            "border": null,
            "bottom": null,
            "display": null,
            "flex": null,
            "flex_flow": null,
            "grid_area": null,
            "grid_auto_columns": null,
            "grid_auto_flow": null,
            "grid_auto_rows": null,
            "grid_column": null,
            "grid_gap": null,
            "grid_row": null,
            "grid_template_areas": null,
            "grid_template_columns": null,
            "grid_template_rows": null,
            "height": null,
            "justify_content": null,
            "justify_items": null,
            "left": null,
            "margin": null,
            "max_height": null,
            "max_width": null,
            "min_height": null,
            "min_width": null,
            "object_fit": null,
            "object_position": null,
            "order": null,
            "overflow": null,
            "overflow_x": null,
            "overflow_y": null,
            "padding": null,
            "right": null,
            "top": null,
            "visibility": null,
            "width": null
          }
        },
        "1fc5e77573ab4d6eb5c11e096efeda66": {
          "model_module": "@jupyter-widgets/controls",
          "model_name": "ProgressStyleModel",
          "model_module_version": "1.5.0",
          "state": {
            "_model_module": "@jupyter-widgets/controls",
            "_model_module_version": "1.5.0",
            "_model_name": "ProgressStyleModel",
            "_view_count": null,
            "_view_module": "@jupyter-widgets/base",
            "_view_module_version": "1.2.0",
            "_view_name": "StyleView",
            "bar_color": null,
            "description_width": ""
          }
        },
        "b7887334d7444b2b92718c3e92ec006d": {
          "model_module": "@jupyter-widgets/base",
          "model_name": "LayoutModel",
          "model_module_version": "1.2.0",
          "state": {
            "_model_module": "@jupyter-widgets/base",
            "_model_module_version": "1.2.0",
            "_model_name": "LayoutModel",
            "_view_count": null,
            "_view_module": "@jupyter-widgets/base",
            "_view_module_version": "1.2.0",
            "_view_name": "LayoutView",
            "align_content": null,
            "align_items": null,
            "align_self": null,
            "border": null,
            "bottom": null,
            "display": null,
            "flex": null,
            "flex_flow": null,
            "grid_area": null,
            "grid_auto_columns": null,
            "grid_auto_flow": null,
            "grid_auto_rows": null,
            "grid_column": null,
            "grid_gap": null,
            "grid_row": null,
            "grid_template_areas": null,
            "grid_template_columns": null,
            "grid_template_rows": null,
            "height": null,
            "justify_content": null,
            "justify_items": null,
            "left": null,
            "margin": null,
            "max_height": null,
            "max_width": null,
            "min_height": null,
            "min_width": null,
            "object_fit": null,
            "object_position": null,
            "order": null,
            "overflow": null,
            "overflow_x": null,
            "overflow_y": null,
            "padding": null,
            "right": null,
            "top": null,
            "visibility": null,
            "width": null
          }
        },
        "328b57da5dcd41aab73ba37c6ef21fa5": {
          "model_module": "@jupyter-widgets/controls",
          "model_name": "DescriptionStyleModel",
          "model_module_version": "1.5.0",
          "state": {
            "_model_module": "@jupyter-widgets/controls",
            "_model_module_version": "1.5.0",
            "_model_name": "DescriptionStyleModel",
            "_view_count": null,
            "_view_module": "@jupyter-widgets/base",
            "_view_module_version": "1.2.0",
            "_view_name": "StyleView",
            "description_width": ""
          }
        },
        "11e025ad1d17444294340506ef17f8e0": {
          "model_module": "@jupyter-widgets/controls",
          "model_name": "HBoxModel",
          "model_module_version": "1.5.0",
          "state": {
            "_dom_classes": [],
            "_model_module": "@jupyter-widgets/controls",
            "_model_module_version": "1.5.0",
            "_model_name": "HBoxModel",
            "_view_count": null,
            "_view_module": "@jupyter-widgets/controls",
            "_view_module_version": "1.5.0",
            "_view_name": "HBoxView",
            "box_style": "",
            "children": [
              "IPY_MODEL_ae4b5780819341b3b40c57010503836b",
              "IPY_MODEL_b0a5003e7fa3420e9516deb37b92f25a",
              "IPY_MODEL_60e01b49210c45068c5f0265518ae155"
            ],
            "layout": "IPY_MODEL_72c4d0beb4ad42918a6b2c3bbf574908"
          }
        },
        "ae4b5780819341b3b40c57010503836b": {
          "model_module": "@jupyter-widgets/controls",
          "model_name": "HTMLModel",
          "model_module_version": "1.5.0",
          "state": {
            "_dom_classes": [],
            "_model_module": "@jupyter-widgets/controls",
            "_model_module_version": "1.5.0",
            "_model_name": "HTMLModel",
            "_view_count": null,
            "_view_module": "@jupyter-widgets/controls",
            "_view_module_version": "1.5.0",
            "_view_name": "HTMLView",
            "description": "",
            "description_tooltip": null,
            "layout": "IPY_MODEL_31b93d95ea1e47c5b1ff9d8ee6a0d8d9",
            "placeholder": "​",
            "style": "IPY_MODEL_c18c4afa49ba41b4b8e8436efee7f4a8",
            "value": "Downloading: 100%"
          }
        },
        "b0a5003e7fa3420e9516deb37b92f25a": {
          "model_module": "@jupyter-widgets/controls",
          "model_name": "FloatProgressModel",
          "model_module_version": "1.5.0",
          "state": {
            "_dom_classes": [],
            "_model_module": "@jupyter-widgets/controls",
            "_model_module_version": "1.5.0",
            "_model_name": "FloatProgressModel",
            "_view_count": null,
            "_view_module": "@jupyter-widgets/controls",
            "_view_module_version": "1.5.0",
            "_view_name": "ProgressView",
            "bar_style": "success",
            "description": "",
            "description_tooltip": null,
            "layout": "IPY_MODEL_e8d9794c81004b228cb30dbc4af89b40",
            "max": 29,
            "min": 0,
            "orientation": "horizontal",
            "style": "IPY_MODEL_9637883bd46947c0b1440de34ec2a1a2",
            "value": 29
          }
        },
        "60e01b49210c45068c5f0265518ae155": {
          "model_module": "@jupyter-widgets/controls",
          "model_name": "HTMLModel",
          "model_module_version": "1.5.0",
          "state": {
            "_dom_classes": [],
            "_model_module": "@jupyter-widgets/controls",
            "_model_module_version": "1.5.0",
            "_model_name": "HTMLModel",
            "_view_count": null,
            "_view_module": "@jupyter-widgets/controls",
            "_view_module_version": "1.5.0",
            "_view_name": "HTMLView",
            "description": "",
            "description_tooltip": null,
            "layout": "IPY_MODEL_edeb20adc8e243adbd78901f065185cc",
            "placeholder": "​",
            "style": "IPY_MODEL_16d11cb20fbb4277b70af5f2ffa43571",
            "value": " 29.0/29.0 [00:00&lt;00:00, 666B/s]"
          }
        },
        "72c4d0beb4ad42918a6b2c3bbf574908": {
          "model_module": "@jupyter-widgets/base",
          "model_name": "LayoutModel",
          "model_module_version": "1.2.0",
          "state": {
            "_model_module": "@jupyter-widgets/base",
            "_model_module_version": "1.2.0",
            "_model_name": "LayoutModel",
            "_view_count": null,
            "_view_module": "@jupyter-widgets/base",
            "_view_module_version": "1.2.0",
            "_view_name": "LayoutView",
            "align_content": null,
            "align_items": null,
            "align_self": null,
            "border": null,
            "bottom": null,
            "display": null,
            "flex": null,
            "flex_flow": null,
            "grid_area": null,
            "grid_auto_columns": null,
            "grid_auto_flow": null,
            "grid_auto_rows": null,
            "grid_column": null,
            "grid_gap": null,
            "grid_row": null,
            "grid_template_areas": null,
            "grid_template_columns": null,
            "grid_template_rows": null,
            "height": null,
            "justify_content": null,
            "justify_items": null,
            "left": null,
            "margin": null,
            "max_height": null,
            "max_width": null,
            "min_height": null,
            "min_width": null,
            "object_fit": null,
            "object_position": null,
            "order": null,
            "overflow": null,
            "overflow_x": null,
            "overflow_y": null,
            "padding": null,
            "right": null,
            "top": null,
            "visibility": null,
            "width": null
          }
        },
        "31b93d95ea1e47c5b1ff9d8ee6a0d8d9": {
          "model_module": "@jupyter-widgets/base",
          "model_name": "LayoutModel",
          "model_module_version": "1.2.0",
          "state": {
            "_model_module": "@jupyter-widgets/base",
            "_model_module_version": "1.2.0",
            "_model_name": "LayoutModel",
            "_view_count": null,
            "_view_module": "@jupyter-widgets/base",
            "_view_module_version": "1.2.0",
            "_view_name": "LayoutView",
            "align_content": null,
            "align_items": null,
            "align_self": null,
            "border": null,
            "bottom": null,
            "display": null,
            "flex": null,
            "flex_flow": null,
            "grid_area": null,
            "grid_auto_columns": null,
            "grid_auto_flow": null,
            "grid_auto_rows": null,
            "grid_column": null,
            "grid_gap": null,
            "grid_row": null,
            "grid_template_areas": null,
            "grid_template_columns": null,
            "grid_template_rows": null,
            "height": null,
            "justify_content": null,
            "justify_items": null,
            "left": null,
            "margin": null,
            "max_height": null,
            "max_width": null,
            "min_height": null,
            "min_width": null,
            "object_fit": null,
            "object_position": null,
            "order": null,
            "overflow": null,
            "overflow_x": null,
            "overflow_y": null,
            "padding": null,
            "right": null,
            "top": null,
            "visibility": null,
            "width": null
          }
        },
        "c18c4afa49ba41b4b8e8436efee7f4a8": {
          "model_module": "@jupyter-widgets/controls",
          "model_name": "DescriptionStyleModel",
          "model_module_version": "1.5.0",
          "state": {
            "_model_module": "@jupyter-widgets/controls",
            "_model_module_version": "1.5.0",
            "_model_name": "DescriptionStyleModel",
            "_view_count": null,
            "_view_module": "@jupyter-widgets/base",
            "_view_module_version": "1.2.0",
            "_view_name": "StyleView",
            "description_width": ""
          }
        },
        "e8d9794c81004b228cb30dbc4af89b40": {
          "model_module": "@jupyter-widgets/base",
          "model_name": "LayoutModel",
          "model_module_version": "1.2.0",
          "state": {
            "_model_module": "@jupyter-widgets/base",
            "_model_module_version": "1.2.0",
            "_model_name": "LayoutModel",
            "_view_count": null,
            "_view_module": "@jupyter-widgets/base",
            "_view_module_version": "1.2.0",
            "_view_name": "LayoutView",
            "align_content": null,
            "align_items": null,
            "align_self": null,
            "border": null,
            "bottom": null,
            "display": null,
            "flex": null,
            "flex_flow": null,
            "grid_area": null,
            "grid_auto_columns": null,
            "grid_auto_flow": null,
            "grid_auto_rows": null,
            "grid_column": null,
            "grid_gap": null,
            "grid_row": null,
            "grid_template_areas": null,
            "grid_template_columns": null,
            "grid_template_rows": null,
            "height": null,
            "justify_content": null,
            "justify_items": null,
            "left": null,
            "margin": null,
            "max_height": null,
            "max_width": null,
            "min_height": null,
            "min_width": null,
            "object_fit": null,
            "object_position": null,
            "order": null,
            "overflow": null,
            "overflow_x": null,
            "overflow_y": null,
            "padding": null,
            "right": null,
            "top": null,
            "visibility": null,
            "width": null
          }
        },
        "9637883bd46947c0b1440de34ec2a1a2": {
          "model_module": "@jupyter-widgets/controls",
          "model_name": "ProgressStyleModel",
          "model_module_version": "1.5.0",
          "state": {
            "_model_module": "@jupyter-widgets/controls",
            "_model_module_version": "1.5.0",
            "_model_name": "ProgressStyleModel",
            "_view_count": null,
            "_view_module": "@jupyter-widgets/base",
            "_view_module_version": "1.2.0",
            "_view_name": "StyleView",
            "bar_color": null,
            "description_width": ""
          }
        },
        "edeb20adc8e243adbd78901f065185cc": {
          "model_module": "@jupyter-widgets/base",
          "model_name": "LayoutModel",
          "model_module_version": "1.2.0",
          "state": {
            "_model_module": "@jupyter-widgets/base",
            "_model_module_version": "1.2.0",
            "_model_name": "LayoutModel",
            "_view_count": null,
            "_view_module": "@jupyter-widgets/base",
            "_view_module_version": "1.2.0",
            "_view_name": "LayoutView",
            "align_content": null,
            "align_items": null,
            "align_self": null,
            "border": null,
            "bottom": null,
            "display": null,
            "flex": null,
            "flex_flow": null,
            "grid_area": null,
            "grid_auto_columns": null,
            "grid_auto_flow": null,
            "grid_auto_rows": null,
            "grid_column": null,
            "grid_gap": null,
            "grid_row": null,
            "grid_template_areas": null,
            "grid_template_columns": null,
            "grid_template_rows": null,
            "height": null,
            "justify_content": null,
            "justify_items": null,
            "left": null,
            "margin": null,
            "max_height": null,
            "max_width": null,
            "min_height": null,
            "min_width": null,
            "object_fit": null,
            "object_position": null,
            "order": null,
            "overflow": null,
            "overflow_x": null,
            "overflow_y": null,
            "padding": null,
            "right": null,
            "top": null,
            "visibility": null,
            "width": null
          }
        },
        "16d11cb20fbb4277b70af5f2ffa43571": {
          "model_module": "@jupyter-widgets/controls",
          "model_name": "DescriptionStyleModel",
          "model_module_version": "1.5.0",
          "state": {
            "_model_module": "@jupyter-widgets/controls",
            "_model_module_version": "1.5.0",
            "_model_name": "DescriptionStyleModel",
            "_view_count": null,
            "_view_module": "@jupyter-widgets/base",
            "_view_module_version": "1.2.0",
            "_view_name": "StyleView",
            "description_width": ""
          }
        },
        "7796cbe0fcb9412ba1933b8f9d593ce6": {
          "model_module": "@jupyter-widgets/controls",
          "model_name": "HBoxModel",
          "model_module_version": "1.5.0",
          "state": {
            "_dom_classes": [],
            "_model_module": "@jupyter-widgets/controls",
            "_model_module_version": "1.5.0",
            "_model_name": "HBoxModel",
            "_view_count": null,
            "_view_module": "@jupyter-widgets/controls",
            "_view_module_version": "1.5.0",
            "_view_name": "HBoxView",
            "box_style": "",
            "children": [
              "IPY_MODEL_de6f946feaf04879be853412cd88ed9e",
              "IPY_MODEL_5e7eb6b8712f4017a58d0b74464a7681",
              "IPY_MODEL_7aeef6f05e03464fa38d7a2605691b48"
            ],
            "layout": "IPY_MODEL_128b561fc43643f299b62381113d3501"
          }
        },
        "de6f946feaf04879be853412cd88ed9e": {
          "model_module": "@jupyter-widgets/controls",
          "model_name": "HTMLModel",
          "model_module_version": "1.5.0",
          "state": {
            "_dom_classes": [],
            "_model_module": "@jupyter-widgets/controls",
            "_model_module_version": "1.5.0",
            "_model_name": "HTMLModel",
            "_view_count": null,
            "_view_module": "@jupyter-widgets/controls",
            "_view_module_version": "1.5.0",
            "_view_name": "HTMLView",
            "description": "",
            "description_tooltip": null,
            "layout": "IPY_MODEL_8c607f7463ab40d0aac6205b9a59e7f2",
            "placeholder": "​",
            "style": "IPY_MODEL_f0ae6be756874f89be3a45b95eacf996",
            "value": "Downloading: 100%"
          }
        },
        "5e7eb6b8712f4017a58d0b74464a7681": {
          "model_module": "@jupyter-widgets/controls",
          "model_name": "FloatProgressModel",
          "model_module_version": "1.5.0",
          "state": {
            "_dom_classes": [],
            "_model_module": "@jupyter-widgets/controls",
            "_model_module_version": "1.5.0",
            "_model_name": "FloatProgressModel",
            "_view_count": null,
            "_view_module": "@jupyter-widgets/controls",
            "_view_module_version": "1.5.0",
            "_view_name": "ProgressView",
            "bar_style": "success",
            "description": "",
            "description_tooltip": null,
            "layout": "IPY_MODEL_d158a7c683734f0b9b0912f66bda723b",
            "max": 263273408,
            "min": 0,
            "orientation": "horizontal",
            "style": "IPY_MODEL_d87c8021079d4bafb4a920149e595a4e",
            "value": 263273408
          }
        },
        "7aeef6f05e03464fa38d7a2605691b48": {
          "model_module": "@jupyter-widgets/controls",
          "model_name": "HTMLModel",
          "model_module_version": "1.5.0",
          "state": {
            "_dom_classes": [],
            "_model_module": "@jupyter-widgets/controls",
            "_model_module_version": "1.5.0",
            "_model_name": "HTMLModel",
            "_view_count": null,
            "_view_module": "@jupyter-widgets/controls",
            "_view_module_version": "1.5.0",
            "_view_name": "HTMLView",
            "description": "",
            "description_tooltip": null,
            "layout": "IPY_MODEL_a4c775dbc377496ebd6f20bebb968bf8",
            "placeholder": "​",
            "style": "IPY_MODEL_281a26b383144c448f215e361f95f115",
            "value": " 263M/263M [00:08&lt;00:00, 32.1MB/s]"
          }
        },
        "128b561fc43643f299b62381113d3501": {
          "model_module": "@jupyter-widgets/base",
          "model_name": "LayoutModel",
          "model_module_version": "1.2.0",
          "state": {
            "_model_module": "@jupyter-widgets/base",
            "_model_module_version": "1.2.0",
            "_model_name": "LayoutModel",
            "_view_count": null,
            "_view_module": "@jupyter-widgets/base",
            "_view_module_version": "1.2.0",
            "_view_name": "LayoutView",
            "align_content": null,
            "align_items": null,
            "align_self": null,
            "border": null,
            "bottom": null,
            "display": null,
            "flex": null,
            "flex_flow": null,
            "grid_area": null,
            "grid_auto_columns": null,
            "grid_auto_flow": null,
            "grid_auto_rows": null,
            "grid_column": null,
            "grid_gap": null,
            "grid_row": null,
            "grid_template_areas": null,
            "grid_template_columns": null,
            "grid_template_rows": null,
            "height": null,
            "justify_content": null,
            "justify_items": null,
            "left": null,
            "margin": null,
            "max_height": null,
            "max_width": null,
            "min_height": null,
            "min_width": null,
            "object_fit": null,
            "object_position": null,
            "order": null,
            "overflow": null,
            "overflow_x": null,
            "overflow_y": null,
            "padding": null,
            "right": null,
            "top": null,
            "visibility": null,
            "width": null
          }
        },
        "8c607f7463ab40d0aac6205b9a59e7f2": {
          "model_module": "@jupyter-widgets/base",
          "model_name": "LayoutModel",
          "model_module_version": "1.2.0",
          "state": {
            "_model_module": "@jupyter-widgets/base",
            "_model_module_version": "1.2.0",
            "_model_name": "LayoutModel",
            "_view_count": null,
            "_view_module": "@jupyter-widgets/base",
            "_view_module_version": "1.2.0",
            "_view_name": "LayoutView",
            "align_content": null,
            "align_items": null,
            "align_self": null,
            "border": null,
            "bottom": null,
            "display": null,
            "flex": null,
            "flex_flow": null,
            "grid_area": null,
            "grid_auto_columns": null,
            "grid_auto_flow": null,
            "grid_auto_rows": null,
            "grid_column": null,
            "grid_gap": null,
            "grid_row": null,
            "grid_template_areas": null,
            "grid_template_columns": null,
            "grid_template_rows": null,
            "height": null,
            "justify_content": null,
            "justify_items": null,
            "left": null,
            "margin": null,
            "max_height": null,
            "max_width": null,
            "min_height": null,
            "min_width": null,
            "object_fit": null,
            "object_position": null,
            "order": null,
            "overflow": null,
            "overflow_x": null,
            "overflow_y": null,
            "padding": null,
            "right": null,
            "top": null,
            "visibility": null,
            "width": null
          }
        },
        "f0ae6be756874f89be3a45b95eacf996": {
          "model_module": "@jupyter-widgets/controls",
          "model_name": "DescriptionStyleModel",
          "model_module_version": "1.5.0",
          "state": {
            "_model_module": "@jupyter-widgets/controls",
            "_model_module_version": "1.5.0",
            "_model_name": "DescriptionStyleModel",
            "_view_count": null,
            "_view_module": "@jupyter-widgets/base",
            "_view_module_version": "1.2.0",
            "_view_name": "StyleView",
            "description_width": ""
          }
        },
        "d158a7c683734f0b9b0912f66bda723b": {
          "model_module": "@jupyter-widgets/base",
          "model_name": "LayoutModel",
          "model_module_version": "1.2.0",
          "state": {
            "_model_module": "@jupyter-widgets/base",
            "_model_module_version": "1.2.0",
            "_model_name": "LayoutModel",
            "_view_count": null,
            "_view_module": "@jupyter-widgets/base",
            "_view_module_version": "1.2.0",
            "_view_name": "LayoutView",
            "align_content": null,
            "align_items": null,
            "align_self": null,
            "border": null,
            "bottom": null,
            "display": null,
            "flex": null,
            "flex_flow": null,
            "grid_area": null,
            "grid_auto_columns": null,
            "grid_auto_flow": null,
            "grid_auto_rows": null,
            "grid_column": null,
            "grid_gap": null,
            "grid_row": null,
            "grid_template_areas": null,
            "grid_template_columns": null,
            "grid_template_rows": null,
            "height": null,
            "justify_content": null,
            "justify_items": null,
            "left": null,
            "margin": null,
            "max_height": null,
            "max_width": null,
            "min_height": null,
            "min_width": null,
            "object_fit": null,
            "object_position": null,
            "order": null,
            "overflow": null,
            "overflow_x": null,
            "overflow_y": null,
            "padding": null,
            "right": null,
            "top": null,
            "visibility": null,
            "width": null
          }
        },
        "d87c8021079d4bafb4a920149e595a4e": {
          "model_module": "@jupyter-widgets/controls",
          "model_name": "ProgressStyleModel",
          "model_module_version": "1.5.0",
          "state": {
            "_model_module": "@jupyter-widgets/controls",
            "_model_module_version": "1.5.0",
            "_model_name": "ProgressStyleModel",
            "_view_count": null,
            "_view_module": "@jupyter-widgets/base",
            "_view_module_version": "1.2.0",
            "_view_name": "StyleView",
            "bar_color": null,
            "description_width": ""
          }
        },
        "a4c775dbc377496ebd6f20bebb968bf8": {
          "model_module": "@jupyter-widgets/base",
          "model_name": "LayoutModel",
          "model_module_version": "1.2.0",
          "state": {
            "_model_module": "@jupyter-widgets/base",
            "_model_module_version": "1.2.0",
            "_model_name": "LayoutModel",
            "_view_count": null,
            "_view_module": "@jupyter-widgets/base",
            "_view_module_version": "1.2.0",
            "_view_name": "LayoutView",
            "align_content": null,
            "align_items": null,
            "align_self": null,
            "border": null,
            "bottom": null,
            "display": null,
            "flex": null,
            "flex_flow": null,
            "grid_area": null,
            "grid_auto_columns": null,
            "grid_auto_flow": null,
            "grid_auto_rows": null,
            "grid_column": null,
            "grid_gap": null,
            "grid_row": null,
            "grid_template_areas": null,
            "grid_template_columns": null,
            "grid_template_rows": null,
            "height": null,
            "justify_content": null,
            "justify_items": null,
            "left": null,
            "margin": null,
            "max_height": null,
            "max_width": null,
            "min_height": null,
            "min_width": null,
            "object_fit": null,
            "object_position": null,
            "order": null,
            "overflow": null,
            "overflow_x": null,
            "overflow_y": null,
            "padding": null,
            "right": null,
            "top": null,
            "visibility": null,
            "width": null
          }
        },
        "281a26b383144c448f215e361f95f115": {
          "model_module": "@jupyter-widgets/controls",
          "model_name": "DescriptionStyleModel",
          "model_module_version": "1.5.0",
          "state": {
            "_model_module": "@jupyter-widgets/controls",
            "_model_module_version": "1.5.0",
            "_model_name": "DescriptionStyleModel",
            "_view_count": null,
            "_view_module": "@jupyter-widgets/base",
            "_view_module_version": "1.2.0",
            "_view_name": "StyleView",
            "description_width": ""
          }
        }
      }
    }
  },
  "cells": [
    {
      "cell_type": "markdown",
      "metadata": {
        "id": "view-in-github",
        "colab_type": "text"
      },
      "source": [
        "<a href=\"https://colab.research.google.com/github/Masum06/Text2App/blob/master/notebooks/data_synthesis.ipynb\" target=\"_parent\"><img src=\"https://colab.research.google.com/assets/colab-badge.svg\" alt=\"Open In Colab\"/></a>"
      ]
    },
    {
      "cell_type": "code",
      "metadata": {
        "colab": {
          "base_uri": "https://localhost:8080/"
        },
        "id": "62MDjMESzwk3",
        "outputId": "2c18c67c-1030-4abe-d3c2-2b0c35525e8b"
      },
      "source": [
        "!pip install transformers==4.5.0\n",
        "# !pip install PyDictionary"
      ],
      "execution_count": 1,
      "outputs": [
        {
          "output_type": "stream",
          "name": "stdout",
          "text": [
            "Collecting transformers==4.5.0\n",
            "  Downloading transformers-4.5.0-py3-none-any.whl (2.1 MB)\n",
            "\u001b[K     |████████████████████████████████| 2.1 MB 4.8 MB/s \n",
            "\u001b[?25hRequirement already satisfied: numpy>=1.17 in /usr/local/lib/python3.7/dist-packages (from transformers==4.5.0) (1.21.5)\n",
            "Requirement already satisfied: tqdm>=4.27 in /usr/local/lib/python3.7/dist-packages (from transformers==4.5.0) (4.63.0)\n",
            "Requirement already satisfied: filelock in /usr/local/lib/python3.7/dist-packages (from transformers==4.5.0) (3.6.0)\n",
            "Requirement already satisfied: importlib-metadata in /usr/local/lib/python3.7/dist-packages (from transformers==4.5.0) (4.11.2)\n",
            "Collecting tokenizers<0.11,>=0.10.1\n",
            "  Downloading tokenizers-0.10.3-cp37-cp37m-manylinux_2_5_x86_64.manylinux1_x86_64.manylinux_2_12_x86_64.manylinux2010_x86_64.whl (3.3 MB)\n",
            "\u001b[K     |████████████████████████████████| 3.3 MB 16.5 MB/s \n",
            "\u001b[?25hRequirement already satisfied: packaging in /usr/local/lib/python3.7/dist-packages (from transformers==4.5.0) (21.3)\n",
            "Requirement already satisfied: requests in /usr/local/lib/python3.7/dist-packages (from transformers==4.5.0) (2.23.0)\n",
            "Collecting sacremoses\n",
            "  Downloading sacremoses-0.0.49-py3-none-any.whl (895 kB)\n",
            "\u001b[K     |████████████████████████████████| 895 kB 33.0 MB/s \n",
            "\u001b[?25hRequirement already satisfied: regex!=2019.12.17 in /usr/local/lib/python3.7/dist-packages (from transformers==4.5.0) (2019.12.20)\n",
            "Requirement already satisfied: zipp>=0.5 in /usr/local/lib/python3.7/dist-packages (from importlib-metadata->transformers==4.5.0) (3.7.0)\n",
            "Requirement already satisfied: typing-extensions>=3.6.4 in /usr/local/lib/python3.7/dist-packages (from importlib-metadata->transformers==4.5.0) (3.10.0.2)\n",
            "Requirement already satisfied: pyparsing!=3.0.5,>=2.0.2 in /usr/local/lib/python3.7/dist-packages (from packaging->transformers==4.5.0) (3.0.7)\n",
            "Requirement already satisfied: certifi>=2017.4.17 in /usr/local/lib/python3.7/dist-packages (from requests->transformers==4.5.0) (2021.10.8)\n",
            "Requirement already satisfied: urllib3!=1.25.0,!=1.25.1,<1.26,>=1.21.1 in /usr/local/lib/python3.7/dist-packages (from requests->transformers==4.5.0) (1.24.3)\n",
            "Requirement already satisfied: idna<3,>=2.5 in /usr/local/lib/python3.7/dist-packages (from requests->transformers==4.5.0) (2.10)\n",
            "Requirement already satisfied: chardet<4,>=3.0.2 in /usr/local/lib/python3.7/dist-packages (from requests->transformers==4.5.0) (3.0.4)\n",
            "Requirement already satisfied: joblib in /usr/local/lib/python3.7/dist-packages (from sacremoses->transformers==4.5.0) (1.1.0)\n",
            "Requirement already satisfied: six in /usr/local/lib/python3.7/dist-packages (from sacremoses->transformers==4.5.0) (1.15.0)\n",
            "Requirement already satisfied: click in /usr/local/lib/python3.7/dist-packages (from sacremoses->transformers==4.5.0) (7.1.2)\n",
            "Installing collected packages: tokenizers, sacremoses, transformers\n",
            "Successfully installed sacremoses-0.0.49 tokenizers-0.10.3 transformers-4.5.0\n"
          ]
        }
      ]
    },
    {
      "cell_type": "code",
      "metadata": {
        "colab": {
          "base_uri": "https://localhost:8080/"
        },
        "id": "ennv2fTgFgn5",
        "outputId": "97045339-b8bd-4c2c-9dc1-7db551e6d973"
      },
      "source": [
        "!git clone https://github.com/Masum06/Text2App.git"
      ],
      "execution_count": 2,
      "outputs": [
        {
          "output_type": "stream",
          "name": "stdout",
          "text": [
            "Cloning into 'Text2App'...\n",
            "remote: Enumerating objects: 607, done.\u001b[K\n",
            "remote: Counting objects: 100% (219/219), done.\u001b[K\n",
            "remote: Compressing objects: 100% (175/175), done.\u001b[K\n",
            "remote: Total 607 (delta 142), reused 80 (delta 42), pack-reused 388\u001b[K\n",
            "Receiving objects: 100% (607/607), 241.78 MiB | 20.69 MiB/s, done.\n",
            "Resolving deltas: 100% (221/221), done.\n",
            "Checking out files: 100% (220/220), done.\n"
          ]
        }
      ]
    },
    {
      "cell_type": "code",
      "metadata": {
        "colab": {
          "base_uri": "https://localhost:8080/"
        },
        "id": "k_C6yKgxFiXC",
        "outputId": "4e1c8072-c16f-44f1-8e61-e0ed54a39ce6"
      },
      "source": [
        "cd Text2App"
      ],
      "execution_count": 3,
      "outputs": [
        {
          "output_type": "stream",
          "name": "stdout",
          "text": [
            "/content/Text2App\n"
          ]
        }
      ]
    },
    {
      "cell_type": "markdown",
      "metadata": {
        "id": "J1wETIWYVvO6"
      },
      "source": [
        "# Helper functions"
      ]
    },
    {
      "cell_type": "code",
      "metadata": {
        "id": "wAkfYLTeQPdj",
        "colab": {
          "base_uri": "https://localhost:8080/"
        },
        "outputId": "823b1978-7611-47bf-a810-708bb77e79ea"
      },
      "source": [
        "import random\n",
        "import string\n",
        "# from PyDictionary import PyDictionary\n",
        "from datetime import datetime\n",
        "\n",
        "random.seed(datetime.now())\n",
        "# dictionary=PyDictionary()\n",
        "\n",
        "all_vis_components = ['button', 'switch', 'accelerometer', 'ball', 'text2speech', 'player',\n",
        "                      'video_player', 'textbox', 'passwordtextbox', 'timepicker', 'datepicker',\n",
        "                      'camera']\n",
        "colors = [\"red\", \"green\", \"black\", \"cyan\", \"pink\", \n",
        "          \"magenta\", \"blue\", \"light_gray\", \"orange\", \n",
        "          \"yellow\", \"dark_gray\", \"gray\"]\n",
        "\n",
        "print(all_vis_components)"
      ],
      "execution_count": 4,
      "outputs": [
        {
          "output_type": "stream",
          "name": "stdout",
          "text": [
            "['button', 'switch', 'accelerometer', 'ball', 'text2speech', 'player', 'video_player', 'textbox', 'passwordtextbox', 'timepicker', 'datepicker', 'camera']\n"
          ]
        }
      ]
    },
    {
      "cell_type": "code",
      "metadata": {
        "id": "9yGhxJMhVp3F"
      },
      "source": [
        "string_num = -1\n",
        "int_num = -1\n",
        "float_num = -1\n",
        "\n",
        "def getStr():\n",
        "  global string_num \n",
        "  string_num += 1\n",
        "  return \"string\"+str(string_num)\n",
        "\n",
        "def getNum():\n",
        "  global int_num \n",
        "  int_num += 1\n",
        "  return \"number\"+str(int_num)\n",
        "\n",
        "def getColor():\n",
        "  global colors\n",
        "  return random.choice(colors)\n",
        "\n",
        "def getSyn(word):\n",
        "  syns = dictionary.synonym(word)\n",
        "  if syns:\n",
        "    return random.choice([word] + syns)\n",
        "  else:\n",
        "    return word\n",
        "\n",
        "def getArticle(word):\n",
        "  if word[0] in 'aeiou':\n",
        "    return \"an\"\n",
        "  else:\n",
        "    return \"a\" "
      ],
      "execution_count": 5,
      "outputs": []
    },
    {
      "cell_type": "markdown",
      "metadata": {
        "id": "6H5Bifl28gKt"
      },
      "source": [
        "# Constants"
      ]
    },
    {
      "cell_type": "code",
      "metadata": {
        "id": "ktP95rabmPe-"
      },
      "source": [
        "ValueComponents = {\n",
        "    \"textbox\": {\"nl\": [\"the textbox text\", \"the text in the textbox\", \"the text in the box\", \"the textbox content\", \"the text\"], \"sar\": \"textboxtext\"},\n",
        "    \"passwordtextbox\": {\"nl\": [\"\"], \"sar\": \"passwordboxtext\"},\n",
        "    \"timepicker\": {\"nl\": [\"the time\", \"time\", \"what time it is\", \"what is the time\"], \"sar\": \"time\"}, \n",
        "    # \"datepicker\": {\"nl\": [\"the date and time\", \"date and time\", \"date\", \"the date\", \"what is the date\"], \"sar\": \"date\"}\n",
        "    }"
      ],
      "execution_count": 6,
      "outputs": []
    },
    {
      "cell_type": "code",
      "metadata": {
        "id": "9wYVc98Fk_qa"
      },
      "source": [
        "events = {\n",
        "    \"button\": {\"clicked\": [\"clicked\", \"pressed\", \"touched\"]},\n",
        "    \"switch\": {\"flipped\": [\"fliped\", \"clicked\", \"pressed\", \"touched\"]},\n",
        "    \"accelerometer\": {\"shaken\": [\"shaken\", \"vibrated\"]},\n",
        "    \"ball\": {\"flung\": [\"flung\", \"thrown\", \"hit\"], \"reach_edge\": [\"reaches edge\", \"touches edge\", \"cornered\"]}\n",
        "} "
      ],
      "execution_count": 7,
      "outputs": []
    },
    {
      "cell_type": "code",
      "metadata": {
        "id": "ydquRNWClYSH"
      },
      "source": [
        "actions = {\n",
        "    \"player\": {\n",
        "        \"start\": [\"play the music\", \"play the sound\", \"play\", \"start the player\", \"start the music\", \"initiate player\"], \n",
        "        \"stop\": [\"stop the music\", \"stop sound\", \"stop the sound\", \"stop\"]\n",
        "        },\n",
        "    \"video_player\": {\n",
        "        \"start\": [\"play the video\", \"play the clip\", \"play\", \"start the video player\", \"start the video\", \"initiate video\"], \n",
        "        \"stop\": [\"stop the video\", \"stop video\", \"stop the clip\", \"stop\"]\n",
        "        },\n",
        "    \"text2speech\": [\"speak\"],\n",
        "    \"ball\": [\"radius\", \"speed\", \"header\", \"motion\", \"bounce\"],\n",
        "    \"camera\": [\"take a picture\", \"take picture\", \"click\", \"capture\", \"take a photo\", \"click a photo\", \"capture a photo\",\n",
        "               \"open camera\", \"initiate camera\", \"open the camera\", \"open camera and take a picture\", \"open camera and take a photo\"\n",
        "               \"open the camera and click\"]\n",
        "}"
      ],
      "execution_count": 8,
      "outputs": []
    },
    {
      "cell_type": "code",
      "metadata": {
        "id": "OPhoDsPwygK8"
      },
      "source": [
        "arguments = [\"textbox\", \"passwordtext\", 'time'] #date"
      ],
      "execution_count": 9,
      "outputs": []
    },
    {
      "cell_type": "code",
      "metadata": {
        "id": "sW4xrrtV4EIC"
      },
      "source": [
        "numbers = [[\"\", \"first\", \"1st\", \"earlier\", \"initial\"] , [\"second\", \"2nd\", \"next\", \"later\", \"following\", \"the other\", \"the later\"], \n",
        "           [\"third\", \"3rd\"], [\"fourth\", \"4th\"], [\"fifth\", \"5th\"], [\"sixth\", \"6th\"]]"
      ],
      "execution_count": 10,
      "outputs": []
    },
    {
      "cell_type": "code",
      "metadata": {
        "id": "eNRMzfsfjBlR"
      },
      "source": [
        "vis_components = ['textbox', 'button', 'text2speech', 'ball', 'accelerometer', 'video_player', \n",
        "                  'switch', 'player', 'label', 'timepicker', 'passwordtextbox', 'camera'] #, 'datepicker', \n",
        "non_repeat_vis_components = ['accelerometer', 'ball', 'text2speech', 'camera']\n",
        "repeat_vis_components = list(set(vis_components) - set(non_repeat_vis_components))\n",
        "components_with_text = ['button', 'switch', 'label'] \n",
        "comp_with_src = ['video_player', 'player']\n",
        "invisible_components = ['text2speech', 'accelerometer', 'ball']\n",
        "end_with_es = ['text2speech', 'textbox']\n",
        "canvas_components = ['ball']\n",
        "\n",
        "event_components = [\"button\", \"switch\", \"accelerometer\", \"ball\"]\n",
        "action_components = [\"player\", \"video_player\", \"text2speech\", \"ball\", \"label\", \"camera\"]\n",
        "value_components = [\"textbox\", \"timepicker\"] # \"passwordtextbox\", \"datepicker\",\n",
        "rand_source = {\"video_player\": [\"video\", \"clip\"], \"player\": [\"audio\", \"music\", \"sound\"]}\n",
        "\n",
        "component_alias = {\"textbox\": [\"textbox\", \"text box\"], \"button\": [\"button\"], \"ball\": [\"ball\", \"circle\"], \n",
        "                   \"text2speech\": [\"text2speech\", \"text to speech\", \"speech\"], \n",
        "                   \"accelerometer\": [\"accelerometer\", \"motion sensor\", \"vibration sensor\", \"movement sensor\", \"shake sensor\"], \n",
        "                  #  \"datepicker\": [\"datepicker\", \"date picker\"], \n",
        "                   \"timepicker\": [\"timepicker\", \"time picker\", \"time selector\"], \n",
        "                   \"switch\": [\"switch\"], \"player\": [\"music player\", \"player\", \"audio player\", \"music\", \"audio\"], \n",
        "                   \"video_player\": [\"video player\", \"video\"], \"label\": [\"label\"],\n",
        "                   \"passwordtextbox\": [\"password box\", \"pasword text box\", \"password field\", \"passwordbox\", \"passwordtextbox\"],\n",
        "                   \"camera\": [\"camera\"]\n",
        "                   }\n",
        "\n",
        "MAX_NUMBER_OF_COMPONENT = 12\n",
        "SAME_COMPONENT_LIMIT = 5"
      ],
      "execution_count": 11,
      "outputs": []
    },
    {
      "cell_type": "markdown",
      "metadata": {
        "id": "yCTHvrvVL8i7"
      },
      "source": [
        "# Classes"
      ]
    },
    {
      "cell_type": "code",
      "metadata": {
        "id": "yzJ1oyT30S71"
      },
      "source": [
        "class EventComponent:\n",
        "  component = \"\"\n",
        "  event = \"\"\n",
        "  nl = []\n",
        "  number = 0\n",
        "  event_comp_count = 1\n",
        "\n",
        "  def __init__(self, component=\"\", number=1, event_comp_count=1):\n",
        "    self.component = component\n",
        "    self.event = random.choice(list(events[self.component].keys())) # random.choice(events[self.component][\"event\"]) \n",
        "    self.number = number\n",
        "    self.event_comp_count = event_comp_count\n",
        "\n",
        "  def getNL(self):\n",
        "    if self.component in non_repeat_vis_components or self.event_comp_count==1:\n",
        "      num = \"\"\n",
        "    else:\n",
        "      num = random.choice(numbers[self.number-1])+\" \"\n",
        "    \n",
        "    event_choice = random.choice(list(events[self.component].keys()))\n",
        "    comp_nl = random.choice(events[self.component][event_choice])\n",
        "    new_nl = random.choice([\"when\", \"if\"])+\" the \"+ num + random.choice(component_alias[self.component]) +\" is \"+ comp_nl + \", \"\n",
        "    return new_nl"
      ],
      "execution_count": 12,
      "outputs": []
    },
    {
      "cell_type": "code",
      "metadata": {
        "id": "s6SSkWQ0QoDk"
      },
      "source": [
        "class ActionComponent:\n",
        "  component = \"\"\n",
        "  number = 0\n",
        "  action_comp_count = 1\n",
        "  # arguments = []\n",
        "  val_comps = []\n",
        "  arg = \"\"\n",
        "  nl = \"\"\n",
        "  set_src = False\n",
        "\n",
        "  def __init__(self, component, number=1, val_comps=[], action_comp_count=1, set_src=False):\n",
        "    self.component = component\n",
        "    self.number = number\n",
        "    self.actions = actions\n",
        "    self.val_comps = val_comps\n",
        "    self.set_src = set_src\n",
        "    self.arg = self.getArg()\n",
        "    self.action_comp_count = action_comp_count\n",
        "\n",
        "  def getNL(self):\n",
        "    # new_nl = random.choice([\"set\", \"make\"]) + \" \" + random.choice(self.actions) + \" \"\n",
        "    return self.nl\n",
        "\n",
        "  def getPlayerArg(self):\n",
        "    arg = random.choice([\"start\", \"stop\"])\n",
        "    nl_arg = arg\n",
        "    alter = random.choice([0,1])\n",
        "    if alter:\n",
        "      if arg == \"start\":\n",
        "        nl_arg = \"play\"\n",
        "      else:\n",
        "        nl_arg = \"pause\"\n",
        "\n",
        "    self.nl = nl_arg + random.choice([\" the <num> player\", \" the music <num> player\", \" the music\", \" music\", \" player\", \" audio\"])\n",
        "    if self.action_comp_count > 1:\n",
        "      self.nl = self.nl.replace(\"<num>\", random.choice(numbers[self.number-1]))\n",
        "    else:\n",
        "      self.nl = self.nl.replace(\"<num> \", \"\")\n",
        "\n",
        "    ## Set the source for the music\n",
        "    if self.set_src:\n",
        "      vis_comp = \"player\"\n",
        "      mid_text = \"\"\n",
        "      choose_random = random.choice([0,1])\n",
        "      if choose_random: # with 50% possibility set the source to a random video or music\n",
        "        # mid_text = \"random_\"+ vis_comp + \"_source\"\n",
        "        rand_src = \" with a random \" + random.choice(rand_source[vis_comp]) # 25%  time mention random source\n",
        "        no_src = \"\" # 25% times mention no source at all\n",
        "        self.nl += random.choice([rand_src, no_src])\n",
        "      else:  # 50% time provide a source\n",
        "        mid_text = getStr()\n",
        "        self.nl += random.choice([\" \", \" with source \"]) + mid_text\n",
        "        return \"<\"+ arg + \">\" + \" <src> \" + mid_text + \" </src>\"\n",
        "\n",
        "    return \"<\"+arg+\">\"\n",
        "  \n",
        "  def getVideoPlayerArg(self):\n",
        "    arg = random.choice([\"start\", \"stop\"])\n",
        "    nl_arg = arg\n",
        "    alter = random.choice([0,1])\n",
        "    if alter:\n",
        "      if arg == \"start\":\n",
        "        nl_arg = \"play\"\n",
        "      else:\n",
        "        nl_arg = \"pause\"\n",
        "\n",
        "    self.nl = nl_arg + random.choice([\" the <num> video player\", \" the <num> video\", \" the <num> clip\", \" <num> video\", \\\n",
        "                                      \" <num> video player\", \" video\", \" video player\"])\n",
        "    if self.action_comp_count > 1:\n",
        "      self.nl = self.nl.replace(\"<num>\", random.choice(numbers[self.number-1]))\n",
        "    else:\n",
        "      self.nl = self.nl.replace(\"<num> \", \"\")\n",
        "\n",
        "    ## Set the source for the video\n",
        "    if self.set_src:\n",
        "      vis_comp = \"video_player\"\n",
        "      mid_text = \"\"\n",
        "      choose_random = random.choice([0,0,1])\n",
        "      if choose_random: # with 50% possibility set the source to a random video or music\n",
        "        # mid_text = \"random_\"+ vis_comp + \"_source\"\n",
        "        rand_src = \" with a random \" + random.choice(rand_source[vis_comp]) # 25%  time mention random source\n",
        "        no_src = \"\" # 25% times mention no source at all\n",
        "        self.nl += random.choice([rand_src, no_src])\n",
        "      else:  # 50% time provide a source\n",
        "        mid_text = getStr()\n",
        "        self.nl += random.choice([\" \", \" with source \"]) + mid_text\n",
        "        return \"<\"+ arg + \">\" + \" <src> \" + mid_text + \" </src>\"\n",
        "\n",
        "    return \"<\"+arg+\">\"\n",
        "\n",
        "  def getT2SArg(self):\n",
        "    use_val_comp = random.choice([0,1,1,1]) # 75% chance of choosing value component\n",
        "    if len(self.val_comps)>0 and use_val_comp:\n",
        "      val_name = random.choice(self.val_comps)\n",
        "      self.val_comps.remove(val_name)\n",
        "      val = val_name[:-1] # Number of value component cannot be more than 9 (a single digit)\n",
        "      self.nl = random.choice([\"say \", \"speak \", \"tell \", \"speak out \"]) + random.choice(ValueComponents[val][\"nl\"])\n",
        "      return \"<\"+ValueComponents[val]['sar']+val_name[-1]+\">\"\n",
        "    else:\n",
        "      val = getStr()\n",
        "      self.nl = random.choice([\"say \", \"speak \", \"tell \",  \"speak out \"]) + val\n",
        "      return val\n",
        "\n",
        "  def getLabelArg(self):\n",
        "    use_val_comp = random.choice([0,1,1,1]) # 75% chance of choosing value component\n",
        "    \n",
        "    self.nl = random.choice([\"set <num> label text to \", \"set the <num> label text to \", \"set <num> label to \", \"set <num> label \"])\n",
        "    if self.action_comp_count > 1:\n",
        "      self.nl = self.nl.replace(\"<num>\", random.choice(numbers[self.number-1]))\n",
        "    else:\n",
        "      self.nl = self.nl.replace(\" <num>\", \"\")\n",
        "\n",
        "    if len(self.val_comps)>0 and use_val_comp:\n",
        "      val_name = random.choice(self.val_comps)\n",
        "      self.val_comps.remove(val_name)\n",
        "      val = val_name[:-1] # Number of value component cannot be more than 9 (a single digit)\n",
        "      self.nl += random.choice(ValueComponents[val][\"nl\"])\n",
        "      val = \"<\"+ValueComponents[val]['sar']+val_name[-1]+\">\"\n",
        "    else:\n",
        "      val = getStr()\n",
        "      self.nl += val\n",
        "\n",
        "    return val\n",
        "  \n",
        "  def getBallArg(self):\n",
        "    arg = random.choice(['radius', 'color', 'speed', 'heading', 'bounce', 'motion'])\n",
        "    if arg in ['speed', 'radius']:\n",
        "      val = getNum() #random.choice(['increase', 'decrease'])\n",
        "      self.nl = \"set the \" + arg + \" to \" + val\n",
        "      return \"<\"+arg+\"> \"+val+\" </\"+arg+\">\"\n",
        "    elif arg == 'bounce':\n",
        "      self.nl = \"bounce the ball\" \n",
        "      return \"<bounce>\"\n",
        "    elif arg == 'color':\n",
        "      val = random.choice(colors)\n",
        "      self.nl = \"set ball color to \"+ val.replace(\"_\", \" \")\n",
        "      return \"<\"+arg+\"> <\"+val+\"> </\"+arg+\">\"\n",
        "    elif arg == 'motion':\n",
        "      self.nl = random.choice([\"set ball in motion \", \"move the ball \", \"swing the ball \"])\n",
        "      return \"<motion>\"\n",
        "    elif arg == 'heading':\n",
        "      val = getNum()\n",
        "      self.nl = \"set ball header to \"+ val\n",
        "      return \"<\"+arg+\"> \"+val+\" </\"+arg+\">\"\n",
        "\n",
        "  def getCameraArg(self):\n",
        "    self.nl = random.choice(actions['camera'])+' '\n",
        "    return '<capture_and_show>'\n",
        "\n",
        "  def getArg(self):\n",
        "    if self.component == \"player\":\n",
        "      return self.getPlayerArg()\n",
        "    elif self.component == \"video_player\":\n",
        "      return self.getVideoPlayerArg()\n",
        "    elif self.component == \"text2speech\":\n",
        "      return self.getT2SArg()\n",
        "    elif self.component == \"ball\":\n",
        "      return self.getBallArg()\n",
        "    elif self.component == \"label\":\n",
        "      return self.getLabelArg()\n",
        "    elif self.component == \"camera\":\n",
        "      return self.getCameraArg()\n",
        "    else:\n",
        "      return \"\"\n",
        "  \n",
        "  def getNLArg(self):\n",
        "    arg = self.arg\n",
        "    return (self.nl, arg)\n"
      ],
      "execution_count": 13,
      "outputs": []
    },
    {
      "cell_type": "markdown",
      "metadata": {
        "id": "QqiOHPZ2gdDi"
      },
      "source": [
        "# NL_SAR generation code"
      ]
    },
    {
      "cell_type": "code",
      "metadata": {
        "id": "C7E49U3DlskO"
      },
      "source": [
        "def generate_nl_sar():\n",
        "  # global vis_components, non_repeat_vis_components, repeat_vis_components\n",
        "  global string_num, int_num\n",
        "  string_num = -1\n",
        "  int_num = -1\n",
        "\n",
        "  total_vis_components = random.randint(1, MAX_NUMBER_OF_COMPONENT) # limited to fit in screen # CX: 11C7\n",
        "  selected_components = random.sample(vis_components*SAME_COMPONENT_LIMIT, total_vis_components) # \n",
        "\n",
        "  NL = random.choice([\"create <app> \", \"make <app> \", \"<app> \", \"<app> \", \"give me <app> \"])\n",
        "  app = random.choice([\"app\", \"mobile app\", \"application\", \"mobile application\", \"software\"])\n",
        "  initial = random.choice([getArticle(app)+\" \", \"\"])\n",
        "  NL = NL.replace(\"<app>\", initial+app)\n",
        "  NL += random.choice([\"with \", \"that has \", \"consisting \", \"containing \", \"having \", \"consisting of \"])\n",
        "  SAR = [\"<complist> \"] #Change to <comp>\n",
        "\n",
        "  comps_count = {}\n",
        "  # comps_used_count = {}\n",
        "  event_comp_used_count = {}\n",
        "  action_comp_used_count = {}\n",
        "  vis_comp_used_count = {}\n",
        "  for comp in vis_components:\n",
        "    comps_count[comp] = 0\n",
        "    # comps_used_count[comp] = 0\n",
        "    vis_comp_used_count[comp] = 0\n",
        "    action_comp_used_count[comp] = 0\n",
        "    event_comp_used_count[comp] = 0\n",
        "\n",
        "  event_comps = []\n",
        "  action_comps = []\n",
        "  value_comps = []\n",
        "\n",
        "  # total_vis_components = random.randint(1, MAX_NUMBER_OF_COMPONENT) # limited to fit in screen # CX: 12C5\n",
        "  # selected_components = random.sample(vis_components*SAME_COMPONENT_LIMIT, total_vis_components)\n",
        "\n",
        "  for component in selected_components:\n",
        "    if component in non_repeat_vis_components and comps_count[component]:\n",
        "      selected_components.remove(component)\n",
        "      total_vis_components-=1\n",
        "    else:\n",
        "      comps_count[component] += 1\n",
        "      if component in event_components:\n",
        "        event_comps.append(component)\n",
        "      if component in action_components:  # Same component can be both event and action, such as \"ball\"\n",
        "        action_comps.append(component)\n",
        "      if component in value_components:\n",
        "        # if comps_count[component] > 1:\n",
        "        value_comps.append(component+str(comps_count[component]))\n",
        "  \n",
        "  unique_components = list(set(selected_components))\n",
        "\n",
        "  for i in range(len(selected_components)):\n",
        "    vis_comp = selected_components[i]\n",
        "\n",
        "    hide = random.choice([0,0,0,0,0,1]) ## Hide 1/6 components from component list, and NL definition\n",
        "    if hide:\n",
        "      # print(vis_comp, \"HIDDEN!\")\n",
        "      continue\n",
        "\n",
        "    vis_comp_number =  comps_count[vis_comp]\n",
        "    vis_comp_nl = random.choice(component_alias[vis_comp])\n",
        "    article = getArticle(vis_comp_nl)\n",
        "\n",
        "    vis_comp_used_count[vis_comp] += 1\n",
        "\n",
        "\n",
        "    mid_text = \"\"\n",
        "    \n",
        "    if i == total_vis_components - 1 and len(selected_components) > 1: # j == vis_comp_number - 1 and \n",
        "      NL += \"and \"\n",
        "\n",
        "    give_text = random.choice([0,0,0,1]) # MH: 25% chance of giving a text\n",
        "\n",
        "    if vis_comp in comp_with_src:\n",
        "      if give_text: # with 25% possibility set the source to a random video or music\n",
        "        mid_text = \"random_\"+ vis_comp + \"_source\"\n",
        "        rand_src = article + \" \" + vis_comp_nl + \" with a random \" + random.choice(rand_source[vis_comp]) # 12.5%  time mention random source\n",
        "        no_src = article + \" \" + vis_comp_nl # 12.5% times mention no source at all\n",
        "        NL += random.choice([rand_src, no_src])\n",
        "      else:\n",
        "        mid_text = getStr()\n",
        "        NL += article + \" \" + vis_comp_nl + \" with source \" + mid_text\n",
        "    elif vis_comp in components_with_text:\n",
        "      if give_text:\n",
        "        mid_text = getStr()\n",
        "        NL += article + \" \"+ vis_comp_nl + random.choice([\" named \", \" with text \", \" called \"]) + mid_text\n",
        "      else:\n",
        "        mid_text = vis_comp + str(vis_comp_used_count[vis_comp]) # MH: DEFAULT TEXT ARGUMENT\n",
        "        NL += article + \" \" + vis_comp_nl \n",
        "    else:\n",
        "      NL += article + \" \" + vis_comp_nl \n",
        "\n",
        "\n",
        "    if i == total_vis_components - 1: # j == vis_comp_number - 1 \n",
        "      NL += \" . \"\n",
        "    else:\n",
        "      NL += \" , \"\n",
        "\n",
        "    ## Generate SAR\n",
        "    if vis_comp in components_with_text+comp_with_src:\n",
        "      sar_begin_token = \"<token> \"\n",
        "      sar_end_token = \"</token> \"\n",
        "      SAR.append(sar_begin_token.replace(\"token\", vis_comp))\n",
        "      SAR.append(mid_text + \" \")\n",
        "      SAR.append(sar_end_token.replace(\"token\", vis_comp))\n",
        "    else:\n",
        "      SAR.append(\"<\"+vis_comp+\"> \")\n",
        "\n",
        "\n",
        "\n",
        "  ## Handling plural form\n",
        "  # if vis_comp_number > 1:\n",
        "  #   if vis_comp in end_with_es: #add component to this list if it end in es\n",
        "  #     NL = NL.replace(vis_comp, (vis_comp + \"es\"))\n",
        "  #   else: \n",
        "  #     NL = NL.replace(vis_comp, vis_comp + \"s\")\n",
        "\n",
        "  #Generate SAR for canvas\n",
        "  # for number in range(vis_comp_number):\n",
        "  # if vis_comp in canvas_components:\n",
        "  #   if \"<canvas> \" in SAR:\n",
        "  #     idx = SAR.index(\"</canvas> \") - 1\n",
        "  #     SAR.insert(idx , \"<ball> \")\n",
        "  #   else:\n",
        "  #     SAR.append(\"<canvas> \")\n",
        "  #     SAR.append(\"<ball> \")\n",
        "  #     SAR.append(\"</canvas> \")\n",
        "  # else:\n",
        "  #   sar_token = \"<token> \"\n",
        "  #   SAR.append(sar_token.replace(\"token\", vis_comp))\n",
        "\n",
        "  NL.replace('and .', '.')\n",
        "  NL.replace('<complist> </complist>', \"\")\n",
        "  SAR.append(\"</complist>\") #Change to </comp>\n",
        "  SAR_str = \"\"\n",
        "  for token in SAR:\n",
        "    SAR_str += token\n",
        "\n",
        "  sar = SAR_str\n",
        "\n",
        "\n",
        "  ## SAR for code components\n",
        "  # print(selected_components)\n",
        "  # print(event_comps)\n",
        "  # print(action_comps)\n",
        "  # print(value_comps)\n",
        "\n",
        "  if len(action_comps)>0 and len(event_comps)>0:\n",
        "    sar += \" <code> \"\n",
        "    for event_comp in event_comps:\n",
        "      if action_comps:\n",
        "        event_comp_used_count[event_comp] += 1\n",
        "        event_comp_num = event_comp_used_count[event_comp]\n",
        "        event_comp_count = comps_count[event_comp]\n",
        "        event_object = EventComponent(event_comp, event_comp_num, event_comp_count)\n",
        "        NL += event_object.getNL()\n",
        "        # event = event_object.event #random.choice(events[event_comp])\n",
        "        sar += \"<\"+ event_comp + str(event_comp_num) + event_object.event + \"> \"\n",
        "\n",
        "        action_comp_name = random.choice(action_comps)\n",
        "        action_comp_used_count[action_comp_name] += 1\n",
        "        action_comp_num = action_comp_used_count[action_comp_name]\n",
        "        action_comps.remove(action_comp_name)\n",
        "        action_comp_count = comps_count[action_comp_name]\n",
        "\n",
        "        ## Hidden video, audio source, pop up in player\n",
        "        set_src = False\n",
        "        if action_comp_name in comp_with_src and action_comp_name not in sar:\n",
        "          set_src = True\n",
        "\n",
        "        # Decide whether to use value comp, or which one to use\n",
        "        # Send or not send that value comp\n",
        "        # Remove from the value comp list\n",
        "        action_object = ActionComponent(action_comp_name, action_comp_num, value_comps, action_comp_count, set_src)\n",
        "        value_comps = action_object.val_comps\n",
        "\n",
        "        (nl, arg) = action_object.getNLArg()\n",
        "        ## Parse <src> </src> and put it back into <video> </video>\n",
        "\n",
        "        action_comp_num_str = str(action_comp_num) if action_comp_name in non_repeat_vis_components else \"\"\n",
        "        sar += \"<\"+action_comp_name + str(action_comp_num) + \"> \" + arg + \" </\"+action_comp_name + str(action_comp_num) + \"> \"\n",
        "        sar += \"</\"+ event_comp + str(event_comp_num) + event_object.event + \"> \"\n",
        "        NL += nl + \" . \"\n",
        "\n",
        "    sar += \"</code>\"\n",
        "\n",
        "\n",
        "  NL = ' '.join(NL.split())\n",
        "  sar = ' '.join(sar.split())\n",
        "  return NL, sar\n"
      ],
      "execution_count": 14,
      "outputs": []
    },
    {
      "cell_type": "markdown",
      "source": [
        "* Keep a count, and name them First, Second. Similar to Button.\n",
        "* <complist> </complist> should be eliminated"
      ],
      "metadata": {
        "id": "d1X19zx5JpJ4"
      }
    },
    {
      "cell_type": "code",
      "metadata": {
        "id": "ZeOq01pVsK0N",
        "colab": {
          "base_uri": "https://localhost:8080/"
        },
        "outputId": "9e70bb63-929c-41f5-b153-01bde8685c09"
      },
      "source": [
        "while True:\n",
        "  NL, sar = generate_nl_sar()\n",
        "  if '</src> </player1>' in sar:\n",
        "    print(NL)\n",
        "    print(sar)\n",
        "    break"
      ],
      "execution_count": 15,
      "outputs": [
        {
          "output_type": "stream",
          "name": "stdout",
          "text": [
            "a software with a button called string0 , a passwordtextbox , an accelerometer , a label , a switch , a circle , and a textbox . when the button is touched, open the camera . when the motion sensor is shaken, pause the music player string1 . when the switch is touched, set the label text to string2 . when the ball is flung, swing the ball .\n",
            "<complist> <button> string0 </button> <passwordtextbox> <accelerometer> <label> label1 </label> <switch> switch1 </switch> <ball> <textbox> </complist> <code> <button1clicked> <camera1> <capture_and_show> </camera1> </button1clicked> <accelerometer1shaken> <player1> <stop> <src> string1 </src> </player1> </accelerometer1shaken> <switch1flipped> <label1> string2 </label1> </switch1flipped> <ball1flung> <ball1> <motion> </ball1> </ball1flung> </code>\n"
          ]
        }
      ]
    },
    {
      "cell_type": "markdown",
      "metadata": {
        "id": "2Re1T6ISXUW_"
      },
      "source": [
        "# BERT Mutation"
      ]
    },
    {
      "cell_type": "code",
      "metadata": {
        "colab": {
          "base_uri": "https://localhost:8080/",
          "height": 232,
          "referenced_widgets": [
            "5c49dd8830214cfea7501b1379e7a7b6",
            "92df7134e8534058a796c35b45412557",
            "7536e4b38219456cb6bb045bce242690",
            "ee6fa0434ccb4c0dae81f940b05c187f",
            "58b94831bf83441da7f60b85d56a4fc6",
            "488a16eef5ce4b5db06c62326e48e3fc",
            "2d757bf5bb8240a48a0e4e35f1ff95a7",
            "e92032ae440d45b48fea73b88ea19f7d",
            "c822cf7fe31d4637afaa22a434dacce2",
            "cd53838004284da19913f2d807d58140",
            "b4af220708fa4caeb0ea7cb9bf59a0da",
            "7716284542fd49f6867334769b8021f1",
            "8946e634d88c4bbe9b5e17b9ad1fe04a",
            "d45edeec7fe04285ae28efd2a6671312",
            "1128d84bfc304b12b52beb9b4e4567ee",
            "8c36be11670346978f2dc7e5962cdb0f",
            "f46e5a13448c4243b9782cfa00c068d4",
            "ad4cee34ea024af2848bacd7f8a84fcf",
            "024383410c0148b1b1221b7c4339b0be",
            "94a5376e944c457f9f4459813d3aaaff",
            "2b218a74aed24270b21088195148901f",
            "5b7d39c1e7ec40659edb85e1be7f8d80",
            "71986559c7be40cf97388bd240611096",
            "48f3f884be2f49f492b09efcc9cf4197",
            "35eff790c53f41789d2dbd0212897cec",
            "f91a887dce2c4021bb630f58145cfc13",
            "45cc48a4878d42f08b5b0af9f1a3275c",
            "ce3128cbfa5848319ad56767c24dc7b4",
            "0c1f87d8b50042f9908278ef16fae4b6",
            "4c5be26ad61e4e0f9372f5be9da55f18",
            "1fc5e77573ab4d6eb5c11e096efeda66",
            "b7887334d7444b2b92718c3e92ec006d",
            "328b57da5dcd41aab73ba37c6ef21fa5",
            "11e025ad1d17444294340506ef17f8e0",
            "ae4b5780819341b3b40c57010503836b",
            "b0a5003e7fa3420e9516deb37b92f25a",
            "60e01b49210c45068c5f0265518ae155",
            "72c4d0beb4ad42918a6b2c3bbf574908",
            "31b93d95ea1e47c5b1ff9d8ee6a0d8d9",
            "c18c4afa49ba41b4b8e8436efee7f4a8",
            "e8d9794c81004b228cb30dbc4af89b40",
            "9637883bd46947c0b1440de34ec2a1a2",
            "edeb20adc8e243adbd78901f065185cc",
            "16d11cb20fbb4277b70af5f2ffa43571",
            "7796cbe0fcb9412ba1933b8f9d593ce6",
            "de6f946feaf04879be853412cd88ed9e",
            "5e7eb6b8712f4017a58d0b74464a7681",
            "7aeef6f05e03464fa38d7a2605691b48",
            "128b561fc43643f299b62381113d3501",
            "8c607f7463ab40d0aac6205b9a59e7f2",
            "f0ae6be756874f89be3a45b95eacf996",
            "d158a7c683734f0b9b0912f66bda723b",
            "d87c8021079d4bafb4a920149e595a4e",
            "a4c775dbc377496ebd6f20bebb968bf8",
            "281a26b383144c448f215e361f95f115"
          ]
        },
        "id": "w2Zxo0HDXWUl",
        "outputId": "2e6b2604-4b5f-4bbe-f6f6-e22cd52a7984"
      },
      "source": [
        "from transformers import AutoModelWithLMHead, AutoTokenizer\n",
        "import torch\n",
        "\n",
        "tokenizer = AutoTokenizer.from_pretrained(\"distilbert-base-cased\")\n",
        "model = AutoModelWithLMHead.from_pretrained(\"distilbert-base-cased\").cuda()"
      ],
      "execution_count": 16,
      "outputs": [
        {
          "output_type": "display_data",
          "data": {
            "text/plain": [
              "Downloading:   0%|          | 0.00/411 [00:00<?, ?B/s]"
            ],
            "application/vnd.jupyter.widget-view+json": {
              "version_major": 2,
              "version_minor": 0,
              "model_id": "5c49dd8830214cfea7501b1379e7a7b6"
            }
          },
          "metadata": {}
        },
        {
          "output_type": "display_data",
          "data": {
            "text/plain": [
              "Downloading:   0%|          | 0.00/213k [00:00<?, ?B/s]"
            ],
            "application/vnd.jupyter.widget-view+json": {
              "version_major": 2,
              "version_minor": 0,
              "model_id": "7716284542fd49f6867334769b8021f1"
            }
          },
          "metadata": {}
        },
        {
          "output_type": "display_data",
          "data": {
            "text/plain": [
              "Downloading:   0%|          | 0.00/436k [00:00<?, ?B/s]"
            ],
            "application/vnd.jupyter.widget-view+json": {
              "version_major": 2,
              "version_minor": 0,
              "model_id": "71986559c7be40cf97388bd240611096"
            }
          },
          "metadata": {}
        },
        {
          "output_type": "display_data",
          "data": {
            "text/plain": [
              "Downloading:   0%|          | 0.00/29.0 [00:00<?, ?B/s]"
            ],
            "application/vnd.jupyter.widget-view+json": {
              "version_major": 2,
              "version_minor": 0,
              "model_id": "11e025ad1d17444294340506ef17f8e0"
            }
          },
          "metadata": {}
        },
        {
          "output_type": "stream",
          "name": "stderr",
          "text": [
            "/usr/local/lib/python3.7/dist-packages/transformers/models/auto/modeling_auto.py:762: FutureWarning: The class `AutoModelWithLMHead` is deprecated and will be removed in a future version. Please use `AutoModelForCausalLM` for causal language models, `AutoModelForMaskedLM` for masked language models and `AutoModelForSeq2SeqLM` for encoder-decoder models.\n",
            "  FutureWarning,\n"
          ]
        },
        {
          "output_type": "display_data",
          "data": {
            "text/plain": [
              "Downloading:   0%|          | 0.00/263M [00:00<?, ?B/s]"
            ],
            "application/vnd.jupyter.widget-view+json": {
              "version_major": 2,
              "version_minor": 0,
              "model_id": "7796cbe0fcb9412ba1933b8f9d593ce6"
            }
          },
          "metadata": {}
        }
      ]
    },
    {
      "cell_type": "code",
      "metadata": {
        "id": "cXYjefDbXXqc"
      },
      "source": [
        "def mutate(sentence, position):\n",
        "  # sentence = \"hello world\"\n",
        "  # position = 0\n",
        "  \n",
        "  tokens = sentence.split()\n",
        "  word = tokens[position]\n",
        "  mask = tokenizer.mask_token\n",
        "  tokens[position] = mask\n",
        "  masked_sentence = ' '.join(tokens)\n",
        "\n",
        "  input = tokenizer.encode(masked_sentence, return_tensors=\"pt\").cuda()\n",
        "  mask_token_index = torch.where(input == tokenizer.mask_token_id)[1].cuda()\n",
        "\n",
        "  token_logits = model(input)[0].cuda()\n",
        "  mask_token_logits = token_logits[0, mask_token_index, :].cuda()\n",
        "  top_tokens = torch.topk(mask_token_logits, 10, dim=1).indices[0].tolist()\n",
        "\n",
        "  predictions = []\n",
        "  for token in top_tokens:\n",
        "    predicted_word = tokenizer.decode([token]).lower()\n",
        "    if \"##\" not in predicted_word:\n",
        "      predictions.append(predicted_word)\n",
        "\n",
        "  if len(predictions)> 0:\n",
        "    decreasing_weights = [i for i in range(len(predictions) ,0, -1)]\n",
        "    mutated_word = random.choices(predictions, weights=decreasing_weights, k=1)[0]\n",
        "    # print(mutated_word)\n",
        "  else:\n",
        "    mutated_word = word\n",
        "    # print(\"not mutated\")\n",
        "  tokens[position] = mutated_word\n",
        "  mutated_sentence = ' '.join(tokens)\n",
        "\n",
        "  return mutated_sentence"
      ],
      "execution_count": 17,
      "outputs": []
    },
    {
      "cell_type": "code",
      "metadata": {
        "id": "XzUurQC9XftP"
      },
      "source": [
        "def mutate_sentence(sentence, mutation_percent):\n",
        "  mutate_index = random.choices([i for i in range(len(sentence.split()))], k=int(len(sentence.split())*mutation_percent + 0.5))\n",
        "  for i in mutate_index:\n",
        "    sentence = mutate(sentence, i)\n",
        "  return sentence"
      ],
      "execution_count": 18,
      "outputs": []
    },
    {
      "cell_type": "markdown",
      "metadata": {
        "id": "niZq69TogmVz"
      },
      "source": [
        "# Generating dataset"
      ]
    },
    {
      "cell_type": "code",
      "metadata": {
        "id": "W9QvvUbTTt8e",
        "colab": {
          "base_uri": "https://localhost:8080/"
        },
        "outputId": "37b908d9-6c3b-4446-dd5b-c9407a0111ba"
      },
      "source": [
        "nl_list = []\n",
        "nl_mod_list = []\n",
        "sar_list = []\n",
        "\n",
        "for i in range(10000):\n",
        "  nl, sar = generate_nl_sar()\n",
        "  if len(sar.split()) < 3:\n",
        "    continue\n",
        "  if \"<textboxtext4>\" in sar:\n",
        "    print(sar)\n",
        "  ## Mutate 10% words in 10% NL\n",
        "  nl = mutate_sentence(nl, 0.1)\n",
        "  nl_list.append(nl)\n",
        "  sar_list.append(sar)\n",
        "  if i%100==0:\n",
        "    print(i)"
      ],
      "execution_count": null,
      "outputs": [
        {
          "output_type": "stream",
          "name": "stdout",
          "text": [
            "0\n",
            "100\n",
            "200\n",
            "300\n",
            "400\n",
            "500\n",
            "600\n",
            "700\n",
            "800\n",
            "900\n"
          ]
        }
      ]
    },
    {
      "cell_type": "code",
      "metadata": {
        "id": "OeacBRpqzBbX"
      },
      "source": [
        "d = {}\n",
        "\n",
        "all_tokens = ' '.join(sar_list).split()\n",
        "for s in all_tokens:\n",
        "  if s not in d:\n",
        "    d[s] = 0\n",
        "  d[s] += 1"
      ],
      "execution_count": null,
      "outputs": []
    },
    {
      "cell_type": "code",
      "metadata": {
        "colab": {
          "base_uri": "https://localhost:8080/"
        },
        "id": "ocy-dfxb0QiY",
        "outputId": "fd76fc12-1e3d-4836-8df5-0959c09ddf06"
      },
      "source": [
        "sorted_d = sorted(d.items(), key=lambda item: item[1])\n",
        "sorted_d.reverse()\n",
        "sorted_d"
      ],
      "execution_count": null,
      "outputs": [
        {
          "output_type": "execute_result",
          "data": {
            "text/plain": [
              "[('</complist>', 100000),\n",
              " ('<complist>', 100000),\n",
              " ('</label>', 81172),\n",
              " ('</video_player>', 80950),\n",
              " ('</player>', 80884),\n",
              " ('</code>', 78166),\n",
              " ('<code>', 78166),\n",
              " ('string0', 73274),\n",
              " ('<passwordtextbox>', 54554),\n",
              " ('<timepicker>', 54509),\n",
              " ('</switch>', 54435),\n",
              " ('<switch>', 54435),\n",
              " ('</button>', 54359),\n",
              " ('<button>', 54359),\n",
              " ('<textbox>', 54301),\n",
              " ('<label>', 54161),\n",
              " ('<video_player>', 54069),\n",
              " ('<player>', 54049),\n",
              " ('<text2speech>', 43728),\n",
              " ('<accelerometer>', 43726),\n",
              " ('<camera>', 43675),\n",
              " ('<ball>', 43622),\n",
              " ('string1', 42680),\n",
              " ('</switch1flipped>', 34864),\n",
              " ('<switch1flipped>', 34864),\n",
              " ('</button1clicked>', 34710),\n",
              " ('<button1clicked>', 34710),\n",
              " ('</accelerometer1shaken>', 34633),\n",
              " ('<accelerometer1shaken>', 34633),\n",
              " ('switch1', 31890),\n",
              " ('button1', 31802),\n",
              " ('label1', 31666),\n",
              " ('</ball1>', 28938),\n",
              " ('<ball1>', 28938),\n",
              " ('<stop>', 26870),\n",
              " ('<start>', 26846),\n",
              " ('<label1>', 24365),\n",
              " ('<video_player1>', 24200),\n",
              " ('<player1>', 24189),\n",
              " ('</camera1>', 23122),\n",
              " ('<capture_and_show>', 23122),\n",
              " ('<camera1>', 23122),\n",
              " ('</text2speech1>', 22965),\n",
              " ('<text2speech1>', 22965),\n",
              " ('string2', 20226),\n",
              " ('</ball1reach_edge>', 19028),\n",
              " ('<ball1reach_edge>', 19028),\n",
              " ('</ball1flung>', 18975),\n",
              " ('<ball1flung>', 18975),\n",
              " ('number0', 14399),\n",
              " ('random_video_player_source', 13635),\n",
              " ('random_player_source', 13460),\n",
              " ('<time1>', 10497),\n",
              " ('<textboxtext1>', 10362),\n",
              " ('switch2', 7820),\n",
              " ('label2', 7773),\n",
              " ('button2', 7748),\n",
              " ('string3', 7723),\n",
              " ('</switch2flipped>', 6268),\n",
              " ('<switch2flipped>', 6268),\n",
              " ('</button2clicked>', 6258),\n",
              " ('<button2clicked>', 6258),\n",
              " ('<motion>', 4909),\n",
              " ('</speed>', 4873),\n",
              " ('<speed>', 4873),\n",
              " ('<bounce>', 4833),\n",
              " ('</color>', 4797),\n",
              " ('<color>', 4797),\n",
              " ('</heading>', 4783),\n",
              " ('<heading>', 4783),\n",
              " ('</radius>', 4743),\n",
              " ('<radius>', 4743),\n",
              " ('<video_player2>', 2550),\n",
              " ('<label2>', 2546),\n",
              " ('<player2>', 2536),\n",
              " ('string4', 2469),\n",
              " ('<time2>', 1768),\n",
              " ('<textboxtext2>', 1673),\n",
              " ('button3', 1092),\n",
              " ('switch3', 1047),\n",
              " ('label3', 1036),\n",
              " ('string5', 653),\n",
              " ('</button3clicked>', 528),\n",
              " ('<button3clicked>', 528),\n",
              " ('</switch3flipped>', 460),\n",
              " ('<switch3flipped>', 460),\n",
              " ('<light_gray>', 414),\n",
              " ('<orange>', 414),\n",
              " ('<magenta>', 413),\n",
              " ('<cyan>', 411),\n",
              " ('<gray>', 407),\n",
              " ('<dark_gray>', 405),\n",
              " ('<yellow>', 401),\n",
              " ('<pink>', 398),\n",
              " ('<green>', 391),\n",
              " ('<black>', 390),\n",
              " ('<blue>', 379),\n",
              " ('<red>', 374),\n",
              " ('<textboxtext3>', 171),\n",
              " ('<time3>', 153),\n",
              " ('string6', 144),\n",
              " ('<video_player3>', 130),\n",
              " ('<player3>', 109),\n",
              " ('<label3>', 100),\n",
              " ('label4', 78),\n",
              " ('button4', 73),\n",
              " ('switch4', 70),\n",
              " ('string7', 30),\n",
              " ('</switch4flipped>', 16),\n",
              " ('<switch4flipped>', 16),\n",
              " ('<time4>', 12),\n",
              " ('</button4clicked>', 11),\n",
              " ('<button4clicked>', 11),\n",
              " ('button5', 7),\n",
              " ('<textboxtext4>', 5),\n",
              " ('string8', 4),\n",
              " ('label5', 4),\n",
              " ('switch5', 2),\n",
              " ('<time5>', 1),\n",
              " ('<player4>', 1),\n",
              " ('<video_player4>', 1),\n",
              " ('string9', 1),\n",
              " ('</button5clicked>', 1),\n",
              " ('<button5clicked>', 1)]"
            ]
          },
          "metadata": {
            "tags": []
          },
          "execution_count": 58
        }
      ]
    },
    {
      "cell_type": "code",
      "metadata": {
        "id": "P_l7JWYvYb8d"
      },
      "source": [
        "import pandas as pd\n",
        "df = pd.DataFrame({'NL':nl_list, 'SAR': sar_list})"
      ],
      "execution_count": null,
      "outputs": []
    },
    {
      "cell_type": "code",
      "metadata": {
        "id": "-amGJ_OhMxGk",
        "colab": {
          "base_uri": "https://localhost:8080/",
          "height": 417
        },
        "outputId": "72709139-b486-47b0-e904-91424168a43a"
      },
      "source": [
        "df"
      ],
      "execution_count": null,
      "outputs": [
        {
          "output_type": "execute_result",
          "data": {
            "text/html": [
              "<div>\n",
              "<style scoped>\n",
              "    .dataframe tbody tr th:only-of-type {\n",
              "        vertical-align: middle;\n",
              "    }\n",
              "\n",
              "    .dataframe tbody tr th {\n",
              "        vertical-align: top;\n",
              "    }\n",
              "\n",
              "    .dataframe thead th {\n",
              "        text-align: right;\n",
              "    }\n",
              "</style>\n",
              "<table border=\"1\" class=\"dataframe\">\n",
              "  <thead>\n",
              "    <tr style=\"text-align: right;\">\n",
              "      <th></th>\n",
              "      <th>NL</th>\n",
              "      <th>SAR</th>\n",
              "    </tr>\n",
              "  </thead>\n",
              "  <tbody>\n",
              "    <tr>\n",
              "      <th>0</th>\n",
              "      <td>create a mobile app with a text2speech , a but...</td>\n",
              "      <td>&lt;complist&gt; &lt;text2speech&gt; &lt;button&gt; button1 &lt;/bu...</td>\n",
              "    </tr>\n",
              "    <tr>\n",
              "      <th>1</th>\n",
              "      <td>save me ! mobile app includes a textbox , a vi...</td>\n",
              "      <td>&lt;complist&gt; &lt;textbox&gt; &lt;video_player&gt; string0 &lt;/...</td>\n",
              "    </tr>\n",
              "    <tr>\n",
              "      <th>2</th>\n",
              "      <td>make mobile application that requires a camera...</td>\n",
              "      <td>&lt;complist&gt; &lt;camera&gt; &lt;textbox&gt; &lt;text2speech&gt; &lt;v...</td>\n",
              "    </tr>\n",
              "    <tr>\n",
              "      <th>3</th>\n",
              "      <td>create a simple application with simple circle...</td>\n",
              "      <td>&lt;complist&gt; &lt;ball&gt; &lt;switch&gt; string0 &lt;/switch&gt; &lt;...</td>\n",
              "    </tr>\n",
              "    <tr>\n",
              "      <th>4</th>\n",
              "      <td>mobile app containing a movement sensor , a mi...</td>\n",
              "      <td>&lt;complist&gt; &lt;accelerometer&gt; &lt;textbox&gt; &lt;text2spe...</td>\n",
              "    </tr>\n",
              "    <tr>\n",
              "      <th>...</th>\n",
              "      <td>...</td>\n",
              "      <td>...</td>\n",
              "    </tr>\n",
              "    <tr>\n",
              "      <th>99995</th>\n",
              "      <td>make mobile app app has a video with source st...</td>\n",
              "      <td>&lt;complist&gt; &lt;video_player&gt; string0 &lt;/video_play...</td>\n",
              "    </tr>\n",
              "    <tr>\n",
              "      <th>99996</th>\n",
              "      <td>create software having a button with text inpu...</td>\n",
              "      <td>&lt;complist&gt; &lt;button&gt; string0 &lt;/button&gt; &lt;switch&gt;...</td>\n",
              "    </tr>\n",
              "    <tr>\n",
              "      <th>99997</th>\n",
              "      <td>app containing a button with text string0 , a ...</td>\n",
              "      <td>&lt;complist&gt; &lt;button&gt; string0 &lt;/button&gt; &lt;button&gt;...</td>\n",
              "    </tr>\n",
              "    <tr>\n",
              "      <th>99998</th>\n",
              "      <td>create mobile application consisting a text to...</td>\n",
              "      <td>&lt;complist&gt; &lt;text2speech&gt; &lt;passwordtextbox&gt; &lt;ac...</td>\n",
              "    </tr>\n",
              "    <tr>\n",
              "      <th>99999</th>\n",
              "      <td>an application consists of a text to speech , ...</td>\n",
              "      <td>&lt;complist&gt; &lt;text2speech&gt; &lt;button&gt; button1 &lt;/bu...</td>\n",
              "    </tr>\n",
              "  </tbody>\n",
              "</table>\n",
              "<p>100000 rows × 2 columns</p>\n",
              "</div>"
            ],
            "text/plain": [
              "                                                      NL                                                SAR\n",
              "0      create a mobile app with a text2speech , a but...  <complist> <text2speech> <button> button1 </bu...\n",
              "1      save me ! mobile app includes a textbox , a vi...  <complist> <textbox> <video_player> string0 </...\n",
              "2      make mobile application that requires a camera...  <complist> <camera> <textbox> <text2speech> <v...\n",
              "3      create a simple application with simple circle...  <complist> <ball> <switch> string0 </switch> <...\n",
              "4      mobile app containing a movement sensor , a mi...  <complist> <accelerometer> <textbox> <text2spe...\n",
              "...                                                  ...                                                ...\n",
              "99995  make mobile app app has a video with source st...  <complist> <video_player> string0 </video_play...\n",
              "99996  create software having a button with text inpu...  <complist> <button> string0 </button> <switch>...\n",
              "99997  app containing a button with text string0 , a ...  <complist> <button> string0 </button> <button>...\n",
              "99998  create mobile application consisting a text to...  <complist> <text2speech> <passwordtextbox> <ac...\n",
              "99999  an application consists of a text to speech , ...  <complist> <text2speech> <button> button1 </bu...\n",
              "\n",
              "[100000 rows x 2 columns]"
            ]
          },
          "metadata": {
            "tags": []
          },
          "execution_count": 60
        }
      ]
    },
    {
      "cell_type": "code",
      "metadata": {
        "colab": {
          "base_uri": "https://localhost:8080/"
        },
        "id": "6epf1CI0t0pr",
        "outputId": "8b476f8a-bd30-432a-bd0a-62fb4b8d7746"
      },
      "source": [
        "nl_list[:10]"
      ],
      "execution_count": null,
      "outputs": [
        {
          "output_type": "execute_result",
          "data": {
            "text/plain": [
              "['create a mobile app with a text2speech , a button for a label , a textbox , a switch , optional passwordtextbox , an audio with source string0 , and a time picker . if the button is touched, set the label adjacent to the text in the box . if the switch is pressed, restart the player .',\n",
              " 'save me ! mobile app includes a textbox , a video with source string0 , and a circle . if the circle is touches edge, stop video .',\n",
              " 'make mobile application that requires a camera , a text box , another text2speech , a video box with source string0 , a circle , a motion sensor , a pasword text box , a label , a video , a random clip , a switch , and a video with source string1 . when the circle is touches please tell the text in the textbox . if the accelerometer is shaken, play the video player . if the switch is touched, play another clip .',\n",
              " 'create a simple application with simple circle , a switch with text string0 , a camera , a microphone with a random audio , a player with source string1 , and a guide to speech . when the circle is cornered, set ball color to orange . when the switch is pressed, speak string2 !',\n",
              " 'mobile app containing a movement sensor , a microphone , and a speech . when the shake knob is shaken, speak the textbox content .',\n",
              " 'create a mobile app containing a pasword text box ; a string , a label , a button called string0 , a label named string1 , a button , a ball , and a time picker . whenever the switch is clicked, set label text to the time . if the initial button is clicked, set label string2 . when clicked the later button is flipped set the speed to number0 .',\n",
              " 'give me the application having an audio with source string0 and a label called string1 , a pasword text editor , a camera , a player with a random audio stream and a video player with source string2 .',\n",
              " 'this application consisting a text box , a time picker , a text player with source string0 , a label called string1 , a textbox , an accelerometer , and a switch . if the trigger sensor is shaken, start video . when the switch is clicked, set the label text on string2 .',\n",
              " 'app that has a switch contains a textbox , a text2speech , a motion sensor , a time selector , plus a music player with source string0 . if the switch is clicked, start the player . if its motion detector is called say string1 .',\n",
              " 'player that has a text box , a microphone , a switch named bounce , an audio player with source string1 , a camera , a shake sensor , a vibration monitor , a time selector , a video with source string2 , a time monitor , and a circle . when the switch is pressed, bounce the ball . if the shake sensor is vibrated, pause the music . when the circle feels flung, initiate swing .']"
            ]
          },
          "metadata": {
            "tags": []
          },
          "execution_count": 61
        }
      ]
    },
    {
      "cell_type": "code",
      "metadata": {
        "colab": {
          "base_uri": "https://localhost:8080/",
          "height": 417
        },
        "id": "EmmbHdpJ8sSW",
        "outputId": "c0ae1962-91e2-4592-fffe-faad0f7962ae"
      },
      "source": [
        "df = df.drop_duplicates()\n",
        "df"
      ],
      "execution_count": null,
      "outputs": [
        {
          "output_type": "execute_result",
          "data": {
            "text/html": [
              "<div>\n",
              "<style scoped>\n",
              "    .dataframe tbody tr th:only-of-type {\n",
              "        vertical-align: middle;\n",
              "    }\n",
              "\n",
              "    .dataframe tbody tr th {\n",
              "        vertical-align: top;\n",
              "    }\n",
              "\n",
              "    .dataframe thead th {\n",
              "        text-align: right;\n",
              "    }\n",
              "</style>\n",
              "<table border=\"1\" class=\"dataframe\">\n",
              "  <thead>\n",
              "    <tr style=\"text-align: right;\">\n",
              "      <th></th>\n",
              "      <th>NL</th>\n",
              "      <th>SAR</th>\n",
              "    </tr>\n",
              "  </thead>\n",
              "  <tbody>\n",
              "    <tr>\n",
              "      <th>0</th>\n",
              "      <td>create a mobile app with a text2speech , a but...</td>\n",
              "      <td>&lt;complist&gt; &lt;text2speech&gt; &lt;button&gt; button1 &lt;/bu...</td>\n",
              "    </tr>\n",
              "    <tr>\n",
              "      <th>1</th>\n",
              "      <td>save me ! mobile app includes a textbox , a vi...</td>\n",
              "      <td>&lt;complist&gt; &lt;textbox&gt; &lt;video_player&gt; string0 &lt;/...</td>\n",
              "    </tr>\n",
              "    <tr>\n",
              "      <th>2</th>\n",
              "      <td>make mobile application that requires a camera...</td>\n",
              "      <td>&lt;complist&gt; &lt;camera&gt; &lt;textbox&gt; &lt;text2speech&gt; &lt;v...</td>\n",
              "    </tr>\n",
              "    <tr>\n",
              "      <th>3</th>\n",
              "      <td>create a simple application with simple circle...</td>\n",
              "      <td>&lt;complist&gt; &lt;ball&gt; &lt;switch&gt; string0 &lt;/switch&gt; &lt;...</td>\n",
              "    </tr>\n",
              "    <tr>\n",
              "      <th>4</th>\n",
              "      <td>mobile app containing a movement sensor , a mi...</td>\n",
              "      <td>&lt;complist&gt; &lt;accelerometer&gt; &lt;textbox&gt; &lt;text2spe...</td>\n",
              "    </tr>\n",
              "    <tr>\n",
              "      <th>...</th>\n",
              "      <td>...</td>\n",
              "      <td>...</td>\n",
              "    </tr>\n",
              "    <tr>\n",
              "      <th>99995</th>\n",
              "      <td>make mobile app app has a video with source st...</td>\n",
              "      <td>&lt;complist&gt; &lt;video_player&gt; string0 &lt;/video_play...</td>\n",
              "    </tr>\n",
              "    <tr>\n",
              "      <th>99996</th>\n",
              "      <td>create software having a button with text inpu...</td>\n",
              "      <td>&lt;complist&gt; &lt;button&gt; string0 &lt;/button&gt; &lt;switch&gt;...</td>\n",
              "    </tr>\n",
              "    <tr>\n",
              "      <th>99997</th>\n",
              "      <td>app containing a button with text string0 , a ...</td>\n",
              "      <td>&lt;complist&gt; &lt;button&gt; string0 &lt;/button&gt; &lt;button&gt;...</td>\n",
              "    </tr>\n",
              "    <tr>\n",
              "      <th>99998</th>\n",
              "      <td>create mobile application consisting a text to...</td>\n",
              "      <td>&lt;complist&gt; &lt;text2speech&gt; &lt;passwordtextbox&gt; &lt;ac...</td>\n",
              "    </tr>\n",
              "    <tr>\n",
              "      <th>99999</th>\n",
              "      <td>an application consists of a text to speech , ...</td>\n",
              "      <td>&lt;complist&gt; &lt;text2speech&gt; &lt;button&gt; button1 &lt;/bu...</td>\n",
              "    </tr>\n",
              "  </tbody>\n",
              "</table>\n",
              "<p>99768 rows × 2 columns</p>\n",
              "</div>"
            ],
            "text/plain": [
              "                                                      NL                                                SAR\n",
              "0      create a mobile app with a text2speech , a but...  <complist> <text2speech> <button> button1 </bu...\n",
              "1      save me ! mobile app includes a textbox , a vi...  <complist> <textbox> <video_player> string0 </...\n",
              "2      make mobile application that requires a camera...  <complist> <camera> <textbox> <text2speech> <v...\n",
              "3      create a simple application with simple circle...  <complist> <ball> <switch> string0 </switch> <...\n",
              "4      mobile app containing a movement sensor , a mi...  <complist> <accelerometer> <textbox> <text2spe...\n",
              "...                                                  ...                                                ...\n",
              "99995  make mobile app app has a video with source st...  <complist> <video_player> string0 </video_play...\n",
              "99996  create software having a button with text inpu...  <complist> <button> string0 </button> <switch>...\n",
              "99997  app containing a button with text string0 , a ...  <complist> <button> string0 </button> <button>...\n",
              "99998  create mobile application consisting a text to...  <complist> <text2speech> <passwordtextbox> <ac...\n",
              "99999  an application consists of a text to speech , ...  <complist> <text2speech> <button> button1 </bu...\n",
              "\n",
              "[99768 rows x 2 columns]"
            ]
          },
          "metadata": {
            "tags": []
          },
          "execution_count": 62
        }
      ]
    },
    {
      "cell_type": "code",
      "metadata": {
        "id": "3wAF444JmaM4"
      },
      "source": [
        "df = df[:1000]"
      ],
      "execution_count": null,
      "outputs": []
    },
    {
      "cell_type": "code",
      "metadata": {
        "id": "_HouWKj5w_u7"
      },
      "source": [
        "df.to_csv(\"nl_sar_combined.csv\", index=False)"
      ],
      "execution_count": null,
      "outputs": []
    },
    {
      "cell_type": "markdown",
      "metadata": {
        "id": "ox15qupbCKI_"
      },
      "source": [
        "## Separating particular Event-Action combination"
      ]
    },
    {
      "cell_type": "code",
      "metadata": {
        "id": "5MCS7YCtCWvf"
      },
      "source": [
        "import pandas as pd\n",
        "\n",
        "all = pd.read_csv('nl_sar_combined.csv')"
      ],
      "execution_count": null,
      "outputs": []
    },
    {
      "cell_type": "code",
      "metadata": {
        "id": "sYpzq4FaC7Nd",
        "outputId": "e0cd19fd-a16c-4ecf-97c0-8dfd36d6db02",
        "colab": {
          "base_uri": "https://localhost:8080/",
          "height": 417
        }
      },
      "source": [
        "unseen_test = all[all['SAR'].str.contains(\"<switch1flipped> <text2speech1>\")]\n",
        "unseen_test"
      ],
      "execution_count": null,
      "outputs": [
        {
          "output_type": "execute_result",
          "data": {
            "text/html": [
              "<div>\n",
              "<style scoped>\n",
              "    .dataframe tbody tr th:only-of-type {\n",
              "        vertical-align: middle;\n",
              "    }\n",
              "\n",
              "    .dataframe tbody tr th {\n",
              "        vertical-align: top;\n",
              "    }\n",
              "\n",
              "    .dataframe thead th {\n",
              "        text-align: right;\n",
              "    }\n",
              "</style>\n",
              "<table border=\"1\" class=\"dataframe\">\n",
              "  <thead>\n",
              "    <tr style=\"text-align: right;\">\n",
              "      <th></th>\n",
              "      <th>NL</th>\n",
              "      <th>SAR</th>\n",
              "    </tr>\n",
              "  </thead>\n",
              "  <tbody>\n",
              "    <tr>\n",
              "      <th>3</th>\n",
              "      <td>create a simple application with simple circle...</td>\n",
              "      <td>&lt;complist&gt; &lt;ball&gt; &lt;switch&gt; string0 &lt;/switch&gt; &lt;...</td>\n",
              "    </tr>\n",
              "    <tr>\n",
              "      <th>36</th>\n",
              "      <td>make signals consisting a text2speech , a ball...</td>\n",
              "      <td>&lt;complist&gt; &lt;text2speech&gt; &lt;ball&gt; &lt;textbox&gt; &lt;swi...</td>\n",
              "    </tr>\n",
              "    <tr>\n",
              "      <th>38</th>\n",
              "      <td>app having a pasword text box , a switch , a s...</td>\n",
              "      <td>&lt;complist&gt; &lt;passwordtextbox&gt; &lt;switch&gt; switch1 ...</td>\n",
              "    </tr>\n",
              "    <tr>\n",
              "      <th>47</th>\n",
              "      <td>create a software consisting a pasword text bo...</td>\n",
              "      <td>&lt;complist&gt; &lt;passwordtextbox&gt; &lt;passwordtextbox&gt;...</td>\n",
              "    </tr>\n",
              "    <tr>\n",
              "      <th>72</th>\n",
              "      <td>a mobile app consisting of a player with sourc...</td>\n",
              "      <td>&lt;complist&gt; &lt;player&gt; string0 &lt;/player&gt; &lt;textbox...</td>\n",
              "    </tr>\n",
              "    <tr>\n",
              "      <th>...</th>\n",
              "      <td>...</td>\n",
              "      <td>...</td>\n",
              "    </tr>\n",
              "    <tr>\n",
              "      <th>99699</th>\n",
              "      <td>mobile application with a video with source st...</td>\n",
              "      <td>&lt;complist&gt; &lt;video_player&gt; string0 &lt;/video_play...</td>\n",
              "    </tr>\n",
              "    <tr>\n",
              "      <th>99705</th>\n",
              "      <td>make software consisting a label , a ball , sl...</td>\n",
              "      <td>&lt;complist&gt; &lt;label&gt; label1 &lt;/label&gt; &lt;ball&gt; &lt;but...</td>\n",
              "    </tr>\n",
              "    <tr>\n",
              "      <th>99712</th>\n",
              "      <td>create mobile app with a key to speech , a swi...</td>\n",
              "      <td>&lt;complist&gt; &lt;text2speech&gt; &lt;switch&gt; switch1 &lt;/sw...</td>\n",
              "    </tr>\n",
              "    <tr>\n",
              "      <th>99742</th>\n",
              "      <td>give me mobile app that has a time monitor , a...</td>\n",
              "      <td>&lt;complist&gt; &lt;timepicker&gt; &lt;accelerometer&gt; &lt;video...</td>\n",
              "    </tr>\n",
              "    <tr>\n",
              "      <th>99766</th>\n",
              "      <td>create mobile application consisting a text to...</td>\n",
              "      <td>&lt;complist&gt; &lt;text2speech&gt; &lt;passwordtextbox&gt; &lt;ac...</td>\n",
              "    </tr>\n",
              "  </tbody>\n",
              "</table>\n",
              "<p>5456 rows × 2 columns</p>\n",
              "</div>"
            ],
            "text/plain": [
              "                                                      NL                                                SAR\n",
              "3      create a simple application with simple circle...  <complist> <ball> <switch> string0 </switch> <...\n",
              "36     make signals consisting a text2speech , a ball...  <complist> <text2speech> <ball> <textbox> <swi...\n",
              "38     app having a pasword text box , a switch , a s...  <complist> <passwordtextbox> <switch> switch1 ...\n",
              "47     create a software consisting a pasword text bo...  <complist> <passwordtextbox> <passwordtextbox>...\n",
              "72     a mobile app consisting of a player with sourc...  <complist> <player> string0 </player> <textbox...\n",
              "...                                                  ...                                                ...\n",
              "99699  mobile application with a video with source st...  <complist> <video_player> string0 </video_play...\n",
              "99705  make software consisting a label , a ball , sl...  <complist> <label> label1 </label> <ball> <but...\n",
              "99712  create mobile app with a key to speech , a swi...  <complist> <text2speech> <switch> switch1 </sw...\n",
              "99742  give me mobile app that has a time monitor , a...  <complist> <timepicker> <accelerometer> <video...\n",
              "99766  create mobile application consisting a text to...  <complist> <text2speech> <passwordtextbox> <ac...\n",
              "\n",
              "[5456 rows x 2 columns]"
            ]
          },
          "metadata": {
            "tags": []
          },
          "execution_count": 11
        }
      ]
    },
    {
      "cell_type": "code",
      "metadata": {
        "id": "_VpE9TBZEXcD",
        "outputId": "7bbc8384-bb8f-4d87-ffb2-834b8bff70ea",
        "colab": {
          "base_uri": "https://localhost:8080/",
          "height": 417
        }
      },
      "source": [
        "unseen = all[~all['SAR'].str.contains(\"<switch1flipped> <text2speech1>\")]\n",
        "unseen"
      ],
      "execution_count": null,
      "outputs": [
        {
          "output_type": "execute_result",
          "data": {
            "text/html": [
              "<div>\n",
              "<style scoped>\n",
              "    .dataframe tbody tr th:only-of-type {\n",
              "        vertical-align: middle;\n",
              "    }\n",
              "\n",
              "    .dataframe tbody tr th {\n",
              "        vertical-align: top;\n",
              "    }\n",
              "\n",
              "    .dataframe thead th {\n",
              "        text-align: right;\n",
              "    }\n",
              "</style>\n",
              "<table border=\"1\" class=\"dataframe\">\n",
              "  <thead>\n",
              "    <tr style=\"text-align: right;\">\n",
              "      <th></th>\n",
              "      <th>NL</th>\n",
              "      <th>SAR</th>\n",
              "    </tr>\n",
              "  </thead>\n",
              "  <tbody>\n",
              "    <tr>\n",
              "      <th>0</th>\n",
              "      <td>create a mobile app with a text2speech , a but...</td>\n",
              "      <td>&lt;complist&gt; &lt;text2speech&gt; &lt;button&gt; button1 &lt;/bu...</td>\n",
              "    </tr>\n",
              "    <tr>\n",
              "      <th>1</th>\n",
              "      <td>save me ! mobile app includes a textbox , a vi...</td>\n",
              "      <td>&lt;complist&gt; &lt;textbox&gt; &lt;video_player&gt; string0 &lt;/...</td>\n",
              "    </tr>\n",
              "    <tr>\n",
              "      <th>2</th>\n",
              "      <td>make mobile application that requires a camera...</td>\n",
              "      <td>&lt;complist&gt; &lt;camera&gt; &lt;textbox&gt; &lt;text2speech&gt; &lt;v...</td>\n",
              "    </tr>\n",
              "    <tr>\n",
              "      <th>4</th>\n",
              "      <td>mobile app containing a movement sensor , a mi...</td>\n",
              "      <td>&lt;complist&gt; &lt;accelerometer&gt; &lt;textbox&gt; &lt;text2spe...</td>\n",
              "    </tr>\n",
              "    <tr>\n",
              "      <th>5</th>\n",
              "      <td>create a mobile app containing a pasword text ...</td>\n",
              "      <td>&lt;complist&gt; &lt;passwordtextbox&gt; &lt;switch&gt; switch1 ...</td>\n",
              "    </tr>\n",
              "    <tr>\n",
              "      <th>...</th>\n",
              "      <td>...</td>\n",
              "      <td>...</td>\n",
              "    </tr>\n",
              "    <tr>\n",
              "      <th>99762</th>\n",
              "      <td>create a mobile app with a calendar , and a pa...</td>\n",
              "      <td>&lt;complist&gt; &lt;camera&gt; &lt;passwordtextbox&gt; &lt;/complist&gt;</td>\n",
              "    </tr>\n",
              "    <tr>\n",
              "      <th>99763</th>\n",
              "      <td>make mobile app app has a video with source st...</td>\n",
              "      <td>&lt;complist&gt; &lt;video_player&gt; string0 &lt;/video_play...</td>\n",
              "    </tr>\n",
              "    <tr>\n",
              "      <th>99764</th>\n",
              "      <td>create software having a button with text inpu...</td>\n",
              "      <td>&lt;complist&gt; &lt;button&gt; string0 &lt;/button&gt; &lt;switch&gt;...</td>\n",
              "    </tr>\n",
              "    <tr>\n",
              "      <th>99765</th>\n",
              "      <td>app containing a button with text string0 , a ...</td>\n",
              "      <td>&lt;complist&gt; &lt;button&gt; string0 &lt;/button&gt; &lt;button&gt;...</td>\n",
              "    </tr>\n",
              "    <tr>\n",
              "      <th>99767</th>\n",
              "      <td>an application consists of a text to speech , ...</td>\n",
              "      <td>&lt;complist&gt; &lt;text2speech&gt; &lt;button&gt; button1 &lt;/bu...</td>\n",
              "    </tr>\n",
              "  </tbody>\n",
              "</table>\n",
              "<p>94312 rows × 2 columns</p>\n",
              "</div>"
            ],
            "text/plain": [
              "                                                      NL                                                SAR\n",
              "0      create a mobile app with a text2speech , a but...  <complist> <text2speech> <button> button1 </bu...\n",
              "1      save me ! mobile app includes a textbox , a vi...  <complist> <textbox> <video_player> string0 </...\n",
              "2      make mobile application that requires a camera...  <complist> <camera> <textbox> <text2speech> <v...\n",
              "4      mobile app containing a movement sensor , a mi...  <complist> <accelerometer> <textbox> <text2spe...\n",
              "5      create a mobile app containing a pasword text ...  <complist> <passwordtextbox> <switch> switch1 ...\n",
              "...                                                  ...                                                ...\n",
              "99762  create a mobile app with a calendar , and a pa...  <complist> <camera> <passwordtextbox> </complist>\n",
              "99763  make mobile app app has a video with source st...  <complist> <video_player> string0 </video_play...\n",
              "99764  create software having a button with text inpu...  <complist> <button> string0 </button> <switch>...\n",
              "99765  app containing a button with text string0 , a ...  <complist> <button> string0 </button> <button>...\n",
              "99767  an application consists of a text to speech , ...  <complist> <text2speech> <button> button1 </bu...\n",
              "\n",
              "[94312 rows x 2 columns]"
            ]
          },
          "metadata": {
            "tags": []
          },
          "execution_count": 12
        }
      ]
    },
    {
      "cell_type": "code",
      "metadata": {
        "id": "x6JSwxAvFXHH"
      },
      "source": [
        "unseen_test.to_csv('unseen_test.csv', index=False)\n",
        "unseen.to_csv('unseen_all.csv', index=False)"
      ],
      "execution_count": null,
      "outputs": []
    },
    {
      "cell_type": "code",
      "metadata": {
        "id": "CS_sam6dKWgb"
      },
      "source": [
        "df = unseen"
      ],
      "execution_count": null,
      "outputs": []
    },
    {
      "cell_type": "markdown",
      "metadata": {
        "id": "hg-XWlaCF4v1"
      },
      "source": [
        "## Train-valid-test split"
      ]
    },
    {
      "cell_type": "code",
      "metadata": {
        "colab": {
          "base_uri": "https://localhost:8080/"
        },
        "id": "Xl702y62U5-M",
        "outputId": "0baab4b3-31f9-4085-87d2-61632d5cd812"
      },
      "source": [
        "train_frac = 0.8\n",
        "valid_frac = 0.1\n",
        "\n",
        "train = df[:int(len(df)*train_frac)]\n",
        "valid = df[int(len(df)*train_frac): int(len(df)*(train_frac+valid_frac))]\n",
        "test = df[int(len(df)*(train_frac+valid_frac)): ]\n",
        "\n",
        "train.to_csv(\"nl_sar_train.csv\", index=False)\n",
        "test.to_csv(\"nl_sar_test.csv\", index=False)\n",
        "valid.to_csv(\"nl_sar_valid.csv\", index=False)\n",
        "\n",
        "len(train), len(valid), len(test)"
      ],
      "execution_count": null,
      "outputs": [
        {
          "output_type": "execute_result",
          "data": {
            "text/plain": [
              "(75449, 9431, 9432)"
            ]
          },
          "metadata": {
            "tags": []
          },
          "execution_count": 17
        }
      ]
    },
    {
      "cell_type": "code",
      "metadata": {
        "id": "O4XIY4IvG04T"
      },
      "source": [
        "import os\n",
        "if not os.path.exists(\"./Synthesized_Data\"):\n",
        "  os.makedirs(\"./Synthesized_Data\")"
      ],
      "execution_count": null,
      "outputs": []
    },
    {
      "cell_type": "code",
      "metadata": {
        "id": "khzBHZVN0Rcl"
      },
      "source": [
        "!cp *.csv ./Synthesized_Data/"
      ],
      "execution_count": null,
      "outputs": []
    },
    {
      "cell_type": "code",
      "metadata": {
        "colab": {
          "base_uri": "https://localhost:8080/",
          "height": 122
        },
        "id": "xV7JI3S9kvhp",
        "outputId": "574821a3-e0a3-48e1-a73b-1117fb675ae2"
      },
      "source": [
        "# For Colab\n",
        "from google.colab import files\n",
        "\n",
        "!zip -r Synthesized_Data Synthesized_Data/*\n",
        "\n",
        "files.download('Synthesized_Data.zip')"
      ],
      "execution_count": null,
      "outputs": [
        {
          "output_type": "stream",
          "text": [
            "  adding: Synthesized_Data/nl_sar_combined.csv (deflated 88%)\n",
            "  adding: Synthesized_Data/nl_sar_test.csv (deflated 88%)\n",
            "  adding: Synthesized_Data/nl_sar_train.csv (deflated 88%)\n",
            "  adding: Synthesized_Data/nl_sar_valid.csv (deflated 88%)\n",
            "  adding: Synthesized_Data/unseen_all.csv (deflated 88%)\n",
            "  adding: Synthesized_Data/unseen_test.csv (deflated 88%)\n"
          ],
          "name": "stdout"
        },
        {
          "output_type": "display_data",
          "data": {
            "application/javascript": [
              "\n",
              "    async function download(id, filename, size) {\n",
              "      if (!google.colab.kernel.accessAllowed) {\n",
              "        return;\n",
              "      }\n",
              "      const div = document.createElement('div');\n",
              "      const label = document.createElement('label');\n",
              "      label.textContent = `Downloading \"${filename}\": `;\n",
              "      div.appendChild(label);\n",
              "      const progress = document.createElement('progress');\n",
              "      progress.max = size;\n",
              "      div.appendChild(progress);\n",
              "      document.body.appendChild(div);\n",
              "\n",
              "      const buffers = [];\n",
              "      let downloaded = 0;\n",
              "\n",
              "      const channel = await google.colab.kernel.comms.open(id);\n",
              "      // Send a message to notify the kernel that we're ready.\n",
              "      channel.send({})\n",
              "\n",
              "      for await (const message of channel.messages) {\n",
              "        // Send a message to notify the kernel that we're ready.\n",
              "        channel.send({})\n",
              "        if (message.buffers) {\n",
              "          for (const buffer of message.buffers) {\n",
              "            buffers.push(buffer);\n",
              "            downloaded += buffer.byteLength;\n",
              "            progress.value = downloaded;\n",
              "          }\n",
              "        }\n",
              "      }\n",
              "      const blob = new Blob(buffers, {type: 'application/binary'});\n",
              "      const a = document.createElement('a');\n",
              "      a.href = window.URL.createObjectURL(blob);\n",
              "      a.download = filename;\n",
              "      div.appendChild(a);\n",
              "      a.click();\n",
              "      div.remove();\n",
              "    }\n",
              "  "
            ],
            "text/plain": [
              "<IPython.core.display.Javascript object>"
            ]
          },
          "metadata": {
            "tags": []
          }
        },
        {
          "output_type": "display_data",
          "data": {
            "application/javascript": [
              "download(\"download_0f1dba23-b015-45ea-aecc-2536e23cec24\", \"Synthesized_Data.zip\", 17935655)"
            ],
            "text/plain": [
              "<IPython.core.display.Javascript object>"
            ]
          },
          "metadata": {
            "tags": []
          }
        }
      ]
    },
    {
      "cell_type": "markdown",
      "metadata": {
        "id": "Ti24nzDVNROD"
      },
      "source": [
        "## Synthetic data anlaytics"
      ]
    },
    {
      "cell_type": "code",
      "metadata": {
        "id": "jfwMTU7udLQf"
      },
      "source": [
        "nl_len = []\n",
        "sar_len = []\n",
        "for nl in nl_list:\n",
        "  nl_len.append(len(nl.split()))\n",
        "\n",
        "for sar in sar_list:\n",
        "  sar_len.append(len(sar.split()))"
      ],
      "execution_count": null,
      "outputs": []
    },
    {
      "cell_type": "code",
      "metadata": {
        "colab": {
          "base_uri": "https://localhost:8080/"
        },
        "id": "ILak4TpiM2Wm",
        "outputId": "bb0af47d-572a-4f24-f2b8-2cbb57a88662"
      },
      "source": [
        "sum(nl_len)/len(nl_len)"
      ],
      "execution_count": null,
      "outputs": [
        {
          "output_type": "execute_result",
          "data": {
            "text/plain": [
              "30.701854545454545"
            ]
          },
          "metadata": {
            "tags": []
          },
          "execution_count": 39
        }
      ]
    },
    {
      "cell_type": "code",
      "metadata": {
        "colab": {
          "base_uri": "https://localhost:8080/"
        },
        "id": "_6EWgGIdM7jz",
        "outputId": "649f2e2a-408e-405b-a4e0-96c153d90db6"
      },
      "source": [
        "sum(sar_len)/len(sar_len)"
      ],
      "execution_count": null,
      "outputs": [
        {
          "output_type": "execute_result",
          "data": {
            "text/plain": [
              "16.060727272727274"
            ]
          },
          "metadata": {
            "tags": []
          },
          "execution_count": 40
        }
      ]
    },
    {
      "cell_type": "code",
      "metadata": {
        "colab": {
          "base_uri": "https://localhost:8080/"
        },
        "id": "L0UYaWIFNKF4",
        "outputId": "a9be8c40-ce56-41e0-e7ca-daa6ac889b77"
      },
      "source": [
        "max(nl_len), min(nl_len)"
      ],
      "execution_count": null,
      "outputs": [
        {
          "output_type": "execute_result",
          "data": {
            "text/plain": [
              "(82, 5)"
            ]
          },
          "metadata": {
            "tags": []
          },
          "execution_count": 41
        }
      ]
    },
    {
      "cell_type": "code",
      "metadata": {
        "colab": {
          "base_uri": "https://localhost:8080/"
        },
        "id": "rE-QDwWvNVYL",
        "outputId": "95b38dae-b41f-4991-e9a2-f08ad5d0477e"
      },
      "source": [
        "max(sar_len), min(sar_len)"
      ],
      "execution_count": null,
      "outputs": [
        {
          "output_type": "execute_result",
          "data": {
            "text/plain": [
              "(45, 3)"
            ]
          },
          "metadata": {
            "tags": []
          },
          "execution_count": 42
        }
      ]
    },
    {
      "cell_type": "code",
      "metadata": {
        "id": "HgTyBTt4NXA1"
      },
      "source": [
        ""
      ],
      "execution_count": null,
      "outputs": []
    }
  ]
}