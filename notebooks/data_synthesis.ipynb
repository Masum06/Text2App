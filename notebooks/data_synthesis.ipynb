{
  "nbformat": 4,
  "nbformat_minor": 0,
  "metadata": {
    "colab": {
      "name": "text2app_data_synthesis.ipynb",
      "provenance": [],
      "collapsed_sections": [],
      "toc_visible": true,
      "include_colab_link": true
    },
    "kernelspec": {
      "name": "python3",
      "display_name": "Python 3"
    },
    "accelerator": "GPU",
    "widgets": {
      "application/vnd.jupyter.widget-state+json": {
        "a771df3bc99e43bcb6cc5dfe5d7921e6": {
          "model_module": "@jupyter-widgets/controls",
          "model_name": "HBoxModel",
          "model_module_version": "1.5.0",
          "state": {
            "_dom_classes": [],
            "_model_module": "@jupyter-widgets/controls",
            "_model_module_version": "1.5.0",
            "_model_name": "HBoxModel",
            "_view_count": null,
            "_view_module": "@jupyter-widgets/controls",
            "_view_module_version": "1.5.0",
            "_view_name": "HBoxView",
            "box_style": "",
            "children": [
              "IPY_MODEL_73274c2f01e1421a8348f88b57e1a440",
              "IPY_MODEL_3ce486e090384f7f8c2f38c3d748825c",
              "IPY_MODEL_f67b8bde8cb748548a997c82f942eaa5"
            ],
            "layout": "IPY_MODEL_6cd3db8921314d0a95bfb6d82ba77744"
          }
        },
        "73274c2f01e1421a8348f88b57e1a440": {
          "model_module": "@jupyter-widgets/controls",
          "model_name": "HTMLModel",
          "model_module_version": "1.5.0",
          "state": {
            "_dom_classes": [],
            "_model_module": "@jupyter-widgets/controls",
            "_model_module_version": "1.5.0",
            "_model_name": "HTMLModel",
            "_view_count": null,
            "_view_module": "@jupyter-widgets/controls",
            "_view_module_version": "1.5.0",
            "_view_name": "HTMLView",
            "description": "",
            "description_tooltip": null,
            "layout": "IPY_MODEL_cd1bb793fa484a069d7bcf84f2ef9eba",
            "placeholder": "​",
            "style": "IPY_MODEL_ac9b181434a347f485e932010379a778",
            "value": "Downloading: 100%"
          }
        },
        "3ce486e090384f7f8c2f38c3d748825c": {
          "model_module": "@jupyter-widgets/controls",
          "model_name": "FloatProgressModel",
          "model_module_version": "1.5.0",
          "state": {
            "_dom_classes": [],
            "_model_module": "@jupyter-widgets/controls",
            "_model_module_version": "1.5.0",
            "_model_name": "FloatProgressModel",
            "_view_count": null,
            "_view_module": "@jupyter-widgets/controls",
            "_view_module_version": "1.5.0",
            "_view_name": "ProgressView",
            "bar_style": "success",
            "description": "",
            "description_tooltip": null,
            "layout": "IPY_MODEL_e007034cf8d249158d408615a61e7055",
            "max": 411,
            "min": 0,
            "orientation": "horizontal",
            "style": "IPY_MODEL_806b2b2ce0694d47965b89b1888df094",
            "value": 411
          }
        },
        "f67b8bde8cb748548a997c82f942eaa5": {
          "model_module": "@jupyter-widgets/controls",
          "model_name": "HTMLModel",
          "model_module_version": "1.5.0",
          "state": {
            "_dom_classes": [],
            "_model_module": "@jupyter-widgets/controls",
            "_model_module_version": "1.5.0",
            "_model_name": "HTMLModel",
            "_view_count": null,
            "_view_module": "@jupyter-widgets/controls",
            "_view_module_version": "1.5.0",
            "_view_name": "HTMLView",
            "description": "",
            "description_tooltip": null,
            "layout": "IPY_MODEL_f885df4343a543c3a483a11b1b4d3e2e",
            "placeholder": "​",
            "style": "IPY_MODEL_4e0fc816f6e946bbbd115cbbbd772309",
            "value": " 411/411 [00:00&lt;00:00, 9.14kB/s]"
          }
        },
        "6cd3db8921314d0a95bfb6d82ba77744": {
          "model_module": "@jupyter-widgets/base",
          "model_name": "LayoutModel",
          "model_module_version": "1.2.0",
          "state": {
            "_model_module": "@jupyter-widgets/base",
            "_model_module_version": "1.2.0",
            "_model_name": "LayoutModel",
            "_view_count": null,
            "_view_module": "@jupyter-widgets/base",
            "_view_module_version": "1.2.0",
            "_view_name": "LayoutView",
            "align_content": null,
            "align_items": null,
            "align_self": null,
            "border": null,
            "bottom": null,
            "display": null,
            "flex": null,
            "flex_flow": null,
            "grid_area": null,
            "grid_auto_columns": null,
            "grid_auto_flow": null,
            "grid_auto_rows": null,
            "grid_column": null,
            "grid_gap": null,
            "grid_row": null,
            "grid_template_areas": null,
            "grid_template_columns": null,
            "grid_template_rows": null,
            "height": null,
            "justify_content": null,
            "justify_items": null,
            "left": null,
            "margin": null,
            "max_height": null,
            "max_width": null,
            "min_height": null,
            "min_width": null,
            "object_fit": null,
            "object_position": null,
            "order": null,
            "overflow": null,
            "overflow_x": null,
            "overflow_y": null,
            "padding": null,
            "right": null,
            "top": null,
            "visibility": null,
            "width": null
          }
        },
        "cd1bb793fa484a069d7bcf84f2ef9eba": {
          "model_module": "@jupyter-widgets/base",
          "model_name": "LayoutModel",
          "model_module_version": "1.2.0",
          "state": {
            "_model_module": "@jupyter-widgets/base",
            "_model_module_version": "1.2.0",
            "_model_name": "LayoutModel",
            "_view_count": null,
            "_view_module": "@jupyter-widgets/base",
            "_view_module_version": "1.2.0",
            "_view_name": "LayoutView",
            "align_content": null,
            "align_items": null,
            "align_self": null,
            "border": null,
            "bottom": null,
            "display": null,
            "flex": null,
            "flex_flow": null,
            "grid_area": null,
            "grid_auto_columns": null,
            "grid_auto_flow": null,
            "grid_auto_rows": null,
            "grid_column": null,
            "grid_gap": null,
            "grid_row": null,
            "grid_template_areas": null,
            "grid_template_columns": null,
            "grid_template_rows": null,
            "height": null,
            "justify_content": null,
            "justify_items": null,
            "left": null,
            "margin": null,
            "max_height": null,
            "max_width": null,
            "min_height": null,
            "min_width": null,
            "object_fit": null,
            "object_position": null,
            "order": null,
            "overflow": null,
            "overflow_x": null,
            "overflow_y": null,
            "padding": null,
            "right": null,
            "top": null,
            "visibility": null,
            "width": null
          }
        },
        "ac9b181434a347f485e932010379a778": {
          "model_module": "@jupyter-widgets/controls",
          "model_name": "DescriptionStyleModel",
          "model_module_version": "1.5.0",
          "state": {
            "_model_module": "@jupyter-widgets/controls",
            "_model_module_version": "1.5.0",
            "_model_name": "DescriptionStyleModel",
            "_view_count": null,
            "_view_module": "@jupyter-widgets/base",
            "_view_module_version": "1.2.0",
            "_view_name": "StyleView",
            "description_width": ""
          }
        },
        "e007034cf8d249158d408615a61e7055": {
          "model_module": "@jupyter-widgets/base",
          "model_name": "LayoutModel",
          "model_module_version": "1.2.0",
          "state": {
            "_model_module": "@jupyter-widgets/base",
            "_model_module_version": "1.2.0",
            "_model_name": "LayoutModel",
            "_view_count": null,
            "_view_module": "@jupyter-widgets/base",
            "_view_module_version": "1.2.0",
            "_view_name": "LayoutView",
            "align_content": null,
            "align_items": null,
            "align_self": null,
            "border": null,
            "bottom": null,
            "display": null,
            "flex": null,
            "flex_flow": null,
            "grid_area": null,
            "grid_auto_columns": null,
            "grid_auto_flow": null,
            "grid_auto_rows": null,
            "grid_column": null,
            "grid_gap": null,
            "grid_row": null,
            "grid_template_areas": null,
            "grid_template_columns": null,
            "grid_template_rows": null,
            "height": null,
            "justify_content": null,
            "justify_items": null,
            "left": null,
            "margin": null,
            "max_height": null,
            "max_width": null,
            "min_height": null,
            "min_width": null,
            "object_fit": null,
            "object_position": null,
            "order": null,
            "overflow": null,
            "overflow_x": null,
            "overflow_y": null,
            "padding": null,
            "right": null,
            "top": null,
            "visibility": null,
            "width": null
          }
        },
        "806b2b2ce0694d47965b89b1888df094": {
          "model_module": "@jupyter-widgets/controls",
          "model_name": "ProgressStyleModel",
          "model_module_version": "1.5.0",
          "state": {
            "_model_module": "@jupyter-widgets/controls",
            "_model_module_version": "1.5.0",
            "_model_name": "ProgressStyleModel",
            "_view_count": null,
            "_view_module": "@jupyter-widgets/base",
            "_view_module_version": "1.2.0",
            "_view_name": "StyleView",
            "bar_color": null,
            "description_width": ""
          }
        },
        "f885df4343a543c3a483a11b1b4d3e2e": {
          "model_module": "@jupyter-widgets/base",
          "model_name": "LayoutModel",
          "model_module_version": "1.2.0",
          "state": {
            "_model_module": "@jupyter-widgets/base",
            "_model_module_version": "1.2.0",
            "_model_name": "LayoutModel",
            "_view_count": null,
            "_view_module": "@jupyter-widgets/base",
            "_view_module_version": "1.2.0",
            "_view_name": "LayoutView",
            "align_content": null,
            "align_items": null,
            "align_self": null,
            "border": null,
            "bottom": null,
            "display": null,
            "flex": null,
            "flex_flow": null,
            "grid_area": null,
            "grid_auto_columns": null,
            "grid_auto_flow": null,
            "grid_auto_rows": null,
            "grid_column": null,
            "grid_gap": null,
            "grid_row": null,
            "grid_template_areas": null,
            "grid_template_columns": null,
            "grid_template_rows": null,
            "height": null,
            "justify_content": null,
            "justify_items": null,
            "left": null,
            "margin": null,
            "max_height": null,
            "max_width": null,
            "min_height": null,
            "min_width": null,
            "object_fit": null,
            "object_position": null,
            "order": null,
            "overflow": null,
            "overflow_x": null,
            "overflow_y": null,
            "padding": null,
            "right": null,
            "top": null,
            "visibility": null,
            "width": null
          }
        },
        "4e0fc816f6e946bbbd115cbbbd772309": {
          "model_module": "@jupyter-widgets/controls",
          "model_name": "DescriptionStyleModel",
          "model_module_version": "1.5.0",
          "state": {
            "_model_module": "@jupyter-widgets/controls",
            "_model_module_version": "1.5.0",
            "_model_name": "DescriptionStyleModel",
            "_view_count": null,
            "_view_module": "@jupyter-widgets/base",
            "_view_module_version": "1.2.0",
            "_view_name": "StyleView",
            "description_width": ""
          }
        },
        "14027ac12fa94badbb757a9aaef1268d": {
          "model_module": "@jupyter-widgets/controls",
          "model_name": "HBoxModel",
          "model_module_version": "1.5.0",
          "state": {
            "_dom_classes": [],
            "_model_module": "@jupyter-widgets/controls",
            "_model_module_version": "1.5.0",
            "_model_name": "HBoxModel",
            "_view_count": null,
            "_view_module": "@jupyter-widgets/controls",
            "_view_module_version": "1.5.0",
            "_view_name": "HBoxView",
            "box_style": "",
            "children": [
              "IPY_MODEL_4dbec1c9524f4a3a9b02150ec0a0ac11",
              "IPY_MODEL_7cf07cea99e545158e5435edf0d0d0b8",
              "IPY_MODEL_5aabd2a7a77645a5b45ef5012d80b145"
            ],
            "layout": "IPY_MODEL_8d6ef7d634be4718bf736f7f7bb89a2e"
          }
        },
        "4dbec1c9524f4a3a9b02150ec0a0ac11": {
          "model_module": "@jupyter-widgets/controls",
          "model_name": "HTMLModel",
          "model_module_version": "1.5.0",
          "state": {
            "_dom_classes": [],
            "_model_module": "@jupyter-widgets/controls",
            "_model_module_version": "1.5.0",
            "_model_name": "HTMLModel",
            "_view_count": null,
            "_view_module": "@jupyter-widgets/controls",
            "_view_module_version": "1.5.0",
            "_view_name": "HTMLView",
            "description": "",
            "description_tooltip": null,
            "layout": "IPY_MODEL_43e5e742b3034ce29345b48d876b640b",
            "placeholder": "​",
            "style": "IPY_MODEL_22457e3a4491413385eb1d6fb2dd8801",
            "value": "Downloading: 100%"
          }
        },
        "7cf07cea99e545158e5435edf0d0d0b8": {
          "model_module": "@jupyter-widgets/controls",
          "model_name": "FloatProgressModel",
          "model_module_version": "1.5.0",
          "state": {
            "_dom_classes": [],
            "_model_module": "@jupyter-widgets/controls",
            "_model_module_version": "1.5.0",
            "_model_name": "FloatProgressModel",
            "_view_count": null,
            "_view_module": "@jupyter-widgets/controls",
            "_view_module_version": "1.5.0",
            "_view_name": "ProgressView",
            "bar_style": "success",
            "description": "",
            "description_tooltip": null,
            "layout": "IPY_MODEL_a2ea74482731492b8f5010eea615d630",
            "max": 213450,
            "min": 0,
            "orientation": "horizontal",
            "style": "IPY_MODEL_279bc046233e4816a64f5ebe7ab7d0c4",
            "value": 213450
          }
        },
        "5aabd2a7a77645a5b45ef5012d80b145": {
          "model_module": "@jupyter-widgets/controls",
          "model_name": "HTMLModel",
          "model_module_version": "1.5.0",
          "state": {
            "_dom_classes": [],
            "_model_module": "@jupyter-widgets/controls",
            "_model_module_version": "1.5.0",
            "_model_name": "HTMLModel",
            "_view_count": null,
            "_view_module": "@jupyter-widgets/controls",
            "_view_module_version": "1.5.0",
            "_view_name": "HTMLView",
            "description": "",
            "description_tooltip": null,
            "layout": "IPY_MODEL_ae942ec0ffc34987b71d09b90a3c98e1",
            "placeholder": "​",
            "style": "IPY_MODEL_e5e4770ee579463bac16823b705674ea",
            "value": " 213k/213k [00:00&lt;00:00, 678kB/s]"
          }
        },
        "8d6ef7d634be4718bf736f7f7bb89a2e": {
          "model_module": "@jupyter-widgets/base",
          "model_name": "LayoutModel",
          "model_module_version": "1.2.0",
          "state": {
            "_model_module": "@jupyter-widgets/base",
            "_model_module_version": "1.2.0",
            "_model_name": "LayoutModel",
            "_view_count": null,
            "_view_module": "@jupyter-widgets/base",
            "_view_module_version": "1.2.0",
            "_view_name": "LayoutView",
            "align_content": null,
            "align_items": null,
            "align_self": null,
            "border": null,
            "bottom": null,
            "display": null,
            "flex": null,
            "flex_flow": null,
            "grid_area": null,
            "grid_auto_columns": null,
            "grid_auto_flow": null,
            "grid_auto_rows": null,
            "grid_column": null,
            "grid_gap": null,
            "grid_row": null,
            "grid_template_areas": null,
            "grid_template_columns": null,
            "grid_template_rows": null,
            "height": null,
            "justify_content": null,
            "justify_items": null,
            "left": null,
            "margin": null,
            "max_height": null,
            "max_width": null,
            "min_height": null,
            "min_width": null,
            "object_fit": null,
            "object_position": null,
            "order": null,
            "overflow": null,
            "overflow_x": null,
            "overflow_y": null,
            "padding": null,
            "right": null,
            "top": null,
            "visibility": null,
            "width": null
          }
        },
        "43e5e742b3034ce29345b48d876b640b": {
          "model_module": "@jupyter-widgets/base",
          "model_name": "LayoutModel",
          "model_module_version": "1.2.0",
          "state": {
            "_model_module": "@jupyter-widgets/base",
            "_model_module_version": "1.2.0",
            "_model_name": "LayoutModel",
            "_view_count": null,
            "_view_module": "@jupyter-widgets/base",
            "_view_module_version": "1.2.0",
            "_view_name": "LayoutView",
            "align_content": null,
            "align_items": null,
            "align_self": null,
            "border": null,
            "bottom": null,
            "display": null,
            "flex": null,
            "flex_flow": null,
            "grid_area": null,
            "grid_auto_columns": null,
            "grid_auto_flow": null,
            "grid_auto_rows": null,
            "grid_column": null,
            "grid_gap": null,
            "grid_row": null,
            "grid_template_areas": null,
            "grid_template_columns": null,
            "grid_template_rows": null,
            "height": null,
            "justify_content": null,
            "justify_items": null,
            "left": null,
            "margin": null,
            "max_height": null,
            "max_width": null,
            "min_height": null,
            "min_width": null,
            "object_fit": null,
            "object_position": null,
            "order": null,
            "overflow": null,
            "overflow_x": null,
            "overflow_y": null,
            "padding": null,
            "right": null,
            "top": null,
            "visibility": null,
            "width": null
          }
        },
        "22457e3a4491413385eb1d6fb2dd8801": {
          "model_module": "@jupyter-widgets/controls",
          "model_name": "DescriptionStyleModel",
          "model_module_version": "1.5.0",
          "state": {
            "_model_module": "@jupyter-widgets/controls",
            "_model_module_version": "1.5.0",
            "_model_name": "DescriptionStyleModel",
            "_view_count": null,
            "_view_module": "@jupyter-widgets/base",
            "_view_module_version": "1.2.0",
            "_view_name": "StyleView",
            "description_width": ""
          }
        },
        "a2ea74482731492b8f5010eea615d630": {
          "model_module": "@jupyter-widgets/base",
          "model_name": "LayoutModel",
          "model_module_version": "1.2.0",
          "state": {
            "_model_module": "@jupyter-widgets/base",
            "_model_module_version": "1.2.0",
            "_model_name": "LayoutModel",
            "_view_count": null,
            "_view_module": "@jupyter-widgets/base",
            "_view_module_version": "1.2.0",
            "_view_name": "LayoutView",
            "align_content": null,
            "align_items": null,
            "align_self": null,
            "border": null,
            "bottom": null,
            "display": null,
            "flex": null,
            "flex_flow": null,
            "grid_area": null,
            "grid_auto_columns": null,
            "grid_auto_flow": null,
            "grid_auto_rows": null,
            "grid_column": null,
            "grid_gap": null,
            "grid_row": null,
            "grid_template_areas": null,
            "grid_template_columns": null,
            "grid_template_rows": null,
            "height": null,
            "justify_content": null,
            "justify_items": null,
            "left": null,
            "margin": null,
            "max_height": null,
            "max_width": null,
            "min_height": null,
            "min_width": null,
            "object_fit": null,
            "object_position": null,
            "order": null,
            "overflow": null,
            "overflow_x": null,
            "overflow_y": null,
            "padding": null,
            "right": null,
            "top": null,
            "visibility": null,
            "width": null
          }
        },
        "279bc046233e4816a64f5ebe7ab7d0c4": {
          "model_module": "@jupyter-widgets/controls",
          "model_name": "ProgressStyleModel",
          "model_module_version": "1.5.0",
          "state": {
            "_model_module": "@jupyter-widgets/controls",
            "_model_module_version": "1.5.0",
            "_model_name": "ProgressStyleModel",
            "_view_count": null,
            "_view_module": "@jupyter-widgets/base",
            "_view_module_version": "1.2.0",
            "_view_name": "StyleView",
            "bar_color": null,
            "description_width": ""
          }
        },
        "ae942ec0ffc34987b71d09b90a3c98e1": {
          "model_module": "@jupyter-widgets/base",
          "model_name": "LayoutModel",
          "model_module_version": "1.2.0",
          "state": {
            "_model_module": "@jupyter-widgets/base",
            "_model_module_version": "1.2.0",
            "_model_name": "LayoutModel",
            "_view_count": null,
            "_view_module": "@jupyter-widgets/base",
            "_view_module_version": "1.2.0",
            "_view_name": "LayoutView",
            "align_content": null,
            "align_items": null,
            "align_self": null,
            "border": null,
            "bottom": null,
            "display": null,
            "flex": null,
            "flex_flow": null,
            "grid_area": null,
            "grid_auto_columns": null,
            "grid_auto_flow": null,
            "grid_auto_rows": null,
            "grid_column": null,
            "grid_gap": null,
            "grid_row": null,
            "grid_template_areas": null,
            "grid_template_columns": null,
            "grid_template_rows": null,
            "height": null,
            "justify_content": null,
            "justify_items": null,
            "left": null,
            "margin": null,
            "max_height": null,
            "max_width": null,
            "min_height": null,
            "min_width": null,
            "object_fit": null,
            "object_position": null,
            "order": null,
            "overflow": null,
            "overflow_x": null,
            "overflow_y": null,
            "padding": null,
            "right": null,
            "top": null,
            "visibility": null,
            "width": null
          }
        },
        "e5e4770ee579463bac16823b705674ea": {
          "model_module": "@jupyter-widgets/controls",
          "model_name": "DescriptionStyleModel",
          "model_module_version": "1.5.0",
          "state": {
            "_model_module": "@jupyter-widgets/controls",
            "_model_module_version": "1.5.0",
            "_model_name": "DescriptionStyleModel",
            "_view_count": null,
            "_view_module": "@jupyter-widgets/base",
            "_view_module_version": "1.2.0",
            "_view_name": "StyleView",
            "description_width": ""
          }
        },
        "f2b59b02e1cb4e409e60dce24b101335": {
          "model_module": "@jupyter-widgets/controls",
          "model_name": "HBoxModel",
          "model_module_version": "1.5.0",
          "state": {
            "_dom_classes": [],
            "_model_module": "@jupyter-widgets/controls",
            "_model_module_version": "1.5.0",
            "_model_name": "HBoxModel",
            "_view_count": null,
            "_view_module": "@jupyter-widgets/controls",
            "_view_module_version": "1.5.0",
            "_view_name": "HBoxView",
            "box_style": "",
            "children": [
              "IPY_MODEL_8e5134df23a840d59151892daa3bd133",
              "IPY_MODEL_afb9400219f2478fbb30d3840cdc5ebe",
              "IPY_MODEL_6f5f9aff14e44d3fbe70e5168d48f5f0"
            ],
            "layout": "IPY_MODEL_aa699e150c4e484a80084ca559f655ea"
          }
        },
        "8e5134df23a840d59151892daa3bd133": {
          "model_module": "@jupyter-widgets/controls",
          "model_name": "HTMLModel",
          "model_module_version": "1.5.0",
          "state": {
            "_dom_classes": [],
            "_model_module": "@jupyter-widgets/controls",
            "_model_module_version": "1.5.0",
            "_model_name": "HTMLModel",
            "_view_count": null,
            "_view_module": "@jupyter-widgets/controls",
            "_view_module_version": "1.5.0",
            "_view_name": "HTMLView",
            "description": "",
            "description_tooltip": null,
            "layout": "IPY_MODEL_e3fe29b49b594ef197233c3c2143a3eb",
            "placeholder": "​",
            "style": "IPY_MODEL_d7ca46b7c74c40919f3d09e725ebc56d",
            "value": "Downloading: 100%"
          }
        },
        "afb9400219f2478fbb30d3840cdc5ebe": {
          "model_module": "@jupyter-widgets/controls",
          "model_name": "FloatProgressModel",
          "model_module_version": "1.5.0",
          "state": {
            "_dom_classes": [],
            "_model_module": "@jupyter-widgets/controls",
            "_model_module_version": "1.5.0",
            "_model_name": "FloatProgressModel",
            "_view_count": null,
            "_view_module": "@jupyter-widgets/controls",
            "_view_module_version": "1.5.0",
            "_view_name": "ProgressView",
            "bar_style": "success",
            "description": "",
            "description_tooltip": null,
            "layout": "IPY_MODEL_6df9b08fbc64467b8019f4ce7478b606",
            "max": 435797,
            "min": 0,
            "orientation": "horizontal",
            "style": "IPY_MODEL_424ba3977bc94a0d80cd3b1b2b1aafd8",
            "value": 435797
          }
        },
        "6f5f9aff14e44d3fbe70e5168d48f5f0": {
          "model_module": "@jupyter-widgets/controls",
          "model_name": "HTMLModel",
          "model_module_version": "1.5.0",
          "state": {
            "_dom_classes": [],
            "_model_module": "@jupyter-widgets/controls",
            "_model_module_version": "1.5.0",
            "_model_name": "HTMLModel",
            "_view_count": null,
            "_view_module": "@jupyter-widgets/controls",
            "_view_module_version": "1.5.0",
            "_view_name": "HTMLView",
            "description": "",
            "description_tooltip": null,
            "layout": "IPY_MODEL_100686f6d5124f93a0e25dde2d57b5bd",
            "placeholder": "​",
            "style": "IPY_MODEL_6392526c90764daf999ebaf24dfe61b3",
            "value": " 436k/436k [00:00&lt;00:00, 645kB/s]"
          }
        },
        "aa699e150c4e484a80084ca559f655ea": {
          "model_module": "@jupyter-widgets/base",
          "model_name": "LayoutModel",
          "model_module_version": "1.2.0",
          "state": {
            "_model_module": "@jupyter-widgets/base",
            "_model_module_version": "1.2.0",
            "_model_name": "LayoutModel",
            "_view_count": null,
            "_view_module": "@jupyter-widgets/base",
            "_view_module_version": "1.2.0",
            "_view_name": "LayoutView",
            "align_content": null,
            "align_items": null,
            "align_self": null,
            "border": null,
            "bottom": null,
            "display": null,
            "flex": null,
            "flex_flow": null,
            "grid_area": null,
            "grid_auto_columns": null,
            "grid_auto_flow": null,
            "grid_auto_rows": null,
            "grid_column": null,
            "grid_gap": null,
            "grid_row": null,
            "grid_template_areas": null,
            "grid_template_columns": null,
            "grid_template_rows": null,
            "height": null,
            "justify_content": null,
            "justify_items": null,
            "left": null,
            "margin": null,
            "max_height": null,
            "max_width": null,
            "min_height": null,
            "min_width": null,
            "object_fit": null,
            "object_position": null,
            "order": null,
            "overflow": null,
            "overflow_x": null,
            "overflow_y": null,
            "padding": null,
            "right": null,
            "top": null,
            "visibility": null,
            "width": null
          }
        },
        "e3fe29b49b594ef197233c3c2143a3eb": {
          "model_module": "@jupyter-widgets/base",
          "model_name": "LayoutModel",
          "model_module_version": "1.2.0",
          "state": {
            "_model_module": "@jupyter-widgets/base",
            "_model_module_version": "1.2.0",
            "_model_name": "LayoutModel",
            "_view_count": null,
            "_view_module": "@jupyter-widgets/base",
            "_view_module_version": "1.2.0",
            "_view_name": "LayoutView",
            "align_content": null,
            "align_items": null,
            "align_self": null,
            "border": null,
            "bottom": null,
            "display": null,
            "flex": null,
            "flex_flow": null,
            "grid_area": null,
            "grid_auto_columns": null,
            "grid_auto_flow": null,
            "grid_auto_rows": null,
            "grid_column": null,
            "grid_gap": null,
            "grid_row": null,
            "grid_template_areas": null,
            "grid_template_columns": null,
            "grid_template_rows": null,
            "height": null,
            "justify_content": null,
            "justify_items": null,
            "left": null,
            "margin": null,
            "max_height": null,
            "max_width": null,
            "min_height": null,
            "min_width": null,
            "object_fit": null,
            "object_position": null,
            "order": null,
            "overflow": null,
            "overflow_x": null,
            "overflow_y": null,
            "padding": null,
            "right": null,
            "top": null,
            "visibility": null,
            "width": null
          }
        },
        "d7ca46b7c74c40919f3d09e725ebc56d": {
          "model_module": "@jupyter-widgets/controls",
          "model_name": "DescriptionStyleModel",
          "model_module_version": "1.5.0",
          "state": {
            "_model_module": "@jupyter-widgets/controls",
            "_model_module_version": "1.5.0",
            "_model_name": "DescriptionStyleModel",
            "_view_count": null,
            "_view_module": "@jupyter-widgets/base",
            "_view_module_version": "1.2.0",
            "_view_name": "StyleView",
            "description_width": ""
          }
        },
        "6df9b08fbc64467b8019f4ce7478b606": {
          "model_module": "@jupyter-widgets/base",
          "model_name": "LayoutModel",
          "model_module_version": "1.2.0",
          "state": {
            "_model_module": "@jupyter-widgets/base",
            "_model_module_version": "1.2.0",
            "_model_name": "LayoutModel",
            "_view_count": null,
            "_view_module": "@jupyter-widgets/base",
            "_view_module_version": "1.2.0",
            "_view_name": "LayoutView",
            "align_content": null,
            "align_items": null,
            "align_self": null,
            "border": null,
            "bottom": null,
            "display": null,
            "flex": null,
            "flex_flow": null,
            "grid_area": null,
            "grid_auto_columns": null,
            "grid_auto_flow": null,
            "grid_auto_rows": null,
            "grid_column": null,
            "grid_gap": null,
            "grid_row": null,
            "grid_template_areas": null,
            "grid_template_columns": null,
            "grid_template_rows": null,
            "height": null,
            "justify_content": null,
            "justify_items": null,
            "left": null,
            "margin": null,
            "max_height": null,
            "max_width": null,
            "min_height": null,
            "min_width": null,
            "object_fit": null,
            "object_position": null,
            "order": null,
            "overflow": null,
            "overflow_x": null,
            "overflow_y": null,
            "padding": null,
            "right": null,
            "top": null,
            "visibility": null,
            "width": null
          }
        },
        "424ba3977bc94a0d80cd3b1b2b1aafd8": {
          "model_module": "@jupyter-widgets/controls",
          "model_name": "ProgressStyleModel",
          "model_module_version": "1.5.0",
          "state": {
            "_model_module": "@jupyter-widgets/controls",
            "_model_module_version": "1.5.0",
            "_model_name": "ProgressStyleModel",
            "_view_count": null,
            "_view_module": "@jupyter-widgets/base",
            "_view_module_version": "1.2.0",
            "_view_name": "StyleView",
            "bar_color": null,
            "description_width": ""
          }
        },
        "100686f6d5124f93a0e25dde2d57b5bd": {
          "model_module": "@jupyter-widgets/base",
          "model_name": "LayoutModel",
          "model_module_version": "1.2.0",
          "state": {
            "_model_module": "@jupyter-widgets/base",
            "_model_module_version": "1.2.0",
            "_model_name": "LayoutModel",
            "_view_count": null,
            "_view_module": "@jupyter-widgets/base",
            "_view_module_version": "1.2.0",
            "_view_name": "LayoutView",
            "align_content": null,
            "align_items": null,
            "align_self": null,
            "border": null,
            "bottom": null,
            "display": null,
            "flex": null,
            "flex_flow": null,
            "grid_area": null,
            "grid_auto_columns": null,
            "grid_auto_flow": null,
            "grid_auto_rows": null,
            "grid_column": null,
            "grid_gap": null,
            "grid_row": null,
            "grid_template_areas": null,
            "grid_template_columns": null,
            "grid_template_rows": null,
            "height": null,
            "justify_content": null,
            "justify_items": null,
            "left": null,
            "margin": null,
            "max_height": null,
            "max_width": null,
            "min_height": null,
            "min_width": null,
            "object_fit": null,
            "object_position": null,
            "order": null,
            "overflow": null,
            "overflow_x": null,
            "overflow_y": null,
            "padding": null,
            "right": null,
            "top": null,
            "visibility": null,
            "width": null
          }
        },
        "6392526c90764daf999ebaf24dfe61b3": {
          "model_module": "@jupyter-widgets/controls",
          "model_name": "DescriptionStyleModel",
          "model_module_version": "1.5.0",
          "state": {
            "_model_module": "@jupyter-widgets/controls",
            "_model_module_version": "1.5.0",
            "_model_name": "DescriptionStyleModel",
            "_view_count": null,
            "_view_module": "@jupyter-widgets/base",
            "_view_module_version": "1.2.0",
            "_view_name": "StyleView",
            "description_width": ""
          }
        },
        "972f5b40f9df48039aa4dad2b84e6dd6": {
          "model_module": "@jupyter-widgets/controls",
          "model_name": "HBoxModel",
          "model_module_version": "1.5.0",
          "state": {
            "_dom_classes": [],
            "_model_module": "@jupyter-widgets/controls",
            "_model_module_version": "1.5.0",
            "_model_name": "HBoxModel",
            "_view_count": null,
            "_view_module": "@jupyter-widgets/controls",
            "_view_module_version": "1.5.0",
            "_view_name": "HBoxView",
            "box_style": "",
            "children": [
              "IPY_MODEL_2cdb8905fceb4008b855d504ae973114",
              "IPY_MODEL_93608135f1cb4468852926979ea85372",
              "IPY_MODEL_bd17ce8156e840cbbcdfae0e4ca29f42"
            ],
            "layout": "IPY_MODEL_e655781329be4144b8cd681dbc226f8a"
          }
        },
        "2cdb8905fceb4008b855d504ae973114": {
          "model_module": "@jupyter-widgets/controls",
          "model_name": "HTMLModel",
          "model_module_version": "1.5.0",
          "state": {
            "_dom_classes": [],
            "_model_module": "@jupyter-widgets/controls",
            "_model_module_version": "1.5.0",
            "_model_name": "HTMLModel",
            "_view_count": null,
            "_view_module": "@jupyter-widgets/controls",
            "_view_module_version": "1.5.0",
            "_view_name": "HTMLView",
            "description": "",
            "description_tooltip": null,
            "layout": "IPY_MODEL_e70c5ba8f0b04283a375f1a988fecd5d",
            "placeholder": "​",
            "style": "IPY_MODEL_2430470f8ce24181842e7f24138030e3",
            "value": "Downloading: 100%"
          }
        },
        "93608135f1cb4468852926979ea85372": {
          "model_module": "@jupyter-widgets/controls",
          "model_name": "FloatProgressModel",
          "model_module_version": "1.5.0",
          "state": {
            "_dom_classes": [],
            "_model_module": "@jupyter-widgets/controls",
            "_model_module_version": "1.5.0",
            "_model_name": "FloatProgressModel",
            "_view_count": null,
            "_view_module": "@jupyter-widgets/controls",
            "_view_module_version": "1.5.0",
            "_view_name": "ProgressView",
            "bar_style": "success",
            "description": "",
            "description_tooltip": null,
            "layout": "IPY_MODEL_fa5ccc7bbb974ccda64327bfac3ccfef",
            "max": 29,
            "min": 0,
            "orientation": "horizontal",
            "style": "IPY_MODEL_b833b2e9d9404b75b0d6c87207aef6fd",
            "value": 29
          }
        },
        "bd17ce8156e840cbbcdfae0e4ca29f42": {
          "model_module": "@jupyter-widgets/controls",
          "model_name": "HTMLModel",
          "model_module_version": "1.5.0",
          "state": {
            "_dom_classes": [],
            "_model_module": "@jupyter-widgets/controls",
            "_model_module_version": "1.5.0",
            "_model_name": "HTMLModel",
            "_view_count": null,
            "_view_module": "@jupyter-widgets/controls",
            "_view_module_version": "1.5.0",
            "_view_name": "HTMLView",
            "description": "",
            "description_tooltip": null,
            "layout": "IPY_MODEL_407eb9b3b1484b4e8e03da3fe1c03804",
            "placeholder": "​",
            "style": "IPY_MODEL_d8c1d9003b62410d8ad0cd8076c9785e",
            "value": " 29.0/29.0 [00:00&lt;00:00, 728B/s]"
          }
        },
        "e655781329be4144b8cd681dbc226f8a": {
          "model_module": "@jupyter-widgets/base",
          "model_name": "LayoutModel",
          "model_module_version": "1.2.0",
          "state": {
            "_model_module": "@jupyter-widgets/base",
            "_model_module_version": "1.2.0",
            "_model_name": "LayoutModel",
            "_view_count": null,
            "_view_module": "@jupyter-widgets/base",
            "_view_module_version": "1.2.0",
            "_view_name": "LayoutView",
            "align_content": null,
            "align_items": null,
            "align_self": null,
            "border": null,
            "bottom": null,
            "display": null,
            "flex": null,
            "flex_flow": null,
            "grid_area": null,
            "grid_auto_columns": null,
            "grid_auto_flow": null,
            "grid_auto_rows": null,
            "grid_column": null,
            "grid_gap": null,
            "grid_row": null,
            "grid_template_areas": null,
            "grid_template_columns": null,
            "grid_template_rows": null,
            "height": null,
            "justify_content": null,
            "justify_items": null,
            "left": null,
            "margin": null,
            "max_height": null,
            "max_width": null,
            "min_height": null,
            "min_width": null,
            "object_fit": null,
            "object_position": null,
            "order": null,
            "overflow": null,
            "overflow_x": null,
            "overflow_y": null,
            "padding": null,
            "right": null,
            "top": null,
            "visibility": null,
            "width": null
          }
        },
        "e70c5ba8f0b04283a375f1a988fecd5d": {
          "model_module": "@jupyter-widgets/base",
          "model_name": "LayoutModel",
          "model_module_version": "1.2.0",
          "state": {
            "_model_module": "@jupyter-widgets/base",
            "_model_module_version": "1.2.0",
            "_model_name": "LayoutModel",
            "_view_count": null,
            "_view_module": "@jupyter-widgets/base",
            "_view_module_version": "1.2.0",
            "_view_name": "LayoutView",
            "align_content": null,
            "align_items": null,
            "align_self": null,
            "border": null,
            "bottom": null,
            "display": null,
            "flex": null,
            "flex_flow": null,
            "grid_area": null,
            "grid_auto_columns": null,
            "grid_auto_flow": null,
            "grid_auto_rows": null,
            "grid_column": null,
            "grid_gap": null,
            "grid_row": null,
            "grid_template_areas": null,
            "grid_template_columns": null,
            "grid_template_rows": null,
            "height": null,
            "justify_content": null,
            "justify_items": null,
            "left": null,
            "margin": null,
            "max_height": null,
            "max_width": null,
            "min_height": null,
            "min_width": null,
            "object_fit": null,
            "object_position": null,
            "order": null,
            "overflow": null,
            "overflow_x": null,
            "overflow_y": null,
            "padding": null,
            "right": null,
            "top": null,
            "visibility": null,
            "width": null
          }
        },
        "2430470f8ce24181842e7f24138030e3": {
          "model_module": "@jupyter-widgets/controls",
          "model_name": "DescriptionStyleModel",
          "model_module_version": "1.5.0",
          "state": {
            "_model_module": "@jupyter-widgets/controls",
            "_model_module_version": "1.5.0",
            "_model_name": "DescriptionStyleModel",
            "_view_count": null,
            "_view_module": "@jupyter-widgets/base",
            "_view_module_version": "1.2.0",
            "_view_name": "StyleView",
            "description_width": ""
          }
        },
        "fa5ccc7bbb974ccda64327bfac3ccfef": {
          "model_module": "@jupyter-widgets/base",
          "model_name": "LayoutModel",
          "model_module_version": "1.2.0",
          "state": {
            "_model_module": "@jupyter-widgets/base",
            "_model_module_version": "1.2.0",
            "_model_name": "LayoutModel",
            "_view_count": null,
            "_view_module": "@jupyter-widgets/base",
            "_view_module_version": "1.2.0",
            "_view_name": "LayoutView",
            "align_content": null,
            "align_items": null,
            "align_self": null,
            "border": null,
            "bottom": null,
            "display": null,
            "flex": null,
            "flex_flow": null,
            "grid_area": null,
            "grid_auto_columns": null,
            "grid_auto_flow": null,
            "grid_auto_rows": null,
            "grid_column": null,
            "grid_gap": null,
            "grid_row": null,
            "grid_template_areas": null,
            "grid_template_columns": null,
            "grid_template_rows": null,
            "height": null,
            "justify_content": null,
            "justify_items": null,
            "left": null,
            "margin": null,
            "max_height": null,
            "max_width": null,
            "min_height": null,
            "min_width": null,
            "object_fit": null,
            "object_position": null,
            "order": null,
            "overflow": null,
            "overflow_x": null,
            "overflow_y": null,
            "padding": null,
            "right": null,
            "top": null,
            "visibility": null,
            "width": null
          }
        },
        "b833b2e9d9404b75b0d6c87207aef6fd": {
          "model_module": "@jupyter-widgets/controls",
          "model_name": "ProgressStyleModel",
          "model_module_version": "1.5.0",
          "state": {
            "_model_module": "@jupyter-widgets/controls",
            "_model_module_version": "1.5.0",
            "_model_name": "ProgressStyleModel",
            "_view_count": null,
            "_view_module": "@jupyter-widgets/base",
            "_view_module_version": "1.2.0",
            "_view_name": "StyleView",
            "bar_color": null,
            "description_width": ""
          }
        },
        "407eb9b3b1484b4e8e03da3fe1c03804": {
          "model_module": "@jupyter-widgets/base",
          "model_name": "LayoutModel",
          "model_module_version": "1.2.0",
          "state": {
            "_model_module": "@jupyter-widgets/base",
            "_model_module_version": "1.2.0",
            "_model_name": "LayoutModel",
            "_view_count": null,
            "_view_module": "@jupyter-widgets/base",
            "_view_module_version": "1.2.0",
            "_view_name": "LayoutView",
            "align_content": null,
            "align_items": null,
            "align_self": null,
            "border": null,
            "bottom": null,
            "display": null,
            "flex": null,
            "flex_flow": null,
            "grid_area": null,
            "grid_auto_columns": null,
            "grid_auto_flow": null,
            "grid_auto_rows": null,
            "grid_column": null,
            "grid_gap": null,
            "grid_row": null,
            "grid_template_areas": null,
            "grid_template_columns": null,
            "grid_template_rows": null,
            "height": null,
            "justify_content": null,
            "justify_items": null,
            "left": null,
            "margin": null,
            "max_height": null,
            "max_width": null,
            "min_height": null,
            "min_width": null,
            "object_fit": null,
            "object_position": null,
            "order": null,
            "overflow": null,
            "overflow_x": null,
            "overflow_y": null,
            "padding": null,
            "right": null,
            "top": null,
            "visibility": null,
            "width": null
          }
        },
        "d8c1d9003b62410d8ad0cd8076c9785e": {
          "model_module": "@jupyter-widgets/controls",
          "model_name": "DescriptionStyleModel",
          "model_module_version": "1.5.0",
          "state": {
            "_model_module": "@jupyter-widgets/controls",
            "_model_module_version": "1.5.0",
            "_model_name": "DescriptionStyleModel",
            "_view_count": null,
            "_view_module": "@jupyter-widgets/base",
            "_view_module_version": "1.2.0",
            "_view_name": "StyleView",
            "description_width": ""
          }
        },
        "89f1727fcb8e4019a6b68c30c1ab26f8": {
          "model_module": "@jupyter-widgets/controls",
          "model_name": "HBoxModel",
          "model_module_version": "1.5.0",
          "state": {
            "_dom_classes": [],
            "_model_module": "@jupyter-widgets/controls",
            "_model_module_version": "1.5.0",
            "_model_name": "HBoxModel",
            "_view_count": null,
            "_view_module": "@jupyter-widgets/controls",
            "_view_module_version": "1.5.0",
            "_view_name": "HBoxView",
            "box_style": "",
            "children": [
              "IPY_MODEL_4a917f583186403ba7c4ecdcb1daac65",
              "IPY_MODEL_78b597cef94440df9ac58a32c4518229",
              "IPY_MODEL_4eae732c4720431d9dc52b894d2d9c12"
            ],
            "layout": "IPY_MODEL_3f7401484497468b8ca8972cbb47273b"
          }
        },
        "4a917f583186403ba7c4ecdcb1daac65": {
          "model_module": "@jupyter-widgets/controls",
          "model_name": "HTMLModel",
          "model_module_version": "1.5.0",
          "state": {
            "_dom_classes": [],
            "_model_module": "@jupyter-widgets/controls",
            "_model_module_version": "1.5.0",
            "_model_name": "HTMLModel",
            "_view_count": null,
            "_view_module": "@jupyter-widgets/controls",
            "_view_module_version": "1.5.0",
            "_view_name": "HTMLView",
            "description": "",
            "description_tooltip": null,
            "layout": "IPY_MODEL_f94330b7946e4d02a24ee4a53072769f",
            "placeholder": "​",
            "style": "IPY_MODEL_19f2d9e4a1c84a6ea26384210a090193",
            "value": "Downloading: 100%"
          }
        },
        "78b597cef94440df9ac58a32c4518229": {
          "model_module": "@jupyter-widgets/controls",
          "model_name": "FloatProgressModel",
          "model_module_version": "1.5.0",
          "state": {
            "_dom_classes": [],
            "_model_module": "@jupyter-widgets/controls",
            "_model_module_version": "1.5.0",
            "_model_name": "FloatProgressModel",
            "_view_count": null,
            "_view_module": "@jupyter-widgets/controls",
            "_view_module_version": "1.5.0",
            "_view_name": "ProgressView",
            "bar_style": "success",
            "description": "",
            "description_tooltip": null,
            "layout": "IPY_MODEL_cf38684da78d441691d671d8891508bc",
            "max": 263273408,
            "min": 0,
            "orientation": "horizontal",
            "style": "IPY_MODEL_6e8a3bb96b664f21b80b145144289eec",
            "value": 263273408
          }
        },
        "4eae732c4720431d9dc52b894d2d9c12": {
          "model_module": "@jupyter-widgets/controls",
          "model_name": "HTMLModel",
          "model_module_version": "1.5.0",
          "state": {
            "_dom_classes": [],
            "_model_module": "@jupyter-widgets/controls",
            "_model_module_version": "1.5.0",
            "_model_name": "HTMLModel",
            "_view_count": null,
            "_view_module": "@jupyter-widgets/controls",
            "_view_module_version": "1.5.0",
            "_view_name": "HTMLView",
            "description": "",
            "description_tooltip": null,
            "layout": "IPY_MODEL_038beb926b6044318e4bbb987b78cd59",
            "placeholder": "​",
            "style": "IPY_MODEL_ac2fa5a9ad4d4d5e81d10b8be0bddd47",
            "value": " 263M/263M [00:07&lt;00:00, 40.1MB/s]"
          }
        },
        "3f7401484497468b8ca8972cbb47273b": {
          "model_module": "@jupyter-widgets/base",
          "model_name": "LayoutModel",
          "model_module_version": "1.2.0",
          "state": {
            "_model_module": "@jupyter-widgets/base",
            "_model_module_version": "1.2.0",
            "_model_name": "LayoutModel",
            "_view_count": null,
            "_view_module": "@jupyter-widgets/base",
            "_view_module_version": "1.2.0",
            "_view_name": "LayoutView",
            "align_content": null,
            "align_items": null,
            "align_self": null,
            "border": null,
            "bottom": null,
            "display": null,
            "flex": null,
            "flex_flow": null,
            "grid_area": null,
            "grid_auto_columns": null,
            "grid_auto_flow": null,
            "grid_auto_rows": null,
            "grid_column": null,
            "grid_gap": null,
            "grid_row": null,
            "grid_template_areas": null,
            "grid_template_columns": null,
            "grid_template_rows": null,
            "height": null,
            "justify_content": null,
            "justify_items": null,
            "left": null,
            "margin": null,
            "max_height": null,
            "max_width": null,
            "min_height": null,
            "min_width": null,
            "object_fit": null,
            "object_position": null,
            "order": null,
            "overflow": null,
            "overflow_x": null,
            "overflow_y": null,
            "padding": null,
            "right": null,
            "top": null,
            "visibility": null,
            "width": null
          }
        },
        "f94330b7946e4d02a24ee4a53072769f": {
          "model_module": "@jupyter-widgets/base",
          "model_name": "LayoutModel",
          "model_module_version": "1.2.0",
          "state": {
            "_model_module": "@jupyter-widgets/base",
            "_model_module_version": "1.2.0",
            "_model_name": "LayoutModel",
            "_view_count": null,
            "_view_module": "@jupyter-widgets/base",
            "_view_module_version": "1.2.0",
            "_view_name": "LayoutView",
            "align_content": null,
            "align_items": null,
            "align_self": null,
            "border": null,
            "bottom": null,
            "display": null,
            "flex": null,
            "flex_flow": null,
            "grid_area": null,
            "grid_auto_columns": null,
            "grid_auto_flow": null,
            "grid_auto_rows": null,
            "grid_column": null,
            "grid_gap": null,
            "grid_row": null,
            "grid_template_areas": null,
            "grid_template_columns": null,
            "grid_template_rows": null,
            "height": null,
            "justify_content": null,
            "justify_items": null,
            "left": null,
            "margin": null,
            "max_height": null,
            "max_width": null,
            "min_height": null,
            "min_width": null,
            "object_fit": null,
            "object_position": null,
            "order": null,
            "overflow": null,
            "overflow_x": null,
            "overflow_y": null,
            "padding": null,
            "right": null,
            "top": null,
            "visibility": null,
            "width": null
          }
        },
        "19f2d9e4a1c84a6ea26384210a090193": {
          "model_module": "@jupyter-widgets/controls",
          "model_name": "DescriptionStyleModel",
          "model_module_version": "1.5.0",
          "state": {
            "_model_module": "@jupyter-widgets/controls",
            "_model_module_version": "1.5.0",
            "_model_name": "DescriptionStyleModel",
            "_view_count": null,
            "_view_module": "@jupyter-widgets/base",
            "_view_module_version": "1.2.0",
            "_view_name": "StyleView",
            "description_width": ""
          }
        },
        "cf38684da78d441691d671d8891508bc": {
          "model_module": "@jupyter-widgets/base",
          "model_name": "LayoutModel",
          "model_module_version": "1.2.0",
          "state": {
            "_model_module": "@jupyter-widgets/base",
            "_model_module_version": "1.2.0",
            "_model_name": "LayoutModel",
            "_view_count": null,
            "_view_module": "@jupyter-widgets/base",
            "_view_module_version": "1.2.0",
            "_view_name": "LayoutView",
            "align_content": null,
            "align_items": null,
            "align_self": null,
            "border": null,
            "bottom": null,
            "display": null,
            "flex": null,
            "flex_flow": null,
            "grid_area": null,
            "grid_auto_columns": null,
            "grid_auto_flow": null,
            "grid_auto_rows": null,
            "grid_column": null,
            "grid_gap": null,
            "grid_row": null,
            "grid_template_areas": null,
            "grid_template_columns": null,
            "grid_template_rows": null,
            "height": null,
            "justify_content": null,
            "justify_items": null,
            "left": null,
            "margin": null,
            "max_height": null,
            "max_width": null,
            "min_height": null,
            "min_width": null,
            "object_fit": null,
            "object_position": null,
            "order": null,
            "overflow": null,
            "overflow_x": null,
            "overflow_y": null,
            "padding": null,
            "right": null,
            "top": null,
            "visibility": null,
            "width": null
          }
        },
        "6e8a3bb96b664f21b80b145144289eec": {
          "model_module": "@jupyter-widgets/controls",
          "model_name": "ProgressStyleModel",
          "model_module_version": "1.5.0",
          "state": {
            "_model_module": "@jupyter-widgets/controls",
            "_model_module_version": "1.5.0",
            "_model_name": "ProgressStyleModel",
            "_view_count": null,
            "_view_module": "@jupyter-widgets/base",
            "_view_module_version": "1.2.0",
            "_view_name": "StyleView",
            "bar_color": null,
            "description_width": ""
          }
        },
        "038beb926b6044318e4bbb987b78cd59": {
          "model_module": "@jupyter-widgets/base",
          "model_name": "LayoutModel",
          "model_module_version": "1.2.0",
          "state": {
            "_model_module": "@jupyter-widgets/base",
            "_model_module_version": "1.2.0",
            "_model_name": "LayoutModel",
            "_view_count": null,
            "_view_module": "@jupyter-widgets/base",
            "_view_module_version": "1.2.0",
            "_view_name": "LayoutView",
            "align_content": null,
            "align_items": null,
            "align_self": null,
            "border": null,
            "bottom": null,
            "display": null,
            "flex": null,
            "flex_flow": null,
            "grid_area": null,
            "grid_auto_columns": null,
            "grid_auto_flow": null,
            "grid_auto_rows": null,
            "grid_column": null,
            "grid_gap": null,
            "grid_row": null,
            "grid_template_areas": null,
            "grid_template_columns": null,
            "grid_template_rows": null,
            "height": null,
            "justify_content": null,
            "justify_items": null,
            "left": null,
            "margin": null,
            "max_height": null,
            "max_width": null,
            "min_height": null,
            "min_width": null,
            "object_fit": null,
            "object_position": null,
            "order": null,
            "overflow": null,
            "overflow_x": null,
            "overflow_y": null,
            "padding": null,
            "right": null,
            "top": null,
            "visibility": null,
            "width": null
          }
        },
        "ac2fa5a9ad4d4d5e81d10b8be0bddd47": {
          "model_module": "@jupyter-widgets/controls",
          "model_name": "DescriptionStyleModel",
          "model_module_version": "1.5.0",
          "state": {
            "_model_module": "@jupyter-widgets/controls",
            "_model_module_version": "1.5.0",
            "_model_name": "DescriptionStyleModel",
            "_view_count": null,
            "_view_module": "@jupyter-widgets/base",
            "_view_module_version": "1.2.0",
            "_view_name": "StyleView",
            "description_width": ""
          }
        }
      }
    }
  },
  "cells": [
    {
      "cell_type": "markdown",
      "metadata": {
        "id": "view-in-github",
        "colab_type": "text"
      },
      "source": [
        "<a href=\"https://colab.research.google.com/github/Masum06/Text2App/blob/master/notebooks/data_synthesis.ipynb\" target=\"_parent\"><img src=\"https://colab.research.google.com/assets/colab-badge.svg\" alt=\"Open In Colab\"/></a>"
      ]
    },
    {
      "cell_type": "code",
      "metadata": {
        "colab": {
          "base_uri": "https://localhost:8080/"
        },
        "id": "62MDjMESzwk3",
        "outputId": "b7b99093-12a8-47a7-8646-1d3199abc18c"
      },
      "source": [
        "!pip install transformers==4.5.0\n",
        "# !pip install PyDictionary"
      ],
      "execution_count": 1,
      "outputs": [
        {
          "output_type": "stream",
          "name": "stdout",
          "text": [
            "Collecting transformers==4.5.0\n",
            "  Downloading transformers-4.5.0-py3-none-any.whl (2.1 MB)\n",
            "\u001b[K     |████████████████████████████████| 2.1 MB 11.1 MB/s \n",
            "\u001b[?25hCollecting tokenizers<0.11,>=0.10.1\n",
            "  Downloading tokenizers-0.10.3-cp37-cp37m-manylinux_2_5_x86_64.manylinux1_x86_64.manylinux_2_12_x86_64.manylinux2010_x86_64.whl (3.3 MB)\n",
            "\u001b[K     |████████████████████████████████| 3.3 MB 34.4 MB/s \n",
            "\u001b[?25hRequirement already satisfied: tqdm>=4.27 in /usr/local/lib/python3.7/dist-packages (from transformers==4.5.0) (4.63.0)\n",
            "Requirement already satisfied: importlib-metadata in /usr/local/lib/python3.7/dist-packages (from transformers==4.5.0) (4.11.3)\n",
            "Requirement already satisfied: requests in /usr/local/lib/python3.7/dist-packages (from transformers==4.5.0) (2.23.0)\n",
            "Requirement already satisfied: filelock in /usr/local/lib/python3.7/dist-packages (from transformers==4.5.0) (3.6.0)\n",
            "Collecting sacremoses\n",
            "  Downloading sacremoses-0.0.49-py3-none-any.whl (895 kB)\n",
            "\u001b[K     |████████████████████████████████| 895 kB 34.2 MB/s \n",
            "\u001b[?25hRequirement already satisfied: regex!=2019.12.17 in /usr/local/lib/python3.7/dist-packages (from transformers==4.5.0) (2019.12.20)\n",
            "Requirement already satisfied: packaging in /usr/local/lib/python3.7/dist-packages (from transformers==4.5.0) (21.3)\n",
            "Requirement already satisfied: numpy>=1.17 in /usr/local/lib/python3.7/dist-packages (from transformers==4.5.0) (1.21.5)\n",
            "Requirement already satisfied: typing-extensions>=3.6.4 in /usr/local/lib/python3.7/dist-packages (from importlib-metadata->transformers==4.5.0) (3.10.0.2)\n",
            "Requirement already satisfied: zipp>=0.5 in /usr/local/lib/python3.7/dist-packages (from importlib-metadata->transformers==4.5.0) (3.7.0)\n",
            "Requirement already satisfied: pyparsing!=3.0.5,>=2.0.2 in /usr/local/lib/python3.7/dist-packages (from packaging->transformers==4.5.0) (3.0.7)\n",
            "Requirement already satisfied: urllib3!=1.25.0,!=1.25.1,<1.26,>=1.21.1 in /usr/local/lib/python3.7/dist-packages (from requests->transformers==4.5.0) (1.24.3)\n",
            "Requirement already satisfied: chardet<4,>=3.0.2 in /usr/local/lib/python3.7/dist-packages (from requests->transformers==4.5.0) (3.0.4)\n",
            "Requirement already satisfied: idna<3,>=2.5 in /usr/local/lib/python3.7/dist-packages (from requests->transformers==4.5.0) (2.10)\n",
            "Requirement already satisfied: certifi>=2017.4.17 in /usr/local/lib/python3.7/dist-packages (from requests->transformers==4.5.0) (2021.10.8)\n",
            "Requirement already satisfied: six in /usr/local/lib/python3.7/dist-packages (from sacremoses->transformers==4.5.0) (1.15.0)\n",
            "Requirement already satisfied: joblib in /usr/local/lib/python3.7/dist-packages (from sacremoses->transformers==4.5.0) (1.1.0)\n",
            "Requirement already satisfied: click in /usr/local/lib/python3.7/dist-packages (from sacremoses->transformers==4.5.0) (7.1.2)\n",
            "Installing collected packages: tokenizers, sacremoses, transformers\n",
            "Successfully installed sacremoses-0.0.49 tokenizers-0.10.3 transformers-4.5.0\n"
          ]
        }
      ]
    },
    {
      "cell_type": "code",
      "metadata": {
        "colab": {
          "base_uri": "https://localhost:8080/"
        },
        "id": "ennv2fTgFgn5",
        "outputId": "46e25907-2f5d-45f1-f04c-2fc52773b745"
      },
      "source": [
        "!git clone https://github.com/Masum06/Text2App.git"
      ],
      "execution_count": 2,
      "outputs": [
        {
          "output_type": "stream",
          "name": "stdout",
          "text": [
            "Cloning into 'Text2App'...\n",
            "remote: Enumerating objects: 611, done.\u001b[K\n",
            "remote: Counting objects: 100% (223/223), done.\u001b[K\n",
            "remote: Compressing objects: 100% (179/179), done.\u001b[K\n",
            "remote: Total 611 (delta 145), reused 80 (delta 42), pack-reused 388\u001b[K\n",
            "Receiving objects: 100% (611/611), 241.79 MiB | 20.16 MiB/s, done.\n",
            "Resolving deltas: 100% (224/224), done.\n",
            "Checking out files: 100% (220/220), done.\n"
          ]
        }
      ]
    },
    {
      "cell_type": "code",
      "metadata": {
        "colab": {
          "base_uri": "https://localhost:8080/"
        },
        "id": "k_C6yKgxFiXC",
        "outputId": "700c8a8f-90bb-43ad-c593-d4f44fe254df"
      },
      "source": [
        "cd Text2App"
      ],
      "execution_count": 3,
      "outputs": [
        {
          "output_type": "stream",
          "name": "stdout",
          "text": [
            "/content/Text2App\n"
          ]
        }
      ]
    },
    {
      "cell_type": "markdown",
      "metadata": {
        "id": "J1wETIWYVvO6"
      },
      "source": [
        "# Helper functions"
      ]
    },
    {
      "cell_type": "code",
      "metadata": {
        "id": "wAkfYLTeQPdj",
        "colab": {
          "base_uri": "https://localhost:8080/"
        },
        "outputId": "66cdf448-1a81-4c41-e760-712b2a3cdefb"
      },
      "source": [
        "import random\n",
        "import string\n",
        "# from PyDictionary import PyDictionary\n",
        "from datetime import datetime\n",
        "import re\n",
        "\n",
        "random.seed(datetime.now())\n",
        "# dictionary=PyDictionary()\n",
        "\n",
        "all_vis_components = ['button', 'switch', 'accelerometer', 'ball', 'text2speech', 'player',\n",
        "                      'video_player', 'textbox', 'passwordtextbox', 'timepicker', 'datepicker',\n",
        "                      'camera']\n",
        "colors = [\"red\", \"green\", \"black\", \"cyan\", \"pink\", \n",
        "          \"magenta\", \"blue\", \"light_gray\", \"orange\", \n",
        "          \"yellow\", \"dark_gray\", \"gray\"]\n",
        "\n",
        "print(all_vis_components)"
      ],
      "execution_count": 4,
      "outputs": [
        {
          "output_type": "stream",
          "name": "stdout",
          "text": [
            "['button', 'switch', 'accelerometer', 'ball', 'text2speech', 'player', 'video_player', 'textbox', 'passwordtextbox', 'timepicker', 'datepicker', 'camera']\n"
          ]
        }
      ]
    },
    {
      "cell_type": "code",
      "metadata": {
        "id": "9yGhxJMhVp3F"
      },
      "source": [
        "string_num = -1\n",
        "int_num = -1\n",
        "float_num = -1\n",
        "\n",
        "def getStr():\n",
        "  global string_num \n",
        "  string_num += 1\n",
        "  return \"string\"+str(string_num)\n",
        "\n",
        "def getNum():\n",
        "  global int_num \n",
        "  int_num += 1\n",
        "  return \"number\"+str(int_num)\n",
        "\n",
        "def getColor():\n",
        "  global colors\n",
        "  return random.choice(colors)\n",
        "\n",
        "def getSyn(word):\n",
        "  syns = dictionary.synonym(word)\n",
        "  if syns:\n",
        "    return random.choice([word] + syns)\n",
        "  else:\n",
        "    return word\n",
        "\n",
        "def getArticle(word):\n",
        "  if word[0] in 'aeiou':\n",
        "    return \"an\"\n",
        "  else:\n",
        "    return \"a\" "
      ],
      "execution_count": 5,
      "outputs": []
    },
    {
      "cell_type": "markdown",
      "metadata": {
        "id": "6H5Bifl28gKt"
      },
      "source": [
        "# Constants"
      ]
    },
    {
      "cell_type": "code",
      "metadata": {
        "id": "ktP95rabmPe-"
      },
      "source": [
        "ValueComponents = {\n",
        "    \"textbox\": {\"nl\": [\"the textbox text\", \"the text in the textbox\", \"the text in the box\", \"the textbox content\", \"the text\"], \"sar\": \"textboxtext\"},\n",
        "    \"passwordtextbox\": {\"nl\": [\"\"], \"sar\": \"passwordboxtext\"},\n",
        "    \"timepicker\": {\"nl\": [\"the time\", \"time\", \"what time it is\", \"what is the time\"], \"sar\": \"time\"}, \n",
        "    # \"datepicker\": {\"nl\": [\"the date and time\", \"date and time\", \"date\", \"the date\", \"what is the date\"], \"sar\": \"date\"}\n",
        "    }"
      ],
      "execution_count": 6,
      "outputs": []
    },
    {
      "cell_type": "code",
      "metadata": {
        "id": "9wYVc98Fk_qa"
      },
      "source": [
        "events = {\n",
        "    \"button\": {\"clicked\": [\"clicked\", \"pressed\", \"touched\"]},\n",
        "    \"switch\": {\"flipped\": [\"fliped\", \"clicked\", \"pressed\", \"touched\"]},\n",
        "    \"accelerometer\": {\"shaken\": [\"shaken\", \"vibrated\"]},\n",
        "    \"ball\": {\"flung\": [\"flung\", \"thrown\", \"hit\"], \"reach_edge\": [\"reaches edge\", \"touches edge\", \"cornered\"]}\n",
        "} "
      ],
      "execution_count": 7,
      "outputs": []
    },
    {
      "cell_type": "code",
      "metadata": {
        "id": "ydquRNWClYSH"
      },
      "source": [
        "actions = {\n",
        "    \"player\": {\n",
        "        \"start\": [\"play the music\", \"play the sound\", \"play\", \"start the player\", \"start the music\", \"initiate player\"], \n",
        "        \"stop\": [\"stop the music\", \"stop sound\", \"stop the sound\", \"stop\"]\n",
        "        },\n",
        "    \"video_player\": {\n",
        "        \"start\": [\"play the video\", \"play the clip\", \"play\", \"start the video player\", \"start the video\", \"initiate video\"], \n",
        "        \"stop\": [\"stop the video\", \"stop video\", \"stop the clip\", \"stop\"]\n",
        "        },\n",
        "    \"text2speech\": [\"speak\"],\n",
        "    \"ball\": [\"radius\", \"speed\", \"header\", \"motion\", \"bounce\"],\n",
        "    \"camera\": [\"take a picture\", \"take picture\", \"click\", \"capture\", \"take a photo\", \"click a photo\", \"capture a photo\",\n",
        "               \"open camera\", \"initiate camera\", \"open the camera\", \"open camera and take a picture\", \"open camera and take a photo\"\n",
        "               \"open the camera and click\"]\n",
        "}"
      ],
      "execution_count": 8,
      "outputs": []
    },
    {
      "cell_type": "code",
      "metadata": {
        "id": "OPhoDsPwygK8"
      },
      "source": [
        "arguments = [\"textbox\", \"passwordtext\", 'time'] #date"
      ],
      "execution_count": 9,
      "outputs": []
    },
    {
      "cell_type": "code",
      "metadata": {
        "id": "sW4xrrtV4EIC"
      },
      "source": [
        "numbers = [[\"\", \"first\", \"1st\", \"earlier\", \"initial\"] , [\"second\", \"2nd\", \"next\", \"later\", \"following\", \"the other\", \"the later\"], \n",
        "           [\"third\", \"3rd\"], [\"fourth\", \"4th\"], [\"fifth\", \"5th\"], [\"sixth\", \"6th\"]]"
      ],
      "execution_count": 10,
      "outputs": []
    },
    {
      "cell_type": "code",
      "metadata": {
        "id": "eNRMzfsfjBlR"
      },
      "source": [
        "vis_components = ['textbox', 'button', 'text2speech', 'ball', 'accelerometer', 'video_player', \n",
        "                  'switch', 'player', 'label', 'timepicker', 'passwordtextbox', 'camera'] #, 'datepicker', \n",
        "non_repeat_vis_components = ['accelerometer', 'ball', 'text2speech', 'camera']\n",
        "repeat_vis_components = list(set(vis_components) - set(non_repeat_vis_components))\n",
        "components_with_text = ['button', 'switch', 'label'] \n",
        "comp_with_src = ['video_player', 'player']\n",
        "invisible_components = ['text2speech', 'accelerometer', 'ball']\n",
        "end_with_es = ['text2speech', 'textbox']\n",
        "canvas_components = ['ball']\n",
        "\n",
        "event_components = [\"button\", \"switch\", \"accelerometer\", \"ball\"]\n",
        "action_components = [\"player\", \"video_player\", \"text2speech\", \"ball\", \"label\", \"camera\"]\n",
        "value_components = [\"textbox\", \"timepicker\"] # \"passwordtextbox\", \"datepicker\",\n",
        "rand_source = {\"video_player\": [\"video\", \"clip\"], \"player\": [\"audio\", \"music\", \"sound\"]}\n",
        "\n",
        "component_alias = {\"textbox\": [\"textbox\", \"text box\"], \"button\": [\"button\"], \"ball\": [\"ball\", \"circle\"], \n",
        "                   \"text2speech\": [\"text2speech\", \"text to speech\", \"speech\"], \n",
        "                   \"accelerometer\": [\"accelerometer\", \"motion sensor\", \"vibration sensor\", \"movement sensor\", \"shake sensor\"], \n",
        "                  #  \"datepicker\": [\"datepicker\", \"date picker\"], \n",
        "                   \"timepicker\": [\"timepicker\", \"time picker\", \"time selector\"], \n",
        "                   \"switch\": [\"switch\"], \"player\": [\"music player\", \"player\", \"audio player\", \"music\", \"audio\"], \n",
        "                   \"video_player\": [\"video player\", \"video\"], \"label\": [\"label\"],\n",
        "                   \"passwordtextbox\": [\"password box\", \"pasword text box\", \"password field\", \"passwordbox\", \"passwordtextbox\"],\n",
        "                   \"camera\": [\"camera\"]\n",
        "                   }\n",
        "\n",
        "MAX_NUMBER_OF_COMPONENT = 12\n",
        "SAME_COMPONENT_LIMIT = 5"
      ],
      "execution_count": 11,
      "outputs": []
    },
    {
      "cell_type": "markdown",
      "metadata": {
        "id": "yCTHvrvVL8i7"
      },
      "source": [
        "# Classes"
      ]
    },
    {
      "cell_type": "code",
      "metadata": {
        "id": "yzJ1oyT30S71"
      },
      "source": [
        "class EventComponent:\n",
        "  component = \"\"\n",
        "  event = \"\"\n",
        "  nl = []\n",
        "  number = 0\n",
        "  event_comp_count = 1\n",
        "\n",
        "  def __init__(self, component=\"\", number=1, event_comp_count=1):\n",
        "    self.component = component\n",
        "    self.event = random.choice(list(events[self.component].keys())) # random.choice(events[self.component][\"event\"]) \n",
        "    self.number = number\n",
        "    self.event_comp_count = event_comp_count\n",
        "\n",
        "  def getNL(self):\n",
        "    if self.component in non_repeat_vis_components or self.event_comp_count==1:\n",
        "      num = \"\"\n",
        "    else:\n",
        "      num = random.choice(numbers[self.number-1])+\" \"\n",
        "    \n",
        "    event_choice = random.choice(list(events[self.component].keys()))\n",
        "    comp_nl = random.choice(events[self.component][event_choice])\n",
        "    new_nl = random.choice([\"when\", \"if\"])+\" the \"+ num + random.choice(component_alias[self.component]) +\" is \"+ comp_nl + \", \"\n",
        "    return new_nl"
      ],
      "execution_count": 12,
      "outputs": []
    },
    {
      "cell_type": "code",
      "metadata": {
        "id": "s6SSkWQ0QoDk"
      },
      "source": [
        "class ActionComponent:\n",
        "  component = \"\"\n",
        "  number = 0\n",
        "  action_comp_count = 1\n",
        "  # arguments = []\n",
        "  val_comps = []\n",
        "  arg = \"\"\n",
        "  nl = \"\"\n",
        "  set_src = False\n",
        "\n",
        "  def __init__(self, component, number=1, val_comps=[], action_comp_count=1, set_src=False):\n",
        "    self.component = component\n",
        "    self.number = number\n",
        "    self.actions = actions\n",
        "    self.val_comps = val_comps\n",
        "    self.set_src = set_src\n",
        "    self.arg = self.getArg()\n",
        "    self.action_comp_count = action_comp_count\n",
        "\n",
        "  def getNL(self):\n",
        "    # new_nl = random.choice([\"set\", \"make\"]) + \" \" + random.choice(self.actions) + \" \"\n",
        "    return self.nl\n",
        "\n",
        "  def getPlayerArg(self):\n",
        "    arg = random.choice([\"start\", \"stop\"])\n",
        "    nl_arg = arg\n",
        "    alter = random.choice([0,1])\n",
        "    if alter:\n",
        "      if arg == \"start\":\n",
        "        nl_arg = \"play\"\n",
        "      else:\n",
        "        nl_arg = \"pause\"\n",
        "\n",
        "    self.nl = nl_arg + random.choice([\" the <num> player\", \" the music <num> player\", \" the music\", \" music\", \" player\", \" audio\"])\n",
        "    if self.action_comp_count > 1:\n",
        "      self.nl = self.nl.replace(\"<num>\", random.choice(numbers[self.number-1]))\n",
        "    else:\n",
        "      self.nl = self.nl.replace(\"<num> \", \"\")\n",
        "\n",
        "    ## Set the source for the music\n",
        "    if self.set_src:\n",
        "      vis_comp = \"player\"\n",
        "      mid_text = \"\"\n",
        "      choose_random = random.choice([0,1])\n",
        "      if choose_random: # with 50% possibility set the source to a random video or music\n",
        "        # mid_text = \"random_\"+ vis_comp + \"_source\"\n",
        "        rand_src = \" with a random \" + random.choice(rand_source[vis_comp]) # 25%  time mention random source\n",
        "        no_src = \"\" # 25% times mention no source at all\n",
        "        self.nl += random.choice([rand_src, no_src])\n",
        "      else:  # 50% time provide a source\n",
        "        mid_text = getStr()\n",
        "        self.nl += random.choice([\" \", \" with source \"]) + mid_text\n",
        "        return \"<\"+ arg + \">\" + \" <src> \" + mid_text + \" </src>\"\n",
        "\n",
        "    return \"<\"+arg+\">\"\n",
        "  \n",
        "  def getVideoPlayerArg(self):\n",
        "    arg = random.choice([\"start\", \"stop\"])\n",
        "    nl_arg = arg\n",
        "    alter = random.choice([0,1])\n",
        "    if alter:\n",
        "      if arg == \"start\":\n",
        "        nl_arg = \"play\"\n",
        "      else:\n",
        "        nl_arg = \"pause\"\n",
        "\n",
        "    self.nl = nl_arg + random.choice([\" the <num> video player\", \" the <num> video\", \" the <num> clip\", \" <num> video\", \\\n",
        "                                      \" <num> video player\", \" video\", \" video player\"])\n",
        "    if self.action_comp_count > 1:\n",
        "      self.nl = self.nl.replace(\"<num>\", random.choice(numbers[self.number-1]))\n",
        "    else:\n",
        "      self.nl = self.nl.replace(\"<num> \", \"\")\n",
        "\n",
        "    ## Set the source for the video\n",
        "    if self.set_src:\n",
        "      vis_comp = \"video_player\"\n",
        "      mid_text = \"\"\n",
        "      choose_random = random.choice([0,0,1])\n",
        "      if choose_random: # with 50% possibility set the source to a random video or music\n",
        "        # mid_text = \"random_\"+ vis_comp + \"_source\"\n",
        "        rand_src = \" with a random \" + random.choice(rand_source[vis_comp]) # 25%  time mention random source\n",
        "        no_src = \"\" # 25% times mention no source at all\n",
        "        self.nl += random.choice([rand_src, no_src])\n",
        "      else:  # 50% time provide a source\n",
        "        mid_text = getStr()\n",
        "        self.nl += random.choice([\" \", \" with source \"]) + mid_text\n",
        "        return \"<\"+ arg + \">\" + \" <src> \" + mid_text + \" </src>\"\n",
        "\n",
        "    return \"<\"+arg+\">\"\n",
        "\n",
        "  def getT2SArg(self):\n",
        "    use_val_comp = random.choice([0,1,1,1]) # 75% chance of choosing value component\n",
        "    if len(self.val_comps)>0 and use_val_comp:\n",
        "      val_name = random.choice(self.val_comps)\n",
        "      self.val_comps.remove(val_name)\n",
        "      val = val_name[:-1] # Number of value component cannot be more than 9 (a single digit)\n",
        "      self.nl = random.choice([\"say \", \"speak \", \"tell \", \"speak out \"]) + random.choice(ValueComponents[val][\"nl\"])\n",
        "      return \"<\"+ValueComponents[val]['sar']+val_name[-1]+\">\"\n",
        "    else:\n",
        "      val = getStr()\n",
        "      self.nl = random.choice([\"say \", \"speak \", \"tell \",  \"speak out \"]) + val\n",
        "      return val\n",
        "\n",
        "  def getLabelArg(self):\n",
        "    use_val_comp = random.choice([0,1,1,1]) # 75% chance of choosing value component\n",
        "    \n",
        "    self.nl = random.choice([\"set <num> label text to \", \"set the <num> label text to \", \"set <num> label to \", \"set <num> label \"])\n",
        "    if self.action_comp_count > 1:\n",
        "      self.nl = self.nl.replace(\"<num>\", random.choice(numbers[self.number-1]))\n",
        "    else:\n",
        "      self.nl = self.nl.replace(\" <num>\", \"\")\n",
        "\n",
        "    if len(self.val_comps)>0 and use_val_comp:\n",
        "      val_name = random.choice(self.val_comps)\n",
        "      self.val_comps.remove(val_name)\n",
        "      val = val_name[:-1] # Number of value component cannot be more than 9 (a single digit)\n",
        "      self.nl += random.choice(ValueComponents[val][\"nl\"])\n",
        "      val = \"<\"+ValueComponents[val]['sar']+val_name[-1]+\">\"\n",
        "    else:\n",
        "      val = getStr()\n",
        "      self.nl += val\n",
        "\n",
        "    return val\n",
        "  \n",
        "  def getBallArg(self):\n",
        "    arg = random.choice(['radius', 'color', 'speed', 'heading', 'bounce', 'motion'])\n",
        "    if arg in ['speed', 'radius']:\n",
        "      val = getNum() #random.choice(['increase', 'decrease'])\n",
        "      self.nl = \"set the \" + arg + \" to \" + val\n",
        "      return \"<\"+arg+\"> \"+val+\" </\"+arg+\">\"\n",
        "    elif arg == 'bounce':\n",
        "      self.nl = \"bounce the ball\" \n",
        "      return \"<bounce>\"\n",
        "    elif arg == 'color':\n",
        "      val = random.choice(colors)\n",
        "      self.nl = \"set ball color to \"+ val.replace(\"_\", \" \")\n",
        "      return \"<\"+arg+\"> <\"+val+\"> </\"+arg+\">\"\n",
        "    elif arg == 'motion':\n",
        "      self.nl = random.choice([\"set ball in motion \", \"move the ball \", \"swing the ball \"])\n",
        "      return \"<motion>\"\n",
        "    elif arg == 'heading':\n",
        "      val = getNum()\n",
        "      self.nl = \"set ball header to \"+ val\n",
        "      return \"<\"+arg+\"> \"+val+\" </\"+arg+\">\"\n",
        "\n",
        "  def getCameraArg(self):\n",
        "    self.nl = random.choice(actions['camera'])+' '\n",
        "    return '<capture_and_show>'\n",
        "\n",
        "  def getArg(self):\n",
        "    if self.component == \"player\":\n",
        "      return self.getPlayerArg()\n",
        "    elif self.component == \"video_player\":\n",
        "      return self.getVideoPlayerArg()\n",
        "    elif self.component == \"text2speech\":\n",
        "      return self.getT2SArg()\n",
        "    elif self.component == \"ball\":\n",
        "      return self.getBallArg()\n",
        "    elif self.component == \"label\":\n",
        "      return self.getLabelArg()\n",
        "    elif self.component == \"camera\":\n",
        "      return self.getCameraArg()\n",
        "    else:\n",
        "      return \"\"\n",
        "  \n",
        "  def getNLArg(self):\n",
        "    arg = self.arg\n",
        "    return (self.nl, arg)\n"
      ],
      "execution_count": 13,
      "outputs": []
    },
    {
      "cell_type": "markdown",
      "metadata": {
        "id": "QqiOHPZ2gdDi"
      },
      "source": [
        "# NL_SAR generation code"
      ]
    },
    {
      "cell_type": "code",
      "metadata": {
        "id": "C7E49U3DlskO"
      },
      "source": [
        "def generate_nl_sar():\n",
        "  # global vis_components, non_repeat_vis_components, repeat_vis_components\n",
        "  global string_num, int_num\n",
        "  string_num = -1\n",
        "  int_num = -1\n",
        "\n",
        "  total_vis_components = random.randint(1, MAX_NUMBER_OF_COMPONENT) # limited to fit in screen # CX: 11C7\n",
        "  selected_components = random.sample(vis_components*SAME_COMPONENT_LIMIT, total_vis_components) # \n",
        "\n",
        "  NL = random.choice([\"create <app> \", \"make <app> \", \"<app> \", \"<app> \", \"give me <app> \"])\n",
        "  app = random.choice([\"app\", \"mobile app\", \"application\", \"mobile application\", \"software\"])\n",
        "  initial = random.choice([getArticle(app)+\" \", \"\"])\n",
        "  NL = NL.replace(\"<app>\", initial+app)\n",
        "  NL += random.choice([\"with \", \"that has \", \"consisting \", \"containing \", \"having \", \"consisting of \"])\n",
        "  SAR = [\"<complist> \"] #Change to <comp>\n",
        "\n",
        "  comps_count = {}\n",
        "  # comps_used_count = {}\n",
        "  event_comp_used_count = {}\n",
        "  action_comp_used_count = {}\n",
        "  vis_comp_used_count = {}\n",
        "  for comp in vis_components:\n",
        "    comps_count[comp] = 0\n",
        "    # comps_used_count[comp] = 0\n",
        "    vis_comp_used_count[comp] = 0\n",
        "    action_comp_used_count[comp] = 0\n",
        "    event_comp_used_count[comp] = 0\n",
        "\n",
        "  event_comps = []\n",
        "  action_comps = []\n",
        "  value_comps = []\n",
        "\n",
        "  # total_vis_components = random.randint(1, MAX_NUMBER_OF_COMPONENT) # limited to fit in screen # CX: 12C5\n",
        "  # selected_components = random.sample(vis_components*SAME_COMPONENT_LIMIT, total_vis_components)\n",
        "\n",
        "  for component in selected_components:\n",
        "    if component in non_repeat_vis_components and comps_count[component]:\n",
        "      selected_components.remove(component)\n",
        "      total_vis_components-=1\n",
        "    else:\n",
        "      comps_count[component] += 1\n",
        "      if component in event_components:\n",
        "        event_comps.append(component)\n",
        "      if component in action_components:  # Same component can be both event and action, such as \"ball\"\n",
        "        action_comps.append(component)\n",
        "      if component in value_components:\n",
        "        # if comps_count[component] > 1:\n",
        "        value_comps.append(component+str(comps_count[component]))\n",
        "  \n",
        "  unique_components = list(set(selected_components))\n",
        "\n",
        "  for i in range(len(selected_components)):\n",
        "    vis_comp = selected_components[i]\n",
        "\n",
        "    hide = random.choice([0,0,0,0,0,1]) ## Hide 1/6 components from component list, and NL definition\n",
        "    if hide:\n",
        "      # print(vis_comp, \"HIDDEN!\")\n",
        "      continue\n",
        "\n",
        "    vis_comp_number =  comps_count[vis_comp]\n",
        "    vis_comp_nl = random.choice(component_alias[vis_comp])\n",
        "    article = getArticle(vis_comp_nl)\n",
        "\n",
        "    vis_comp_used_count[vis_comp] += 1\n",
        "\n",
        "\n",
        "    mid_text = \"\"\n",
        "    \n",
        "    if i == total_vis_components - 1 and len(selected_components) > 1: # j == vis_comp_number - 1 and \n",
        "      NL += \"and \"\n",
        "\n",
        "    give_text = random.choice([0,0,0,1]) # MH: 25% chance of giving a text\n",
        "\n",
        "    if vis_comp in comp_with_src:\n",
        "      if give_text: # with 25% possibility set the source to a random video or music\n",
        "        mid_text = \"random_\"+ vis_comp + \"_source\"\n",
        "        rand_src = article + \" \" + vis_comp_nl + \" with a random \" + random.choice(rand_source[vis_comp]) # 12.5%  time mention random source\n",
        "        no_src = article + \" \" + vis_comp_nl # 12.5% times mention no source at all\n",
        "        NL += random.choice([rand_src, no_src])\n",
        "      else:\n",
        "        mid_text = getStr()\n",
        "        NL += article + \" \" + vis_comp_nl + \" with source \" + mid_text\n",
        "    elif vis_comp in components_with_text:\n",
        "      if give_text:\n",
        "        mid_text = getStr()\n",
        "        NL += article + \" \"+ vis_comp_nl + random.choice([\" named \", \" with text \", \" called \"]) + mid_text\n",
        "      else:\n",
        "        mid_text = vis_comp + str(vis_comp_used_count[vis_comp]) # MH: DEFAULT TEXT ARGUMENT\n",
        "        NL += article + \" \" + vis_comp_nl \n",
        "    else:\n",
        "      NL += article + \" \" + vis_comp_nl \n",
        "\n",
        "\n",
        "    if i == total_vis_components - 1: # j == vis_comp_number - 1 \n",
        "      NL += \" . \"\n",
        "    else:\n",
        "      NL += \" , \"\n",
        "\n",
        "    ## Generate SAR\n",
        "    if vis_comp in components_with_text+comp_with_src:\n",
        "      sar_begin_token = \"<token> \"\n",
        "      sar_end_token = \"</token> \"\n",
        "      SAR.append(sar_begin_token.replace(\"token\", vis_comp))\n",
        "      SAR.append(mid_text + \" \")\n",
        "      SAR.append(sar_end_token.replace(\"token\", vis_comp))\n",
        "    else:\n",
        "      SAR.append(\"<\"+vis_comp+\"> \")\n",
        "\n",
        "\n",
        "\n",
        "  ## Handling plural form\n",
        "  # if vis_comp_number > 1:\n",
        "  #   if vis_comp in end_with_es: #add component to this list if it end in es\n",
        "  #     NL = NL.replace(vis_comp, (vis_comp + \"es\"))\n",
        "  #   else: \n",
        "  #     NL = NL.replace(vis_comp, vis_comp + \"s\")\n",
        "\n",
        "  #Generate SAR for canvas\n",
        "  # for number in range(vis_comp_number):\n",
        "  # if vis_comp in canvas_components:\n",
        "  #   if \"<canvas> \" in SAR:\n",
        "  #     idx = SAR.index(\"</canvas> \") - 1\n",
        "  #     SAR.insert(idx , \"<ball> \")\n",
        "  #   else:\n",
        "  #     SAR.append(\"<canvas> \")\n",
        "  #     SAR.append(\"<ball> \")\n",
        "  #     SAR.append(\"</canvas> \")\n",
        "  # else:\n",
        "  #   sar_token = \"<token> \"\n",
        "  #   SAR.append(sar_token.replace(\"token\", vis_comp))\n",
        "\n",
        "  NL.replace('and .', '.')\n",
        "  NL.replace('<complist> </complist>', \"\")\n",
        "  SAR.append(\"</complist>\") #Change to </comp>\n",
        "  SAR_str = \"\"\n",
        "  for token in SAR:\n",
        "    SAR_str += token\n",
        "\n",
        "  sar = SAR_str\n",
        "\n",
        "\n",
        "  ## SAR for code components\n",
        "  # print(selected_components)\n",
        "  # print(event_comps)\n",
        "  # print(action_comps)\n",
        "  # print(value_comps)\n",
        "\n",
        "  if len(action_comps)>0 and len(event_comps)>0:\n",
        "    sar += \" <code> \"\n",
        "    for event_comp in event_comps:\n",
        "      if action_comps:\n",
        "        event_comp_used_count[event_comp] += 1\n",
        "        event_comp_num = event_comp_used_count[event_comp]\n",
        "        event_comp_count = comps_count[event_comp]\n",
        "        event_object = EventComponent(event_comp, event_comp_num, event_comp_count)\n",
        "        NL += event_object.getNL()\n",
        "        # event = event_object.event #random.choice(events[event_comp])\n",
        "        sar += \"<\"+ event_comp + str(event_comp_num) + event_object.event + \"> \"\n",
        "\n",
        "        action_comp_name = random.choice(action_comps)\n",
        "        action_comp_used_count[action_comp_name] += 1\n",
        "        action_comp_num = action_comp_used_count[action_comp_name]\n",
        "        action_comps.remove(action_comp_name)\n",
        "        action_comp_count = comps_count[action_comp_name]\n",
        "\n",
        "        ## Hidden video, audio source, pop up in player\n",
        "        set_src = False\n",
        "        if action_comp_name in comp_with_src and action_comp_name not in sar:\n",
        "          set_src = True\n",
        "\n",
        "        # Decide whether to use value comp, or which one to use\n",
        "        # Send or not send that value comp\n",
        "        # Remove from the value comp list\n",
        "        action_object = ActionComponent(action_comp_name, action_comp_num, value_comps, action_comp_count, set_src)\n",
        "        value_comps = action_object.val_comps\n",
        "\n",
        "        (nl, arg) = action_object.getNLArg()\n",
        "        ## Parse <src> </src> and put it back into <video> </video>\n",
        "\n",
        "        action_comp_num_str = str(action_comp_num) if action_comp_name in non_repeat_vis_components else \"\"\n",
        "        sar += \"<\"+action_comp_name + str(action_comp_num) + \"> \" + arg + \" </\"+action_comp_name + str(action_comp_num) + \"> \"\n",
        "        sar += \"</\"+ event_comp + str(event_comp_num) + event_object.event + \"> \"\n",
        "        NL += nl + \" . \"\n",
        "\n",
        "    sar += \"</code>\"\n",
        "\n",
        "\n",
        "  NL = ' '.join(NL.split())\n",
        "  sar = ' '.join(sar.split())\n",
        "  return NL, sar\n"
      ],
      "execution_count": 14,
      "outputs": []
    },
    {
      "cell_type": "markdown",
      "source": [
        "* Keep a count, and name them First, Second. Similar to Button.\n",
        "* <complist> </complist> should be eliminated"
      ],
      "metadata": {
        "id": "d1X19zx5JpJ4"
      }
    },
    {
      "cell_type": "code",
      "metadata": {
        "id": "ZeOq01pVsK0N",
        "colab": {
          "base_uri": "https://localhost:8080/"
        },
        "outputId": "68361e06-34d7-41e6-f0da-8209f1d68b7c"
      },
      "source": [
        "import re\n",
        "\n",
        "while True:\n",
        "  NL, sar = generate_nl_sar()\n",
        "  match = re.search(\"<switch\\dflipped> <text2speech\\d>\", sar)\n",
        "  if match:\n",
        "    print(NL)\n",
        "    print(sar)\n",
        "    break"
      ],
      "execution_count": 20,
      "outputs": [
        {
          "output_type": "stream",
          "name": "stdout",
          "text": [
            "create application consisting a switch , a time picker , a speech , if the switch is clicked, speak string0 . when the vibration sensor is vibrated, start the player string1 .\n",
            "<complist> <switch> switch1 </switch> <timepicker> <text2speech> </complist> <code> <switch1flipped> <text2speech1> string0 </text2speech1> </switch1flipped> <accelerometer1shaken> <player1> <start> <src> string1 </src> </player1> </accelerometer1shaken> </code>\n"
          ]
        }
      ]
    },
    {
      "cell_type": "markdown",
      "metadata": {
        "id": "2Re1T6ISXUW_"
      },
      "source": [
        "# BERT Mutation"
      ]
    },
    {
      "cell_type": "code",
      "metadata": {
        "colab": {
          "base_uri": "https://localhost:8080/",
          "height": 232,
          "referenced_widgets": [
            "a771df3bc99e43bcb6cc5dfe5d7921e6",
            "73274c2f01e1421a8348f88b57e1a440",
            "3ce486e090384f7f8c2f38c3d748825c",
            "f67b8bde8cb748548a997c82f942eaa5",
            "6cd3db8921314d0a95bfb6d82ba77744",
            "cd1bb793fa484a069d7bcf84f2ef9eba",
            "ac9b181434a347f485e932010379a778",
            "e007034cf8d249158d408615a61e7055",
            "806b2b2ce0694d47965b89b1888df094",
            "f885df4343a543c3a483a11b1b4d3e2e",
            "4e0fc816f6e946bbbd115cbbbd772309",
            "14027ac12fa94badbb757a9aaef1268d",
            "4dbec1c9524f4a3a9b02150ec0a0ac11",
            "7cf07cea99e545158e5435edf0d0d0b8",
            "5aabd2a7a77645a5b45ef5012d80b145",
            "8d6ef7d634be4718bf736f7f7bb89a2e",
            "43e5e742b3034ce29345b48d876b640b",
            "22457e3a4491413385eb1d6fb2dd8801",
            "a2ea74482731492b8f5010eea615d630",
            "279bc046233e4816a64f5ebe7ab7d0c4",
            "ae942ec0ffc34987b71d09b90a3c98e1",
            "e5e4770ee579463bac16823b705674ea",
            "f2b59b02e1cb4e409e60dce24b101335",
            "8e5134df23a840d59151892daa3bd133",
            "afb9400219f2478fbb30d3840cdc5ebe",
            "6f5f9aff14e44d3fbe70e5168d48f5f0",
            "aa699e150c4e484a80084ca559f655ea",
            "e3fe29b49b594ef197233c3c2143a3eb",
            "d7ca46b7c74c40919f3d09e725ebc56d",
            "6df9b08fbc64467b8019f4ce7478b606",
            "424ba3977bc94a0d80cd3b1b2b1aafd8",
            "100686f6d5124f93a0e25dde2d57b5bd",
            "6392526c90764daf999ebaf24dfe61b3",
            "972f5b40f9df48039aa4dad2b84e6dd6",
            "2cdb8905fceb4008b855d504ae973114",
            "93608135f1cb4468852926979ea85372",
            "bd17ce8156e840cbbcdfae0e4ca29f42",
            "e655781329be4144b8cd681dbc226f8a",
            "e70c5ba8f0b04283a375f1a988fecd5d",
            "2430470f8ce24181842e7f24138030e3",
            "fa5ccc7bbb974ccda64327bfac3ccfef",
            "b833b2e9d9404b75b0d6c87207aef6fd",
            "407eb9b3b1484b4e8e03da3fe1c03804",
            "d8c1d9003b62410d8ad0cd8076c9785e",
            "89f1727fcb8e4019a6b68c30c1ab26f8",
            "4a917f583186403ba7c4ecdcb1daac65",
            "78b597cef94440df9ac58a32c4518229",
            "4eae732c4720431d9dc52b894d2d9c12",
            "3f7401484497468b8ca8972cbb47273b",
            "f94330b7946e4d02a24ee4a53072769f",
            "19f2d9e4a1c84a6ea26384210a090193",
            "cf38684da78d441691d671d8891508bc",
            "6e8a3bb96b664f21b80b145144289eec",
            "038beb926b6044318e4bbb987b78cd59",
            "ac2fa5a9ad4d4d5e81d10b8be0bddd47"
          ]
        },
        "id": "w2Zxo0HDXWUl",
        "outputId": "9da85122-8bc6-4d8d-890a-fb56222c4c31"
      },
      "source": [
        "from transformers import AutoModelWithLMHead, AutoTokenizer\n",
        "import torch\n",
        "\n",
        "tokenizer = AutoTokenizer.from_pretrained(\"distilbert-base-cased\")\n",
        "model = AutoModelWithLMHead.from_pretrained(\"distilbert-base-cased\").cuda()"
      ],
      "execution_count": 16,
      "outputs": [
        {
          "output_type": "display_data",
          "data": {
            "text/plain": [
              "Downloading:   0%|          | 0.00/411 [00:00<?, ?B/s]"
            ],
            "application/vnd.jupyter.widget-view+json": {
              "version_major": 2,
              "version_minor": 0,
              "model_id": "a771df3bc99e43bcb6cc5dfe5d7921e6"
            }
          },
          "metadata": {}
        },
        {
          "output_type": "display_data",
          "data": {
            "text/plain": [
              "Downloading:   0%|          | 0.00/213k [00:00<?, ?B/s]"
            ],
            "application/vnd.jupyter.widget-view+json": {
              "version_major": 2,
              "version_minor": 0,
              "model_id": "14027ac12fa94badbb757a9aaef1268d"
            }
          },
          "metadata": {}
        },
        {
          "output_type": "display_data",
          "data": {
            "text/plain": [
              "Downloading:   0%|          | 0.00/436k [00:00<?, ?B/s]"
            ],
            "application/vnd.jupyter.widget-view+json": {
              "version_major": 2,
              "version_minor": 0,
              "model_id": "f2b59b02e1cb4e409e60dce24b101335"
            }
          },
          "metadata": {}
        },
        {
          "output_type": "display_data",
          "data": {
            "text/plain": [
              "Downloading:   0%|          | 0.00/29.0 [00:00<?, ?B/s]"
            ],
            "application/vnd.jupyter.widget-view+json": {
              "version_major": 2,
              "version_minor": 0,
              "model_id": "972f5b40f9df48039aa4dad2b84e6dd6"
            }
          },
          "metadata": {}
        },
        {
          "output_type": "stream",
          "name": "stderr",
          "text": [
            "/usr/local/lib/python3.7/dist-packages/transformers/models/auto/modeling_auto.py:762: FutureWarning: The class `AutoModelWithLMHead` is deprecated and will be removed in a future version. Please use `AutoModelForCausalLM` for causal language models, `AutoModelForMaskedLM` for masked language models and `AutoModelForSeq2SeqLM` for encoder-decoder models.\n",
            "  FutureWarning,\n"
          ]
        },
        {
          "output_type": "display_data",
          "data": {
            "text/plain": [
              "Downloading:   0%|          | 0.00/263M [00:00<?, ?B/s]"
            ],
            "application/vnd.jupyter.widget-view+json": {
              "version_major": 2,
              "version_minor": 0,
              "model_id": "89f1727fcb8e4019a6b68c30c1ab26f8"
            }
          },
          "metadata": {}
        }
      ]
    },
    {
      "cell_type": "code",
      "metadata": {
        "id": "cXYjefDbXXqc"
      },
      "source": [
        "def mutate(sentence, position):\n",
        "  tokens = sentence.split()\n",
        "  word = tokens[position]\n",
        "  mask = tokenizer.mask_token\n",
        "  tokens[position] = mask\n",
        "  masked_sentence = ' '.join(tokens)\n",
        "\n",
        "  input = tokenizer.encode(masked_sentence, return_tensors=\"pt\").cuda()\n",
        "  mask_token_index = torch.where(input == tokenizer.mask_token_id)[1].cuda()\n",
        "\n",
        "  token_logits = model(input)[0].cuda()\n",
        "  mask_token_logits = token_logits[0, mask_token_index, :].cuda()\n",
        "  top_tokens = torch.topk(mask_token_logits, 10, dim=1).indices[0].tolist()\n",
        "\n",
        "  predictions = []\n",
        "  for token in top_tokens:\n",
        "    predicted_word = tokenizer.decode([token]).lower()\n",
        "    if \"##\" not in predicted_word:\n",
        "      predictions.append(predicted_word)\n",
        "\n",
        "  if len(predictions)> 0:\n",
        "    decreasing_weights = [i for i in range(len(predictions) ,0, -1)]\n",
        "    mutated_word = random.choices(predictions, weights=decreasing_weights, k=1)[0]\n",
        "    # print(mutated_word)\n",
        "  else:\n",
        "    mutated_word = word\n",
        "    # print(\"not mutated\")\n",
        "  tokens[position] = mutated_word\n",
        "  mutated_sentence = ' '.join(tokens)\n",
        "\n",
        "  return mutated_sentence"
      ],
      "execution_count": 17,
      "outputs": []
    },
    {
      "cell_type": "code",
      "metadata": {
        "id": "XzUurQC9XftP"
      },
      "source": [
        "def mutate_sentence(sentence, mutation_percent):\n",
        "  mutate_index = random.choices([i for i in range(len(sentence.split()))], k=int(len(sentence.split())*mutation_percent + 0.5))\n",
        "  for i in mutate_index:\n",
        "    sentence = mutate(sentence, i)\n",
        "  return sentence"
      ],
      "execution_count": 18,
      "outputs": []
    },
    {
      "cell_type": "markdown",
      "metadata": {
        "id": "niZq69TogmVz"
      },
      "source": [
        "# Generating dataset"
      ]
    },
    {
      "cell_type": "code",
      "source": [
        "nl_train = []\n",
        "sar_train = []\n",
        "nl_unseen = []\n",
        "sar_unseen = []"
      ],
      "metadata": {
        "id": "Onmcplms6FBA"
      },
      "execution_count": null,
      "outputs": []
    },
    {
      "cell_type": "code",
      "metadata": {
        "id": "W9QvvUbTTt8e",
        "colab": {
          "base_uri": "https://localhost:8080/"
        },
        "outputId": "603d9a77-36c5-44ed-9b16-dcea2b11f177"
      },
      "source": [
        "for i in range(20000):\n",
        "  nl, sar = generate_nl_sar()\n",
        "  if len(sar.split()) < 3:\n",
        "    continue\n",
        "  if \"<textboxtext4>\" in sar:\n",
        "    print(sar)\n",
        "  ## Mutate 10% words in 10% NL\n",
        "  nl = mutate_sentence(nl, 0.1)\n",
        "  match = re.search(\"<switch\\dflipped> <text2speech\\d>\", sar)\n",
        "  if match:\n",
        "    nl_unseen.append(nl)\n",
        "    sar_unseen.append(sar)\n",
        "  else:\n",
        "    nl_train.append(nl)\n",
        "    sar_train.append(sar)\n",
        "  if i%100==0:\n",
        "    print(i)"
      ],
      "execution_count": null,
      "outputs": [
        {
          "output_type": "stream",
          "name": "stdout",
          "text": [
            "0\n",
            "100\n",
            "200\n",
            "300\n",
            "400\n",
            "500\n",
            "600\n",
            "700\n",
            "800\n",
            "900\n"
          ]
        }
      ]
    },
    {
      "cell_type": "code",
      "metadata": {
        "id": "OeacBRpqzBbX"
      },
      "source": [
        "d = {}\n",
        "\n",
        "all_tokens = ' '.join(sar_train+sar_unseen).split()\n",
        "for s in all_tokens:\n",
        "  if s not in d:\n",
        "    d[s] = 0\n",
        "  d[s] += 1"
      ],
      "execution_count": 22,
      "outputs": []
    },
    {
      "cell_type": "code",
      "metadata": {
        "colab": {
          "base_uri": "https://localhost:8080/"
        },
        "id": "ocy-dfxb0QiY",
        "outputId": "ec323aec-af7c-424b-dc9f-83719a04ccf3"
      },
      "source": [
        "sorted_d = sorted(d.items(), key=lambda item: item[1])\n",
        "sorted_d.reverse()\n",
        "sorted_d"
      ],
      "execution_count": 23,
      "outputs": [
        {
          "output_type": "execute_result",
          "data": {
            "text/plain": [
              "[('</complist>', 9850),\n",
              " ('<complist>', 9850),\n",
              " ('</code>', 7859),\n",
              " ('<code>', 7859),\n",
              " ('string0', 6991),\n",
              " ('</label>', 4723),\n",
              " ('<label>', 4723),\n",
              " ('</button>', 4594),\n",
              " ('<button>', 4594),\n",
              " ('</video_player>', 4539),\n",
              " ('<video_player>', 4539),\n",
              " ('<timepicker>', 4528),\n",
              " ('<passwordtextbox>', 4493),\n",
              " ('</switch>', 4475),\n",
              " ('<switch>', 4475),\n",
              " ('</player>', 4467),\n",
              " ('<player>', 4467),\n",
              " ('<textbox>', 4433),\n",
              " ('string1', 3708),\n",
              " ('<accelerometer>', 3629),\n",
              " ('<text2speech>', 3617),\n",
              " ('<ball>', 3605),\n",
              " ('<camera>', 3529),\n",
              " ('</button1clicked>', 3521),\n",
              " ('<button1clicked>', 3521),\n",
              " ('</switch1flipped>', 3475),\n",
              " ('<switch1flipped>', 3475),\n",
              " ('</accelerometer1shaken>', 3455),\n",
              " ('<accelerometer1shaken>', 3455),\n",
              " ('</ball1>', 2887),\n",
              " ('<ball1>', 2887),\n",
              " ('label1', 2886),\n",
              " ('button1', 2790),\n",
              " ('<stop>', 2761),\n",
              " ('switch1', 2729),\n",
              " ('<start>', 2625),\n",
              " ('</label1>', 2496),\n",
              " ('<label1>', 2496),\n",
              " ('</video_player1>', 2455),\n",
              " ('<video_player1>', 2455),\n",
              " ('</player1>', 2419),\n",
              " ('<player1>', 2419),\n",
              " ('</text2speech1>', 2263),\n",
              " ('<text2speech1>', 2263),\n",
              " ('</camera1>', 2242),\n",
              " ('<capture_and_show>', 2242),\n",
              " ('<camera1>', 2242),\n",
              " ('</ball1reach_edge>', 1938),\n",
              " ('<ball1reach_edge>', 1938),\n",
              " ('</ball1flung>', 1870),\n",
              " ('<ball1flung>', 1870),\n",
              " ('string2', 1607),\n",
              " ('number0', 1436),\n",
              " ('random_video_player_source', 1144),\n",
              " ('<textboxtext1>', 1124),\n",
              " ('<time1>', 1102),\n",
              " ('random_player_source', 1071),\n",
              " ('label2', 630),\n",
              " ('</switch2flipped>', 621),\n",
              " ('<switch2flipped>', 621),\n",
              " ('</button2clicked>', 609),\n",
              " ('<button2clicked>', 609),\n",
              " ('button2', 573),\n",
              " ('switch2', 554),\n",
              " ('string3', 523),\n",
              " ('<motion>', 510),\n",
              " ('</radius>', 509),\n",
              " ('<radius>', 509),\n",
              " ('<bounce>', 491),\n",
              " ('</heading>', 490),\n",
              " ('<heading>', 490),\n",
              " ('</color>', 450),\n",
              " ('<color>', 450),\n",
              " ('</speed>', 437),\n",
              " ('<speed>', 437),\n",
              " ('</src>', 323),\n",
              " ('<src>', 323),\n",
              " ('</label2>', 296),\n",
              " ('<label2>', 296),\n",
              " ('</video_player2>', 263),\n",
              " ('<video_player2>', 263),\n",
              " ('</player2>', 234),\n",
              " ('<player2>', 234),\n",
              " ('<textboxtext2>', 161),\n",
              " ('<time2>', 153),\n",
              " ('string4', 147),\n",
              " ('button3', 79),\n",
              " ('label3', 69),\n",
              " ('</button3clicked>', 58),\n",
              " ('<button3clicked>', 58),\n",
              " ('string5', 49),\n",
              " ('<yellow>', 47),\n",
              " ('<dark_gray>', 45),\n",
              " ('<orange>', 45),\n",
              " ('switch3', 44),\n",
              " ('<magenta>', 43),\n",
              " ('<pink>', 42),\n",
              " ('<gray>', 42),\n",
              " ('<red>', 37),\n",
              " ('</switch3flipped>', 37),\n",
              " ('<switch3flipped>', 37),\n",
              " ('<blue>', 36),\n",
              " ('<green>', 30),\n",
              " ('<light_gray>', 29),\n",
              " ('<cyan>', 28),\n",
              " ('<black>', 26),\n",
              " ('</label3>', 17),\n",
              " ('<label3>', 17),\n",
              " ('<time3>', 17),\n",
              " ('<textboxtext3>', 13),\n",
              " ('string6', 8),\n",
              " ('</player3>', 8),\n",
              " ('<player3>', 8),\n",
              " ('switch4', 7),\n",
              " ('</video_player3>', 7),\n",
              " ('<video_player3>', 7),\n",
              " ('label4', 6),\n",
              " ('button4', 4),\n",
              " ('<time4>', 2),\n",
              " ('</button4clicked>', 2),\n",
              " ('<button4clicked>', 2),\n",
              " ('<textboxtext4>', 2),\n",
              " ('</switch4flipped>', 1),\n",
              " ('<switch4flipped>', 1)]"
            ]
          },
          "metadata": {},
          "execution_count": 23
        }
      ]
    },
    {
      "cell_type": "code",
      "metadata": {
        "id": "P_l7JWYvYb8d"
      },
      "source": [
        "import pandas as pd\n",
        "df = pd.DataFrame({'NL':nl_train, 'SAR': sar_train})\n",
        "df_unseen = pd.DataFrame({'NL':nl_unseen, 'SAR': sar_unseen})"
      ],
      "execution_count": 30,
      "outputs": []
    },
    {
      "cell_type": "code",
      "metadata": {
        "id": "-amGJ_OhMxGk",
        "colab": {
          "base_uri": "https://localhost:8080/",
          "height": 424
        },
        "outputId": "41cf158b-b925-45e0-d71a-ecc6817978eb"
      },
      "source": [
        "df"
      ],
      "execution_count": 31,
      "outputs": [
        {
          "output_type": "execute_result",
          "data": {
            "text/plain": [
              "                                                     NL  \\\n",
              "0     make an app that has a shake sensor , a video ...   \n",
              "1     make software with a mouse , a pasword text re...   \n",
              "2     give me software consisting a label with text ...   \n",
              "3     make an app with a time selector , a button , ...   \n",
              "4     make mobile application consisting of a text b...   \n",
              "...                                                 ...   \n",
              "9199  sensor containing a camera , and a movement se...   \n",
              "9200  mobile app provides a music player with source...   \n",
              "9201  an app consisting a passwordtextbox , a label ...   \n",
              "9202  instruments consisting an audio player with so...   \n",
              "9203  make an application having a video screen with...   \n",
              "\n",
              "                                                    SAR  \n",
              "0     <complist> <accelerometer> <video_player> rand...  \n",
              "1     <complist> <button> button1 </button> <passwor...  \n",
              "2     <complist> <label> string0 </label> <accelerom...  \n",
              "3     <complist> <timepicker> <button> button1 </but...  \n",
              "4            <complist> <textbox> <textbox> </complist>  \n",
              "...                                                 ...  \n",
              "9199  <complist> <camera> <accelerometer> </complist...  \n",
              "9200  <complist> <player> string0 </player> </complist>  \n",
              "9201  <complist> <passwordtextbox> <label> label1 </...  \n",
              "9202  <complist> <player> string0 </player> <acceler...  \n",
              "9203  <complist> <video_player> string0 </video_play...  \n",
              "\n",
              "[9204 rows x 2 columns]"
            ],
            "text/html": [
              "\n",
              "  <div id=\"df-aec019d0-edee-41cf-a280-989497adb14f\">\n",
              "    <div class=\"colab-df-container\">\n",
              "      <div>\n",
              "<style scoped>\n",
              "    .dataframe tbody tr th:only-of-type {\n",
              "        vertical-align: middle;\n",
              "    }\n",
              "\n",
              "    .dataframe tbody tr th {\n",
              "        vertical-align: top;\n",
              "    }\n",
              "\n",
              "    .dataframe thead th {\n",
              "        text-align: right;\n",
              "    }\n",
              "</style>\n",
              "<table border=\"1\" class=\"dataframe\">\n",
              "  <thead>\n",
              "    <tr style=\"text-align: right;\">\n",
              "      <th></th>\n",
              "      <th>NL</th>\n",
              "      <th>SAR</th>\n",
              "    </tr>\n",
              "  </thead>\n",
              "  <tbody>\n",
              "    <tr>\n",
              "      <th>0</th>\n",
              "      <td>make an app that has a shake sensor , a video ...</td>\n",
              "      <td>&lt;complist&gt; &lt;accelerometer&gt; &lt;video_player&gt; rand...</td>\n",
              "    </tr>\n",
              "    <tr>\n",
              "      <th>1</th>\n",
              "      <td>make software with a mouse , a pasword text re...</td>\n",
              "      <td>&lt;complist&gt; &lt;button&gt; button1 &lt;/button&gt; &lt;passwor...</td>\n",
              "    </tr>\n",
              "    <tr>\n",
              "      <th>2</th>\n",
              "      <td>give me software consisting a label with text ...</td>\n",
              "      <td>&lt;complist&gt; &lt;label&gt; string0 &lt;/label&gt; &lt;accelerom...</td>\n",
              "    </tr>\n",
              "    <tr>\n",
              "      <th>3</th>\n",
              "      <td>make an app with a time selector , a button , ...</td>\n",
              "      <td>&lt;complist&gt; &lt;timepicker&gt; &lt;button&gt; button1 &lt;/but...</td>\n",
              "    </tr>\n",
              "    <tr>\n",
              "      <th>4</th>\n",
              "      <td>make mobile application consisting of a text b...</td>\n",
              "      <td>&lt;complist&gt; &lt;textbox&gt; &lt;textbox&gt; &lt;/complist&gt;</td>\n",
              "    </tr>\n",
              "    <tr>\n",
              "      <th>...</th>\n",
              "      <td>...</td>\n",
              "      <td>...</td>\n",
              "    </tr>\n",
              "    <tr>\n",
              "      <th>9199</th>\n",
              "      <td>sensor containing a camera , and a movement se...</td>\n",
              "      <td>&lt;complist&gt; &lt;camera&gt; &lt;accelerometer&gt; &lt;/complist...</td>\n",
              "    </tr>\n",
              "    <tr>\n",
              "      <th>9200</th>\n",
              "      <td>mobile app provides a music player with source...</td>\n",
              "      <td>&lt;complist&gt; &lt;player&gt; string0 &lt;/player&gt; &lt;/complist&gt;</td>\n",
              "    </tr>\n",
              "    <tr>\n",
              "      <th>9201</th>\n",
              "      <td>an app consisting a passwordtextbox , a label ...</td>\n",
              "      <td>&lt;complist&gt; &lt;passwordtextbox&gt; &lt;label&gt; label1 &lt;/...</td>\n",
              "    </tr>\n",
              "    <tr>\n",
              "      <th>9202</th>\n",
              "      <td>instruments consisting an audio player with so...</td>\n",
              "      <td>&lt;complist&gt; &lt;player&gt; string0 &lt;/player&gt; &lt;acceler...</td>\n",
              "    </tr>\n",
              "    <tr>\n",
              "      <th>9203</th>\n",
              "      <td>make an application having a video screen with...</td>\n",
              "      <td>&lt;complist&gt; &lt;video_player&gt; string0 &lt;/video_play...</td>\n",
              "    </tr>\n",
              "  </tbody>\n",
              "</table>\n",
              "<p>9204 rows × 2 columns</p>\n",
              "</div>\n",
              "      <button class=\"colab-df-convert\" onclick=\"convertToInteractive('df-aec019d0-edee-41cf-a280-989497adb14f')\"\n",
              "              title=\"Convert this dataframe to an interactive table.\"\n",
              "              style=\"display:none;\">\n",
              "        \n",
              "  <svg xmlns=\"http://www.w3.org/2000/svg\" height=\"24px\"viewBox=\"0 0 24 24\"\n",
              "       width=\"24px\">\n",
              "    <path d=\"M0 0h24v24H0V0z\" fill=\"none\"/>\n",
              "    <path d=\"M18.56 5.44l.94 2.06.94-2.06 2.06-.94-2.06-.94-.94-2.06-.94 2.06-2.06.94zm-11 1L8.5 8.5l.94-2.06 2.06-.94-2.06-.94L8.5 2.5l-.94 2.06-2.06.94zm10 10l.94 2.06.94-2.06 2.06-.94-2.06-.94-.94-2.06-.94 2.06-2.06.94z\"/><path d=\"M17.41 7.96l-1.37-1.37c-.4-.4-.92-.59-1.43-.59-.52 0-1.04.2-1.43.59L10.3 9.45l-7.72 7.72c-.78.78-.78 2.05 0 2.83L4 21.41c.39.39.9.59 1.41.59.51 0 1.02-.2 1.41-.59l7.78-7.78 2.81-2.81c.8-.78.8-2.07 0-2.86zM5.41 20L4 18.59l7.72-7.72 1.47 1.35L5.41 20z\"/>\n",
              "  </svg>\n",
              "      </button>\n",
              "      \n",
              "  <style>\n",
              "    .colab-df-container {\n",
              "      display:flex;\n",
              "      flex-wrap:wrap;\n",
              "      gap: 12px;\n",
              "    }\n",
              "\n",
              "    .colab-df-convert {\n",
              "      background-color: #E8F0FE;\n",
              "      border: none;\n",
              "      border-radius: 50%;\n",
              "      cursor: pointer;\n",
              "      display: none;\n",
              "      fill: #1967D2;\n",
              "      height: 32px;\n",
              "      padding: 0 0 0 0;\n",
              "      width: 32px;\n",
              "    }\n",
              "\n",
              "    .colab-df-convert:hover {\n",
              "      background-color: #E2EBFA;\n",
              "      box-shadow: 0px 1px 2px rgba(60, 64, 67, 0.3), 0px 1px 3px 1px rgba(60, 64, 67, 0.15);\n",
              "      fill: #174EA6;\n",
              "    }\n",
              "\n",
              "    [theme=dark] .colab-df-convert {\n",
              "      background-color: #3B4455;\n",
              "      fill: #D2E3FC;\n",
              "    }\n",
              "\n",
              "    [theme=dark] .colab-df-convert:hover {\n",
              "      background-color: #434B5C;\n",
              "      box-shadow: 0px 1px 3px 1px rgba(0, 0, 0, 0.15);\n",
              "      filter: drop-shadow(0px 1px 2px rgba(0, 0, 0, 0.3));\n",
              "      fill: #FFFFFF;\n",
              "    }\n",
              "  </style>\n",
              "\n",
              "      <script>\n",
              "        const buttonEl =\n",
              "          document.querySelector('#df-aec019d0-edee-41cf-a280-989497adb14f button.colab-df-convert');\n",
              "        buttonEl.style.display =\n",
              "          google.colab.kernel.accessAllowed ? 'block' : 'none';\n",
              "\n",
              "        async function convertToInteractive(key) {\n",
              "          const element = document.querySelector('#df-aec019d0-edee-41cf-a280-989497adb14f');\n",
              "          const dataTable =\n",
              "            await google.colab.kernel.invokeFunction('convertToInteractive',\n",
              "                                                     [key], {});\n",
              "          if (!dataTable) return;\n",
              "\n",
              "          const docLinkHtml = 'Like what you see? Visit the ' +\n",
              "            '<a target=\"_blank\" href=https://colab.research.google.com/notebooks/data_table.ipynb>data table notebook</a>'\n",
              "            + ' to learn more about interactive tables.';\n",
              "          element.innerHTML = '';\n",
              "          dataTable['output_type'] = 'display_data';\n",
              "          await google.colab.output.renderOutput(dataTable, element);\n",
              "          const docLink = document.createElement('div');\n",
              "          docLink.innerHTML = docLinkHtml;\n",
              "          element.appendChild(docLink);\n",
              "        }\n",
              "      </script>\n",
              "    </div>\n",
              "  </div>\n",
              "  "
            ]
          },
          "metadata": {},
          "execution_count": 31
        }
      ]
    },
    {
      "cell_type": "code",
      "metadata": {
        "colab": {
          "base_uri": "https://localhost:8080/"
        },
        "id": "6epf1CI0t0pr",
        "outputId": "28c01872-da36-4add-f44c-437a485806f8"
      },
      "source": [
        "nl_train[:10]"
      ],
      "execution_count": 32,
      "outputs": [
        {
          "output_type": "execute_result",
          "data": {
            "text/plain": [
              "['make an app that has a shake sensor , a video with a random mouse , adding text to speech , an accelerometer , a button , a button called string0 , and a text box . when the vibration sensor is vibrated, write the same text to the textbox text reader if the earlier button is touched, pause the video player . if their next button is touched, say string1 .',\n",
              " 'make software with a mouse , a pasword text reader , a label button and a speech . if the button is pressed, set label to string0 .',\n",
              " 'give me software consisting a label with text string0 , a shake sensor , and a text to speech . if the accelerometer is vibrated, set the label text : string1 ;',\n",
              " 'make an app with a time selector , a button , a password box , an accelerometer , and another text box . if the button is inserted into the music player .',\n",
              " 'make mobile application consisting of a text box , a text box :',\n",
              " 'create a mobile app with a video with source string0 featuring a music player with source keys , a password field , optional password field , a camera , a button , a switch , and a mouse . if the 1st switch is touched, play video . if the following switch is clicked, stop the player .',\n",
              " 'make a mobile application that has a pasword text box , a text2speech , touch camera , a circle , a button controller and a player with mouse string0 . when a circle is cornered, pause the music . if the button is clicked, take this picture . if the shake sensor is vibrated, say string1 .',\n",
              " 'a golf app which has a circle , a password generator , and a video with source string0 . if the circle is hit, bounce the ball .',\n",
              " 'give me the mobile app containing compressed video with source files , a speech , a button , a passwordbox , a button with text string1 , and a label . if the earlier button is touched, set label string2 . if the 2nd button is touched, stop pressing .',\n",
              " 'an app consisting of a time selector , a textbox , a label , a music player with input string0 ; a textbox , a time selector , a circle , a text2speech , touch switch , if the circle is touches edge, set label to the key in the textbox device if the switch is pressed play audio . if the movement sensor is vibrated, tell sound .']"
            ]
          },
          "metadata": {},
          "execution_count": 32
        }
      ]
    },
    {
      "cell_type": "code",
      "metadata": {
        "colab": {
          "base_uri": "https://localhost:8080/",
          "height": 424
        },
        "id": "EmmbHdpJ8sSW",
        "outputId": "2b267c2f-31b6-4547-8728-c6646ec27dd0"
      },
      "source": [
        "df = df.drop_duplicates()\n",
        "df_unseen = df_unseen.drop_duplicates()\n",
        "df"
      ],
      "execution_count": 33,
      "outputs": [
        {
          "output_type": "execute_result",
          "data": {
            "text/plain": [
              "                                                     NL  \\\n",
              "0     make an app that has a shake sensor , a video ...   \n",
              "1     make software with a mouse , a pasword text re...   \n",
              "2     give me software consisting a label with text ...   \n",
              "3     make an app with a time selector , a button , ...   \n",
              "4     make mobile application consisting of a text b...   \n",
              "...                                                 ...   \n",
              "9199  sensor containing a camera , and a movement se...   \n",
              "9200  mobile app provides a music player with source...   \n",
              "9201  an app consisting a passwordtextbox , a label ...   \n",
              "9202  instruments consisting an audio player with so...   \n",
              "9203  make an application having a video screen with...   \n",
              "\n",
              "                                                    SAR  \n",
              "0     <complist> <accelerometer> <video_player> rand...  \n",
              "1     <complist> <button> button1 </button> <passwor...  \n",
              "2     <complist> <label> string0 </label> <accelerom...  \n",
              "3     <complist> <timepicker> <button> button1 </but...  \n",
              "4            <complist> <textbox> <textbox> </complist>  \n",
              "...                                                 ...  \n",
              "9199  <complist> <camera> <accelerometer> </complist...  \n",
              "9200  <complist> <player> string0 </player> </complist>  \n",
              "9201  <complist> <passwordtextbox> <label> label1 </...  \n",
              "9202  <complist> <player> string0 </player> <acceler...  \n",
              "9203  <complist> <video_player> string0 </video_play...  \n",
              "\n",
              "[9203 rows x 2 columns]"
            ],
            "text/html": [
              "\n",
              "  <div id=\"df-477770ba-0b19-4b28-bf2a-a17d49014792\">\n",
              "    <div class=\"colab-df-container\">\n",
              "      <div>\n",
              "<style scoped>\n",
              "    .dataframe tbody tr th:only-of-type {\n",
              "        vertical-align: middle;\n",
              "    }\n",
              "\n",
              "    .dataframe tbody tr th {\n",
              "        vertical-align: top;\n",
              "    }\n",
              "\n",
              "    .dataframe thead th {\n",
              "        text-align: right;\n",
              "    }\n",
              "</style>\n",
              "<table border=\"1\" class=\"dataframe\">\n",
              "  <thead>\n",
              "    <tr style=\"text-align: right;\">\n",
              "      <th></th>\n",
              "      <th>NL</th>\n",
              "      <th>SAR</th>\n",
              "    </tr>\n",
              "  </thead>\n",
              "  <tbody>\n",
              "    <tr>\n",
              "      <th>0</th>\n",
              "      <td>make an app that has a shake sensor , a video ...</td>\n",
              "      <td>&lt;complist&gt; &lt;accelerometer&gt; &lt;video_player&gt; rand...</td>\n",
              "    </tr>\n",
              "    <tr>\n",
              "      <th>1</th>\n",
              "      <td>make software with a mouse , a pasword text re...</td>\n",
              "      <td>&lt;complist&gt; &lt;button&gt; button1 &lt;/button&gt; &lt;passwor...</td>\n",
              "    </tr>\n",
              "    <tr>\n",
              "      <th>2</th>\n",
              "      <td>give me software consisting a label with text ...</td>\n",
              "      <td>&lt;complist&gt; &lt;label&gt; string0 &lt;/label&gt; &lt;accelerom...</td>\n",
              "    </tr>\n",
              "    <tr>\n",
              "      <th>3</th>\n",
              "      <td>make an app with a time selector , a button , ...</td>\n",
              "      <td>&lt;complist&gt; &lt;timepicker&gt; &lt;button&gt; button1 &lt;/but...</td>\n",
              "    </tr>\n",
              "    <tr>\n",
              "      <th>4</th>\n",
              "      <td>make mobile application consisting of a text b...</td>\n",
              "      <td>&lt;complist&gt; &lt;textbox&gt; &lt;textbox&gt; &lt;/complist&gt;</td>\n",
              "    </tr>\n",
              "    <tr>\n",
              "      <th>...</th>\n",
              "      <td>...</td>\n",
              "      <td>...</td>\n",
              "    </tr>\n",
              "    <tr>\n",
              "      <th>9199</th>\n",
              "      <td>sensor containing a camera , and a movement se...</td>\n",
              "      <td>&lt;complist&gt; &lt;camera&gt; &lt;accelerometer&gt; &lt;/complist...</td>\n",
              "    </tr>\n",
              "    <tr>\n",
              "      <th>9200</th>\n",
              "      <td>mobile app provides a music player with source...</td>\n",
              "      <td>&lt;complist&gt; &lt;player&gt; string0 &lt;/player&gt; &lt;/complist&gt;</td>\n",
              "    </tr>\n",
              "    <tr>\n",
              "      <th>9201</th>\n",
              "      <td>an app consisting a passwordtextbox , a label ...</td>\n",
              "      <td>&lt;complist&gt; &lt;passwordtextbox&gt; &lt;label&gt; label1 &lt;/...</td>\n",
              "    </tr>\n",
              "    <tr>\n",
              "      <th>9202</th>\n",
              "      <td>instruments consisting an audio player with so...</td>\n",
              "      <td>&lt;complist&gt; &lt;player&gt; string0 &lt;/player&gt; &lt;acceler...</td>\n",
              "    </tr>\n",
              "    <tr>\n",
              "      <th>9203</th>\n",
              "      <td>make an application having a video screen with...</td>\n",
              "      <td>&lt;complist&gt; &lt;video_player&gt; string0 &lt;/video_play...</td>\n",
              "    </tr>\n",
              "  </tbody>\n",
              "</table>\n",
              "<p>9203 rows × 2 columns</p>\n",
              "</div>\n",
              "      <button class=\"colab-df-convert\" onclick=\"convertToInteractive('df-477770ba-0b19-4b28-bf2a-a17d49014792')\"\n",
              "              title=\"Convert this dataframe to an interactive table.\"\n",
              "              style=\"display:none;\">\n",
              "        \n",
              "  <svg xmlns=\"http://www.w3.org/2000/svg\" height=\"24px\"viewBox=\"0 0 24 24\"\n",
              "       width=\"24px\">\n",
              "    <path d=\"M0 0h24v24H0V0z\" fill=\"none\"/>\n",
              "    <path d=\"M18.56 5.44l.94 2.06.94-2.06 2.06-.94-2.06-.94-.94-2.06-.94 2.06-2.06.94zm-11 1L8.5 8.5l.94-2.06 2.06-.94-2.06-.94L8.5 2.5l-.94 2.06-2.06.94zm10 10l.94 2.06.94-2.06 2.06-.94-2.06-.94-.94-2.06-.94 2.06-2.06.94z\"/><path d=\"M17.41 7.96l-1.37-1.37c-.4-.4-.92-.59-1.43-.59-.52 0-1.04.2-1.43.59L10.3 9.45l-7.72 7.72c-.78.78-.78 2.05 0 2.83L4 21.41c.39.39.9.59 1.41.59.51 0 1.02-.2 1.41-.59l7.78-7.78 2.81-2.81c.8-.78.8-2.07 0-2.86zM5.41 20L4 18.59l7.72-7.72 1.47 1.35L5.41 20z\"/>\n",
              "  </svg>\n",
              "      </button>\n",
              "      \n",
              "  <style>\n",
              "    .colab-df-container {\n",
              "      display:flex;\n",
              "      flex-wrap:wrap;\n",
              "      gap: 12px;\n",
              "    }\n",
              "\n",
              "    .colab-df-convert {\n",
              "      background-color: #E8F0FE;\n",
              "      border: none;\n",
              "      border-radius: 50%;\n",
              "      cursor: pointer;\n",
              "      display: none;\n",
              "      fill: #1967D2;\n",
              "      height: 32px;\n",
              "      padding: 0 0 0 0;\n",
              "      width: 32px;\n",
              "    }\n",
              "\n",
              "    .colab-df-convert:hover {\n",
              "      background-color: #E2EBFA;\n",
              "      box-shadow: 0px 1px 2px rgba(60, 64, 67, 0.3), 0px 1px 3px 1px rgba(60, 64, 67, 0.15);\n",
              "      fill: #174EA6;\n",
              "    }\n",
              "\n",
              "    [theme=dark] .colab-df-convert {\n",
              "      background-color: #3B4455;\n",
              "      fill: #D2E3FC;\n",
              "    }\n",
              "\n",
              "    [theme=dark] .colab-df-convert:hover {\n",
              "      background-color: #434B5C;\n",
              "      box-shadow: 0px 1px 3px 1px rgba(0, 0, 0, 0.15);\n",
              "      filter: drop-shadow(0px 1px 2px rgba(0, 0, 0, 0.3));\n",
              "      fill: #FFFFFF;\n",
              "    }\n",
              "  </style>\n",
              "\n",
              "      <script>\n",
              "        const buttonEl =\n",
              "          document.querySelector('#df-477770ba-0b19-4b28-bf2a-a17d49014792 button.colab-df-convert');\n",
              "        buttonEl.style.display =\n",
              "          google.colab.kernel.accessAllowed ? 'block' : 'none';\n",
              "\n",
              "        async function convertToInteractive(key) {\n",
              "          const element = document.querySelector('#df-477770ba-0b19-4b28-bf2a-a17d49014792');\n",
              "          const dataTable =\n",
              "            await google.colab.kernel.invokeFunction('convertToInteractive',\n",
              "                                                     [key], {});\n",
              "          if (!dataTable) return;\n",
              "\n",
              "          const docLinkHtml = 'Like what you see? Visit the ' +\n",
              "            '<a target=\"_blank\" href=https://colab.research.google.com/notebooks/data_table.ipynb>data table notebook</a>'\n",
              "            + ' to learn more about interactive tables.';\n",
              "          element.innerHTML = '';\n",
              "          dataTable['output_type'] = 'display_data';\n",
              "          await google.colab.output.renderOutput(dataTable, element);\n",
              "          const docLink = document.createElement('div');\n",
              "          docLink.innerHTML = docLinkHtml;\n",
              "          element.appendChild(docLink);\n",
              "        }\n",
              "      </script>\n",
              "    </div>\n",
              "  </div>\n",
              "  "
            ]
          },
          "metadata": {},
          "execution_count": 33
        }
      ]
    },
    {
      "cell_type": "code",
      "metadata": {
        "id": "3wAF444JmaM4",
        "outputId": "ddf91da6-719a-44a1-a608-f51feb41603c",
        "colab": {
          "base_uri": "https://localhost:8080/",
          "height": 424
        }
      },
      "source": [
        "df_unseen"
      ],
      "execution_count": 35,
      "outputs": [
        {
          "output_type": "execute_result",
          "data": {
            "text/plain": [
              "                                                    NL  \\\n",
              "0    create an app containing a textbox , a switch ...   \n",
              "1    a mobile app containing audio video with backg...   \n",
              "2    make software having a passwordtextbox , a swi...   \n",
              "3    switch with a switch , a camera , a text2speec...   \n",
              "4    a software consisting a label , a circle , a c...   \n",
              "..                                                 ...   \n",
              "641  create mobile app that has a text2speech , a l...   \n",
              "642  create application with a switch named string0...   \n",
              "643  make a mobile keyboard consisting of a text to...   \n",
              "644  mobile app having a switch called string0 , wi...   \n",
              "645  create a mobile app consisting of a text to sp...   \n",
              "\n",
              "                                                   SAR  \n",
              "0    <complist> <textbox> <switch> switch1 </switch...  \n",
              "1    <complist> <video_player> string0 </video_play...  \n",
              "2    <complist> <passwordtextbox> <switch> switch1 ...  \n",
              "3    <complist> <switch> switch1 </switch> <camera>...  \n",
              "4    <complist> <label> label1 </label> <ball> <cam...  \n",
              "..                                                 ...  \n",
              "641  <complist> <text2speech> <label> label1 </labe...  \n",
              "642  <complist> <switch> string0 </switch> <button>...  \n",
              "643  <complist> <text2speech> <switch> string0 </sw...  \n",
              "644  <complist> <switch> string0 </switch> <acceler...  \n",
              "645  <complist> <text2speech> <ball> <passwordtextb...  \n",
              "\n",
              "[646 rows x 2 columns]"
            ],
            "text/html": [
              "\n",
              "  <div id=\"df-754f4bd0-436d-4f03-adda-0b901133589e\">\n",
              "    <div class=\"colab-df-container\">\n",
              "      <div>\n",
              "<style scoped>\n",
              "    .dataframe tbody tr th:only-of-type {\n",
              "        vertical-align: middle;\n",
              "    }\n",
              "\n",
              "    .dataframe tbody tr th {\n",
              "        vertical-align: top;\n",
              "    }\n",
              "\n",
              "    .dataframe thead th {\n",
              "        text-align: right;\n",
              "    }\n",
              "</style>\n",
              "<table border=\"1\" class=\"dataframe\">\n",
              "  <thead>\n",
              "    <tr style=\"text-align: right;\">\n",
              "      <th></th>\n",
              "      <th>NL</th>\n",
              "      <th>SAR</th>\n",
              "    </tr>\n",
              "  </thead>\n",
              "  <tbody>\n",
              "    <tr>\n",
              "      <th>0</th>\n",
              "      <td>create an app containing a textbox , a switch ...</td>\n",
              "      <td>&lt;complist&gt; &lt;textbox&gt; &lt;switch&gt; switch1 &lt;/switch...</td>\n",
              "    </tr>\n",
              "    <tr>\n",
              "      <th>1</th>\n",
              "      <td>a mobile app containing audio video with backg...</td>\n",
              "      <td>&lt;complist&gt; &lt;video_player&gt; string0 &lt;/video_play...</td>\n",
              "    </tr>\n",
              "    <tr>\n",
              "      <th>2</th>\n",
              "      <td>make software having a passwordtextbox , a swi...</td>\n",
              "      <td>&lt;complist&gt; &lt;passwordtextbox&gt; &lt;switch&gt; switch1 ...</td>\n",
              "    </tr>\n",
              "    <tr>\n",
              "      <th>3</th>\n",
              "      <td>switch with a switch , a camera , a text2speec...</td>\n",
              "      <td>&lt;complist&gt; &lt;switch&gt; switch1 &lt;/switch&gt; &lt;camera&gt;...</td>\n",
              "    </tr>\n",
              "    <tr>\n",
              "      <th>4</th>\n",
              "      <td>a software consisting a label , a circle , a c...</td>\n",
              "      <td>&lt;complist&gt; &lt;label&gt; label1 &lt;/label&gt; &lt;ball&gt; &lt;cam...</td>\n",
              "    </tr>\n",
              "    <tr>\n",
              "      <th>...</th>\n",
              "      <td>...</td>\n",
              "      <td>...</td>\n",
              "    </tr>\n",
              "    <tr>\n",
              "      <th>641</th>\n",
              "      <td>create mobile app that has a text2speech , a l...</td>\n",
              "      <td>&lt;complist&gt; &lt;text2speech&gt; &lt;label&gt; label1 &lt;/labe...</td>\n",
              "    </tr>\n",
              "    <tr>\n",
              "      <th>642</th>\n",
              "      <td>create application with a switch named string0...</td>\n",
              "      <td>&lt;complist&gt; &lt;switch&gt; string0 &lt;/switch&gt; &lt;button&gt;...</td>\n",
              "    </tr>\n",
              "    <tr>\n",
              "      <th>643</th>\n",
              "      <td>make a mobile keyboard consisting of a text to...</td>\n",
              "      <td>&lt;complist&gt; &lt;text2speech&gt; &lt;switch&gt; string0 &lt;/sw...</td>\n",
              "    </tr>\n",
              "    <tr>\n",
              "      <th>644</th>\n",
              "      <td>mobile app having a switch called string0 , wi...</td>\n",
              "      <td>&lt;complist&gt; &lt;switch&gt; string0 &lt;/switch&gt; &lt;acceler...</td>\n",
              "    </tr>\n",
              "    <tr>\n",
              "      <th>645</th>\n",
              "      <td>create a mobile app consisting of a text to sp...</td>\n",
              "      <td>&lt;complist&gt; &lt;text2speech&gt; &lt;ball&gt; &lt;passwordtextb...</td>\n",
              "    </tr>\n",
              "  </tbody>\n",
              "</table>\n",
              "<p>646 rows × 2 columns</p>\n",
              "</div>\n",
              "      <button class=\"colab-df-convert\" onclick=\"convertToInteractive('df-754f4bd0-436d-4f03-adda-0b901133589e')\"\n",
              "              title=\"Convert this dataframe to an interactive table.\"\n",
              "              style=\"display:none;\">\n",
              "        \n",
              "  <svg xmlns=\"http://www.w3.org/2000/svg\" height=\"24px\"viewBox=\"0 0 24 24\"\n",
              "       width=\"24px\">\n",
              "    <path d=\"M0 0h24v24H0V0z\" fill=\"none\"/>\n",
              "    <path d=\"M18.56 5.44l.94 2.06.94-2.06 2.06-.94-2.06-.94-.94-2.06-.94 2.06-2.06.94zm-11 1L8.5 8.5l.94-2.06 2.06-.94-2.06-.94L8.5 2.5l-.94 2.06-2.06.94zm10 10l.94 2.06.94-2.06 2.06-.94-2.06-.94-.94-2.06-.94 2.06-2.06.94z\"/><path d=\"M17.41 7.96l-1.37-1.37c-.4-.4-.92-.59-1.43-.59-.52 0-1.04.2-1.43.59L10.3 9.45l-7.72 7.72c-.78.78-.78 2.05 0 2.83L4 21.41c.39.39.9.59 1.41.59.51 0 1.02-.2 1.41-.59l7.78-7.78 2.81-2.81c.8-.78.8-2.07 0-2.86zM5.41 20L4 18.59l7.72-7.72 1.47 1.35L5.41 20z\"/>\n",
              "  </svg>\n",
              "      </button>\n",
              "      \n",
              "  <style>\n",
              "    .colab-df-container {\n",
              "      display:flex;\n",
              "      flex-wrap:wrap;\n",
              "      gap: 12px;\n",
              "    }\n",
              "\n",
              "    .colab-df-convert {\n",
              "      background-color: #E8F0FE;\n",
              "      border: none;\n",
              "      border-radius: 50%;\n",
              "      cursor: pointer;\n",
              "      display: none;\n",
              "      fill: #1967D2;\n",
              "      height: 32px;\n",
              "      padding: 0 0 0 0;\n",
              "      width: 32px;\n",
              "    }\n",
              "\n",
              "    .colab-df-convert:hover {\n",
              "      background-color: #E2EBFA;\n",
              "      box-shadow: 0px 1px 2px rgba(60, 64, 67, 0.3), 0px 1px 3px 1px rgba(60, 64, 67, 0.15);\n",
              "      fill: #174EA6;\n",
              "    }\n",
              "\n",
              "    [theme=dark] .colab-df-convert {\n",
              "      background-color: #3B4455;\n",
              "      fill: #D2E3FC;\n",
              "    }\n",
              "\n",
              "    [theme=dark] .colab-df-convert:hover {\n",
              "      background-color: #434B5C;\n",
              "      box-shadow: 0px 1px 3px 1px rgba(0, 0, 0, 0.15);\n",
              "      filter: drop-shadow(0px 1px 2px rgba(0, 0, 0, 0.3));\n",
              "      fill: #FFFFFF;\n",
              "    }\n",
              "  </style>\n",
              "\n",
              "      <script>\n",
              "        const buttonEl =\n",
              "          document.querySelector('#df-754f4bd0-436d-4f03-adda-0b901133589e button.colab-df-convert');\n",
              "        buttonEl.style.display =\n",
              "          google.colab.kernel.accessAllowed ? 'block' : 'none';\n",
              "\n",
              "        async function convertToInteractive(key) {\n",
              "          const element = document.querySelector('#df-754f4bd0-436d-4f03-adda-0b901133589e');\n",
              "          const dataTable =\n",
              "            await google.colab.kernel.invokeFunction('convertToInteractive',\n",
              "                                                     [key], {});\n",
              "          if (!dataTable) return;\n",
              "\n",
              "          const docLinkHtml = 'Like what you see? Visit the ' +\n",
              "            '<a target=\"_blank\" href=https://colab.research.google.com/notebooks/data_table.ipynb>data table notebook</a>'\n",
              "            + ' to learn more about interactive tables.';\n",
              "          element.innerHTML = '';\n",
              "          dataTable['output_type'] = 'display_data';\n",
              "          await google.colab.output.renderOutput(dataTable, element);\n",
              "          const docLink = document.createElement('div');\n",
              "          docLink.innerHTML = docLinkHtml;\n",
              "          element.appendChild(docLink);\n",
              "        }\n",
              "      </script>\n",
              "    </div>\n",
              "  </div>\n",
              "  "
            ]
          },
          "metadata": {},
          "execution_count": 35
        }
      ]
    },
    {
      "cell_type": "markdown",
      "source": [
        "### Code length distribution"
      ],
      "metadata": {
        "id": "5OKDqV4r81A2"
      }
    },
    {
      "cell_type": "code",
      "source": [
        "code_len = []\n",
        "for i in range(len(sar_train)):\n",
        "  code_len.append(len(sar_train[i].split()))"
      ],
      "metadata": {
        "id": "fwPyXHBh836K"
      },
      "execution_count": null,
      "outputs": []
    },
    {
      "cell_type": "code",
      "source": [
        "import matplotlib.pyplot as plt\n",
        "\n",
        "plt.hist(code_len)\n",
        "plt.show() "
      ],
      "metadata": {
        "id": "tX368se29iMo",
        "outputId": "35a621cd-2bc4-4acd-fba0-8cde6ba3501b",
        "colab": {
          "base_uri": "https://localhost:8080/",
          "height": 265
        }
      },
      "execution_count": 39,
      "outputs": [
        {
          "output_type": "display_data",
          "data": {
            "text/plain": [
              "<Figure size 432x288 with 1 Axes>"
            ],
            "image/png": "[encoded data removed]"
          },
          "metadata": {
            "needs_background": "light"
          }
        }
      ]
    },
    {
      "cell_type": "code",
      "source": [
        "np.max(code_len)"
      ],
      "metadata": {
        "id": "FioRFhgw-aoi",
        "outputId": "bee2d302-f625-4525-bb65-95f6268def6a",
        "colab": {
          "base_uri": "https://localhost:8080/"
        }
      },
      "execution_count": 41,
      "outputs": [
        {
          "output_type": "execute_result",
          "data": {
            "text/plain": [
              "61"
            ]
          },
          "metadata": {},
          "execution_count": 41
        }
      ]
    },
    {
      "cell_type": "markdown",
      "source": [
        "### Drop"
      ],
      "metadata": {
        "id": "H2b-VP9b84si"
      }
    },
    {
      "cell_type": "code",
      "metadata": {
        "id": "_HouWKj5w_u7"
      },
      "source": [
        "df.to_csv(\"nl_sar_combined.csv\", index=False)"
      ],
      "execution_count": null,
      "outputs": []
    },
    {
      "cell_type": "markdown",
      "metadata": {
        "id": "ox15qupbCKI_"
      },
      "source": [
        "## Separating particular Event-Action combination"
      ]
    },
    {
      "cell_type": "code",
      "metadata": {
        "id": "5MCS7YCtCWvf"
      },
      "source": [
        "import pandas as pd\n",
        "\n",
        "all = pd.read_csv('nl_sar_combined.csv')"
      ],
      "execution_count": null,
      "outputs": []
    },
    {
      "cell_type": "code",
      "metadata": {
        "id": "sYpzq4FaC7Nd",
        "outputId": "e0cd19fd-a16c-4ecf-97c0-8dfd36d6db02",
        "colab": {
          "base_uri": "https://localhost:8080/",
          "height": 417
        }
      },
      "source": [
        "unseen_test = all[all['SAR'].str.contains(\"<switch1flipped> <text2speech1>\")]\n",
        "unseen_test"
      ],
      "execution_count": null,
      "outputs": [
        {
          "output_type": "execute_result",
          "data": {
            "text/html": [
              "<div>\n",
              "<style scoped>\n",
              "    .dataframe tbody tr th:only-of-type {\n",
              "        vertical-align: middle;\n",
              "    }\n",
              "\n",
              "    .dataframe tbody tr th {\n",
              "        vertical-align: top;\n",
              "    }\n",
              "\n",
              "    .dataframe thead th {\n",
              "        text-align: right;\n",
              "    }\n",
              "</style>\n",
              "<table border=\"1\" class=\"dataframe\">\n",
              "  <thead>\n",
              "    <tr style=\"text-align: right;\">\n",
              "      <th></th>\n",
              "      <th>NL</th>\n",
              "      <th>SAR</th>\n",
              "    </tr>\n",
              "  </thead>\n",
              "  <tbody>\n",
              "    <tr>\n",
              "      <th>3</th>\n",
              "      <td>create a simple application with simple circle...</td>\n",
              "      <td>&lt;complist&gt; &lt;ball&gt; &lt;switch&gt; string0 &lt;/switch&gt; &lt;...</td>\n",
              "    </tr>\n",
              "    <tr>\n",
              "      <th>36</th>\n",
              "      <td>make signals consisting a text2speech , a ball...</td>\n",
              "      <td>&lt;complist&gt; &lt;text2speech&gt; &lt;ball&gt; &lt;textbox&gt; &lt;swi...</td>\n",
              "    </tr>\n",
              "    <tr>\n",
              "      <th>38</th>\n",
              "      <td>app having a pasword text box , a switch , a s...</td>\n",
              "      <td>&lt;complist&gt; &lt;passwordtextbox&gt; &lt;switch&gt; switch1 ...</td>\n",
              "    </tr>\n",
              "    <tr>\n",
              "      <th>47</th>\n",
              "      <td>create a software consisting a pasword text bo...</td>\n",
              "      <td>&lt;complist&gt; &lt;passwordtextbox&gt; &lt;passwordtextbox&gt;...</td>\n",
              "    </tr>\n",
              "    <tr>\n",
              "      <th>72</th>\n",
              "      <td>a mobile app consisting of a player with sourc...</td>\n",
              "      <td>&lt;complist&gt; &lt;player&gt; string0 &lt;/player&gt; &lt;textbox...</td>\n",
              "    </tr>\n",
              "    <tr>\n",
              "      <th>...</th>\n",
              "      <td>...</td>\n",
              "      <td>...</td>\n",
              "    </tr>\n",
              "    <tr>\n",
              "      <th>99699</th>\n",
              "      <td>mobile application with a video with source st...</td>\n",
              "      <td>&lt;complist&gt; &lt;video_player&gt; string0 &lt;/video_play...</td>\n",
              "    </tr>\n",
              "    <tr>\n",
              "      <th>99705</th>\n",
              "      <td>make software consisting a label , a ball , sl...</td>\n",
              "      <td>&lt;complist&gt; &lt;label&gt; label1 &lt;/label&gt; &lt;ball&gt; &lt;but...</td>\n",
              "    </tr>\n",
              "    <tr>\n",
              "      <th>99712</th>\n",
              "      <td>create mobile app with a key to speech , a swi...</td>\n",
              "      <td>&lt;complist&gt; &lt;text2speech&gt; &lt;switch&gt; switch1 &lt;/sw...</td>\n",
              "    </tr>\n",
              "    <tr>\n",
              "      <th>99742</th>\n",
              "      <td>give me mobile app that has a time monitor , a...</td>\n",
              "      <td>&lt;complist&gt; &lt;timepicker&gt; &lt;accelerometer&gt; &lt;video...</td>\n",
              "    </tr>\n",
              "    <tr>\n",
              "      <th>99766</th>\n",
              "      <td>create mobile application consisting a text to...</td>\n",
              "      <td>&lt;complist&gt; &lt;text2speech&gt; &lt;passwordtextbox&gt; &lt;ac...</td>\n",
              "    </tr>\n",
              "  </tbody>\n",
              "</table>\n",
              "<p>5456 rows × 2 columns</p>\n",
              "</div>"
            ],
            "text/plain": [
              "                                                      NL                                                SAR\n",
              "3      create a simple application with simple circle...  <complist> <ball> <switch> string0 </switch> <...\n",
              "36     make signals consisting a text2speech , a ball...  <complist> <text2speech> <ball> <textbox> <swi...\n",
              "38     app having a pasword text box , a switch , a s...  <complist> <passwordtextbox> <switch> switch1 ...\n",
              "47     create a software consisting a pasword text bo...  <complist> <passwordtextbox> <passwordtextbox>...\n",
              "72     a mobile app consisting of a player with sourc...  <complist> <player> string0 </player> <textbox...\n",
              "...                                                  ...                                                ...\n",
              "99699  mobile application with a video with source st...  <complist> <video_player> string0 </video_play...\n",
              "99705  make software consisting a label , a ball , sl...  <complist> <label> label1 </label> <ball> <but...\n",
              "99712  create mobile app with a key to speech , a swi...  <complist> <text2speech> <switch> switch1 </sw...\n",
              "99742  give me mobile app that has a time monitor , a...  <complist> <timepicker> <accelerometer> <video...\n",
              "99766  create mobile application consisting a text to...  <complist> <text2speech> <passwordtextbox> <ac...\n",
              "\n",
              "[5456 rows x 2 columns]"
            ]
          },
          "metadata": {
            "tags": []
          },
          "execution_count": 11
        }
      ]
    },
    {
      "cell_type": "code",
      "metadata": {
        "id": "_VpE9TBZEXcD",
        "outputId": "7bbc8384-bb8f-4d87-ffb2-834b8bff70ea",
        "colab": {
          "base_uri": "https://localhost:8080/",
          "height": 417
        }
      },
      "source": [
        "unseen = all[~all['SAR'].str.contains(\"<switch1flipped> <text2speech1>\")]\n",
        "unseen"
      ],
      "execution_count": null,
      "outputs": [
        {
          "output_type": "execute_result",
          "data": {
            "text/html": [
              "<div>\n",
              "<style scoped>\n",
              "    .dataframe tbody tr th:only-of-type {\n",
              "        vertical-align: middle;\n",
              "    }\n",
              "\n",
              "    .dataframe tbody tr th {\n",
              "        vertical-align: top;\n",
              "    }\n",
              "\n",
              "    .dataframe thead th {\n",
              "        text-align: right;\n",
              "    }\n",
              "</style>\n",
              "<table border=\"1\" class=\"dataframe\">\n",
              "  <thead>\n",
              "    <tr style=\"text-align: right;\">\n",
              "      <th></th>\n",
              "      <th>NL</th>\n",
              "      <th>SAR</th>\n",
              "    </tr>\n",
              "  </thead>\n",
              "  <tbody>\n",
              "    <tr>\n",
              "      <th>0</th>\n",
              "      <td>create a mobile app with a text2speech , a but...</td>\n",
              "      <td>&lt;complist&gt; &lt;text2speech&gt; &lt;button&gt; button1 &lt;/bu...</td>\n",
              "    </tr>\n",
              "    <tr>\n",
              "      <th>1</th>\n",
              "      <td>save me ! mobile app includes a textbox , a vi...</td>\n",
              "      <td>&lt;complist&gt; &lt;textbox&gt; &lt;video_player&gt; string0 &lt;/...</td>\n",
              "    </tr>\n",
              "    <tr>\n",
              "      <th>2</th>\n",
              "      <td>make mobile application that requires a camera...</td>\n",
              "      <td>&lt;complist&gt; &lt;camera&gt; &lt;textbox&gt; &lt;text2speech&gt; &lt;v...</td>\n",
              "    </tr>\n",
              "    <tr>\n",
              "      <th>4</th>\n",
              "      <td>mobile app containing a movement sensor , a mi...</td>\n",
              "      <td>&lt;complist&gt; &lt;accelerometer&gt; &lt;textbox&gt; &lt;text2spe...</td>\n",
              "    </tr>\n",
              "    <tr>\n",
              "      <th>5</th>\n",
              "      <td>create a mobile app containing a pasword text ...</td>\n",
              "      <td>&lt;complist&gt; &lt;passwordtextbox&gt; &lt;switch&gt; switch1 ...</td>\n",
              "    </tr>\n",
              "    <tr>\n",
              "      <th>...</th>\n",
              "      <td>...</td>\n",
              "      <td>...</td>\n",
              "    </tr>\n",
              "    <tr>\n",
              "      <th>99762</th>\n",
              "      <td>create a mobile app with a calendar , and a pa...</td>\n",
              "      <td>&lt;complist&gt; &lt;camera&gt; &lt;passwordtextbox&gt; &lt;/complist&gt;</td>\n",
              "    </tr>\n",
              "    <tr>\n",
              "      <th>99763</th>\n",
              "      <td>make mobile app app has a video with source st...</td>\n",
              "      <td>&lt;complist&gt; &lt;video_player&gt; string0 &lt;/video_play...</td>\n",
              "    </tr>\n",
              "    <tr>\n",
              "      <th>99764</th>\n",
              "      <td>create software having a button with text inpu...</td>\n",
              "      <td>&lt;complist&gt; &lt;button&gt; string0 &lt;/button&gt; &lt;switch&gt;...</td>\n",
              "    </tr>\n",
              "    <tr>\n",
              "      <th>99765</th>\n",
              "      <td>app containing a button with text string0 , a ...</td>\n",
              "      <td>&lt;complist&gt; &lt;button&gt; string0 &lt;/button&gt; &lt;button&gt;...</td>\n",
              "    </tr>\n",
              "    <tr>\n",
              "      <th>99767</th>\n",
              "      <td>an application consists of a text to speech , ...</td>\n",
              "      <td>&lt;complist&gt; &lt;text2speech&gt; &lt;button&gt; button1 &lt;/bu...</td>\n",
              "    </tr>\n",
              "  </tbody>\n",
              "</table>\n",
              "<p>94312 rows × 2 columns</p>\n",
              "</div>"
            ],
            "text/plain": [
              "                                                      NL                                                SAR\n",
              "0      create a mobile app with a text2speech , a but...  <complist> <text2speech> <button> button1 </bu...\n",
              "1      save me ! mobile app includes a textbox , a vi...  <complist> <textbox> <video_player> string0 </...\n",
              "2      make mobile application that requires a camera...  <complist> <camera> <textbox> <text2speech> <v...\n",
              "4      mobile app containing a movement sensor , a mi...  <complist> <accelerometer> <textbox> <text2spe...\n",
              "5      create a mobile app containing a pasword text ...  <complist> <passwordtextbox> <switch> switch1 ...\n",
              "...                                                  ...                                                ...\n",
              "99762  create a mobile app with a calendar , and a pa...  <complist> <camera> <passwordtextbox> </complist>\n",
              "99763  make mobile app app has a video with source st...  <complist> <video_player> string0 </video_play...\n",
              "99764  create software having a button with text inpu...  <complist> <button> string0 </button> <switch>...\n",
              "99765  app containing a button with text string0 , a ...  <complist> <button> string0 </button> <button>...\n",
              "99767  an application consists of a text to speech , ...  <complist> <text2speech> <button> button1 </bu...\n",
              "\n",
              "[94312 rows x 2 columns]"
            ]
          },
          "metadata": {
            "tags": []
          },
          "execution_count": 12
        }
      ]
    },
    {
      "cell_type": "code",
      "metadata": {
        "id": "x6JSwxAvFXHH"
      },
      "source": [
        "unseen_test.to_csv('unseen_test.csv', index=False)\n",
        "unseen.to_csv('unseen_all.csv', index=False)"
      ],
      "execution_count": null,
      "outputs": []
    },
    {
      "cell_type": "code",
      "metadata": {
        "id": "CS_sam6dKWgb"
      },
      "source": [
        "df = unseen"
      ],
      "execution_count": null,
      "outputs": []
    },
    {
      "cell_type": "markdown",
      "metadata": {
        "id": "hg-XWlaCF4v1"
      },
      "source": [
        "## Train-valid-test split"
      ]
    },
    {
      "cell_type": "code",
      "metadata": {
        "colab": {
          "base_uri": "https://localhost:8080/"
        },
        "id": "Xl702y62U5-M",
        "outputId": "0baab4b3-31f9-4085-87d2-61632d5cd812"
      },
      "source": [
        "train_frac = 0.8\n",
        "valid_frac = 0.1\n",
        "\n",
        "train = df[:int(len(df)*train_frac)]\n",
        "valid = df[int(len(df)*train_frac): int(len(df)*(train_frac+valid_frac))]\n",
        "test = df[int(len(df)*(train_frac+valid_frac)): ]\n",
        "\n",
        "train.to_csv(\"nl_sar_train.csv\", index=False)\n",
        "test.to_csv(\"nl_sar_test.csv\", index=False)\n",
        "valid.to_csv(\"nl_sar_valid.csv\", index=False)\n",
        "\n",
        "len(train), len(valid), len(test)"
      ],
      "execution_count": null,
      "outputs": [
        {
          "output_type": "execute_result",
          "data": {
            "text/plain": [
              "(75449, 9431, 9432)"
            ]
          },
          "metadata": {
            "tags": []
          },
          "execution_count": 17
        }
      ]
    },
    {
      "cell_type": "code",
      "metadata": {
        "id": "O4XIY4IvG04T"
      },
      "source": [
        "import os\n",
        "if not os.path.exists(\"./Synthesized_Data\"):\n",
        "  os.makedirs(\"./Synthesized_Data\")"
      ],
      "execution_count": null,
      "outputs": []
    },
    {
      "cell_type": "code",
      "metadata": {
        "id": "khzBHZVN0Rcl"
      },
      "source": [
        "!cp *.csv ./Synthesized_Data/"
      ],
      "execution_count": null,
      "outputs": []
    },
    {
      "cell_type": "code",
      "metadata": {
        "colab": {
          "base_uri": "https://localhost:8080/",
          "height": 122
        },
        "id": "xV7JI3S9kvhp",
        "outputId": "574821a3-e0a3-48e1-a73b-1117fb675ae2"
      },
      "source": [
        "# For Colab\n",
        "from google.colab import files\n",
        "\n",
        "!zip -r Synthesized_Data Synthesized_Data/*\n",
        "\n",
        "files.download('Synthesized_Data.zip')"
      ],
      "execution_count": null,
      "outputs": [
        {
          "output_type": "stream",
          "text": [
            "  adding: Synthesized_Data/nl_sar_combined.csv (deflated 88%)\n",
            "  adding: Synthesized_Data/nl_sar_test.csv (deflated 88%)\n",
            "  adding: Synthesized_Data/nl_sar_train.csv (deflated 88%)\n",
            "  adding: Synthesized_Data/nl_sar_valid.csv (deflated 88%)\n",
            "  adding: Synthesized_Data/unseen_all.csv (deflated 88%)\n",
            "  adding: Synthesized_Data/unseen_test.csv (deflated 88%)\n"
          ],
          "name": "stdout"
        },
        {
          "output_type": "display_data",
          "data": {
            "application/javascript": [
              "\n",
              "    async function download(id, filename, size) {\n",
              "      if (!google.colab.kernel.accessAllowed) {\n",
              "        return;\n",
              "      }\n",
              "      const div = document.createElement('div');\n",
              "      const label = document.createElement('label');\n",
              "      label.textContent = `Downloading \"${filename}\": `;\n",
              "      div.appendChild(label);\n",
              "      const progress = document.createElement('progress');\n",
              "      progress.max = size;\n",
              "      div.appendChild(progress);\n",
              "      document.body.appendChild(div);\n",
              "\n",
              "      const buffers = [];\n",
              "      let downloaded = 0;\n",
              "\n",
              "      const channel = await google.colab.kernel.comms.open(id);\n",
              "      // Send a message to notify the kernel that we're ready.\n",
              "      channel.send({})\n",
              "\n",
              "      for await (const message of channel.messages) {\n",
              "        // Send a message to notify the kernel that we're ready.\n",
              "        channel.send({})\n",
              "        if (message.buffers) {\n",
              "          for (const buffer of message.buffers) {\n",
              "            buffers.push(buffer);\n",
              "            downloaded += buffer.byteLength;\n",
              "            progress.value = downloaded;\n",
              "          }\n",
              "        }\n",
              "      }\n",
              "      const blob = new Blob(buffers, {type: 'application/binary'});\n",
              "      const a = document.createElement('a');\n",
              "      a.href = window.URL.createObjectURL(blob);\n",
              "      a.download = filename;\n",
              "      div.appendChild(a);\n",
              "      a.click();\n",
              "      div.remove();\n",
              "    }\n",
              "  "
            ],
            "text/plain": [
              "<IPython.core.display.Javascript object>"
            ]
          },
          "metadata": {
            "tags": []
          }
        },
        {
          "output_type": "display_data",
          "data": {
            "application/javascript": [
              "download(\"download_0f1dba23-b015-45ea-aecc-2536e23cec24\", \"Synthesized_Data.zip\", 17935655)"
            ],
            "text/plain": [
              "<IPython.core.display.Javascript object>"
            ]
          },
          "metadata": {
            "tags": []
          }
        }
      ]
    },
    {
      "cell_type": "markdown",
      "metadata": {
        "id": "Ti24nzDVNROD"
      },
      "source": [
        "## Synthetic data anlaytics"
      ]
    },
    {
      "cell_type": "code",
      "metadata": {
        "id": "jfwMTU7udLQf"
      },
      "source": [
        "nl_len = []\n",
        "sar_len = []\n",
        "for nl in nl_list:\n",
        "  nl_len.append(len(nl.split()))\n",
        "\n",
        "for sar in sar_list:\n",
        "  sar_len.append(len(sar.split()))"
      ],
      "execution_count": null,
      "outputs": []
    },
    {
      "cell_type": "code",
      "metadata": {
        "colab": {
          "base_uri": "https://localhost:8080/"
        },
        "id": "ILak4TpiM2Wm",
        "outputId": "bb0af47d-572a-4f24-f2b8-2cbb57a88662"
      },
      "source": [
        "sum(nl_len)/len(nl_len)"
      ],
      "execution_count": null,
      "outputs": [
        {
          "output_type": "execute_result",
          "data": {
            "text/plain": [
              "30.701854545454545"
            ]
          },
          "metadata": {
            "tags": []
          },
          "execution_count": 39
        }
      ]
    },
    {
      "cell_type": "code",
      "metadata": {
        "colab": {
          "base_uri": "https://localhost:8080/"
        },
        "id": "_6EWgGIdM7jz",
        "outputId": "649f2e2a-408e-405b-a4e0-96c153d90db6"
      },
      "source": [
        "sum(sar_len)/len(sar_len)"
      ],
      "execution_count": null,
      "outputs": [
        {
          "output_type": "execute_result",
          "data": {
            "text/plain": [
              "16.060727272727274"
            ]
          },
          "metadata": {
            "tags": []
          },
          "execution_count": 40
        }
      ]
    },
    {
      "cell_type": "code",
      "metadata": {
        "colab": {
          "base_uri": "https://localhost:8080/"
        },
        "id": "L0UYaWIFNKF4",
        "outputId": "a9be8c40-ce56-41e0-e7ca-daa6ac889b77"
      },
      "source": [
        "max(nl_len), min(nl_len)"
      ],
      "execution_count": null,
      "outputs": [
        {
          "output_type": "execute_result",
          "data": {
            "text/plain": [
              "(82, 5)"
            ]
          },
          "metadata": {
            "tags": []
          },
          "execution_count": 41
        }
      ]
    },
    {
      "cell_type": "code",
      "metadata": {
        "colab": {
          "base_uri": "https://localhost:8080/"
        },
        "id": "rE-QDwWvNVYL",
        "outputId": "95b38dae-b41f-4991-e9a2-f08ad5d0477e"
      },
      "source": [
        "max(sar_len), min(sar_len)"
      ],
      "execution_count": null,
      "outputs": [
        {
          "output_type": "execute_result",
          "data": {
            "text/plain": [
              "(45, 3)"
            ]
          },
          "metadata": {
            "tags": []
          },
          "execution_count": 42
        }
      ]
    },
    {
      "cell_type": "code",
      "metadata": {
        "id": "HgTyBTt4NXA1"
      },
      "source": [
        ""
      ],
      "execution_count": null,
      "outputs": []
    }
  ]
}